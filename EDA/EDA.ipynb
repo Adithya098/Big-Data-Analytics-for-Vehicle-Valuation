{
  "cells": [
    {
      "cell_type": "code",
      "execution_count": null,
      "id": "fc242e77-5bc6-4f32-9cbf-e5ba16ecfd92",
      "metadata": {
        "colab": {
          "base_uri": "https://localhost:8080/"
        },
        "id": "fc242e77-5bc6-4f32-9cbf-e5ba16ecfd92",
        "outputId": "80e46b80-191c-45ad-f352-a6efe27b05cf"
      },
      "outputs": [
        {
          "name": "stdout",
          "output_type": "stream",
          "text": [
            "\n",
            "tqdm is already installed.\n",
            "\n",
            "dask is already installed.\n",
            "\n",
            "fsspec is already installed.\n",
            "\n",
            "nltk is already installed.\n",
            "\n",
            "scikit-learn is NOT installed. Installing now...\n",
            "scikit-learn installation completed.\n",
            "\n",
            "numpy is already installed.\n",
            "\n",
            "pyspark is NOT installed. Installing now...\n",
            "pyspark installation completed.\n"
          ]
        }
      ],
      "source": [
        "import importlib\n",
        "import subprocess\n",
        "import sys\n",
        "import gc\n",
        "\n",
        "def check_and_install_package(package_name):\n",
        "    try:\n",
        "        importlib.import_module(package_name)\n",
        "        print(f\"\\n{package_name} is already installed.\")\n",
        "    except ImportError:\n",
        "        print(f\"\\n{package_name} is NOT installed. Installing now...\")\n",
        "        subprocess.check_call([sys.executable, \"-m\", \"pip\", \"install\", package_name])\n",
        "        print(f\"{package_name} installation completed.\")\n",
        "\n",
        "# List of packages to check\n",
        "packages = [\n",
        "    \"tqdm\",\n",
        "    \"dask\",\n",
        "    \"fsspec\",\n",
        "    \"nltk\",\n",
        "    \"scikit-learn\",\n",
        "    \"numpy\",\n",
        "     \"pyspark\"\n",
        "]\n",
        "\n",
        "for package in packages:\n",
        "    check_and_install_package(package)"
      ]
    },
    {
      "cell_type": "code",
      "execution_count": null,
      "id": "e0fd5237-70e7-4651-ba5c-614ce174b5e3",
      "metadata": {
        "colab": {
          "base_uri": "https://localhost:8080/"
        },
        "id": "e0fd5237-70e7-4651-ba5c-614ce174b5e3",
        "outputId": "835fc708-e12c-4899-fbdd-569a3ab2ed4f"
      },
      "outputs": [
        {
          "name": "stdout",
          "output_type": "stream",
          "text": [
            "Spark session started with version: 3.5.3\n"
          ]
        }
      ],
      "source": [
        "import pyspark\n",
        "import os\n",
        "from pyspark.sql import SparkSession\n",
        "\n",
        "spark = SparkSession.builder \\\n",
        "    .appName(\"UsedCarsDataProcessing\") \\\n",
        "    .config(\"spark.driver.host\", \"localhost\") \\\n",
        "    .config(\"spark.driver.memory\", \"16g\") \\\n",
        "    .config(\"spark.executor.memory\", \"16g\") \\\n",
        "    .config(\"spark.driver.maxResultSize\", \"8g\") \\\n",
        "    .config(\"spark.executor.memoryOverhead\", \"12g\") \\\n",
        "    .config(\"spark.serializer\", \"org.apache.spark.serializer.KryoSerializer\") \\\n",
        "    .config(\"spark.kryoserializer.buffer\", \"512m\") \\\n",
        "    .config(\"spark.kryoserializer.buffer.max\", \"2047m\") \\\n",
        "    .config(\"spark.hadoop.fs.file.impl\", \"org.apache.hadoop.fs.LocalFileSystem\") \\\n",
        "    .getOrCreate()\n",
        "\n",
        "# Verify Spark session creation\n",
        "print(f\"Spark session started with version: {spark.version}\")"
      ]
    },
    {
      "cell_type": "code",
      "execution_count": null,
      "id": "c9fb1d22",
      "metadata": {
        "colab": {
          "base_uri": "https://localhost:8080/",
          "height": 219
        },
        "id": "c9fb1d22",
        "outputId": "508bac16-d07d-4520-a7a8-a0dcbf6b91c1"
      },
      "outputs": [
        {
          "data": {
            "text/html": [
              "\n",
              "            <div>\n",
              "                <p><b>SparkSession - in-memory</b></p>\n",
              "                \n",
              "        <div>\n",
              "            <p><b>SparkContext</b></p>\n",
              "\n",
              "            <p><a href=\"http://localhost:4040\">Spark UI</a></p>\n",
              "\n",
              "            <dl>\n",
              "              <dt>Version</dt>\n",
              "                <dd><code>v3.5.3</code></dd>\n",
              "              <dt>Master</dt>\n",
              "                <dd><code>local[*]</code></dd>\n",
              "              <dt>AppName</dt>\n",
              "                <dd><code>UsedCarsDataProcessing</code></dd>\n",
              "            </dl>\n",
              "        </div>\n",
              "        \n",
              "            </div>\n",
              "        "
            ],
            "text/plain": [
              "<pyspark.sql.session.SparkSession at 0x793f5b612fe0>"
            ]
          },
          "execution_count": 4,
          "metadata": {},
          "output_type": "execute_result"
        }
      ],
      "source": [
        "spark"
      ]
    },
    {
      "cell_type": "code",
      "execution_count": null,
      "id": "_iWHNZB8AcdL",
      "metadata": {
        "colab": {
          "base_uri": "https://localhost:8080/"
        },
        "id": "_iWHNZB8AcdL",
        "outputId": "58d7d832-ffae-4e70-ba7a-aaa8606e3f31"
      },
      "outputs": [
        {
          "name": "stdout",
          "output_type": "stream",
          "text": [
            "Mounted at /content/drive\n",
            "\n",
            "Schema Definition is loaded.\n"
          ]
        }
      ],
      "source": [
        "import shutil\n",
        "from google.colab import drive\n",
        "\n",
        "# Mounting Google Drive\n",
        "drive.mount('/content/drive')\n",
        "\n",
        "# Defining the path to the file in Google Drive\n",
        "drive_file_path = '/content/drive/My Drive/Big Data Analytics - Project/Datasets/schema_definition.py'\n",
        "\n",
        "# Copying the file from Google Drive to the /content directory\n",
        "shutil.copy(drive_file_path, '/content/schema_definition.py')\n",
        "\n",
        "# Importing the schema\n",
        "from schema_definition import schema1\n",
        "print(\"\\nSchema Definition is loaded.\")"
      ]
    },
    {
      "cell_type": "code",
      "execution_count": null,
      "id": "uXNEoKujA5QA",
      "metadata": {
        "colab": {
          "base_uri": "https://localhost:8080/"
        },
        "id": "uXNEoKujA5QA",
        "outputId": "99bd840e-9c3c-49f0-a2a3-4526e465eeef"
      },
      "outputs": [
        {
          "name": "stdout",
          "output_type": "stream",
          "text": [
            "Used Cars DataFrame is loaded...\n"
          ]
        }
      ],
      "source": [
        "from pyspark.sql import SparkSession\n",
        "from pyspark.sql.types import StructType\n",
        "import os\n",
        "\n",
        "# Defining the folder path in Google Drive\n",
        "drive_folder_path = '/content/drive/My Drive/Big Data Analytics - Project/Datasets/'\n",
        "\n",
        "# Listing files in the directory to verify the dataset\n",
        "files_in_directory = os.listdir(drive_folder_path)\n",
        "\n",
        "csv_file_name = 'used_cars_data.csv'  # Replace with the actual dataset name\n",
        "csv_file_path = os.path.join(drive_folder_path, csv_file_name)\n",
        "\n",
        "# Importing the schema\n",
        "from schema_definition import schema1\n",
        "\n",
        "# Initializing Spark session\n",
        "spark = SparkSession.builder.appName(\"UsedCarsDataProcessing\").getOrCreate()\n",
        "\n",
        "# Loading the CSV file from Google Drive into a Spark DataFrame with the provided schema\n",
        "df = spark.read.format('csv') \\\n",
        "    .option('header', True) \\\n",
        "    .option('encoding', 'UTF-8') \\\n",
        "    .option('escape', '\"') \\\n",
        "    .option('quote', '\"') \\\n",
        "    .option('multiLine', True) \\\n",
        "    .option('delimiter', ',') \\\n",
        "    .schema(schema1) \\\n",
        "    .load(csv_file_path)\n",
        "\n",
        "print(\"Used Cars DataFrame is loaded...\")\n"
      ]
    },
    {
      "cell_type": "code",
      "execution_count": null,
      "id": "474815b3",
      "metadata": {
        "colab": {
          "base_uri": "https://localhost:8080/",
          "height": 236
        },
        "id": "474815b3",
        "outputId": "f361f228-db7b-42d8-e0b8-3606a7862adf"
      },
      "outputs": [
        {
          "data": {
            "application/vnd.google.colaboratory.intrinsic+json": {
              "type": "dataframe"
            },
            "text/html": [
              "\n",
              "  <div id=\"df-85b315da-de3f-4649-b63e-da1f1754f648\" class=\"colab-df-container\">\n",
              "    <div>\n",
              "<style scoped>\n",
              "    .dataframe tbody tr th:only-of-type {\n",
              "        vertical-align: middle;\n",
              "    }\n",
              "\n",
              "    .dataframe tbody tr th {\n",
              "        vertical-align: top;\n",
              "    }\n",
              "\n",
              "    .dataframe thead th {\n",
              "        text-align: right;\n",
              "    }\n",
              "</style>\n",
              "<table border=\"1\" class=\"dataframe\">\n",
              "  <thead>\n",
              "    <tr style=\"text-align: right;\">\n",
              "      <th></th>\n",
              "      <th>vin</th>\n",
              "      <th>back_legroom</th>\n",
              "      <th>bed</th>\n",
              "      <th>bed_height</th>\n",
              "      <th>bed_length</th>\n",
              "      <th>body_type</th>\n",
              "      <th>cabin</th>\n",
              "      <th>city</th>\n",
              "      <th>city_fuel_economy</th>\n",
              "      <th>combine_fuel_economy</th>\n",
              "      <th>daysonmarket</th>\n",
              "      <th>dealer_zip</th>\n",
              "      <th>description</th>\n",
              "      <th>engine_cylinders</th>\n",
              "      <th>engine_displacement</th>\n",
              "      <th>engine_type</th>\n",
              "      <th>exterior_color</th>\n",
              "      <th>fleet</th>\n",
              "      <th>frame_damaged</th>\n",
              "      <th>franchise_dealer</th>\n",
              "      <th>franchise_make</th>\n",
              "      <th>front_legroom</th>\n",
              "      <th>fuel_tank_volume</th>\n",
              "      <th>fuel_type</th>\n",
              "      <th>has_accidents</th>\n",
              "      <th>height</th>\n",
              "      <th>highway_fuel_economy</th>\n",
              "      <th>horsepower</th>\n",
              "      <th>interior_color</th>\n",
              "      <th>isCab</th>\n",
              "      <th>is_certified</th>\n",
              "      <th>is_cpo</th>\n",
              "      <th>is_new</th>\n",
              "      <th>is_oemcpo</th>\n",
              "      <th>latitude</th>\n",
              "      <th>length</th>\n",
              "      <th>listed_date</th>\n",
              "      <th>listing_color</th>\n",
              "      <th>listing_id</th>\n",
              "      <th>longitude</th>\n",
              "      <th>main_picture_url</th>\n",
              "      <th>major_options</th>\n",
              "      <th>make_name</th>\n",
              "      <th>maximum_seating</th>\n",
              "      <th>mileage</th>\n",
              "      <th>model_name</th>\n",
              "      <th>owner_count</th>\n",
              "      <th>power</th>\n",
              "      <th>price</th>\n",
              "      <th>salvage</th>\n",
              "      <th>savings_amount</th>\n",
              "      <th>seller_rating</th>\n",
              "      <th>sp_id</th>\n",
              "      <th>sp_name</th>\n",
              "      <th>theft_title</th>\n",
              "      <th>torque</th>\n",
              "      <th>transmission</th>\n",
              "      <th>transmission_display</th>\n",
              "      <th>trimId</th>\n",
              "      <th>trim_name</th>\n",
              "      <th>vehicle_damage_category</th>\n",
              "      <th>wheel_system</th>\n",
              "      <th>wheel_system_display</th>\n",
              "      <th>wheelbase</th>\n",
              "      <th>width</th>\n",
              "      <th>year</th>\n",
              "    </tr>\n",
              "  </thead>\n",
              "  <tbody>\n",
              "    <tr>\n",
              "      <th>0</th>\n",
              "      <td>ZACNJABB5KPJ92081</td>\n",
              "      <td>35.1 in</td>\n",
              "      <td>None</td>\n",
              "      <td>None</td>\n",
              "      <td>None</td>\n",
              "      <td>SUV / Crossover</td>\n",
              "      <td>None</td>\n",
              "      <td>Bayamon</td>\n",
              "      <td>NaN</td>\n",
              "      <td>NaN</td>\n",
              "      <td>522</td>\n",
              "      <td>00960</td>\n",
              "      <td>[!@@Additional Info@@!]Engine: 2.4L I4 ZERO EV...</td>\n",
              "      <td>I4</td>\n",
              "      <td>1300.0</td>\n",
              "      <td>I4</td>\n",
              "      <td>Solar Yellow</td>\n",
              "      <td>None</td>\n",
              "      <td>None</td>\n",
              "      <td>True</td>\n",
              "      <td>Jeep</td>\n",
              "      <td>41.2 in</td>\n",
              "      <td>12.7 gal</td>\n",
              "      <td>Gasoline</td>\n",
              "      <td>None</td>\n",
              "      <td>66.5 in</td>\n",
              "      <td>NaN</td>\n",
              "      <td>177.0</td>\n",
              "      <td>Black</td>\n",
              "      <td>None</td>\n",
              "      <td>NaN</td>\n",
              "      <td>None</td>\n",
              "      <td>True</td>\n",
              "      <td>None</td>\n",
              "      <td>18.398800</td>\n",
              "      <td>166.6 in</td>\n",
              "      <td>2019-04-06</td>\n",
              "      <td>YELLOW</td>\n",
              "      <td>237132766</td>\n",
              "      <td>-66.158203</td>\n",
              "      <td>https://static.cargurus.com/images/forsale/202...</td>\n",
              "      <td>['Quick Order Package']</td>\n",
              "      <td>Jeep</td>\n",
              "      <td>5 seats</td>\n",
              "      <td>7.0</td>\n",
              "      <td>Renegade</td>\n",
              "      <td>NaN</td>\n",
              "      <td>177 hp @ 5,750 RPM</td>\n",
              "      <td>23141.0</td>\n",
              "      <td>None</td>\n",
              "      <td>0</td>\n",
              "      <td>2.8</td>\n",
              "      <td>370599.0</td>\n",
              "      <td>Flagship Chrysler</td>\n",
              "      <td>None</td>\n",
              "      <td>200 lb-ft @ 1,750 RPM</td>\n",
              "      <td>A</td>\n",
              "      <td>9-Speed Automatic Overdrive</td>\n",
              "      <td>t83804</td>\n",
              "      <td>Latitude FWD</td>\n",
              "      <td>NaN</td>\n",
              "      <td>FWD</td>\n",
              "      <td>Front-Wheel Drive</td>\n",
              "      <td>101.2 in</td>\n",
              "      <td>79.6 in</td>\n",
              "      <td>2019</td>\n",
              "    </tr>\n",
              "    <tr>\n",
              "      <th>1</th>\n",
              "      <td>SALCJ2FX1LH858117</td>\n",
              "      <td>38.1 in</td>\n",
              "      <td>None</td>\n",
              "      <td>None</td>\n",
              "      <td>None</td>\n",
              "      <td>SUV / Crossover</td>\n",
              "      <td>None</td>\n",
              "      <td>San Juan</td>\n",
              "      <td>NaN</td>\n",
              "      <td>NaN</td>\n",
              "      <td>207</td>\n",
              "      <td>00922</td>\n",
              "      <td>[!@@Additional Info@@!]Keyless Entry,Ebony Mor...</td>\n",
              "      <td>I4</td>\n",
              "      <td>2000.0</td>\n",
              "      <td>I4</td>\n",
              "      <td>Narvik Black</td>\n",
              "      <td>None</td>\n",
              "      <td>None</td>\n",
              "      <td>True</td>\n",
              "      <td>Land Rover</td>\n",
              "      <td>39.1 in</td>\n",
              "      <td>17.7 gal</td>\n",
              "      <td>Gasoline</td>\n",
              "      <td>None</td>\n",
              "      <td>68 in</td>\n",
              "      <td>NaN</td>\n",
              "      <td>246.0</td>\n",
              "      <td>Black (Ebony)</td>\n",
              "      <td>None</td>\n",
              "      <td>NaN</td>\n",
              "      <td>None</td>\n",
              "      <td>True</td>\n",
              "      <td>None</td>\n",
              "      <td>18.443899</td>\n",
              "      <td>181 in</td>\n",
              "      <td>2020-02-15</td>\n",
              "      <td>BLACK</td>\n",
              "      <td>265946296</td>\n",
              "      <td>-66.078499</td>\n",
              "      <td>https://static.cargurus.com/images/forsale/202...</td>\n",
              "      <td>['Adaptive Cruise Control']</td>\n",
              "      <td>Land Rover</td>\n",
              "      <td>7 seats</td>\n",
              "      <td>8.0</td>\n",
              "      <td>Discovery Sport</td>\n",
              "      <td>NaN</td>\n",
              "      <td>246 hp @ 5,500 RPM</td>\n",
              "      <td>46500.0</td>\n",
              "      <td>None</td>\n",
              "      <td>0</td>\n",
              "      <td>3.0</td>\n",
              "      <td>389227.0</td>\n",
              "      <td>Land Rover San Juan</td>\n",
              "      <td>None</td>\n",
              "      <td>269 lb-ft @ 1,400 RPM</td>\n",
              "      <td>A</td>\n",
              "      <td>9-Speed Automatic Overdrive</td>\n",
              "      <td>t86759</td>\n",
              "      <td>S AWD</td>\n",
              "      <td>NaN</td>\n",
              "      <td>AWD</td>\n",
              "      <td>All-Wheel Drive</td>\n",
              "      <td>107.9 in</td>\n",
              "      <td>85.6 in</td>\n",
              "      <td>2020</td>\n",
              "    </tr>\n",
              "  </tbody>\n",
              "</table>\n",
              "</div>\n",
              "    <div class=\"colab-df-buttons\">\n",
              "\n",
              "  <div class=\"colab-df-container\">\n",
              "    <button class=\"colab-df-convert\" onclick=\"convertToInteractive('df-85b315da-de3f-4649-b63e-da1f1754f648')\"\n",
              "            title=\"Convert this dataframe to an interactive table.\"\n",
              "            style=\"display:none;\">\n",
              "\n",
              "  <svg xmlns=\"http://www.w3.org/2000/svg\" height=\"24px\" viewBox=\"0 -960 960 960\">\n",
              "    <path d=\"M120-120v-720h720v720H120Zm60-500h600v-160H180v160Zm220 220h160v-160H400v160Zm0 220h160v-160H400v160ZM180-400h160v-160H180v160Zm440 0h160v-160H620v160ZM180-180h160v-160H180v160Zm440 0h160v-160H620v160Z\"/>\n",
              "  </svg>\n",
              "    </button>\n",
              "\n",
              "  <style>\n",
              "    .colab-df-container {\n",
              "      display:flex;\n",
              "      gap: 12px;\n",
              "    }\n",
              "\n",
              "    .colab-df-convert {\n",
              "      background-color: #E8F0FE;\n",
              "      border: none;\n",
              "      border-radius: 50%;\n",
              "      cursor: pointer;\n",
              "      display: none;\n",
              "      fill: #1967D2;\n",
              "      height: 32px;\n",
              "      padding: 0 0 0 0;\n",
              "      width: 32px;\n",
              "    }\n",
              "\n",
              "    .colab-df-convert:hover {\n",
              "      background-color: #E2EBFA;\n",
              "      box-shadow: 0px 1px 2px rgba(60, 64, 67, 0.3), 0px 1px 3px 1px rgba(60, 64, 67, 0.15);\n",
              "      fill: #174EA6;\n",
              "    }\n",
              "\n",
              "    .colab-df-buttons div {\n",
              "      margin-bottom: 4px;\n",
              "    }\n",
              "\n",
              "    [theme=dark] .colab-df-convert {\n",
              "      background-color: #3B4455;\n",
              "      fill: #D2E3FC;\n",
              "    }\n",
              "\n",
              "    [theme=dark] .colab-df-convert:hover {\n",
              "      background-color: #434B5C;\n",
              "      box-shadow: 0px 1px 3px 1px rgba(0, 0, 0, 0.15);\n",
              "      filter: drop-shadow(0px 1px 2px rgba(0, 0, 0, 0.3));\n",
              "      fill: #FFFFFF;\n",
              "    }\n",
              "  </style>\n",
              "\n",
              "    <script>\n",
              "      const buttonEl =\n",
              "        document.querySelector('#df-85b315da-de3f-4649-b63e-da1f1754f648 button.colab-df-convert');\n",
              "      buttonEl.style.display =\n",
              "        google.colab.kernel.accessAllowed ? 'block' : 'none';\n",
              "\n",
              "      async function convertToInteractive(key) {\n",
              "        const element = document.querySelector('#df-85b315da-de3f-4649-b63e-da1f1754f648');\n",
              "        const dataTable =\n",
              "          await google.colab.kernel.invokeFunction('convertToInteractive',\n",
              "                                                    [key], {});\n",
              "        if (!dataTable) return;\n",
              "\n",
              "        const docLinkHtml = 'Like what you see? Visit the ' +\n",
              "          '<a target=\"_blank\" href=https://colab.research.google.com/notebooks/data_table.ipynb>data table notebook</a>'\n",
              "          + ' to learn more about interactive tables.';\n",
              "        element.innerHTML = '';\n",
              "        dataTable['output_type'] = 'display_data';\n",
              "        await google.colab.output.renderOutput(dataTable, element);\n",
              "        const docLink = document.createElement('div');\n",
              "        docLink.innerHTML = docLinkHtml;\n",
              "        element.appendChild(docLink);\n",
              "      }\n",
              "    </script>\n",
              "  </div>\n",
              "\n",
              "\n",
              "<div id=\"df-4b34f4e2-bcd6-4cdf-8d8d-470c378b070a\">\n",
              "  <button class=\"colab-df-quickchart\" onclick=\"quickchart('df-4b34f4e2-bcd6-4cdf-8d8d-470c378b070a')\"\n",
              "            title=\"Suggest charts\"\n",
              "            style=\"display:none;\">\n",
              "\n",
              "<svg xmlns=\"http://www.w3.org/2000/svg\" height=\"24px\"viewBox=\"0 0 24 24\"\n",
              "     width=\"24px\">\n",
              "    <g>\n",
              "        <path d=\"M19 3H5c-1.1 0-2 .9-2 2v14c0 1.1.9 2 2 2h14c1.1 0 2-.9 2-2V5c0-1.1-.9-2-2-2zM9 17H7v-7h2v7zm4 0h-2V7h2v10zm4 0h-2v-4h2v4z\"/>\n",
              "    </g>\n",
              "</svg>\n",
              "  </button>\n",
              "\n",
              "<style>\n",
              "  .colab-df-quickchart {\n",
              "      --bg-color: #E8F0FE;\n",
              "      --fill-color: #1967D2;\n",
              "      --hover-bg-color: #E2EBFA;\n",
              "      --hover-fill-color: #174EA6;\n",
              "      --disabled-fill-color: #AAA;\n",
              "      --disabled-bg-color: #DDD;\n",
              "  }\n",
              "\n",
              "  [theme=dark] .colab-df-quickchart {\n",
              "      --bg-color: #3B4455;\n",
              "      --fill-color: #D2E3FC;\n",
              "      --hover-bg-color: #434B5C;\n",
              "      --hover-fill-color: #FFFFFF;\n",
              "      --disabled-bg-color: #3B4455;\n",
              "      --disabled-fill-color: #666;\n",
              "  }\n",
              "\n",
              "  .colab-df-quickchart {\n",
              "    background-color: var(--bg-color);\n",
              "    border: none;\n",
              "    border-radius: 50%;\n",
              "    cursor: pointer;\n",
              "    display: none;\n",
              "    fill: var(--fill-color);\n",
              "    height: 32px;\n",
              "    padding: 0;\n",
              "    width: 32px;\n",
              "  }\n",
              "\n",
              "  .colab-df-quickchart:hover {\n",
              "    background-color: var(--hover-bg-color);\n",
              "    box-shadow: 0 1px 2px rgba(60, 64, 67, 0.3), 0 1px 3px 1px rgba(60, 64, 67, 0.15);\n",
              "    fill: var(--button-hover-fill-color);\n",
              "  }\n",
              "\n",
              "  .colab-df-quickchart-complete:disabled,\n",
              "  .colab-df-quickchart-complete:disabled:hover {\n",
              "    background-color: var(--disabled-bg-color);\n",
              "    fill: var(--disabled-fill-color);\n",
              "    box-shadow: none;\n",
              "  }\n",
              "\n",
              "  .colab-df-spinner {\n",
              "    border: 2px solid var(--fill-color);\n",
              "    border-color: transparent;\n",
              "    border-bottom-color: var(--fill-color);\n",
              "    animation:\n",
              "      spin 1s steps(1) infinite;\n",
              "  }\n",
              "\n",
              "  @keyframes spin {\n",
              "    0% {\n",
              "      border-color: transparent;\n",
              "      border-bottom-color: var(--fill-color);\n",
              "      border-left-color: var(--fill-color);\n",
              "    }\n",
              "    20% {\n",
              "      border-color: transparent;\n",
              "      border-left-color: var(--fill-color);\n",
              "      border-top-color: var(--fill-color);\n",
              "    }\n",
              "    30% {\n",
              "      border-color: transparent;\n",
              "      border-left-color: var(--fill-color);\n",
              "      border-top-color: var(--fill-color);\n",
              "      border-right-color: var(--fill-color);\n",
              "    }\n",
              "    40% {\n",
              "      border-color: transparent;\n",
              "      border-right-color: var(--fill-color);\n",
              "      border-top-color: var(--fill-color);\n",
              "    }\n",
              "    60% {\n",
              "      border-color: transparent;\n",
              "      border-right-color: var(--fill-color);\n",
              "    }\n",
              "    80% {\n",
              "      border-color: transparent;\n",
              "      border-right-color: var(--fill-color);\n",
              "      border-bottom-color: var(--fill-color);\n",
              "    }\n",
              "    90% {\n",
              "      border-color: transparent;\n",
              "      border-bottom-color: var(--fill-color);\n",
              "    }\n",
              "  }\n",
              "</style>\n",
              "\n",
              "  <script>\n",
              "    async function quickchart(key) {\n",
              "      const quickchartButtonEl =\n",
              "        document.querySelector('#' + key + ' button');\n",
              "      quickchartButtonEl.disabled = true;  // To prevent multiple clicks.\n",
              "      quickchartButtonEl.classList.add('colab-df-spinner');\n",
              "      try {\n",
              "        const charts = await google.colab.kernel.invokeFunction(\n",
              "            'suggestCharts', [key], {});\n",
              "      } catch (error) {\n",
              "        console.error('Error during call to suggestCharts:', error);\n",
              "      }\n",
              "      quickchartButtonEl.classList.remove('colab-df-spinner');\n",
              "      quickchartButtonEl.classList.add('colab-df-quickchart-complete');\n",
              "    }\n",
              "    (() => {\n",
              "      let quickchartButtonEl =\n",
              "        document.querySelector('#df-4b34f4e2-bcd6-4cdf-8d8d-470c378b070a button');\n",
              "      quickchartButtonEl.style.display =\n",
              "        google.colab.kernel.accessAllowed ? 'block' : 'none';\n",
              "    })();\n",
              "  </script>\n",
              "</div>\n",
              "\n",
              "    </div>\n",
              "  </div>\n"
            ],
            "text/plain": [
              "                 vin back_legroom   bed bed_height bed_length  \\\n",
              "0  ZACNJABB5KPJ92081      35.1 in  None       None       None   \n",
              "1  SALCJ2FX1LH858117      38.1 in  None       None       None   \n",
              "\n",
              "         body_type cabin      city  city_fuel_economy  combine_fuel_economy  \\\n",
              "0  SUV / Crossover  None   Bayamon                NaN                   NaN   \n",
              "1  SUV / Crossover  None  San Juan                NaN                   NaN   \n",
              "\n",
              "   daysonmarket dealer_zip                                        description  \\\n",
              "0           522      00960  [!@@Additional Info@@!]Engine: 2.4L I4 ZERO EV...   \n",
              "1           207      00922  [!@@Additional Info@@!]Keyless Entry,Ebony Mor...   \n",
              "\n",
              "  engine_cylinders  engine_displacement engine_type exterior_color fleet  \\\n",
              "0               I4               1300.0          I4   Solar Yellow  None   \n",
              "1               I4               2000.0          I4   Narvik Black  None   \n",
              "\n",
              "  frame_damaged  franchise_dealer franchise_make front_legroom  \\\n",
              "0          None              True           Jeep       41.2 in   \n",
              "1          None              True     Land Rover       39.1 in   \n",
              "\n",
              "  fuel_tank_volume fuel_type has_accidents   height  highway_fuel_economy  \\\n",
              "0         12.7 gal  Gasoline          None  66.5 in                   NaN   \n",
              "1         17.7 gal  Gasoline          None    68 in                   NaN   \n",
              "\n",
              "   horsepower interior_color isCab  is_certified is_cpo  is_new is_oemcpo  \\\n",
              "0       177.0          Black  None           NaN   None    True      None   \n",
              "1       246.0  Black (Ebony)  None           NaN   None    True      None   \n",
              "\n",
              "    latitude    length listed_date listing_color  listing_id  longitude  \\\n",
              "0  18.398800  166.6 in  2019-04-06        YELLOW   237132766 -66.158203   \n",
              "1  18.443899    181 in  2020-02-15         BLACK   265946296 -66.078499   \n",
              "\n",
              "                                    main_picture_url  \\\n",
              "0  https://static.cargurus.com/images/forsale/202...   \n",
              "1  https://static.cargurus.com/images/forsale/202...   \n",
              "\n",
              "                 major_options   make_name maximum_seating  mileage  \\\n",
              "0      ['Quick Order Package']        Jeep         5 seats      7.0   \n",
              "1  ['Adaptive Cruise Control']  Land Rover         7 seats      8.0   \n",
              "\n",
              "        model_name  owner_count               power    price salvage  \\\n",
              "0         Renegade          NaN  177 hp @ 5,750 RPM  23141.0    None   \n",
              "1  Discovery Sport          NaN  246 hp @ 5,500 RPM  46500.0    None   \n",
              "\n",
              "   savings_amount  seller_rating     sp_id              sp_name theft_title  \\\n",
              "0               0            2.8  370599.0    Flagship Chrysler        None   \n",
              "1               0            3.0  389227.0  Land Rover San Juan        None   \n",
              "\n",
              "                  torque transmission         transmission_display  trimId  \\\n",
              "0  200 lb-ft @ 1,750 RPM            A  9-Speed Automatic Overdrive  t83804   \n",
              "1  269 lb-ft @ 1,400 RPM            A  9-Speed Automatic Overdrive  t86759   \n",
              "\n",
              "      trim_name  vehicle_damage_category wheel_system wheel_system_display  \\\n",
              "0  Latitude FWD                      NaN          FWD    Front-Wheel Drive   \n",
              "1         S AWD                      NaN          AWD      All-Wheel Drive   \n",
              "\n",
              "  wheelbase    width  year  \n",
              "0  101.2 in  79.6 in  2019  \n",
              "1  107.9 in  85.6 in  2020  "
            ]
          },
          "metadata": {},
          "output_type": "display_data"
        }
      ],
      "source": [
        "import pandas as pd\n",
        "from IPython.display import display\n",
        "\n",
        "# Converting the Spark DataFrame to a Pandas DataFrame to display the first 2 rows with all columns\n",
        "pd.set_option('display.max_columns', None)\n",
        "display(df.limit(2).toPandas())\n"
      ]
    },
    {
      "cell_type": "code",
      "execution_count": null,
      "id": "582e0517-2b2f-40c2-b62c-bc273dcb4a43",
      "metadata": {
        "colab": {
          "base_uri": "https://localhost:8080/"
        },
        "id": "582e0517-2b2f-40c2-b62c-bc273dcb4a43",
        "outputId": "9751298f-a0ec-40b5-a13f-c1964ebf778b"
      },
      "outputs": [
        {
          "name": "stdout",
          "output_type": "stream",
          "text": [
            "The DataFrame has been cached successfully.\n"
          ]
        }
      ],
      "source": [
        "# Cache the DataFrame\n",
        "df.cache()\n",
        "\n",
        "# Check if the DataFrame is cached and print a message\n",
        "if df.is_cached:\n",
        "    print(\"The DataFrame has been cached successfully.\")\n",
        "else:\n",
        "    print(\"The DataFrame was not cached.\")"
      ]
    },
    {
      "cell_type": "code",
      "execution_count": null,
      "id": "b6a195bf",
      "metadata": {
        "id": "b6a195bf"
      },
      "outputs": [],
      "source": [
        "df = df.repartition(100)"
      ]
    },
    {
      "cell_type": "code",
      "execution_count": null,
      "id": "c745de3b-4ece-4b8b-b12d-c18fa6964668",
      "metadata": {
        "colab": {
          "base_uri": "https://localhost:8080/"
        },
        "id": "c745de3b-4ece-4b8b-b12d-c18fa6964668",
        "outputId": "68908398-54c5-4363-b46b-3a69d5be3175"
      },
      "outputs": [
        {
          "name": "stdout",
          "output_type": "stream",
          "text": [
            "DataFrame has 3000040 rows and 66 columns\n"
          ]
        }
      ],
      "source": [
        "df.count()\n",
        "print(f\"DataFrame has {df.count()} rows and {len(df.columns)} columns\")"
      ]
    },
    {
      "cell_type": "code",
      "execution_count": null,
      "id": "bc0079a1-eaa4-4a07-ade5-5f8176803e88",
      "metadata": {
        "colab": {
          "base_uri": "https://localhost:8080/"
        },
        "id": "bc0079a1-eaa4-4a07-ade5-5f8176803e88",
        "outputId": "49e9db9b-a022-4601-e85b-2e2752589dca"
      },
      "outputs": [
        {
          "name": "stdout",
          "output_type": "stream",
          "text": [
            "Column Name                    Data Type\n",
            "---------------------------------------------\n",
            "vin                            string\n",
            "back_legroom                   string\n",
            "bed                            string\n",
            "bed_height                     string\n",
            "bed_length                     string\n",
            "body_type                      string\n",
            "cabin                          string\n",
            "city                           string\n",
            "city_fuel_economy              float\n",
            "combine_fuel_economy           float\n",
            "daysonmarket                   int\n",
            "dealer_zip                     string\n",
            "description                    string\n",
            "engine_cylinders               string\n",
            "engine_displacement            float\n",
            "engine_type                    string\n",
            "exterior_color                 string\n",
            "fleet                          string\n",
            "frame_damaged                  string\n",
            "franchise_dealer               boolean\n",
            "franchise_make                 string\n",
            "front_legroom                  string\n",
            "fuel_tank_volume               string\n",
            "fuel_type                      string\n",
            "has_accidents                  string\n",
            "height                         string\n",
            "highway_fuel_economy           float\n",
            "horsepower                     float\n",
            "interior_color                 string\n",
            "isCab                          string\n",
            "is_certified                   float\n",
            "is_cpo                         string\n",
            "is_new                         boolean\n",
            "is_oemcpo                      string\n",
            "latitude                       float\n",
            "length                         string\n",
            "listed_date                    string\n",
            "listing_color                  string\n",
            "listing_id                     int\n",
            "longitude                      float\n",
            "main_picture_url               string\n",
            "major_options                  string\n",
            "make_name                      string\n",
            "maximum_seating                string\n",
            "mileage                        float\n",
            "model_name                     string\n",
            "owner_count                    float\n",
            "power                          string\n",
            "price                          float\n",
            "salvage                        string\n",
            "savings_amount                 int\n",
            "seller_rating                  float\n",
            "sp_id                          float\n",
            "sp_name                        string\n",
            "theft_title                    string\n",
            "torque                         string\n",
            "transmission                   string\n",
            "transmission_display           string\n",
            "trimId                         string\n",
            "trim_name                      string\n",
            "vehicle_damage_category        float\n",
            "wheel_system                   string\n",
            "wheel_system_display           string\n",
            "wheelbase                      string\n",
            "width                          string\n",
            "year                           int\n"
          ]
        }
      ],
      "source": [
        "schema_info = [(field.name, field.dataType.simpleString()) for field in df.schema.fields]\n",
        "\n",
        "# Printing the schema as a table\n",
        "print(f\"{'Column Name':<30} {'Data Type'}\")\n",
        "print(\"-\" * 45)\n",
        "for column_name, data_type in schema_info:\n",
        "    print(f\"{column_name:<30} {data_type}\")"
      ]
    },
    {
      "cell_type": "code",
      "execution_count": null,
      "id": "a7349266-901c-4b88-b10a-3f73a6cdbffd",
      "metadata": {
        "colab": {
          "base_uri": "https://localhost:8080/"
        },
        "id": "a7349266-901c-4b88-b10a-3f73a6cdbffd",
        "outputId": "8419ad86-1b9c-4f59-c708-87938cfe59aa"
      },
      "outputs": [
        {
          "name": "stdout",
          "output_type": "stream",
          "text": [
            "+-----------------------+---------------+\n",
            "|Column                 |Null Percentage|\n",
            "+-----------------------+---------------+\n",
            "|vin                    |0              |\n",
            "|back_legroom           |5              |\n",
            "|bed                    |99             |\n",
            "|bed_height             |85             |\n",
            "|bed_length             |85             |\n",
            "|body_type              |0              |\n",
            "|cabin                  |97             |\n",
            "|city                   |0              |\n",
            "|city_fuel_economy      |16             |\n",
            "|combine_fuel_economy   |100            |\n",
            "|daysonmarket           |0              |\n",
            "|dealer_zip             |0              |\n",
            "|description            |2              |\n",
            "|engine_cylinders       |3              |\n",
            "|engine_displacement    |5              |\n",
            "|engine_type            |3              |\n",
            "|exterior_color         |0              |\n",
            "|fleet                  |47             |\n",
            "|frame_damaged          |47             |\n",
            "|franchise_dealer       |0              |\n",
            "|franchise_make         |19             |\n",
            "|front_legroom          |5              |\n",
            "|fuel_tank_volume       |5              |\n",
            "|fuel_type              |2              |\n",
            "|has_accidents          |47             |\n",
            "|height                 |5              |\n",
            "|highway_fuel_economy   |16             |\n",
            "|horsepower             |5              |\n",
            "|interior_color         |0              |\n",
            "|isCab                  |47             |\n",
            "|is_certified           |100            |\n",
            "|is_cpo                 |93             |\n",
            "|is_new                 |0              |\n",
            "|is_oemcpo              |95             |\n",
            "|latitude               |0              |\n",
            "|length                 |5              |\n",
            "|listed_date            |0              |\n",
            "|listing_color          |0              |\n",
            "|listing_id             |0              |\n",
            "|longitude              |0              |\n",
            "|main_picture_url       |12             |\n",
            "|major_options          |6              |\n",
            "|make_name              |0              |\n",
            "|maximum_seating        |5              |\n",
            "|mileage                |4              |\n",
            "|model_name             |0              |\n",
            "|owner_count            |50             |\n",
            "|power                  |16             |\n",
            "|price                  |0              |\n",
            "|salvage                |47             |\n",
            "|savings_amount         |0              |\n",
            "|seller_rating          |1              |\n",
            "|sp_id                  |0              |\n",
            "|sp_name                |0              |\n",
            "|theft_title            |47             |\n",
            "|torque                 |17             |\n",
            "|transmission           |2              |\n",
            "|transmission_display   |2              |\n",
            "|trimId                 |3              |\n",
            "|trim_name              |3              |\n",
            "|vehicle_damage_category|100            |\n",
            "|wheel_system           |4              |\n",
            "|wheel_system_display   |4              |\n",
            "|wheelbase              |5              |\n",
            "|width                  |5              |\n",
            "|year                   |0              |\n",
            "+-----------------------+---------------+\n",
            "\n"
          ]
        }
      ],
      "source": [
        "from pyspark.sql import functions as F\n",
        "\n",
        "pd.set_option('display.max_columns', None)\n",
        "\n",
        "# Calculating the null percentage for each column (keep it as float for now)\n",
        "null_percentage_calculate_df = df.select(\n",
        "    [(F.sum(F.when(F.col(c).isNull(), 1).otherwise(0)) / F.count(F.lit(1)) * 100).alias(c) for c in df.columns]\n",
        ")\n",
        "\n",
        "\n",
        "# Using explode and create a map of column names and their null percentages, then cast to int\n",
        "null_percentage_display_df = null_percentage_calculate_df.select(\n",
        "    F.explode(\n",
        "        F.map_from_arrays(\n",
        "            F.array([F.lit(c) for c in df.columns]),\n",
        "            F.array([F.col(c).cast(\"int\") for c in null_percentage_calculate_df.columns])  # Cast percentages to integer\n",
        "        )\n",
        "    ).alias(\"Column\", \"Null Percentage\")\n",
        ")\n",
        "\n",
        "# Getting the total number of rows in the reshaped DataFrame\n",
        "total_rows = null_percentage_display_df.count()\n",
        "null_percentage_display_df.show(total_rows, truncate=False)\n",
        "\n",
        "# Delete the DataFrame from the local namespace\n",
        "del null_percentage_display_df\n",
        "_ = gc.collect()"
      ]
    },
    {
      "cell_type": "code",
      "execution_count": null,
      "id": "2cb59313",
      "metadata": {
        "colab": {
          "base_uri": "https://localhost:8080/"
        },
        "id": "2cb59313",
        "outputId": "6bdcb6c5-d162-47b6-993e-30517b0486be"
      },
      "outputs": [
        {
          "name": "stdout",
          "output_type": "stream",
          "text": [
            "+-------+-----+\n",
            "|Bin    |count|\n",
            "+-------+-----+\n",
            "|0-10%  |44   |\n",
            "|10-20% |6    |\n",
            "|40-50% |7    |\n",
            "|80-90% |2    |\n",
            "|90-100%|7    |\n",
            "+-------+-----+\n",
            "\n",
            "\n",
            "(0-10%) Bin\n",
            "\n",
            "['vin', 'back_legroom', 'body_type', 'city', 'daysonmarket', 'dealer_zip', 'description', 'engine_cylinders', 'engine_displacement', 'engine_type', 'exterior_color', 'franchise_dealer', 'front_legroom', 'fuel_tank_volume', 'fuel_type', 'height', 'horsepower', 'interior_color', 'is_new', 'latitude', 'length', 'listed_date', 'listing_color', 'listing_id', 'longitude', 'major_options', 'make_name', 'maximum_seating', 'mileage', 'model_name', 'price', 'savings_amount', 'seller_rating', 'sp_id', 'sp_name', 'transmission', 'transmission_display', 'trimId', 'trim_name', 'wheel_system', 'wheel_system_display', 'wheelbase', 'width', 'year']\n",
            "------------------------------------------------------------------------------------------------------------------------------------------------------\n",
            "\n",
            "(10-20%) Bin\n",
            "\n",
            "['city_fuel_economy', 'franchise_make', 'highway_fuel_economy', 'main_picture_url', 'power', 'torque']\n",
            "------------------------------------------------------------------------------------------------------------------------------------------------------\n",
            "\n",
            "(40-50%) Bin\n",
            "\n",
            "['fleet', 'frame_damaged', 'has_accidents', 'isCab', 'owner_count', 'salvage', 'theft_title']\n",
            "------------------------------------------------------------------------------------------------------------------------------------------------------\n",
            "\n",
            "(80-90%) Bin\n",
            "\n",
            "['bed_height', 'bed_length']\n",
            "------------------------------------------------------------------------------------------------------------------------------------------------------\n",
            "\n",
            "(90-100%) Bin\n",
            "\n",
            "['bed', 'cabin', 'combine_fuel_economy', 'is_certified', 'is_cpo', 'is_oemcpo', 'vehicle_damage_category']\n",
            "------------------------------------------------------------------------------------------------------------------------------------------------------\n"
          ]
        }
      ],
      "source": [
        "from pyspark.sql import functions as F\n",
        "from pyspark.sql import SparkSession\n",
        "from pyspark.sql.types import IntegerType\n",
        "\n",
        "# Defining the bins and labels as arrays\n",
        "bins = [0, 10, 20, 30, 40, 50, 60, 70, 80, 90, 100]\n",
        "labels = [\n",
        "    '0-10%', '10-20%', '20-30%', '30-40%', '40-50%',\n",
        "    '50-60%', '60-70%', '70-80%', '80-90%', '90-100%'\n",
        "]\n",
        "\n",
        "# Calculating the null percentage for each column and casting to integer\n",
        "null_percentage_df = df.select(\n",
        "    [(F.sum(F.when(F.col(c).isNull(), 1).otherwise(0)) / F.count(F.lit(1)) * 100).cast(IntegerType()).alias(c) for c in df.columns]\n",
        ")\n",
        "\n",
        "# Reshaping the result to have 'Column' and 'Null Percentage'\n",
        "null_percentage_bins_df = null_percentage_df.select(\n",
        "    F.explode(F.map_from_arrays(\n",
        "        F.array([F.lit(c) for c in df.columns]),\n",
        "        F.array([F.col(c) for c in null_percentage_df.columns])\n",
        "    )).alias(\"Column\", \"Null_Percentage\")\n",
        ")\n",
        "\n",
        "# Defining a user-defined function (UDF) to categorize null percentages into bins (consistent with pd.cut)\n",
        "def categorize_percentage(percentage):\n",
        "    for i in range(len(bins) - 1):\n",
        "        if bins[i] <= percentage <= bins[i + 1]:\n",
        "            return labels[i]\n",
        "    return labels[-1]  # For 90-100% range\n",
        "\n",
        "# Registering the UDF\n",
        "categorize_udf = F.udf(categorize_percentage)\n",
        "\n",
        "# Applying the UDF to create the 'Bin' column based on null percentage\n",
        "null_percentage_bins_df = null_percentage_bins_df.withColumn(\n",
        "    'Bin', categorize_udf(F.col('Null_Percentage'))\n",
        ")\n",
        "\n",
        "# Grouping by 'Bin' and count the number of columns in each bin\n",
        "null_percentage_summary = null_percentage_bins_df.groupBy('Bin').count().orderBy('Bin')\n",
        "\n",
        "# Displaying the summary\n",
        "null_percentage_summary.show(truncate=False)\n",
        "\n",
        "# Grouping by 'Bin' and collect columns for each bin\n",
        "null_percentage_summary_describe = null_percentage_bins_df.groupBy('Bin') \\\n",
        "    .agg(F.collect_list('Column').alias('Columns')) \\\n",
        "    .orderBy('Bin')\n",
        "\n",
        "null_percentage_summary_pandas = null_percentage_summary_describe.toPandas()\n",
        "\n",
        "for index, row in null_percentage_summary_pandas.iterrows():\n",
        "    print(f\"\\n({row['Bin']}) Bin\\n\\n{row['Columns']}\")\n",
        "    print(\"-\" * 150)\n",
        "\n",
        "del null_percentage_bins_df\n",
        "del null_percentage_summary\n",
        "del null_percentage_summary_describe\n",
        "del null_percentage_summary_pandas\n",
        "\n",
        "# forced garbage collection\n",
        "_ = gc.collect()"
      ]
    },
    {
      "cell_type": "markdown",
      "id": "3d634730",
      "metadata": {
        "id": "3d634730"
      },
      "source": [
        "## **Columnar EDA**"
      ]
    },
    {
      "cell_type": "markdown",
      "id": "9e189c91",
      "metadata": {
        "id": "9e189c91"
      },
      "source": [
        "**Deleting Coloumns**"
      ]
    },
    {
      "cell_type": "code",
      "execution_count": null,
      "id": "c1f8e623",
      "metadata": {
        "colab": {
          "base_uri": "https://localhost:8080/"
        },
        "id": "c1f8e623",
        "outputId": "d450e5fd-e301-403c-c84f-83e1c85dcae7"
      },
      "outputs": [
        {
          "name": "stdout",
          "output_type": "stream",
          "text": [
            "The columns to be dropped are ..\n",
            "\n",
            "+-------------------------+-------------------------+\n",
            "|       Column Name       |       Column Name       |\n",
            "+-------------------------+-------------------------+\n",
            "|           bed           |       bed_height        |\n",
            "|       bed_length        |          cabin          |\n",
            "|  combine_fuel_economy   |          fleet          |\n",
            "|      frame_damaged      |      has_accidents      |\n",
            "|          isCab          |      is_certified       |\n",
            "|         is_cpo          |        is_oemcpo        |\n",
            "|       owner_count       |         salvage         |\n",
            "|       theft_title       | vehicle_damage_category |\n",
            "+-------------------------+-------------------------+\n",
            "\n",
            "Dropped the above columns which had more than 40% null values: 16 columns\n",
            "\n"
          ]
        }
      ],
      "source": [
        "import gc\n",
        "from pyspark.sql import functions as F\n",
        "\n",
        "# Defining the threshold above which I delete the column\n",
        "null_threshold = 40\n",
        "\n",
        "# Calculating the null percentage for each column\n",
        "null_percentage_df = df.select(\n",
        "    [(F.sum(F.when(F.col(c).isNull(), 1).otherwise(0)) / F.count(F.lit(1)) * 100).alias(c) for c in df.columns]\n",
        ")\n",
        "\n",
        "# Reshaping the result to have 'Column' and 'Null Percentage'\n",
        "null_percentage_bins_df = null_percentage_df.select(\n",
        "    F.explode(F.map_from_arrays(\n",
        "        F.array([F.lit(c) for c in df.columns]),\n",
        "        F.array([F.col(c) for c in null_percentage_df.columns])\n",
        "    )).alias(\"Column\", \"Null_Percentage\")\n",
        ")\n",
        "\n",
        "# Identifying columns with more than 'null_threshold'% null values\n",
        "columns_to_drop = null_percentage_bins_df.filter(F.col('Null_Percentage') > null_threshold).select('Column').rdd.flatMap(lambda x: x).collect()\n",
        "\n",
        "# Dropping the identified columns from the DataFrame\n",
        "df = df.drop(*columns_to_drop)\n",
        "\n",
        "print(\"The columns to be dropped are ..\\n\")\n",
        "def print_columns_table(columns, columns_per_row=2):\n",
        "\n",
        "    # Calculating the number of rows needed\n",
        "    num_rows = (len(columns) + columns_per_row - 1) // columns_per_row\n",
        "\n",
        "    # Calculating the maximum width for each column\n",
        "    max_width = max(len(col) for col in columns)\n",
        "    column_width = max(max_width, len(\"Column Name\"))\n",
        "\n",
        "    # Printing the header\n",
        "    header = \"| \" + \" | \".join(f\"{'Column Name':^{column_width}}\" for _ in range(columns_per_row)) + \" |\"\n",
        "    separator = \"+\" + \"+\".join(\"-\" * (column_width + 2) for _ in range(columns_per_row)) + \"+\"\n",
        "\n",
        "    print(separator)\n",
        "    print(header)\n",
        "    print(separator)\n",
        "\n",
        "    # Printing the data rows\n",
        "    for i in range(0, len(columns), columns_per_row):\n",
        "        row_columns = columns[i:i+columns_per_row]\n",
        "        row = \"| \" + \" | \".join(f\"{col:^{column_width}}\" for col in row_columns)\n",
        "        row += \" | \" * (columns_per_row - len(row_columns))\n",
        "        print(row + \" |\")\n",
        "\n",
        "    print(separator)\n",
        "\n",
        "print_columns_table(columns_to_drop)\n",
        "\n",
        "# Displaying the list of dropped columns in a tabular format\n",
        "print(f\"\\nDropped the above columns which had more than {null_threshold}% null values: {len(columns_to_drop)} columns\\n\")\n",
        "\n",
        "# Cleaning up intermediate DataFrames and variables\n",
        "del null_percentage_df\n",
        "del null_percentage_bins_df\n",
        "\n",
        "\n",
        "_ = gc.collect()  # Garbage collection, without printing anything\n"
      ]
    },
    {
      "cell_type": "code",
      "execution_count": null,
      "id": "4e2b4c44",
      "metadata": {
        "id": "4e2b4c44",
        "outputId": "d1c85520-3abe-4992-89c4-cefb73790eb9"
      },
      "outputs": [
        {
          "name": "stdout",
          "output_type": "stream",
          "text": [
            "\n",
            "New schema of the DataFrame after dropping columns:\n",
            "DataFrame has 3000040 rows and 50 columns\n"
          ]
        }
      ],
      "source": [
        "# Displaying the new schema of the DataFrame after dropping columns\n",
        "print(f\"\\nNew schema of the DataFrame after dropping columns:\")\n",
        "print(f\"DataFrame has {df.count()} rows and {len(df.columns)} columns\")\n",
        "\n",
        "del columns_to_drop\n",
        "_ = gc.collect()"
      ]
    },
    {
      "cell_type": "markdown",
      "id": "9ceed22b",
      "metadata": {
        "id": "9ceed22b"
      },
      "source": [
        "**Dropping the coloumn: `engine_cylinders`**"
      ]
    },
    {
      "cell_type": "code",
      "execution_count": null,
      "id": "b65074ad",
      "metadata": {
        "id": "b65074ad",
        "outputId": "415ac114-bdaa-4c0f-ed76-3f308798c481"
      },
      "outputs": [
        {
          "name": "stdout",
          "output_type": "stream",
          "text": [
            "\n",
            "Percentage of rows with different values between 'engine_cylinders' and 'engine_type': 0.00%\n"
          ]
        }
      ],
      "source": [
        "import gc\n",
        "from pyspark.sql import functions as F\n",
        "\n",
        "# Checking for different values between 'engine_cylinders' and 'engine_type'\n",
        "different_values = df.filter(df['engine_cylinders'] != df['engine_type'])\n",
        "\n",
        "# Calculating the percentage of rows where the values are different\n",
        "total_rows = df.count()\n",
        "different_rows = different_values.count()\n",
        "percentage_different = (different_rows / total_rows) * 100\n",
        "\n",
        "# Getting the unique values in both columns\n",
        "unique_engine_cylinders = df.select('engine_cylinders').distinct().collect()\n",
        "unique_engine_type = df.select('engine_type').distinct().collect()\n",
        "\n",
        "# Displaying the percentage of rows with different values\n",
        "print(f\"\\nPercentage of rows with different values between 'engine_cylinders' and 'engine_type': {percentage_different:.2f}%\")\n",
        "\n",
        "# Cleaning up intermediate variables and DataFrames\n",
        "del different_values\n",
        "del unique_engine_cylinders\n",
        "del unique_engine_type\n",
        "\n",
        "# Forced garbage collection without printing anything\n",
        "_ = gc.collect()\n"
      ]
    },
    {
      "cell_type": "code",
      "execution_count": null,
      "id": "cd823963",
      "metadata": {
        "id": "cd823963"
      },
      "outputs": [],
      "source": [
        "df = df.drop('engine_cylinders') # engine_cylinders and engine_type is same. so deleting one columns."
      ]
    },
    {
      "cell_type": "markdown",
      "id": "f990670e",
      "metadata": {
        "id": "f990670e"
      },
      "source": [
        "**Dropping the coloumn: `franchise_make`**"
      ]
    },
    {
      "cell_type": "code",
      "execution_count": null,
      "id": "060e14e1",
      "metadata": {
        "id": "060e14e1",
        "outputId": "4166012f-d1df-4bb4-d470-5b03c014df79"
      },
      "outputs": [
        {
          "name": "stdout",
          "output_type": "stream",
          "text": [
            "\n",
            "The percentage of rows where 'franchise_make' and 'make_name' differ is: 15.60%\n",
            "\n",
            "The amount of null values in the 'franchise_make' column is 19.09%.\n",
            "The amount of null values in the 'make_name' column is 0.00%.\n"
          ]
        }
      ],
      "source": [
        "from pyspark.sql import functions as F\n",
        "\n",
        "# Checking for different values between 'franchise_make' and 'make_name'\n",
        "different_values = df.filter(F.col('franchise_make') != F.col('make_name'))\n",
        "\n",
        "# Calculating the percentage of rows where the values are different\n",
        "total_rows = df.count()\n",
        "different_rows = different_values.count()\n",
        "percentage_different = (different_rows / total_rows) * 100\n",
        "\n",
        "# Displaying the percentage of rows where 'franchise_make' and 'make_name' differ\n",
        "print(f\"\\nThe percentage of rows where 'franchise_make' and 'make_name' differ is: {percentage_different:.2f}%\")\n",
        "\n",
        "# Checking how many null values are in 'franchise_make' and 'make_name' columns using PySpark\n",
        "franchise_null_percentage = df.filter(F.col('franchise_make').isNull()).count() / total_rows * 100\n",
        "make_name_null_percentage = df.filter(F.col('make_name').isNull()).count() / total_rows * 100\n",
        "\n",
        "# Displaying the percentage of null values in both columns\n",
        "print(f\"\\nThe amount of null values in the 'franchise_make' column is {franchise_null_percentage:.2f}%.\")\n",
        "print(f\"The amount of null values in the 'make_name' column is {make_name_null_percentage:.2f}%.\")\n"
      ]
    },
    {
      "cell_type": "code",
      "execution_count": null,
      "id": "3b8b018c",
      "metadata": {
        "id": "3b8b018c",
        "outputId": "c703c702-292e-43ad-b86f-7f5c237f78eb"
      },
      "outputs": [
        {
          "name": "stdout",
          "output_type": "stream",
          "text": [
            "\n",
            "Printing Unique Values in both the coloumn so that you can see the similarity:\n",
            "\n",
            "Unique values in 'franchise_make': ['Volkswagen', 'Lexus', 'Jaguar', 'FIAT', 'Maserati', 'Rover', 'Rolls-Royce', 'Scion', 'Jeep', 'Mitsubishi', 'Kia', 'Chevrolet', 'Volvo', 'RAM', 'Hyundai', 'Honda', 'INFINITI', 'MINI', 'Audi', 'Lamborghini', 'SRT', 'Cadillac', 'Genesis', 'Land Rover', 'Alfa Romeo', 'Mercedes-Benz', 'Shelby', 'McLaren', 'Chrysler', 'Lincoln', 'BMW', 'Pagani', 'Acura', 'Ferrari', 'GMC', 'Buick', 'Porsche', 'Freightliner', 'Lotus', 'smart', 'Bentley', 'Aston Martin', 'Toyota', 'Dodge', 'Nissan', 'Mazda', 'Ford', 'Subaru', None]\n",
            "\n",
            "Unique values in 'make_name': ['Sunbeam', 'Volkswagen', 'Oldsmobile', 'Pininfarina', 'Lexus', 'Jaguar', 'Saturn', 'FIAT', 'Maserati', 'Rolls-Royce', 'Scion', 'Jeep', 'Mitsubishi', 'Kia', 'Chevrolet', 'Volvo', 'RAM', 'Hyundai', 'Saab', 'Hudson', 'Honda', 'INFINITI', 'Karma', 'MINI', 'Audi', 'Lamborghini', 'SRT', 'Cadillac', 'Isuzu', 'Plymouth', 'Genesis', 'Pontiac', 'DeTomaso', 'Geo', 'International Harvester', 'Land Rover', 'Alfa Romeo', 'Mercedes-Benz', 'Shelby', 'McLaren', 'Mercury', 'Chrysler', 'Tesla', 'Lincoln', 'BMW', 'MG', 'Suzuki', 'Studebaker', 'AMC', 'Acura', 'Austin-Healey', 'Datsun', 'Kaiser', 'Ferrari', 'Willys', 'GMC', 'Hummer', 'Buick', 'Porsche', 'AM General', 'Freightliner', 'Lotus', 'Fisker', 'Triumph', 'smart', 'Bentley', 'Aston Martin', 'Toyota', 'Dodge', 'VPG', 'Nissan', 'Mazda', 'Maybach', 'Ford', 'Subaru', 'Hillman', 'Saleen', 'Bricklin', 'Daewoo', 'Edsel', 'Jensen', 'Bugatti', 'Nash', 'Mobility Ventures', 'Austin', 'DeLorean', 'Packard', 'Spyker', 'Koenigsegg', 'Allard', 'Rover', 'Ariel', 'DeSoto', 'Pagani', 'Morris', 'Eagle', 'Opel', 'Clenet', 'Franklin', 'Humber']\n"
          ]
        }
      ],
      "source": [
        "# Getting the unique values in both columns\n",
        "unique_franchise_make = df.select('franchise_make').distinct().collect()\n",
        "unique_make_name = df.select('make_name').distinct().collect()\n",
        "\n",
        "# Displaying the unique values in both columns\n",
        "\n",
        "print(\"\\nPrinting Unique Values in both the coloumn so that you can see the similarity:\")\n",
        "print(f\"\\nUnique values in 'franchise_make': {[row['franchise_make'] for row in unique_franchise_make]}\")\n",
        "print(f\"\\nUnique values in 'make_name': {[row['make_name'] for row in unique_make_name]}\")\n",
        "\n",
        "del different_values\n",
        "del unique_franchise_make\n",
        "del unique_make_name"
      ]
    },
    {
      "cell_type": "code",
      "execution_count": null,
      "id": "2d627c70",
      "metadata": {
        "id": "2d627c70"
      },
      "outputs": [],
      "source": [
        "df=df.drop('franchise_make')"
      ]
    },
    {
      "cell_type": "markdown",
      "id": "4afca2de",
      "metadata": {
        "id": "4afca2de"
      },
      "source": [
        "**franchise_make:** The company that owns the franchise.  \n",
        "**make_name:** Vehicle's brand.  \n",
        "\n",
        "I will be deleting the column 'franchise_make' because:\n",
        "\n",
        "**1. Completeness:**  \n",
        "The 'make_name' column contains more unique values (71) compared to 'franchise_make' (46). This suggests that 'make_name' is more comprehensive and includes additional car makes that are not present in 'franchise_make'.  \n",
        "\n",
        "**2. Null values and similarity:**  \n",
        "The amount of null values in the 'franchise_make' column is 19%, while the 'make_name' column has zero null values. The information in 'franchise_make' closely matches the information in 'make_name'.  \n",
        "\n",
        "Therefore, we can drop the 'franchise_make' column from the dataset due to redundancy.\n"
      ]
    },
    {
      "cell_type": "markdown",
      "id": "85f5f441",
      "metadata": {
        "id": "85f5f441"
      },
      "source": [
        "**Handling `wheel_system` column**"
      ]
    },
    {
      "cell_type": "code",
      "execution_count": null,
      "id": "fda9c4c6",
      "metadata": {
        "id": "fda9c4c6",
        "outputId": "17934f3e-a363-4eb7-f554-ff65009399fc"
      },
      "outputs": [
        {
          "name": "stdout",
          "output_type": "stream",
          "text": [
            "Wheel System Statistics:\n",
            "+------------+----------+\n",
            "|wheel_system|percentage|\n",
            "+------------+----------+\n",
            "|FWD         |42.05     |\n",
            "|AWD         |23.19     |\n",
            "|4WD         |19.48     |\n",
            "|RWD         |6.36      |\n",
            "|NULL        |4.89      |\n",
            "|4X2         |4.03      |\n",
            "+------------+----------+\n",
            "\n",
            "\n",
            "Wheel System Display Statistics:\n",
            "+--------------------+----------+\n",
            "|wheel_system_display|percentage|\n",
            "+--------------------+----------+\n",
            "|Front-Wheel Drive   |42.05     |\n",
            "|All-Wheel Drive     |23.19     |\n",
            "|Four-Wheel Drive    |19.48     |\n",
            "|Rear-Wheel Drive    |6.36      |\n",
            "|NULL                |4.89      |\n",
            "|4X2                 |4.03      |\n",
            "+--------------------+----------+\n",
            "\n"
          ]
        }
      ],
      "source": [
        "from pyspark.sql.functions import count, col, round\n",
        "\n",
        "# Calculating value counts and percentages for 'wheel_system'\n",
        "wheel_system_counts = df.groupBy(\"wheel_system\") \\\n",
        "    .agg(count(\"*\").alias(\"count\")) \\\n",
        "    .withColumn(\"percentage\", round(col(\"count\") / df.count() * 100, 2)) \\\n",
        "    .select(\"wheel_system\", \"percentage\") \\\n",
        "    .orderBy(col(\"percentage\").desc())\n",
        "\n",
        "# Calculating value counts and percentages for 'wheel_system_display'\n",
        "wheel_system_display_counts = df.groupBy(\"wheel_system_display\") \\\n",
        "    .agg(count(\"*\").alias(\"count\")) \\\n",
        "    .withColumn(\"percentage\", round(col(\"count\") / df.count() * 100, 2)) \\\n",
        "    .select(\"wheel_system_display\", \"percentage\") \\\n",
        "    .orderBy(col(\"percentage\").desc())\n",
        "\n",
        "# Displaying the results using .show()\n",
        "print(\"Wheel System Statistics:\")\n",
        "wheel_system_counts.show(truncate=False)\n",
        "\n",
        "print(\"\\nWheel System Display Statistics:\")\n",
        "wheel_system_display_counts.show(truncate=False)\n"
      ]
    },
    {
      "cell_type": "markdown",
      "id": "539d3cae",
      "metadata": {
        "id": "539d3cae"
      },
      "source": [
        "I will delete the wheel_system column because wheel_system_display provides the same information in a more user-friendly format, with both columns showing identical percentages for each category. Therefore, wheel_system is redundant."
      ]
    },
    {
      "cell_type": "code",
      "execution_count": null,
      "id": "b1c6dc06",
      "metadata": {
        "id": "b1c6dc06"
      },
      "outputs": [],
      "source": [
        "df=df.drop('wheel_system')"
      ]
    },
    {
      "cell_type": "code",
      "execution_count": null,
      "id": "010c63b8",
      "metadata": {
        "id": "010c63b8",
        "outputId": "01b443cb-17c9-4968-d39e-ca564d0b53e3"
      },
      "outputs": [
        {
          "name": "stdout",
          "output_type": "stream",
          "text": [
            "Transmission Statistics:\n",
            "+------------+----------+\n",
            "|transmission|percentage|\n",
            "+------------+----------+\n",
            "|A           |80.61     |\n",
            "|CVT         |15.27     |\n",
            "|NULL        |2.14      |\n",
            "|M           |1.61      |\n",
            "|Dual Clutch |0.37      |\n",
            "+------------+----------+\n",
            "\n",
            "\n",
            "Transmission Display Statistics:\n",
            "+----------------------------------+----------+\n",
            "|transmission_display              |percentage|\n",
            "+----------------------------------+----------+\n",
            "|Automatic                         |41.84     |\n",
            "|Continuously Variable Transmission|15.17     |\n",
            "|6-Speed Automatic                 |14.18     |\n",
            "|8-Speed Automatic                 |11.11     |\n",
            "|9-Speed Automatic                 |4.89      |\n",
            "|6-Speed Automatic Overdrive       |2.93      |\n",
            "|NULL                              |2.14      |\n",
            "|7-Speed Automatic                 |1.47      |\n",
            "|5-Speed Automatic                 |1.35      |\n",
            "|4-Speed Automatic                 |1.23      |\n",
            "|6-Speed Manual                    |0.7       |\n",
            "|Manual                            |0.56      |\n",
            "|8-Speed Automatic Overdrive       |0.41      |\n",
            "|5-Speed Automatic Overdrive       |0.4       |\n",
            "|1-Speed Automatic                 |0.28      |\n",
            "|4-Speed Automatic Overdrive       |0.27      |\n",
            "|5-Speed Manual                    |0.26      |\n",
            "|6-Speed Dual Clutch               |0.21      |\n",
            "|9-Speed Automatic Overdrive       |0.14      |\n",
            "|8-Speed Dual Clutch               |0.1       |\n",
            "+----------------------------------+----------+\n",
            "only showing top 20 rows\n",
            "\n"
          ]
        }
      ],
      "source": [
        "from pyspark.sql.functions import count, col, round\n",
        "\n",
        "# Calculating value counts and percentages for 'transmission'\n",
        "transmission_counts = df.groupBy(\"transmission\") \\\n",
        "    .agg(count(\"*\").alias(\"count\")) \\\n",
        "    .withColumn(\"percentage\", round(col(\"count\") / df.count() * 100, 2)) \\\n",
        "    .select(\"transmission\", \"percentage\") \\\n",
        "    .orderBy(col(\"percentage\").desc())\n",
        "\n",
        "# Calculating value counts and percentages for 'transmission_display'\n",
        "transmission_display_counts = df.groupBy(\"transmission_display\") \\\n",
        "    .agg(count(\"*\").alias(\"count\")) \\\n",
        "    .withColumn(\"percentage\", round(col(\"count\") / df.count() * 100, 2)) \\\n",
        "    .select(\"transmission_display\", \"percentage\") \\\n",
        "    .orderBy(col(\"percentage\").desc())\n",
        "\n",
        "# Displaying the results using .show()\n",
        "print(\"Transmission Statistics:\")\n",
        "transmission_counts.show(truncate=False)\n",
        "\n",
        "print(\"\\nTransmission Display Statistics:\")\n",
        "transmission_display_counts.show(truncate=False)\n"
      ]
    },
    {
      "cell_type": "code",
      "execution_count": null,
      "id": "73902031",
      "metadata": {
        "id": "73902031"
      },
      "outputs": [],
      "source": [
        "# Dropping ID-related columns\n",
        "df = df.drop('vin', 'listing_id', 'sp_id', 'trimId')\n",
        "\n",
        "# Dropping image or URL-related columns\n",
        "df = df.drop('main_picture_url')\n",
        "\n",
        "# Dropping trim_name as we dont need trimmed name and it also doesn't make sense\n",
        "df = df.drop('trim_name')\n"
      ]
    },
    {
      "cell_type": "code",
      "execution_count": null,
      "id": "3907b754",
      "metadata": {
        "id": "3907b754"
      },
      "outputs": [],
      "source": [
        "df=df.drop('power')\n",
        "\n",
        "# The power column measures the engine's output, including both the horsepower and the revolutions per minute (RPM) at which it is achieved.\n",
        "# Since this is essentially another representation of the engine's performance.\n",
        "# We already have a dedicated horsepower column, the power column is redundant."
      ]
    },
    {
      "cell_type": "code",
      "execution_count": null,
      "id": "79806895",
      "metadata": {
        "id": "79806895",
        "outputId": "66410d0f-deaf-4402-beff-073cff768086"
      },
      "outputs": [
        {
          "name": "stdout",
          "output_type": "stream",
          "text": [
            "New shape of the DataFrame after dropping more columns : 3000040 rows and 40 columns\n"
          ]
        }
      ],
      "source": [
        "df.count()\n",
        "print(f\"New shape of the DataFrame after dropping more columns : {df.count()} rows and {len(df.columns)} columns\")"
      ]
    },
    {
      "cell_type": "markdown",
      "id": "aea05571",
      "metadata": {
        "id": "aea05571"
      },
      "source": [
        "**Handling numerical colomns with strings**"
      ]
    },
    {
      "cell_type": "markdown",
      "id": "6ef09521",
      "metadata": {
        "id": "6ef09521"
      },
      "source": [
        "I process `torque` column by splitting it into two new columns: `lb_ft` and `RPM`. The `split` function is used to break the `torque` values into separate components, extracting the first and fourth elements as `lb_ft` and `RPM`, respectively. The original `torque` column is then dropped, and the resulting DataFrame displays the modified columns. Then I am renaming the `lb_ft` back into `torque`"
      ]
    },
    {
      "cell_type": "code",
      "execution_count": null,
      "id": "3f78882a",
      "metadata": {
        "id": "3f78882a",
        "outputId": "19d5cade-a77c-48c3-d8cc-445b88668646"
      },
      "outputs": [
        {
          "name": "stdout",
          "output_type": "stream",
          "text": [
            "Processing the data in the following columns: from string to completely numerical [ ex: '35.1 in' -> 35.1 ] \n",
            " 1. wheelbase\n",
            " 2. width\n",
            " 3. back_legroom\n",
            " 4. front_legroom\n",
            " 5. fuel_tank_volume\n",
            " 6. height\n",
            " 7. maximum_seating\n",
            " 8. length\n"
          ]
        }
      ],
      "source": [
        "from pyspark.sql import functions as F\n",
        "from pyspark.sql.types import DoubleType\n",
        "\n",
        "# List of columns to be processed\n",
        "columns_to_process = [\n",
        "    'wheelbase', 'width', 'back_legroom', 'front_legroom',\n",
        "    'fuel_tank_volume', 'height', 'maximum_seating', 'length'\n",
        "]\n",
        "\n",
        "# Printing the processing message with numbering\n",
        "print(\"Processing the data in the following columns: from string to completely numerical [ ex: '35.1 in' -> 35.1 ] \")\n",
        "for i, col in enumerate(columns_to_process, start=1):\n",
        "    print(f\" {i}. {col}\")\n",
        "\n",
        "# Function to extract numeric value from a string (including potential decimal numbers)\n",
        "def extract_numeric(col):\n",
        "    return F.regexp_extract(F.col(col).cast('string'), r'(\\d+(\\.\\d+)?)', 1).cast(DoubleType())\n",
        "\n",
        "# Process all columns\n",
        "for col in columns_to_process:\n",
        "    df = df.withColumn(col, extract_numeric(col))\n"
      ]
    },
    {
      "cell_type": "code",
      "execution_count": null,
      "id": "b683f02e",
      "metadata": {
        "id": "b683f02e",
        "outputId": "06fb8231-d07d-47d3-f4a3-55c78e5b3cf1"
      },
      "outputs": [
        {
          "name": "stdout",
          "output_type": "stream",
          "text": [
            "+---------+-----+------------+-------------+----------------+------+---------------+------+\n",
            "|wheelbase|width|back_legroom|front_legroom|fuel_tank_volume|height|maximum_seating|length|\n",
            "+---------+-----+------------+-------------+----------------+------+---------------+------+\n",
            "|96.7     |72.9 |NULL        |41.6         |16.9            |50.0  |2.0            |178.9 |\n",
            "|120.9    |83.9 |41.8        |40.6         |18.5            |61.4  |5.0            |196.8 |\n",
            "|120.9    |83.9 |41.8        |40.6         |18.5            |61.4  |5.0            |196.8 |\n",
            "|120.9    |83.9 |41.8        |40.6         |18.5            |61.4  |5.0            |196.8 |\n",
            "|120.9    |83.9 |41.8        |40.6         |18.5            |61.4  |5.0            |196.8 |\n",
            "|120.9    |83.9 |41.8        |40.6         |18.5            |61.4  |5.0            |196.8 |\n",
            "|120.9    |83.9 |41.8        |40.6         |18.5            |61.4  |5.0            |196.8 |\n",
            "|120.9    |83.9 |41.8        |40.6         |18.5            |61.4  |5.0            |196.8 |\n",
            "|104.7    |73.0 |38.3        |41.8         |15.9            |69.1  |8.0            |181.9 |\n",
            "|104.7    |73.0 |38.3        |41.8         |15.9            |69.1  |8.0            |181.9 |\n",
            "|104.7    |73.0 |38.3        |41.8         |15.9            |69.1  |8.0            |181.9 |\n",
            "|104.7    |73.0 |38.3        |41.8         |15.9            |69.1  |8.0            |181.9 |\n",
            "|104.7    |73.0 |38.3        |41.8         |15.9            |69.1  |8.0            |181.9 |\n",
            "|104.7    |73.0 |38.3        |41.8         |15.9            |69.1  |8.0            |181.9 |\n",
            "|104.7    |73.0 |38.3        |41.8         |15.9            |69.1  |8.0            |181.9 |\n",
            "|104.7    |73.0 |38.3        |41.8         |15.9            |69.1  |8.0            |181.9 |\n",
            "|104.7    |73.0 |38.3        |41.8         |15.9            |69.1  |8.0            |181.9 |\n",
            "|104.7    |73.0 |38.3        |41.8         |15.9            |69.1  |8.0            |181.9 |\n",
            "|104.7    |73.0 |38.3        |41.8         |15.9            |69.1  |8.0            |181.9 |\n",
            "|104.7    |73.0 |38.3        |41.8         |15.9            |69.1  |8.0            |181.9 |\n",
            "+---------+-----+------------+-------------+----------------+------+---------------+------+\n",
            "only showing top 20 rows\n",
            "\n"
          ]
        }
      ],
      "source": [
        "# Creating a DataFrame with the processed numeric columns\n",
        "processed_df = df.select(\n",
        "    *[extract_numeric(col).alias(col) for col in columns_to_process]\n",
        ")\n",
        "\n",
        "# Displaying the resulting DataFrame\n",
        "processed_df.show(truncate=False)"
      ]
    },
    {
      "cell_type": "markdown",
      "id": "4761991d",
      "metadata": {
        "id": "4761991d"
      },
      "source": [
        "**Splitting `torque` into `torque_force` and `torque_rpm`**"
      ]
    },
    {
      "cell_type": "code",
      "execution_count": null,
      "id": "5ea694cb",
      "metadata": {
        "id": "5ea694cb"
      },
      "outputs": [],
      "source": [
        "from pyspark.sql.functions import split, col\n",
        "\n",
        "# Splitting the 'torque' column by space and take the first value, then cast to float (double in PySpark)\n",
        "df = df.withColumn('torque', split(col('torque'), ' ').getItem(0).cast('double'))\n"
      ]
    },
    {
      "cell_type": "code",
      "execution_count": null,
      "id": "702b2162",
      "metadata": {
        "id": "702b2162",
        "outputId": "ca2130af-fc1e-4ff8-d88c-49481b0a8d3b"
      },
      "outputs": [
        {
          "data": {
            "text/html": [
              "<div>\n",
              "<style scoped>\n",
              "    .dataframe tbody tr th:only-of-type {\n",
              "        vertical-align: middle;\n",
              "    }\n",
              "\n",
              "    .dataframe tbody tr th {\n",
              "        vertical-align: top;\n",
              "    }\n",
              "\n",
              "    .dataframe thead th {\n",
              "        text-align: right;\n",
              "    }\n",
              "</style>\n",
              "<table border=\"1\" class=\"dataframe\">\n",
              "  <thead>\n",
              "    <tr style=\"text-align: right;\">\n",
              "      <th></th>\n",
              "      <th>back_legroom</th>\n",
              "      <th>body_type</th>\n",
              "      <th>city</th>\n",
              "      <th>city_fuel_economy</th>\n",
              "      <th>daysonmarket</th>\n",
              "      <th>dealer_zip</th>\n",
              "      <th>description</th>\n",
              "      <th>engine_displacement</th>\n",
              "      <th>engine_type</th>\n",
              "      <th>exterior_color</th>\n",
              "      <th>franchise_dealer</th>\n",
              "      <th>front_legroom</th>\n",
              "      <th>fuel_tank_volume</th>\n",
              "      <th>fuel_type</th>\n",
              "      <th>height</th>\n",
              "      <th>highway_fuel_economy</th>\n",
              "      <th>horsepower</th>\n",
              "      <th>interior_color</th>\n",
              "      <th>is_new</th>\n",
              "      <th>latitude</th>\n",
              "      <th>length</th>\n",
              "      <th>listed_date</th>\n",
              "      <th>listing_color</th>\n",
              "      <th>longitude</th>\n",
              "      <th>major_options</th>\n",
              "      <th>make_name</th>\n",
              "      <th>maximum_seating</th>\n",
              "      <th>mileage</th>\n",
              "      <th>model_name</th>\n",
              "      <th>price</th>\n",
              "      <th>savings_amount</th>\n",
              "      <th>seller_rating</th>\n",
              "      <th>sp_name</th>\n",
              "      <th>torque</th>\n",
              "      <th>transmission</th>\n",
              "      <th>transmission_display</th>\n",
              "      <th>wheel_system_display</th>\n",
              "      <th>wheelbase</th>\n",
              "      <th>width</th>\n",
              "      <th>year</th>\n",
              "    </tr>\n",
              "  </thead>\n",
              "  <tbody>\n",
              "    <tr>\n",
              "      <th>0</th>\n",
              "      <td>35.3</td>\n",
              "      <td>Sedan</td>\n",
              "      <td>Grand Haven</td>\n",
              "      <td>26.0</td>\n",
              "      <td>29</td>\n",
              "      <td>49417</td>\n",
              "      <td>Silver Ice Metallic 2015 Chevrolet Cruze 1LT F...</td>\n",
              "      <td>1400.0</td>\n",
              "      <td>I4</td>\n",
              "      <td>Silver Ice Metallic</td>\n",
              "      <td>True</td>\n",
              "      <td>42.2</td>\n",
              "      <td>15.6</td>\n",
              "      <td>Gasoline</td>\n",
              "      <td>58.1</td>\n",
              "      <td>38.0</td>\n",
              "      <td>138.0</td>\n",
              "      <td>None</td>\n",
              "      <td>False</td>\n",
              "      <td>43.045601</td>\n",
              "      <td>181.0</td>\n",
              "      <td>2020-08-12</td>\n",
              "      <td>SILVER</td>\n",
              "      <td>-86.220398</td>\n",
              "      <td>['Navigation System', 'Alloy Wheels', 'Bluetoo...</td>\n",
              "      <td>Chevrolet</td>\n",
              "      <td>5.0</td>\n",
              "      <td>80007.0</td>\n",
              "      <td>Cruze</td>\n",
              "      <td>9996.0</td>\n",
              "      <td>192</td>\n",
              "      <td>4.500000</td>\n",
              "      <td>Preferred Chevrolet Buick GMC</td>\n",
              "      <td>148.0</td>\n",
              "      <td>A</td>\n",
              "      <td>6-Speed Automatic Overdrive</td>\n",
              "      <td>Front-Wheel Drive</td>\n",
              "      <td>105.7</td>\n",
              "      <td>70.7</td>\n",
              "      <td>2015</td>\n",
              "    </tr>\n",
              "    <tr>\n",
              "      <th>1</th>\n",
              "      <td>29.8</td>\n",
              "      <td>Convertible</td>\n",
              "      <td>Houston</td>\n",
              "      <td>19.0</td>\n",
              "      <td>44</td>\n",
              "      <td>77057</td>\n",
              "      <td>In an Effort to Provide You With Transparency ...</td>\n",
              "      <td>3700.0</td>\n",
              "      <td>V6</td>\n",
              "      <td>White</td>\n",
              "      <td>False</td>\n",
              "      <td>42.4</td>\n",
              "      <td>16.0</td>\n",
              "      <td>Gasoline</td>\n",
              "      <td>56.1</td>\n",
              "      <td>30.0</td>\n",
              "      <td>305.0</td>\n",
              "      <td>Gray</td>\n",
              "      <td>False</td>\n",
              "      <td>29.731501</td>\n",
              "      <td>188.1</td>\n",
              "      <td>2020-07-29</td>\n",
              "      <td>WHITE</td>\n",
              "      <td>-95.480598</td>\n",
              "      <td>['Bluetooth']</td>\n",
              "      <td>Ford</td>\n",
              "      <td>4.0</td>\n",
              "      <td>106279.0</td>\n",
              "      <td>Mustang</td>\n",
              "      <td>10995.0</td>\n",
              "      <td>311</td>\n",
              "      <td>4.647059</td>\n",
              "      <td>Texas Prime Motors</td>\n",
              "      <td>280.0</td>\n",
              "      <td>A</td>\n",
              "      <td>6-Speed Automatic</td>\n",
              "      <td>Rear-Wheel Drive</td>\n",
              "      <td>107.1</td>\n",
              "      <td>80.1</td>\n",
              "      <td>2012</td>\n",
              "    </tr>\n",
              "  </tbody>\n",
              "</table>\n",
              "</div>"
            ],
            "text/plain": [
              "   back_legroom    body_type         city  city_fuel_economy  daysonmarket  \\\n",
              "0          35.3        Sedan  Grand Haven               26.0            29   \n",
              "1          29.8  Convertible      Houston               19.0            44   \n",
              "\n",
              "  dealer_zip                                        description  \\\n",
              "0      49417  Silver Ice Metallic 2015 Chevrolet Cruze 1LT F...   \n",
              "1      77057  In an Effort to Provide You With Transparency ...   \n",
              "\n",
              "   engine_displacement engine_type       exterior_color  franchise_dealer  \\\n",
              "0               1400.0          I4  Silver Ice Metallic              True   \n",
              "1               3700.0          V6                White             False   \n",
              "\n",
              "   front_legroom  fuel_tank_volume fuel_type  height  highway_fuel_economy  \\\n",
              "0           42.2              15.6  Gasoline    58.1                  38.0   \n",
              "1           42.4              16.0  Gasoline    56.1                  30.0   \n",
              "\n",
              "   horsepower interior_color  is_new   latitude  length listed_date  \\\n",
              "0       138.0           None   False  43.045601   181.0  2020-08-12   \n",
              "1       305.0           Gray   False  29.731501   188.1  2020-07-29   \n",
              "\n",
              "  listing_color  longitude                                      major_options  \\\n",
              "0        SILVER -86.220398  ['Navigation System', 'Alloy Wheels', 'Bluetoo...   \n",
              "1         WHITE -95.480598                                      ['Bluetooth']   \n",
              "\n",
              "   make_name  maximum_seating   mileage model_name    price  savings_amount  \\\n",
              "0  Chevrolet              5.0   80007.0      Cruze   9996.0             192   \n",
              "1       Ford              4.0  106279.0    Mustang  10995.0             311   \n",
              "\n",
              "   seller_rating                        sp_name  torque transmission  \\\n",
              "0       4.500000  Preferred Chevrolet Buick GMC   148.0            A   \n",
              "1       4.647059             Texas Prime Motors   280.0            A   \n",
              "\n",
              "          transmission_display wheel_system_display  wheelbase  width  year  \n",
              "0  6-Speed Automatic Overdrive    Front-Wheel Drive      105.7   70.7  2015  \n",
              "1            6-Speed Automatic     Rear-Wheel Drive      107.1   80.1  2012  "
            ]
          },
          "metadata": {},
          "output_type": "display_data"
        }
      ],
      "source": [
        "pd.set_option('display.max_columns', None)\n",
        "display(df.limit(2).toPandas())"
      ]
    },
    {
      "cell_type": "code",
      "execution_count": null,
      "id": "ffc25330",
      "metadata": {
        "id": "ffc25330",
        "outputId": "9cb12f41-7cb7-42be-ff47-8c8f76cb9d98"
      },
      "outputs": [
        {
          "name": "stdout",
          "output_type": "stream",
          "text": [
            "New shape of the DataFrame after handling numerical columns : 3000040 rows and 40 columns\n"
          ]
        }
      ],
      "source": [
        "df.count()\n",
        "print(f\"New shape of the DataFrame after handling numerical columns : {df.count()} rows and {len(df.columns)} columns\")"
      ]
    },
    {
      "cell_type": "markdown",
      "id": "9798b8a2",
      "metadata": {
        "id": "9798b8a2"
      },
      "source": [
        "**Combining the columns: `city_fuel_economy` and `highway_fuel_economy` into `combined_fuel_economy`**"
      ]
    },
    {
      "cell_type": "code",
      "execution_count": null,
      "id": "a873a2ee",
      "metadata": {
        "id": "a873a2ee",
        "outputId": "b1ef91b6-b65a-4490-bcdd-fa428afd7bd2"
      },
      "outputs": [
        {
          "name": "stdout",
          "output_type": "stream",
          "text": [
            "New column: 'combined_fuel_company' is created..\n"
          ]
        }
      ],
      "source": [
        "from pyspark.sql.functions import col\n",
        "\n",
        "# Creating a new column 'combined_fuel_economy' by averaging 'city_fuel_economy' and 'highway_fuel_economy'\n",
        "df = df.withColumn('combined_fuel_economy',\n",
        "                   (col('city_fuel_economy') + col('highway_fuel_economy')) / 2)\n",
        "\n",
        "print(\"New column: 'combined_fuel_company' is created..\")"
      ]
    },
    {
      "cell_type": "code",
      "execution_count": null,
      "id": "9f4a1975",
      "metadata": {
        "id": "9f4a1975",
        "outputId": "715537c4-0f5d-4273-80eb-da1ada3bf42e"
      },
      "outputs": [
        {
          "name": "stdout",
          "output_type": "stream",
          "text": [
            "+-----------------+--------------------+---------------------+\n",
            "|city_fuel_economy|highway_fuel_economy|combined_fuel_economy|\n",
            "+-----------------+--------------------+---------------------+\n",
            "|             20.0|                24.0|                 22.0|\n",
            "|             17.0|                24.0|                 20.5|\n",
            "|             28.0|                39.0|                 33.5|\n",
            "|             27.0|                36.0|                 31.5|\n",
            "|             28.0|                38.0|                 33.0|\n",
            "+-----------------+--------------------+---------------------+\n",
            "\n"
          ]
        }
      ],
      "source": [
        "# Selecting only the three columns and create a new DataFrame\n",
        "fuel_df = df.select('city_fuel_economy', 'highway_fuel_economy', 'combined_fuel_economy')\n",
        "\n",
        "fuel_df.orderBy(F.rand()).limit(5).show()\n",
        "\n",
        "del fuel_df"
      ]
    },
    {
      "cell_type": "markdown",
      "id": "2ecefc51",
      "metadata": {
        "id": "2ecefc51"
      },
      "source": [
        "**Combining `back_legroom` and `front_legroom` into `legroom`**"
      ]
    },
    {
      "cell_type": "code",
      "execution_count": null,
      "id": "ef3905e2",
      "metadata": {
        "id": "ef3905e2"
      },
      "outputs": [],
      "source": [
        "from pyspark.sql.functions import col\n",
        "\n",
        "# Combining the 'front_legroom' and 'back_legroom' columns into a new 'legroom' column\n",
        "df = df.withColumn('legroom', col('front_legroom') + col('back_legroom'))"
      ]
    },
    {
      "cell_type": "code",
      "execution_count": null,
      "id": "66662b6d",
      "metadata": {
        "id": "66662b6d",
        "outputId": "c26cf606-c65b-48bb-da12-e8ac3717d97a"
      },
      "outputs": [
        {
          "name": "stdout",
          "output_type": "stream",
          "text": [
            "+-------------+------------+-----------------+\n",
            "|front_legroom|back_legroom|          legroom|\n",
            "+-------------+------------+-----------------+\n",
            "|         41.5|        34.6|             76.1|\n",
            "|         45.3|        40.9|86.19999999999999|\n",
            "|         42.2|        35.7|             77.9|\n",
            "|         41.0|        40.3|             81.3|\n",
            "|         44.5|        43.4|             87.9|\n",
            "+-------------+------------+-----------------+\n",
            "\n"
          ]
        }
      ],
      "source": [
        "# Selecting only the three columns and create a new DataFrame\n",
        "legroom_df = df.select('front_legroom', 'back_legroom', 'legroom')\n",
        "\n",
        "legroom_df.orderBy(F.rand()).limit(5).show()\n",
        "\n",
        "del legroom_df"
      ]
    },
    {
      "cell_type": "code",
      "execution_count": null,
      "id": "dbed83e3",
      "metadata": {
        "id": "dbed83e3"
      },
      "outputs": [],
      "source": [
        "# Dropping the 'front_legroom' and 'back_legroom' columns\n",
        "df = df.drop('front_legroom', 'back_legroom')"
      ]
    },
    {
      "cell_type": "markdown",
      "id": "06e38826",
      "metadata": {
        "id": "06e38826"
      },
      "source": [
        "**Handling `engine_type` column**"
      ]
    },
    {
      "cell_type": "code",
      "execution_count": null,
      "id": "fa1760c0",
      "metadata": {
        "id": "fa1760c0",
        "outputId": "a2d5d42e-778b-4f30-b8b1-4551074be940"
      },
      "outputs": [
        {
          "name": "stdout",
          "output_type": "stream",
          "text": [
            "+--------------------+-------+----------+\n",
            "|engine_type         |count  |percentage|\n",
            "+--------------------+-------+----------+\n",
            "|I4                  |1418291|47.28     |\n",
            "|V6                  |737066 |24.57     |\n",
            "|V8                  |279939 |9.33      |\n",
            "|V8 Flex Fuel Vehicle|78372  |2.61      |\n",
            "|I4 Hybrid           |72712  |2.42      |\n",
            "|V6 Flex Fuel Vehicle|68337  |2.28      |\n",
            "|H4                  |65861  |2.2       |\n",
            "|I3                  |54301  |1.81      |\n",
            "|I6                  |28322  |0.94      |\n",
            "|I6 Diesel           |23438  |0.78      |\n",
            "|V8 Biodiesel        |22148  |0.74      |\n",
            "|I4 Flex Fuel Vehicle|9187   |0.31      |\n",
            "|I4 Diesel           |7210   |0.24      |\n",
            "|V6 Diesel           |6657   |0.22      |\n",
            "|V8 Diesel           |6266   |0.21      |\n",
            "|I5                  |5301   |0.18      |\n",
            "|H6                  |4686   |0.16      |\n",
            "|V6 Biodiesel        |3611   |0.12      |\n",
            "|V6 Hybrid           |3058   |0.1       |\n",
            "|V12                 |1316   |0.04      |\n",
            "+--------------------+-------+----------+\n",
            "only showing top 20 rows\n",
            "\n"
          ]
        }
      ],
      "source": [
        "from pyspark.sql import functions as F\n",
        "\n",
        "# Grouping by the 'engine_type' column, count occurrences, and calculate percentages with rounding\n",
        "engine_type_distribution = df.groupBy(\"engine_type\") \\\n",
        "    .agg(F.count(\"engine_type\").alias(\"count\")) \\\n",
        "    .withColumn(\"percentage\", F.round((F.col(\"count\") / df.count()) * 100, 2))\n",
        "\n",
        "engine_type_distribution.orderBy(F.desc(\"count\")).show(truncate=False)\n",
        "\n",
        "del engine_type_distribution"
      ]
    },
    {
      "cell_type": "markdown",
      "id": "829507e2",
      "metadata": {
        "id": "829507e2"
      },
      "source": [
        "The majority of vehicles appear to have a 4-cylinder engine. Additionally, the engine_type column includes information about the fuel type, which is already captured in the fuel_type column. To avoid redundancy, we can clean up the engine_type column by removing the fuel type and ensuring it only represents the engine configuration."
      ]
    },
    {
      "cell_type": "code",
      "execution_count": null,
      "id": "26ab96ca",
      "metadata": {
        "id": "26ab96ca"
      },
      "outputs": [],
      "source": [
        "from pyspark.sql import functions as F\n",
        "\n",
        "# Selecting the first string in the 'engine_type' column in PySpark\n",
        "df = df.withColumn(\"engine_type\", F.split(F.col(\"engine_type\"), \" \").getItem(0))"
      ]
    },
    {
      "cell_type": "code",
      "execution_count": null,
      "id": "e7e37bff",
      "metadata": {
        "id": "e7e37bff",
        "outputId": "a83fe11c-a5f0-4d32-be56-152f81006b30"
      },
      "outputs": [
        {
          "name": "stdout",
          "output_type": "stream",
          "text": [
            "+-----------+-------+----------+\n",
            "|engine_type|count  |percentage|\n",
            "+-----------+-------+----------+\n",
            "|I4         |1507448|50.25     |\n",
            "|V6         |818732 |27.29     |\n",
            "|V8         |386953 |12.9      |\n",
            "|H4         |65955  |2.2       |\n",
            "|I3         |54304  |1.81      |\n",
            "|I6         |51776  |1.73      |\n",
            "|I5         |5446   |0.18      |\n",
            "|H6         |4686   |0.16      |\n",
            "|V12        |1318   |0.04      |\n",
            "|V10        |1293   |0.04      |\n",
            "|I2         |897    |0.03      |\n",
            "|W12        |581    |0.02      |\n",
            "|R2         |65     |0.0       |\n",
            "|W8         |3      |0.0       |\n",
            "|W16        |2      |0.0       |\n",
            "|NULL       |0      |0.0       |\n",
            "+-----------+-------+----------+\n",
            "\n"
          ]
        }
      ],
      "source": [
        "# Grouping by the 'engine_type' column, count occurrences, and calculate percentages with rounding\n",
        "engine_type_distribution = df.groupBy(\"engine_type\") \\\n",
        "    .agg(F.count(\"engine_type\").alias(\"count\")) \\\n",
        "    .withColumn(\"percentage\", F.round((F.col(\"count\") / df.count()) * 100, 2))\n",
        "\n",
        "# Showing the result, ordered by count in descending order\n",
        "engine_type_distribution.orderBy(F.desc(\"count\")).show(truncate=False)\n",
        "\n",
        "del engine_type_distribution"
      ]
    },
    {
      "cell_type": "code",
      "execution_count": null,
      "id": "c16f590d",
      "metadata": {
        "id": "c16f590d",
        "outputId": "fe354359-ad7b-4c3f-b22c-fd24013a9ade"
      },
      "outputs": [
        {
          "name": "stdout",
          "output_type": "stream",
          "text": [
            "Current shape of the DataFrame after handling and deleting the columns : 3000040 rows and 40 columns\n"
          ]
        }
      ],
      "source": [
        "df.count()\n",
        "print(f\"Current shape of the DataFrame after handling and deleting the columns : {df.count()} rows and {len(df.columns)} columns\")"
      ]
    },
    {
      "cell_type": "markdown",
      "id": "85d828d9",
      "metadata": {
        "id": "85d828d9"
      },
      "source": [
        "understanding the null percentage in the remaining colomns with null count lesser than 40%"
      ]
    },
    {
      "cell_type": "code",
      "execution_count": null,
      "id": "dab93c5c",
      "metadata": {
        "id": "dab93c5c"
      },
      "outputs": [],
      "source": [
        "from pyspark.sql import functions as F\n",
        "from pyspark.sql.types import IntegerType\n",
        "import pandas as pd\n",
        "\n",
        "# Calculating the null percentage for each column and cast to integer\n",
        "null_percentage_df = df.select(\n",
        "    [(F.sum(F.when(F.col(c).isNull(), 1).otherwise(0)) / F.count(F.lit(1)) * 100).cast(IntegerType()).alias(c) for c in df.columns]\n",
        ")\n",
        "\n",
        "# Reshaping the result to have 'Column' and 'Null_Percentage'\n",
        "null_percentage_melted_df = null_percentage_df.select(\n",
        "    F.explode(F.map_from_arrays(\n",
        "        F.array([F.lit(c) for c in df.columns]),\n",
        "        F.array([F.col(c) for c in null_percentage_df.columns])\n",
        "    )).alias(\"Column\", \"Null_Percentage\")\n",
        ")\n",
        "\n",
        "# Filtering for columns with null percentages between 0 and 40%\n",
        "filtered_df = null_percentage_melted_df.filter(F.col('Null_Percentage').between(0, 40)) \\\n",
        "    .groupBy('Null_Percentage') \\\n",
        "    .agg(F.count('Column').alias('Column_Count'),\n",
        "         F.collect_list('Column').alias('Columns')) \\\n",
        "    .orderBy('Null_Percentage')\n",
        "\n",
        "# Converting Spark DataFrame to Pandas for easier display\n",
        "filtered_pandas_df = filtered_df.toPandas()\n",
        "\n",
        "# Function to expand the columns list\n",
        "def expand_columns(row):\n",
        "    null_percentage = row['Null_Percentage']\n",
        "    column_count = row['Column_Count']\n",
        "    columns = row['Columns']\n",
        "    return pd.DataFrame({\n",
        "        'Null_Percentage': [null_percentage] * len(columns),\n",
        "        'Column_Count': [column_count] * len(columns),\n",
        "        'Column_Name': columns\n",
        "    })\n",
        "\n",
        "# Applying the function and concatenate the results\n",
        "expanded_columns_df = pd.concat([expand_columns(row) for _, row in filtered_pandas_df.iterrows()], ignore_index=True)\n"
      ]
    },
    {
      "cell_type": "code",
      "execution_count": null,
      "id": "20df7d10",
      "metadata": {
        "id": "20df7d10",
        "outputId": "0b101234-9d7e-40b3-e93e-16521b9ac23f"
      },
      "outputs": [
        {
          "name": "stdout",
          "output_type": "stream",
          "text": [
            "Null_Percentage   Column_Count   Column_Name\n",
            "--------------------------------------------------\n",
            "0               18             body_type\n",
            "                               city\n",
            "                               daysonmarket\n",
            "                               dealer_zip\n",
            "                               exterior_color\n",
            "                               franchise_dealer\n",
            "                               interior_color\n",
            "                               is_new\n",
            "                               latitude\n",
            "                               listed_date\n",
            "                               listing_color\n",
            "                               longitude\n",
            "                               make_name\n",
            "                               model_name\n",
            "                               price\n",
            "                               savings_amount\n",
            "                               sp_name\n",
            "                               year\n",
            "--------------------------------------------------\n",
            "1               1              seller_rating\n",
            "--------------------------------------------------\n",
            "2               4              description\n",
            "                               fuel_type\n",
            "                               transmission\n",
            "                               transmission_display\n",
            "--------------------------------------------------\n",
            "3               1              engine_type\n",
            "--------------------------------------------------\n",
            "4               2              mileage\n",
            "                               wheel_system_display\n",
            "--------------------------------------------------\n",
            "5               8              engine_displacement\n",
            "                               fuel_tank_volume\n",
            "                               height\n",
            "                               horsepower\n",
            "                               length\n",
            "                               maximum_seating\n",
            "                               wheelbase\n",
            "                               width\n",
            "--------------------------------------------------\n",
            "6               1              major_options\n",
            "--------------------------------------------------\n",
            "8               1              legroom\n",
            "--------------------------------------------------\n",
            "16              3              city_fuel_economy\n",
            "                               highway_fuel_economy\n",
            "                               combined_fuel_economy\n",
            "--------------------------------------------------\n",
            "17              1              torque\n",
            "--------------------------------------------------\n"
          ]
        }
      ],
      "source": [
        "# Function to format the display without repeating 'Null_Percentage' and 'Column_Count'\n",
        "def format_columns_display(df):\n",
        "    formatted_rows = []\n",
        "    current_percentage = None\n",
        "    current_count = None\n",
        "\n",
        "    for _, row in df.iterrows():\n",
        "        null_percentage = row['Null_Percentage']\n",
        "        column_count = row['Column_Count']\n",
        "        column_name = row['Column_Name']\n",
        "\n",
        "        # Only displaying Null_Percentage and Column_Count for the first row in the group\n",
        "        if null_percentage != current_percentage or column_count != current_count:\n",
        "            if current_percentage is not None:\n",
        "                formatted_rows.append(\"-\" * 50)\n",
        "            formatted_rows.append(f\"{null_percentage:<16}{column_count:<15}{column_name}\")\n",
        "            current_percentage = null_percentage\n",
        "            current_count = column_count\n",
        "        else:\n",
        "            formatted_rows.append(f\"{'':<16}{'':<15}{column_name}\")\n",
        "\n",
        "    # Adding final separator line after the last group\n",
        "    formatted_rows.append(\"-\" * 50)\n",
        "\n",
        "    return \"\\n\".join(formatted_rows)\n",
        "\n",
        "# Applying the function and concatenating the results from the filtered and expanded DataFrame\n",
        "expanded_columns_df = pd.concat([expand_columns(row) for _, row in filtered_pandas_df.iterrows()], ignore_index=True)\n",
        "\n",
        "# Printing the formatted DataFrame\n",
        "print(\"Null_Percentage   Column_Count   Column_Name\")\n",
        "print(\"-\" * 50)\n",
        "formatted_output = format_columns_display(expanded_columns_df)\n",
        "print(formatted_output)\n",
        "\n",
        "# Cleaning up intermediate variables and DataFrames\n",
        "del null_percentage_df\n",
        "del null_percentage_melted_df\n",
        "del filtered_df\n",
        "del filtered_pandas_df\n",
        "del expanded_columns_df\n",
        "\n",
        "# Forced garbage collection without printing anything\n",
        "_ = gc.collect()\n"
      ]
    },
    {
      "cell_type": "code",
      "execution_count": null,
      "id": "2212a588",
      "metadata": {
        "id": "2212a588",
        "outputId": "93ff6de6-1810-4a5c-c4c5-7c0eb31caaa6"
      },
      "outputs": [
        {
          "name": "stdout",
          "output_type": "stream",
          "text": [
            "Categorical Columns:\n",
            "\n",
            "1             dealer_zip\n",
            "2             model_name\n",
            "3         exterior_color\n",
            "4              body_type\n",
            "5          major_options\n",
            "6                sp_name\n",
            "7           transmission\n",
            "8          listing_color\n",
            "9              make_name\n",
            "10             fuel_type\n",
            "11           listed_date\n",
            "12        interior_color\n",
            "13  wheel_system_display\n",
            "14           engine_type\n",
            "15  transmission_display\n",
            "16           description\n",
            "17                  city\n",
            "--------------------------------------------------\n",
            "Numerical Columns:\n",
            "\n",
            "1       city_fuel_economy\n",
            "2            daysonmarket\n",
            "3     engine_displacement\n",
            "4        fuel_tank_volume\n",
            "5                  height\n",
            "6    highway_fuel_economy\n",
            "7              horsepower\n",
            "8                latitude\n",
            "9                  length\n",
            "10              longitude\n",
            "11        maximum_seating\n",
            "12                mileage\n",
            "13                  price\n",
            "14         savings_amount\n",
            "15          seller_rating\n",
            "16                 torque\n",
            "17              wheelbase\n",
            "18                  width\n",
            "19                   year\n",
            "20  combined_fuel_economy\n",
            "21                legroom\n",
            "--------------------------------------------------\n",
            "Boolean Columns:\n",
            "\n",
            "1  franchise_dealer\n",
            "2            is_new\n"
          ]
        }
      ],
      "source": [
        "from pyspark.sql import types as T\n",
        "import pandas as pd\n",
        "\n",
        "# Function to classify columns based on their data types\n",
        "def classify_columns_by_dtype(df):\n",
        "    categorical_columns = []\n",
        "    numerical_columns = []\n",
        "    boolean_columns = []\n",
        "\n",
        "    for field in df.schema.fields:\n",
        "        # If the column is of type String, classify as categorical\n",
        "        if isinstance(field.dataType, T.StringType):\n",
        "            categorical_columns.append(field.name)\n",
        "        # If the column is of type Integer, Float, or Double, classify as numerical\n",
        "        elif isinstance(field.dataType, (T.IntegerType, T.FloatType, T.DoubleType)):\n",
        "            numerical_columns.append(field.name)\n",
        "        # If the column is of type Boolean, classify as boolean\n",
        "        elif isinstance(field.dataType, T.BooleanType):\n",
        "            boolean_columns.append(field.name)\n",
        "\n",
        "    return categorical_columns, numerical_columns, boolean_columns\n",
        "\n",
        "# Classifying the columns into categorical, numerical, and boolean\n",
        "categorical_columns, numerical_columns, boolean_columns = classify_columns_by_dtype(df)\n",
        "\n",
        "# Converting to DataFrames for easier display\n",
        "categorical_df = pd.DataFrame({\"Categorical_Columns\": list(set(categorical_columns))})  # Ensure no duplicates\n",
        "numerical_df = pd.DataFrame({\"Numerical_Columns\": numerical_columns})\n",
        "boolean_df = pd.DataFrame({\"Boolean_Columns\": boolean_columns})\n",
        "\n",
        "# Adjusting the index to start from 1\n",
        "categorical_df.index += 1\n",
        "numerical_df.index += 1\n",
        "boolean_df.index += 1\n",
        "\n",
        "# Printing the categorical columns table\n",
        "print(\"Categorical Columns:\\n\")\n",
        "print(categorical_df.to_string(index=True, header=False))\n",
        "print(\"-\" * 50)\n",
        "\n",
        "# Printing the numerical columns table\n",
        "print(\"Numerical Columns:\\n\")\n",
        "print(numerical_df.to_string(index=True, header=False))\n",
        "print(\"-\" * 50)\n",
        "\n",
        "# Printing the boolean columns table\n",
        "print(\"Boolean Columns:\\n\")\n",
        "print(boolean_df.to_string(index=True, header=False))"
      ]
    },
    {
      "cell_type": "code",
      "execution_count": null,
      "id": "9d11319b",
      "metadata": {
        "id": "9d11319b",
        "outputId": "6e19128c-ebd6-4921-eef9-2df8fe889eae"
      },
      "outputs": [
        {
          "name": "stdout",
          "output_type": "stream",
          "text": [
            "Unique values in categorical columns:\n",
            "\n",
            "Unique values in 'body_type':\n",
            "+---------------+\n",
            "|body_type      |\n",
            "+---------------+\n",
            "|Hatchback      |\n",
            "|Convertible    |\n",
            "|Sedan          |\n",
            "|Pickup Truck   |\n",
            "|Wagon          |\n",
            "|Van            |\n",
            "|SUV / Crossover|\n",
            "|Coupe          |\n",
            "|Minivan        |\n",
            "|NULL           |\n",
            "+---------------+\n",
            "\n",
            "\n",
            "Unique values in 'city':\n",
            "+----------------+\n",
            "|city            |\n",
            "+----------------+\n",
            "|Belle Plaine    |\n",
            "|Aitkin          |\n",
            "|Hanceville      |\n",
            "|Santa Paula     |\n",
            "|Minster         |\n",
            "|Prattville      |\n",
            "|Grimes          |\n",
            "|Tyler           |\n",
            "|Worcester       |\n",
            "|Harleysville    |\n",
            "|Hanover         |\n",
            "|Rhinebeck       |\n",
            "|Fredonia        |\n",
            "|Center Rutland  |\n",
            "|Saint George    |\n",
            "|Bluffton        |\n",
            "|West Sand Lake  |\n",
            "|Agawam          |\n",
            "|Harrisburg      |\n",
            "|North Manchester|\n",
            "+----------------+\n",
            "only showing top 20 rows\n",
            "\n",
            "\n",
            "Unique values in 'dealer_zip':\n",
            "+----------+\n",
            "|dealer_zip|\n",
            "+----------+\n",
            "|77339     |\n",
            "|49079     |\n",
            "|43085     |\n",
            "|36067     |\n",
            "|39350     |\n",
            "|06518     |\n",
            "|24504     |\n",
            "|55321     |\n",
            "|19095     |\n",
            "|47960     |\n",
            "|61354     |\n",
            "|37774     |\n",
            "|28334     |\n",
            "|55371     |\n",
            "|45157     |\n",
            "|29210     |\n",
            "|72472     |\n",
            "|11722     |\n",
            "|66762     |\n",
            "|85022     |\n",
            "+----------+\n",
            "only showing top 20 rows\n",
            "\n",
            "\n",
            "Unique values in 'engine_type':\n",
            "+-----------+\n",
            "|engine_type|\n",
            "+-----------+\n",
            "|H6         |\n",
            "|I5         |\n",
            "|I4         |\n",
            "|I2         |\n",
            "|R2         |\n",
            "|I3         |\n",
            "|W12        |\n",
            "|V6         |\n",
            "|V12        |\n",
            "|V8         |\n",
            "|H4         |\n",
            "|V10        |\n",
            "|I6         |\n",
            "|W16        |\n",
            "|W8         |\n",
            "|NULL       |\n",
            "+-----------+\n",
            "\n",
            "\n",
            "Unique values in 'exterior_color':\n",
            "+--------------------------------------+\n",
            "|exterior_color                        |\n",
            "+--------------------------------------+\n",
            "|MACHINE GRAY METALLIC                 |\n",
            "|Silver,ingot                          |\n",
            "|Pristine White Metallic Tri Coat      |\n",
            "|Vice White Exterior Paint             |\n",
            "|machine gray metallic                 |\n",
            "|Smoke Quartz Metallic Tinted Clearcoat|\n",
            "|Switchblade Silver Metallic           |\n",
            "|Code Px8                              |\n",
            "|Surf Blue Pearlcoat                   |\n",
            "|Toronto Red Metallic                  |\n",
            "|Pearl White Tri Coat                  |\n",
            "|Chilipepper Red                       |\n",
            "|Creme Brulee Clearcoat Metallic       |\n",
            "|Two Tone Gun Metallic Super Black     |\n",
            "|Bianco (White)                        |\n",
            "|British Racing Green IV               |\n",
            "|Aurora Black Pe                       |\n",
            "|Titanium Pearl Metallic               |\n",
            "|Chief Clearcoat                       |\n",
            "|DP XTAL BL MICA                       |\n",
            "+--------------------------------------+\n",
            "only showing top 20 rows\n",
            "\n",
            "\n",
            "Unique values in 'fuel_type':\n",
            "+----------------------+\n",
            "|fuel_type             |\n",
            "+----------------------+\n",
            "|Biodiesel             |\n",
            "|Gasoline              |\n",
            "|Diesel                |\n",
            "|Flex Fuel Vehicle     |\n",
            "|Hybrid                |\n",
            "|Propane               |\n",
            "|Electric              |\n",
            "|Compressed Natural Gas|\n",
            "|NULL                  |\n",
            "+----------------------+\n",
            "\n",
            "\n",
            "Unique values in 'interior_color':\n",
            "+-------------------------------+\n",
            "|interior_color                 |\n",
            "+-------------------------------+\n",
            "|White (CAPPU PREMIUM LTHR HTD) |\n",
            "|Laramie Longhorn               |\n",
            "|Gray With Orange Stitching     |\n",
            "|Leather Black/Red hghlgt/Stitc |\n",
            "|Black/Blue Stitching           |\n",
            "|Red (MAROON BROWN LEATHER)     |\n",
            "|Silver (FD17/CEMENT)           |\n",
            "|Cocoa/Dune, leather            |\n",
            "|Red (Blk Clth Fabric)          |\n",
            "|Cirrus                         |\n",
            "|FA10 MOONSTONE                 |\n",
            "|Brown (Teak/Light Shale)       |\n",
            "|BLACK LEATHERE                 |\n",
            "|JET BLACK W/ CINNAMON ACCENTS  |\n",
            "|Black w/Grey Accents           |\n",
            "|Silver (EBONY MTRL)            |\n",
            "|Red (Shale W/ Ebony Int Lthr)  |\n",
            "|Jet Black With Kalahari Accents|\n",
            "|FH21/BLACK                     |\n",
            "|GIGA.                          |\n",
            "+-------------------------------+\n",
            "only showing top 20 rows\n",
            "\n",
            "\n",
            "Unique values in 'listed_date':\n",
            "+-----------+\n",
            "|listed_date|\n",
            "+-----------+\n",
            "|2020-04-13 |\n",
            "|2019-08-22 |\n",
            "|2015-05-01 |\n",
            "|2019-08-23 |\n",
            "|2019-08-08 |\n",
            "|2020-02-26 |\n",
            "|2017-12-22 |\n",
            "|2018-12-31 |\n",
            "|2019-04-25 |\n",
            "|2016-09-11 |\n",
            "|2017-05-11 |\n",
            "|2019-08-31 |\n",
            "|2017-10-20 |\n",
            "|2020-06-24 |\n",
            "|2019-09-29 |\n",
            "|2018-04-11 |\n",
            "|2020-09-12 |\n",
            "|2018-08-23 |\n",
            "|2016-05-21 |\n",
            "|2020-06-08 |\n",
            "+-----------+\n",
            "only showing top 20 rows\n",
            "\n",
            "\n",
            "Unique values in 'listing_color':\n",
            "+-------------+\n",
            "|listing_color|\n",
            "+-------------+\n",
            "|RED          |\n",
            "|WHITE        |\n",
            "|BLACK        |\n",
            "|GREEN        |\n",
            "|GRAY         |\n",
            "|SILVER       |\n",
            "|GOLD         |\n",
            "|PURPLE       |\n",
            "|BROWN        |\n",
            "|YELLOW       |\n",
            "|UNKNOWN      |\n",
            "|BLUE         |\n",
            "|PINK         |\n",
            "|TEAL         |\n",
            "|ORANGE       |\n",
            "+-------------+\n",
            "\n",
            "\n",
            "Unique values in 'major_options':\n",
            "+--------------------------------------------------------------------------------------------------------------------------------------------------------------------------------------------------------------------------------------------------------------------------------------------------------------------------------------------------------+\n",
            "|major_options                                                                                                                                                                                                                                                                                                                                           |\n",
            "+--------------------------------------------------------------------------------------------------------------------------------------------------------------------------------------------------------------------------------------------------------------------------------------------------------------------------------------------------------+\n",
            "|['Driver Confidence Package', 'Alloy Wheels', 'Preferred Package', 'Bluetooth', 'Backup Camera', 'Remote Start', 'Blind Spot Monitoring', 'Parking Sensors', 'Heated Seats', 'Android Auto', 'CarPlay']                                                                                                                                                 |\n",
            "|['LE Package', 'Appearance Package', 'Steel Wheels']                                                                                                                                                                                                                                                                                                    |\n",
            "|['Leather Seats', 'Navigation System', 'Alloy Wheels', 'Bluetooth', 'Backup Camera', 'Off Road Package']                                                                                                                                                                                                                                                |\n",
            "|['Sunroof/Moonroof', 'Alloy Wheels', 'Third Row Seating', 'Bluetooth', 'Backup Camera', 'Parking Sensors', 'Tow Package']                                                                                                                                                                                                                               |\n",
            "|['Leather Seats', 'Sunroof/Moonroof', 'Alloy Wheels', 'Blind Spot Monitoring', 'Parking Sensors', 'Heated Seats', 'Android Auto', 'Quick Order Package', 'CarPlay', 'Multi Zone Climate Control', 'Bluetooth', 'Backup Camera', 'Remote Start']                                                                                                         |\n",
            "|['Sunroof/Moonroof', 'Navigation System', 'Adaptive Cruise Control', 'Technology Package', 'Backup Camera', 'Blind Spot Monitoring', 'Parking Sensors', 'Heated Seats', 'Android Auto', 'CarPlay']                                                                                                                                                      |\n",
            "|['Leather Seats', 'Navigation System', 'Alloy Wheels', 'Heated Seats', 'Tow Package', 'Android Auto', 'CarPlay', 'Lariat Package', 'Utility Package', 'Appearance Package', 'Backup Camera', 'Remote Start', '502A Luxury Equipment Group']                                                                                                             |\n",
            "|['LE Package', 'Adaptive Cruise Control', 'Steel Wheels', 'Bluetooth', 'Backup Camera', 'Premium Package']                                                                                                                                                                                                                                              |\n",
            "|['Leather Seats', 'Sunroof/Moonroof', 'Navigation System', 'Chrome Wheels', 'Technology Package', 'Steel Wheels', 'Blind Spot Monitoring', 'Heated Seats', 'Android Auto', 'CarPlay', 'Safety Package', 'Bluetooth', 'Backup Camera', 'Remote Start']                                                                                                   |\n",
            "|['Sunroof/Moonroof', 'Adaptive Cruise Control', 'Alloy Wheels', 'Third Row Seating', 'Bluetooth', 'Backup Camera', 'Remote Start', 'Blind Spot Monitoring', 'Heated Seats', 'Android Auto', 'CarPlay', 'Multi Zone Climate Control']                                                                                                                    |\n",
            "|['Sunroof/Moonroof', 'Navigation System', 'SE Package', 'Technology Package', 'Backup Camera', 'Heated Seats', 'Android Auto', 'Cold Weather Package', 'CarPlay']                                                                                                                                                                                       |\n",
            "|['Leather Seats', 'Driver Confidence Package', 'Power Package', 'Navigation System', 'Alloy Wheels', 'Preferred Package', 'Third Row Seating', 'Trailer Package', 'Blind Spot Monitoring', 'Heat Package', 'Parking Sensors', 'Heated Seats', '2lt Package', 'LE Package', 'LT Package', 'Bluetooth', 'Memory Package', 'Backup Camera', 'Remote Start']|\n",
            "|['Sunroof/Moonroof', 'Navigation System', 'Adaptive Cruise Control', 'SE Package', 'Technology Package', 'Bluetooth', 'Parking Sensors']                                                                                                                                                                                                                |\n",
            "|['Sunroof/Moonroof', 'Alloy Wheels', 'Third Row Seating', 'Backup Camera', 'Blind Spot Monitoring', 'Parking Sensors', 'Heated Seats']                                                                                                                                                                                                                  |\n",
            "|['Navigation System', 'Multimedia Package', 'Heat Package', 'Premium Package']                                                                                                                                                                                                                                                                          |\n",
            "|['Leather Seats', 'Sunroof/Moonroof', 'Power Package', 'Navigation System', 'Alloy Wheels', 'Third Row Seating', 'Blind Spot Monitoring', 'Heated Seats', 'Android Auto', 'CarPlay', 'Bluetooth', 'Backup Camera', 'Remote Start']                                                                                                                      |\n",
            "|['LE Package', 'Sport Package', 'Leather Seats', 'Sunroof/Moonroof', 'Power Package', 'Alloy Wheels', 'Bluetooth', 'Backup Camera', 'Heat Package']                                                                                                                                                                                                     |\n",
            "|['Leather Seats', 'Alloy Wheels', 'Preferred Package', 'Bluetooth', 'Memory Package', 'Backup Camera', 'Remote Start', 'Heated Seats', 'Android Auto', 'CarPlay', 'Multi Zone Climate Control']                                                                                                                                                         |\n",
            "|['Leather Seats', 'Sunroof/Moonroof', 'Navigation System', 'Third Row Seating', 'Premium Wheels', 'Heat Package', 'Premium Plus Package', 'Parking Sensors', 'Heated Seats', 'Android Auto', 'CarPlay', 'Multi Zone Climate Control', 'Bluetooth', 'Backup Camera', 'Memory Package', 'Convenience Package']                                            |\n",
            "|['Leather Seats', 'Sunroof/Moonroof', 'Power Package', 'Navigation System', 'Alloy Wheels', 'Third Row Seating', 'Blind Spot Monitoring', 'Heat Package', 'Parking Sensors', 'Heated Seats', 'CarPlay', 'Multi Zone Climate Control', 'Bluetooth', 'Backup Camera']                                                                                     |\n",
            "+--------------------------------------------------------------------------------------------------------------------------------------------------------------------------------------------------------------------------------------------------------------------------------------------------------------------------------------------------------+\n",
            "only showing top 20 rows\n",
            "\n",
            "\n",
            "Unique values in 'make_name':\n",
            "+-----------+\n",
            "|make_name  |\n",
            "+-----------+\n",
            "|Sunbeam    |\n",
            "|Volkswagen |\n",
            "|Oldsmobile |\n",
            "|Pininfarina|\n",
            "|Lexus      |\n",
            "|Jaguar     |\n",
            "|Saturn     |\n",
            "|FIAT       |\n",
            "|Maserati   |\n",
            "|Rolls-Royce|\n",
            "|Scion      |\n",
            "|Jeep       |\n",
            "|Mitsubishi |\n",
            "|Kia        |\n",
            "|Chevrolet  |\n",
            "|Volvo      |\n",
            "|RAM        |\n",
            "|Hyundai    |\n",
            "|Saab       |\n",
            "|Hudson     |\n",
            "+-----------+\n",
            "only showing top 20 rows\n",
            "\n",
            "\n",
            "Unique values in 'model_name':\n",
            "+-----------------+\n",
            "|model_name       |\n",
            "+-----------------+\n",
            "|RS 7             |\n",
            "|MDX              |\n",
            "|GLE-Class        |\n",
            "|Impreza WRX STI  |\n",
            "|F8 Tributo       |\n",
            "|Astra            |\n",
            "|944              |\n",
            "|California T     |\n",
            "|Villager         |\n",
            "|RAM Van          |\n",
            "|Contour          |\n",
            "|Outlook          |\n",
            "|TC               |\n",
            "|S60              |\n",
            "|1500             |\n",
            "|Road Runner      |\n",
            "|Highlander Hybrid|\n",
            "|Mark VII         |\n",
            "|DBS              |\n",
            "|Captiva Sport    |\n",
            "+-----------------+\n",
            "only showing top 20 rows\n",
            "\n",
            "\n",
            "Unique values in 'sp_name':\n",
            "+--------------------------------+\n",
            "|sp_name                         |\n",
            "+--------------------------------+\n",
            "|Delzell Brothers                |\n",
            "|Ginn Chrysler Jeep Dodge Ram LLC|\n",
            "|Crow-Moddie Chevrolet Ford      |\n",
            "|Auto Wholesalers of America     |\n",
            "|Avelar Auto Sales               |\n",
            "|Turnpike Auto Sales             |\n",
            "|Yuba City Toyota                |\n",
            "|Strategic Auto Group            |\n",
            "|McLeod Auto Sales               |\n",
            "|KM Motorcars                    |\n",
            "|Chris Ullman Pre-Owned Autos    |\n",
            "|Lynn Layton Cadillac            |\n",
            "|Jaguar Land Rover Cherry Hill   |\n",
            "|Wolko Autosales                 |\n",
            "|All In Auto Group               |\n",
            "|Biener Audi                     |\n",
            "|North Star Motor Cars           |\n",
            "|Volvo Cars of Phoenix           |\n",
            "|Briggs Dodge                    |\n",
            "|McCarthy Olathe Nissan          |\n",
            "+--------------------------------+\n",
            "only showing top 20 rows\n",
            "\n",
            "\n",
            "Unique values in 'transmission':\n",
            "+------------+\n",
            "|transmission|\n",
            "+------------+\n",
            "|Dual Clutch |\n",
            "|CVT         |\n",
            "|M           |\n",
            "|A           |\n",
            "|NULL        |\n",
            "+------------+\n",
            "\n",
            "\n",
            "Unique values in 'transmission_display':\n",
            "+----------------------------------+\n",
            "|transmission_display              |\n",
            "+----------------------------------+\n",
            "|4-Speed Automatic Overdrive       |\n",
            "|5-Speed Manual Overdrive          |\n",
            "|6-Speed CVT                       |\n",
            "|7-Speed Dual Clutch               |\n",
            "|7-Speed Manual                    |\n",
            "|6-Speed Automatic                 |\n",
            "|7-Speed CVT                       |\n",
            "|8-Speed Dual Clutch               |\n",
            "|9-Speed Automatic Overdrive       |\n",
            "|8-Speed Manual                    |\n",
            "|Automatic                         |\n",
            "|6-Speed Automatic Overdrive       |\n",
            "|6-Speed Manual Overdrive          |\n",
            "|8-Speed Automatic Overdrive       |\n",
            "|1-Speed Automatic                 |\n",
            "|1-Speed Dual Clutch               |\n",
            "|9-Speed Automatic                 |\n",
            "|Continuously Variable Transmission|\n",
            "|5-Speed Automatic                 |\n",
            "|4-Speed CVT                       |\n",
            "+----------------------------------+\n",
            "only showing top 20 rows\n",
            "\n",
            "\n",
            "Unique values in 'wheel_system_display':\n",
            "+--------------------+\n",
            "|wheel_system_display|\n",
            "+--------------------+\n",
            "|Four-Wheel Drive    |\n",
            "|4X2                 |\n",
            "|All-Wheel Drive     |\n",
            "|Front-Wheel Drive   |\n",
            "|Rear-Wheel Drive    |\n",
            "|NULL                |\n",
            "+--------------------+\n",
            "\n"
          ]
        }
      ],
      "source": [
        "from pyspark.sql import functions as F\n",
        "\n",
        "# Function to print unique values for categorical and boolean columns\n",
        "def print_unique_values(df, categorical_columns, boolean_columns):\n",
        "    print(\"Unique values in categorical columns:\")\n",
        "    for column in categorical_columns:\n",
        "        if column != 'description':\n",
        "            print(f\"\\nUnique values in '{column}':\")\n",
        "            df.select(column).distinct().show(truncate=False)\n",
        "\n",
        "# Calling the function to print unique values\n",
        "print_unique_values(df, categorical_columns, boolean_columns)\n"
      ]
    },
    {
      "cell_type": "code",
      "execution_count": null,
      "id": "e8b296f0",
      "metadata": {
        "id": "e8b296f0"
      },
      "outputs": [],
      "source": [
        "from pyspark.sql import functions as F\n",
        "from pyspark.sql import types as T\n",
        "\n",
        "# Function to classify numerical columns based on their data types\n",
        "def classify_numerical_columns(df):\n",
        "    numerical_columns = []\n",
        "\n",
        "    for field in df.schema.fields:\n",
        "        # If the column is of type Integer, Float, or Double, classify as numerical\n",
        "        if isinstance(field.dataType, (T.IntegerType, T.FloatType, T.DoubleType)):\n",
        "            numerical_columns.append((field.name, field.dataType))\n",
        "\n",
        "    return numerical_columns\n",
        "\n",
        "# Classifying the numerical columns\n",
        "numerical_columns = classify_numerical_columns(df)\n",
        "\n",
        "# Now rounding off only the float/double columns to 2 decimal places\n",
        "for col_name, col_type in numerical_columns:\n",
        "    if isinstance(col_type, (T.FloatType, T.DoubleType)):\n",
        "        df = df.withColumn(col_name, F.round(F.col(col_name), 2))"
      ]
    },
    {
      "cell_type": "code",
      "execution_count": null,
      "id": "900e841d",
      "metadata": {
        "id": "900e841d",
        "outputId": "add7d980-68d6-41ce-b70e-9cb3f59fdd86"
      },
      "outputs": [
        {
          "name": "stdout",
          "output_type": "stream",
          "text": [
            "The following columns were rounded to 2 decimal places:\n",
            " - city_fuel_economy\n",
            " - engine_displacement\n",
            " - fuel_tank_volume\n",
            " - height\n",
            " - highway_fuel_economy\n",
            " - horsepower\n",
            " - latitude\n",
            " - length\n",
            " - longitude\n",
            " - maximum_seating\n",
            " - mileage\n",
            " - price\n",
            " - seller_rating\n",
            " - torque\n",
            " - wheelbase\n",
            " - width\n",
            " - combined_fuel_economy\n",
            " - legroom\n",
            "\n",
            "The following integer columns were skipped (not rounded):\n",
            " - daysonmarket\n",
            " - savings_amount\n",
            " - year\n"
          ]
        }
      ],
      "source": [
        "# Printing the results\n",
        "rounded_columns = [col_name for col_name, col_type in numerical_columns if isinstance(col_type, (T.FloatType, T.DoubleType))]\n",
        "print(\"The following columns were rounded to 2 decimal places:\")\n",
        "for col in rounded_columns:\n",
        "    print(f\" - {col}\")\n",
        "\n",
        "# printing the integer columns to confirm they were not rounded\n",
        "int_columns = [col_name for col_name, col_type in numerical_columns if isinstance(col_type, T.IntegerType)]\n",
        "if int_columns:\n",
        "    print(\"\\nThe following integer columns were skipped (not rounded):\")\n",
        "    for col in int_columns:\n",
        "        print(f\" - {col}\")\n"
      ]
    },
    {
      "cell_type": "markdown",
      "id": "7c9b20c8",
      "metadata": {
        "id": "7c9b20c8"
      },
      "source": [
        "-------------------------------------------------------------------------------------------------------------------------------------------------------"
      ]
    },
    {
      "cell_type": "markdown",
      "id": "b2c0e51f",
      "metadata": {
        "id": "b2c0e51f"
      },
      "source": [
        "### **Row EDA**"
      ]
    },
    {
      "cell_type": "code",
      "execution_count": null,
      "id": "68ee822f",
      "metadata": {
        "colab": {
          "base_uri": "https://localhost:8080/"
        },
        "id": "68ee822f",
        "outputId": "d20e95af-a0be-4e86-a5ea-666c8f2a3194"
      },
      "outputs": [
        {
          "name": "stdout",
          "output_type": "stream",
          "text": [
            "The shape of the DataFrame after COLUMNAR EDA is: (3000040, 40)\n"
          ]
        }
      ],
      "source": [
        "# Calculating the total number of rows in the DataFrame\n",
        "total_rows = df.count()\n",
        "\n",
        "# Calculating the total number of columns in the DataFrame\n",
        "total_columns = len(df.columns)\n",
        "\n",
        "# Printing the shape of the DataFrame\n",
        "print(f\"The shape of the DataFrame after COLUMNAR EDA is: ({total_rows}, {total_columns})\")"
      ]
    },
    {
      "cell_type": "code",
      "execution_count": null,
      "id": "c49e5599",
      "metadata": {
        "colab": {
          "base_uri": "https://localhost:8080/"
        },
        "id": "c49e5599",
        "outputId": "68458ece-6dac-4281-b3bd-a5fe443d8d8f"
      },
      "outputs": [
        {
          "name": "stdout",
          "output_type": "stream",
          "text": [
            "Number of rows with at least one null value: 1119596\n"
          ]
        }
      ],
      "source": [
        "from functools import reduce\n",
        "from pyspark.sql.functions import col\n",
        "\n",
        "# Checking for rows with at least one null value in any column\n",
        "rows_with_null = df.filter(\n",
        "    reduce(lambda x, y: x | y, (col(c).isNull() for c in df.columns))).count()\n",
        "\n",
        "print(f\"Number of rows with at least one null value: {rows_with_null}\")"
      ]
    },
    {
      "cell_type": "code",
      "execution_count": null,
      "id": "d9700316",
      "metadata": {
        "colab": {
          "base_uri": "https://localhost:8080/"
        },
        "id": "d9700316",
        "outputId": "74c4c6be-5080-44e4-9693-57d0d9471648"
      },
      "outputs": [
        {
          "name": "stdout",
          "output_type": "stream",
          "text": [
            "+-----+---------------------+---------------+\n",
            "|Index|Column Name          |Null Percentage|\n",
            "+-----+---------------------+---------------+\n",
            "|1    |body_type            |0              |\n",
            "|2    |city                 |0              |\n",
            "|3    |city_fuel_economy    |16             |\n",
            "|4    |daysonmarket         |0              |\n",
            "|5    |dealer_zip           |0              |\n",
            "|6    |description          |2              |\n",
            "|7    |engine_displacement  |5              |\n",
            "|8    |engine_type          |3              |\n",
            "|9    |exterior_color       |0              |\n",
            "|10   |franchise_dealer     |0              |\n",
            "|11   |fuel_tank_volume     |5              |\n",
            "|12   |fuel_type            |2              |\n",
            "|13   |height               |5              |\n",
            "|14   |highway_fuel_economy |16             |\n",
            "|15   |horsepower           |5              |\n",
            "|16   |interior_color       |0              |\n",
            "|17   |is_new               |0              |\n",
            "|18   |latitude             |0              |\n",
            "|19   |length               |5              |\n",
            "|20   |listed_date          |0              |\n",
            "|21   |listing_color        |0              |\n",
            "|22   |longitude            |0              |\n",
            "|23   |major_options        |6              |\n",
            "|24   |make_name            |0              |\n",
            "|25   |maximum_seating      |5              |\n",
            "|26   |mileage              |4              |\n",
            "|27   |model_name           |0              |\n",
            "|28   |price                |0              |\n",
            "|29   |savings_amount       |0              |\n",
            "|30   |seller_rating        |1              |\n",
            "|31   |sp_name              |0              |\n",
            "|32   |torque               |17             |\n",
            "|33   |transmission         |2              |\n",
            "|34   |transmission_display |2              |\n",
            "|35   |wheel_system_display |4              |\n",
            "|36   |wheelbase            |5              |\n",
            "|37   |width                |5              |\n",
            "|38   |year                 |0              |\n",
            "|39   |combined_fuel_economy|16             |\n",
            "|40   |legroom              |8              |\n",
            "+-----+---------------------+---------------+\n",
            "\n"
          ]
        }
      ],
      "source": [
        "import pandas as pd\n",
        "from pyspark.sql import functions as F\n",
        "from pyspark.sql.window import Window\n",
        "\n",
        "pd.set_option('display.max_columns', None)\n",
        "\n",
        "# Calculating the null percentage for each column (kept it as float)\n",
        "null_percentage_calculate_df = df.select(\n",
        "    [(F.sum(F.when(F.col(c).isNull(), 1).otherwise(0)) / F.count(F.lit(1)) * 100).alias(c) for c in df.columns]\n",
        ")\n",
        "\n",
        "# Using explode and creating a map of column names and their null percentages, then cast to int\n",
        "null_percentage_display_df = null_percentage_calculate_df.select(\n",
        "    F.explode(\n",
        "        F.map_from_arrays(\n",
        "            F.array([F.lit(c) for c in df.columns]),\n",
        "            F.array([F.col(c).cast(\"int\") for c in null_percentage_calculate_df.columns])  # Cast percentages to integer\n",
        "        )\n",
        "    ).alias(\"Column Name\", \"Null Percentage\")\n",
        ")\n",
        "\n",
        "# Creating a row index (1-based) and add it to the DataFrame\n",
        "window_spec = Window.orderBy(F.lit(1))\n",
        "null_percentage_display_df = null_percentage_display_df.withColumn(\"Index\", F.row_number().over(window_spec))\n",
        "null_percentage_display_df = null_percentage_display_df.select(\"Index\", \"Column Name\", \"Null Percentage\")\n",
        "\n",
        "# Geting the total number of rows in the reshaped DataFrame\n",
        "total_rows = null_percentage_display_df.count()\n",
        "\n",
        "# Displaying all rows with index without truncation\n",
        "null_percentage_display_df.show(total_rows, truncate=False)\n",
        "\n",
        "# Deleting the DataFrame from the local namespace\n",
        "del null_percentage_display_df\n",
        "_ = gc.collect()\n"
      ]
    },
    {
      "cell_type": "code",
      "execution_count": null,
      "id": "179cd946",
      "metadata": {
        "colab": {
          "base_uri": "https://localhost:8080/"
        },
        "id": "179cd946",
        "outputId": "6fb9cbff-8360-4d52-d958-9b6dd0fa983d"
      },
      "outputs": [
        {
          "name": "stdout",
          "output_type": "stream",
          "text": [
            "+---------------------------------+-----------------------------------+\n",
            "|Number of Null Columns in the Row|Percentage of Rows with Null Values|\n",
            "+---------------------------------+-----------------------------------+\n",
            "|                                0|                              62.68|\n",
            "|                                1|                              15.96|\n",
            "|                                2|                               3.25|\n",
            "|                                3|                               7.06|\n",
            "|                                4|                               3.12|\n",
            "|                                5|                               1.74|\n",
            "|                                6|                               0.47|\n",
            "|                                7|                               0.37|\n",
            "|                                8|                               0.09|\n",
            "|                                9|                               0.03|\n",
            "|                               10|                               0.15|\n",
            "|                               11|                               0.36|\n",
            "|                               12|                               0.05|\n",
            "|                               13|                               0.07|\n",
            "|                               14|                               1.93|\n",
            "|                               15|                               0.66|\n",
            "|                               16|                               0.86|\n",
            "|                               17|                               0.78|\n",
            "|                               18|                               0.24|\n",
            "|                               19|                               0.09|\n",
            "+---------------------------------+-----------------------------------+\n",
            "only showing top 20 rows\n",
            "\n"
          ]
        }
      ],
      "source": [
        "from pyspark.sql import functions as F\n",
        "\n",
        "# Calculating the total number of rows in the DataFrame\n",
        "total_rows = df.count()\n",
        "\n",
        "# Counting the number of null values per row\n",
        "null_count = sum([F.when(F.col(c).isNull(), 1).otherwise(0) for c in df.columns])\n",
        "df_with_null_count = df.withColumn(\"null_count\", null_count)\n",
        "\n",
        "null_group_counts = df_with_null_count.groupBy(\"null_count\").count()\n",
        "\n",
        "# Fixing the rounding issue by using F.round\n",
        "null_group_percentage = null_group_counts.withColumn(\n",
        "    \"percentage\",\n",
        "    F.round((F.col(\"count\") / total_rows) * 100, 2)\n",
        ")\n",
        "\n",
        "# Preparing to display the result DataFrame with more descriptive column names\n",
        "result_df = null_group_percentage.select(\n",
        "    F.col(\"null_count\").alias(\"Number of Null Columns in the Row\"),\n",
        "    F.col(\"percentage\").alias(\"Percentage of Rows with Null Values\")\n",
        ")\n",
        "\n",
        "# Sorting the result by \"Number of Null Columns\"\n",
        "result_df = result_df.orderBy(\"Number of Null Columns in the Row\")\n",
        "\n",
        "result_df.show()\n",
        "\n",
        "del result_df"
      ]
    },
    {
      "cell_type": "markdown",
      "id": "35314c9b",
      "metadata": {
        "id": "35314c9b"
      },
      "source": [
        "The result table provides an analysis of missing data (null values) in the DataFrame, with two columns:\n",
        "\n",
        "\n",
        "1.   **Number of Null Columns in the Row:** This column shows how many columns in each row contain missing (null) values. For example, a value of 3 means that there are 3 columns in that row that are missing data.\n",
        "2.   **Percentage of Rows with Null Values:** This column represents the percentage of rows in the entire DataFrame that have the corresponding number of null columns. For example, if 15.96% of rows have exactly 1 null value, it means that a significant portion of my data has incomplete information in one column.\n",
        "\n",
        "\n",
        "This breakdown helps in understanding the distribution of missing values across rows, identifying patterns of missing data, and making informed decisions about data cleaning or imputation strategies."
      ]
    },
    {
      "cell_type": "code",
      "execution_count": null,
      "id": "5626902a",
      "metadata": {
        "id": "5626902a"
      },
      "outputs": [],
      "source": [
        "from pyspark.sql import functions as F\n",
        "from pyspark.sql.types import IntegerType\n",
        "import pandas as pd\n",
        "\n",
        "# Calculating the null percentage for each column and cast to integer\n",
        "null_percentage_df = df.select(\n",
        "    [(F.sum(F.when(F.col(c).isNull(), 1).otherwise(0)) / F.count(F.lit(1)) * 100).cast(IntegerType()).alias(c) for c in df.columns]\n",
        ")\n",
        "\n",
        "# Reshaping the result to have 'Column' and 'Null_Percentage'\n",
        "null_percentage_melted_df = null_percentage_df.select(\n",
        "    F.explode(F.map_from_arrays(\n",
        "        F.array([F.lit(c) for c in df.columns]),\n",
        "        F.array([F.col(c) for c in null_percentage_df.columns])\n",
        "    )).alias(\"Column\", \"Null_Percentage\")\n",
        ")\n",
        "\n",
        "# Filtering for columns with null percentages between 0 and 40%\n",
        "filtered_df = null_percentage_melted_df.filter(F.col('Null_Percentage').between(0, 40)) \\\n",
        "    .groupBy('Null_Percentage') \\\n",
        "    .agg(F.count('Column').alias('Column_Count'),\n",
        "         F.collect_list('Column').alias('Columns')) \\\n",
        "    .orderBy('Null_Percentage')\n",
        "\n",
        "# Converting Spark DataFrame to Pandas for easier display\n",
        "filtered_pandas_df = filtered_df.toPandas()\n",
        "\n",
        "# Function to expand the columns list\n",
        "def expand_columns(row):\n",
        "    null_percentage = row['Null_Percentage']\n",
        "    column_count = row['Column_Count']\n",
        "    columns = row['Columns']\n",
        "    return pd.DataFrame({\n",
        "        'Null_Percentage': [null_percentage] * len(columns),\n",
        "        'Column_Count': [column_count] * len(columns),\n",
        "        'Column_Name': columns\n",
        "    })\n",
        "\n",
        "# Applying the function and concatenating the results\n",
        "expanded_columns_df = pd.concat([expand_columns(row) for _, row in filtered_pandas_df.iterrows()], ignore_index=True)"
      ]
    },
    {
      "cell_type": "code",
      "execution_count": null,
      "id": "a99d5a24",
      "metadata": {
        "colab": {
          "base_uri": "https://localhost:8080/"
        },
        "id": "a99d5a24",
        "outputId": "3ad2ee9f-dd86-41fb-bf46-f2787d0921ce"
      },
      "outputs": [
        {
          "name": "stdout",
          "output_type": "stream",
          "text": [
            "Null_Percentage   Column_Count   Column_Name\n",
            "--------------------------------------------------\n",
            "0               18             body_type\n",
            "                               city\n",
            "                               daysonmarket\n",
            "                               dealer_zip\n",
            "                               exterior_color\n",
            "                               franchise_dealer\n",
            "                               interior_color\n",
            "                               is_new\n",
            "                               latitude\n",
            "                               listed_date\n",
            "                               listing_color\n",
            "                               longitude\n",
            "                               make_name\n",
            "                               model_name\n",
            "                               price\n",
            "                               savings_amount\n",
            "                               sp_name\n",
            "                               year\n",
            "--------------------------------------------------\n",
            "1               1              seller_rating\n",
            "--------------------------------------------------\n",
            "2               4              description\n",
            "                               fuel_type\n",
            "                               transmission\n",
            "                               transmission_display\n",
            "--------------------------------------------------\n",
            "3               1              engine_type\n",
            "--------------------------------------------------\n",
            "4               2              mileage\n",
            "                               wheel_system_display\n",
            "--------------------------------------------------\n",
            "5               8              engine_displacement\n",
            "                               fuel_tank_volume\n",
            "                               height\n",
            "                               horsepower\n",
            "                               length\n",
            "                               maximum_seating\n",
            "                               wheelbase\n",
            "                               width\n",
            "--------------------------------------------------\n",
            "6               1              major_options\n",
            "--------------------------------------------------\n",
            "8               1              legroom\n",
            "--------------------------------------------------\n",
            "16              3              city_fuel_economy\n",
            "                               highway_fuel_economy\n",
            "                               combined_fuel_economy\n",
            "--------------------------------------------------\n",
            "17              1              torque\n",
            "--------------------------------------------------\n"
          ]
        }
      ],
      "source": [
        "# Function to format the display without repeating 'Null_Percentage' and 'Column_Count'\n",
        "def format_columns_display(df):\n",
        "    formatted_rows = []\n",
        "    current_percentage = None\n",
        "    current_count = None\n",
        "\n",
        "    for _, row in df.iterrows():\n",
        "        null_percentage = row['Null_Percentage']\n",
        "        column_count = row['Column_Count']\n",
        "        column_name = row['Column_Name']\n",
        "\n",
        "        # Only displaying Null_Percentage and Column_Count for the first row in the group\n",
        "        if null_percentage != current_percentage or column_count != current_count:\n",
        "            if current_percentage is not None:\n",
        "                formatted_rows.append(\"-\" * 50)\n",
        "            formatted_rows.append(f\"{null_percentage:<16}{column_count:<15}{column_name}\")\n",
        "            current_percentage = null_percentage\n",
        "            current_count = column_count\n",
        "        else:\n",
        "            formatted_rows.append(f\"{'':<16}{'':<15}{column_name}\")\n",
        "\n",
        "    # Adding final separator line after the last group\n",
        "    formatted_rows.append(\"-\" * 50)\n",
        "\n",
        "    return \"\\n\".join(formatted_rows)\n",
        "\n",
        "# Applying the function and concatenate the results from the filtered and expanded DataFrame\n",
        "expanded_columns_df = pd.concat([expand_columns(row) for _, row in filtered_pandas_df.iterrows()], ignore_index=True)\n",
        "\n",
        "# Printing the formatted DataFrame\n",
        "print(\"Null_Percentage   Column_Count   Column_Name\")\n",
        "print(\"-\" * 50)\n",
        "formatted_output = format_columns_display(expanded_columns_df)\n",
        "print(formatted_output)\n",
        "\n",
        "# Cleaning up intermediate variables and DataFrames\n",
        "del null_percentage_df\n",
        "del null_percentage_melted_df\n",
        "del filtered_df\n",
        "del filtered_pandas_df\n",
        "del expanded_columns_df\n",
        "\n",
        "# Forced garbage collection without printing anything\n",
        "_ = gc.collect()"
      ]
    },
    {
      "cell_type": "code",
      "execution_count": null,
      "id": "22c0b10c",
      "metadata": {
        "colab": {
          "base_uri": "https://localhost:8080/"
        },
        "id": "22c0b10c",
        "outputId": "6cd5dee7-f013-44a8-9dca-4eb1a775f34d"
      },
      "outputs": [
        {
          "name": "stdout",
          "output_type": "stream",
          "text": [
            "+-----+----------------+---------------+\n",
            "|Index|Column          |Null_Percentage|\n",
            "+-----+----------------+---------------+\n",
            "|1    |city            |0.0            |\n",
            "|2    |daysonmarket    |0.0            |\n",
            "|3    |dealer_zip      |0.0            |\n",
            "|4    |exterior_color  |0.0            |\n",
            "|5    |franchise_dealer|0.0            |\n",
            "|6    |is_new          |0.0            |\n",
            "|7    |latitude        |0.0            |\n",
            "|8    |listed_date     |0.0            |\n",
            "|9    |listing_color   |0.0            |\n",
            "|10   |longitude       |0.0            |\n",
            "|11   |make_name       |0.0            |\n",
            "|12   |model_name      |0.0            |\n",
            "|13   |price           |0.0            |\n",
            "|14   |savings_amount  |0.0            |\n",
            "|15   |sp_name         |0.0            |\n",
            "|16   |year            |0.0            |\n",
            "+-----+----------------+---------------+\n",
            "\n"
          ]
        }
      ],
      "source": [
        "from pyspark.sql import functions as F\n",
        "from pyspark.sql.types import DoubleType\n",
        "from pyspark.sql.window import Window\n",
        "\n",
        "# Calculating the null percentage for each column with higher precision\n",
        "null_percentage_df = df.select(\n",
        "    [(F.sum(F.when(F.col(c).isNull(), 1).otherwise(0)) / F.count(F.lit(1)) * 100).cast(DoubleType()).alias(c) for c in df.columns]\n",
        ")\n",
        "\n",
        "# Reshaping the result to have 'Column' and 'Null_Percentage'\n",
        "null_percentage_melted_df = null_percentage_df.select(\n",
        "    F.explode(F.map_from_arrays(\n",
        "        F.array([F.lit(c) for c in df.columns]),\n",
        "        F.array([F.col(c) for c in null_percentage_df.columns])\n",
        "    )).alias(\"Column\", \"Null_Percentage\")\n",
        ")\n",
        "\n",
        "# Filtering columns with a very small (near-zero) percentage\n",
        "zero_percent_columns_df = null_percentage_melted_df.filter(F.col('Null_Percentage') <= 0.00001)\n",
        "\n",
        "# Creating a row index (1-based) and adding it to the DataFrame\n",
        "window_spec = Window.orderBy(F.lit(1))  # A dummy window to generate row numbers\n",
        "zero_percent_columns_df = zero_percent_columns_df.withColumn(\"Index\", F.row_number().over(window_spec))\n",
        "\n",
        "# Showing columns with near-zero null percentage for verification with index first\n",
        "zero_percent_columns_df = zero_percent_columns_df.select(\"Index\", \"Column\", \"Null_Percentage\")\n",
        "zero_percent_columns_df.show(truncate=False)\n",
        "\n",
        "# Cleaning up DataFrame\n",
        "del zero_percent_columns_df\n",
        "_ = gc.collect()\n"
      ]
    },
    {
      "cell_type": "code",
      "execution_count": null,
      "id": "db88c693",
      "metadata": {
        "colab": {
          "base_uri": "https://localhost:8080/"
        },
        "id": "db88c693",
        "outputId": "5f3d799b-7d7d-4c19-a480-f3dd913fa818"
      },
      "outputs": [
        {
          "name": "stdout",
          "output_type": "stream",
          "text": [
            "Categorical Columns :\n",
            "\n",
            "1            listed_date  0.000\n",
            "2                   city  0.000\n",
            "3             dealer_zip  0.000\n",
            "4                sp_name  0.000\n",
            "5             model_name  0.000\n",
            "6         exterior_color  0.000\n",
            "7              make_name  0.000\n",
            "8         interior_color  0.000\n",
            "9          listing_color  0.000\n",
            "10             body_type  0.451\n",
            "11          transmission  2.139\n",
            "12  transmission_display  2.139\n",
            "13           description  2.597\n",
            "14             fuel_type  2.757\n",
            "15           engine_type  3.353\n",
            "16  wheel_system_display  4.891\n",
            "17         major_options  6.668\n",
            "--------------------------------------------------\n",
            "\n",
            "\n",
            "Numerical Columns :\n",
            "\n",
            "1            daysonmarket   0.000\n",
            "2                    year   0.000\n",
            "3                latitude   0.000\n",
            "4               longitude   0.000\n",
            "5                   price   0.000\n",
            "6          savings_amount   0.000\n",
            "7           seller_rating   1.362\n",
            "8                 mileage   4.813\n",
            "9               wheelbase   5.323\n",
            "10                 height   5.324\n",
            "11                 length   5.324\n",
            "12                  width   5.325\n",
            "13        maximum_seating   5.326\n",
            "14       fuel_tank_volume   5.356\n",
            "15    engine_displacement   5.746\n",
            "16             horsepower   5.746\n",
            "17                legroom   8.091\n",
            "18  combined_fuel_economy  16.376\n",
            "19   highway_fuel_economy  16.376\n",
            "20      city_fuel_economy  16.376\n",
            "21                 torque  17.260\n",
            "--------------------------------------------------\n",
            "\n",
            "\n",
            "Boolean Columns :\n",
            "\n",
            "1  franchise_dealer  0.0\n",
            "2            is_new  0.0\n"
          ]
        }
      ],
      "source": [
        "from pyspark.sql import types as T\n",
        "from pyspark.sql import functions as F\n",
        "import pandas as pd\n",
        "\n",
        "# Function to classify columns based on their data types\n",
        "def classify_columns_by_dtype(df):\n",
        "    categorical_columns = []\n",
        "    numerical_columns = []\n",
        "    boolean_columns = []\n",
        "\n",
        "    for field in df.schema.fields:\n",
        "        # If the column is of type String, classify as categorical\n",
        "        if isinstance(field.dataType, T.StringType):\n",
        "            categorical_columns.append(field.name)\n",
        "        # If the column is of type Integer, Float, or Double, classify as numerical\n",
        "        elif isinstance(field.dataType, (T.IntegerType, T.FloatType, T.DoubleType)):\n",
        "            numerical_columns.append(field.name)\n",
        "        # If the column is of type Boolean, classify as boolean\n",
        "        elif isinstance(field.dataType, T.BooleanType):\n",
        "            boolean_columns.append(field.name)\n",
        "\n",
        "    return categorical_columns, numerical_columns, boolean_columns\n",
        "\n",
        "# Function to calculate null percentage for each column\n",
        "def calculate_null_percentage(df, columns):\n",
        "    total_rows = df.count()\n",
        "    null_percentage_dict = {}\n",
        "\n",
        "    for col in columns:\n",
        "        null_percentage = df.filter(F.col(col).isNull()).count() / total_rows * 100\n",
        "        null_percentage_dict[col] = round(null_percentage, 3)  # Round to 3 decimal places\n",
        "\n",
        "    return null_percentage_dict\n",
        "\n",
        "# Classifying the columns into categorical, numerical, and boolean\n",
        "categorical_columns, numerical_columns, boolean_columns = classify_columns_by_dtype(df)\n",
        "\n",
        "# Calculating null percentages for each group of columns\n",
        "categorical_nulls = calculate_null_percentage(df, categorical_columns)\n",
        "numerical_nulls = calculate_null_percentage(df, numerical_columns)\n",
        "boolean_nulls = calculate_null_percentage(df, boolean_columns)\n",
        "\n",
        "# Converting to pandas DataFrames and sort by null percentage in ascending order\n",
        "categorical_df = pd.DataFrame({\"Column\": list(categorical_nulls.keys()), \"Null_Percentage\": list(categorical_nulls.values())})\n",
        "numerical_df = pd.DataFrame({\"Column\": list(numerical_nulls.keys()), \"Null_Percentage\": list(numerical_nulls.values())})\n",
        "boolean_df = pd.DataFrame({\"Column\": list(boolean_nulls.keys()), \"Null_Percentage\": list(boolean_nulls.values())})\n",
        "\n",
        "# Sorting the DataFrames by Null_Percentage\n",
        "categorical_df = categorical_df.sort_values(by=\"Null_Percentage\").reset_index(drop=True)\n",
        "numerical_df = numerical_df.sort_values(by=\"Null_Percentage\").reset_index(drop=True)\n",
        "boolean_df = boolean_df.sort_values(by= \"Null_Percentage\").reset_index(drop=True)\n",
        "\n",
        "# Adjusting the index to start from 1 for display purposes\n",
        "categorical_df.index += 1\n",
        "numerical_df.index += 1\n",
        "boolean_df.index += 1\n",
        "\n",
        "# Printing the categorical columns table with null percentage\n",
        "print(\"Categorical Columns :\\n\")\n",
        "print(categorical_df.to_string(index=True, header=False))\n",
        "print(\"-\" * 50)\n",
        "\n",
        "# Printing the numerical columns table with null percentage\n",
        "print(\"\\n\\nNumerical Columns :\\n\")\n",
        "print(numerical_df.to_string(index=True, header=False))\n",
        "print(\"-\" * 50)\n",
        "\n",
        "# Printing the boolean columns table with null percentage\n",
        "print(\"\\n\\nBoolean Columns :\\n\")\n",
        "print(boolean_df.to_string(index=True, header=False))\n"
      ]
    },
    {
      "cell_type": "code",
      "execution_count": null,
      "id": "91cd0bf7",
      "metadata": {
        "colab": {
          "base_uri": "https://localhost:8080/"
        },
        "id": "91cd0bf7",
        "outputId": "5b948c75-3822-45e1-a3a5-362c1ad39a34"
      },
      "outputs": [
        {
          "name": "stdout",
          "output_type": "stream",
          "text": [
            "Categorical Columns with Non-Zero Null Percentages:\n",
            "\n",
            " Categorical_Columns  Null_Percentage\n",
            "       major_options            6.668\n",
            "wheel_system_display            4.891\n",
            "         engine_type            3.353\n",
            "           fuel_type            2.757\n",
            "         description            2.597\n",
            "        transmission            2.139\n",
            "transmission_display            2.139\n",
            "           body_type            0.451\n",
            "      interior_color            0.000\n",
            "--------------------------------------------------\n",
            "\n",
            "Numerical Columns with Non-Zero Null Percentages:\n",
            "\n",
            "    Numerical_Columns  Null_Percentage\n",
            "               torque           17.260\n",
            "    city_fuel_economy           16.376\n",
            " highway_fuel_economy           16.376\n",
            "combined_fuel_economy           16.376\n",
            "              legroom            8.091\n",
            "  engine_displacement            5.746\n",
            "           horsepower            5.746\n",
            "     fuel_tank_volume            5.356\n",
            "      maximum_seating            5.326\n",
            "                width            5.325\n",
            "               height            5.324\n",
            "               length            5.324\n",
            "            wheelbase            5.323\n",
            "              mileage            4.813\n",
            "        seller_rating            1.362\n"
          ]
        }
      ],
      "source": [
        "import pandas as pd\n",
        "from pyspark.sql import functions as F\n",
        "\n",
        "# Function to calculate null percentage for each column\n",
        "def calculate_null_percentage(df, columns):\n",
        "    total_rows = df.count()\n",
        "    null_percentage_dict = {}\n",
        "\n",
        "    for col in columns:\n",
        "        null_percentage = df.filter(F.col(col).isNull()).count() / total_rows * 100\n",
        "        if null_percentage > 0:  # Filter out columns with zero null percentage\n",
        "            null_percentage_dict[col] = round(null_percentage, 3)  # Round to 3 decimal places\n",
        "\n",
        "    return null_percentage_dict\n",
        "\n",
        "# Calculating non-zero null percentages for each group\n",
        "categorical_nulls = calculate_null_percentage(df, categorical_columns)\n",
        "numerical_nulls = calculate_null_percentage(df, numerical_columns)\n",
        "\n",
        "# Converting to pandas DataFrames for easy display\n",
        "categorical_df_non_zero = pd.DataFrame({\"Categorical_Columns\": list(categorical_nulls.keys()), \"Null_Percentage\": list(categorical_nulls.values())})\n",
        "numerical_df_non_zero = pd.DataFrame({\"Numerical_Columns\": list(numerical_nulls.keys()), \"Null_Percentage\": list(numerical_nulls.values())})\n",
        "\n",
        "# Sorting the DataFrames by 'Null_Percentage' in descending order\n",
        "categorical_df_non_zero = categorical_df_non_zero.sort_values(by=\"Null_Percentage\", ascending=False)\n",
        "numerical_df_non_zero = numerical_df_non_zero.sort_values(by=\"Null_Percentage\", ascending=False)\n",
        "\n",
        "# Displaying non-zero null percentage columns, sorted in descending order\n",
        "print(\"Categorical Columns with Non-Zero Null Percentages:\\n\")\n",
        "print(categorical_df_non_zero.to_string(index=False, header=True))\n",
        "print(\"-\" * 50)\n",
        "print(\"\\nNumerical Columns with Non-Zero Null Percentages:\\n\")\n",
        "print(numerical_df_non_zero.to_string(index=False, header=True))\n"
      ]
    },
    {
      "cell_type": "markdown",
      "id": "945ad7a3",
      "metadata": {
        "id": "945ad7a3"
      },
      "source": [
        "\n",
        "\n",
        "---\n",
        "\n"
      ]
    },
    {
      "cell_type": "markdown",
      "id": "7694966e",
      "metadata": {
        "id": "7694966e"
      },
      "source": [
        "### **Handling Numerical coloumns**"
      ]
    },
    {
      "cell_type": "markdown",
      "id": "69549946",
      "metadata": {
        "id": "69549946"
      },
      "source": [
        "#### **torque**"
      ]
    },
    {
      "cell_type": "code",
      "execution_count": null,
      "id": "ef4ba982",
      "metadata": {
        "colab": {
          "base_uri": "https://localhost:8080/",
          "height": 599
        },
        "id": "ef4ba982",
        "outputId": "a405639c-64da-41b4-d77d-77100187f616"
      },
      "outputs": [
        {
          "data": {
            "image/png": "[encoded data removed]",
            "text/plain": [
              "<Figure size 1000x600 with 1 Axes>"
            ]
          },
          "metadata": {},
          "output_type": "display_data"
        },
        {
          "name": "stdout",
          "output_type": "stream",
          "text": [
            "\n",
            "\n"
          ]
        }
      ],
      "source": [
        "import matplotlib.pyplot as plt\n",
        "import pandas as pd\n",
        "\n",
        "# Collecting the 'torque' column data from the Spark DataFrame into a Pandas DataFrame\n",
        "torque_pd_df = df.select(\"torque\").toPandas()\n",
        "\n",
        "# Dropping null values (if any) for plotting purposes\n",
        "torque_pd_df = torque_pd_df.dropna()\n",
        "\n",
        "# Plotting the distribution\n",
        "plt.figure(figsize=(10, 6))\n",
        "\n",
        "# Plotting histogram\n",
        "plt.hist(torque_pd_df['torque'], bins=20, edgecolor='black', alpha=0.7)\n",
        "plt.title('Torque Distribution')\n",
        "\n",
        "# Adding mode,median and mode\n",
        "mode = torque_pd_df['torque'].mode()[0]\n",
        "plt.axvline(mode, color='r', linestyle='dashed', linewidth=2, label=f'Mode: {mode:.2f}')\n",
        "median = torque_pd_df['torque'].median()\n",
        "plt.axvline(median, color='goldenrod', label=f'Median: {median:.2f}')\n",
        "mean = torque_pd_df['torque'].mean()\n",
        "plt.axvline(mean, color='darkgreen', label=f'Mean: {mean:.2f}')\n",
        "\n",
        "\n",
        "plt.legend()\n",
        "plt.xlabel('Torque')\n",
        "plt.ylabel('Frequency')\n",
        "\n",
        "\n",
        "plt.show()\n",
        "print(\"\\n\")"
      ]
    },
    {
      "cell_type": "code",
      "execution_count": null,
      "id": "a880c3db",
      "metadata": {
        "colab": {
          "base_uri": "https://localhost:8080/"
        },
        "id": "a880c3db",
        "outputId": "854ef192-cc72-4536-b75b-4b9d248364de"
      },
      "outputs": [
        {
          "name": "stdout",
          "output_type": "stream",
          "text": [
            "Null values in 'torque' column BEFORE handling: 17.26 %.\n",
            "Null values in 'torque' column AFTER handling (replacing null values with mean): 0.0 %.\n"
          ]
        }
      ],
      "source": [
        "from pyspark.sql import functions as F\n",
        "\n",
        "# Calculating the total number of rows in the DataFrame\n",
        "total_rows = df.count()\n",
        "\n",
        "# Calculating the percentage of null values in the 'legroom' column before handling nulls\n",
        "null_percentage_before = df.filter(F.col('torque').isNull()).count() / total_rows * 100\n",
        "print(f\"Null values in 'torque' column BEFORE handling: {round(null_percentage_before, 2)} %.\")\n",
        "\n",
        "# Calculating the mean of the 'torque' column\n",
        "mean_torque = round(df.select(F.mean(F.col('torque'))).first()[0], 2)\n",
        "\n",
        "# Filling null values in the 'torque' column with the calculated mean\n",
        "df = df.fillna({'torque': mean_torque})\n",
        "\n",
        "# Checking the result - Calculate the percentage of remaining null values\n",
        "null_percentage = df.filter(F.col('torque').isNull()).count() / df.count() * 100\n",
        "\n",
        "# Printing the result\n",
        "print(f\"Null values in 'torque' column AFTER handling (replacing null values with mean): {round(null_percentage, 3)} %.\")\n"
      ]
    },
    {
      "cell_type": "markdown",
      "id": "7cf5622c",
      "metadata": {
        "id": "7cf5622c"
      },
      "source": [
        "I chose to replace the missing values in the torque column with the mean (265.22) because the mean, median, and mode are closely aligned, indicating a roughly symmetric distribution. Using the mean helps preserve the overall structure of the data while preventing data loss. Since the distribution isn’t heavily skewed, mean imputation is an appropriate method that minimizes bias and ensures consistency across the dataset."
      ]
    },
    {
      "cell_type": "markdown",
      "id": "d192a718",
      "metadata": {
        "id": "d192a718"
      },
      "source": [
        "#### **Fuel Economy rows**"
      ]
    },
    {
      "cell_type": "code",
      "execution_count": null,
      "id": "68cca8fa",
      "metadata": {
        "colab": {
          "base_uri": "https://localhost:8080/"
        },
        "id": "68cca8fa",
        "outputId": "cb3bd54b-4ade-4e8b-86ce-bbf895474745"
      },
      "outputs": [
        {
          "name": "stdout",
          "output_type": "stream",
          "text": [
            "Null values in 'city_fuel_economy' column BEFORE handling: 16.38 %.\n",
            "Null values in 'highway_fuel_economy' column BEFORE handling: 16.38 %.\n",
            "Null values in 'combined_fuel_economy' column BEFORE handling: 16.38 %.\n"
          ]
        }
      ],
      "source": [
        "from pyspark.sql import functions as F\n",
        "\n",
        "# Calculating the total number of rows in the DataFrame\n",
        "total_rows = df.count()\n",
        "\n",
        "# Calculating the percentage of null values for each column\n",
        "city_fuel_economy_null_percentage = df.filter(F.col(\"city_fuel_economy\").isNull()).count() / total_rows * 100\n",
        "highway_fuel_economy_null_percentage = df.filter(F.col(\"highway_fuel_economy\").isNull()).count() / total_rows * 100\n",
        "combined_fuel_economy_null_percentage = df.filter(F.col(\"combined_fuel_economy\").isNull()).count() / total_rows * 100\n",
        "\n",
        "# Printing the percentages rounded to 2 decimal places\n",
        "print(f\"Null values in 'city_fuel_economy' column BEFORE handling: {round(city_fuel_economy_null_percentage, 2)} %.\")\n",
        "print(f\"Null values in 'highway_fuel_economy' column BEFORE handling: {round(highway_fuel_economy_null_percentage, 2)} %.\")\n",
        "print(f\"Null values in 'combined_fuel_economy' column BEFORE handling: {round(combined_fuel_economy_null_percentage, 2)} %.\")\n"
      ]
    },
    {
      "cell_type": "code",
      "execution_count": null,
      "id": "acc9472f",
      "metadata": {
        "colab": {
          "base_uri": "https://localhost:8080/",
          "height": 299
        },
        "id": "acc9472f",
        "outputId": "0933e01d-e1c6-44e4-c7a3-dec0466ad4d0"
      },
      "outputs": [
        {
          "data": {
            "image/png": "[encoded data removed]",
            "text/plain": [
              "<Figure size 1500x500 with 3 Axes>"
            ]
          },
          "metadata": {},
          "output_type": "display_data"
        }
      ],
      "source": [
        "import matplotlib.pyplot as plt\n",
        "\n",
        "# Converting the relevant columns to a Pandas DataFrame\n",
        "fuel_economy_pd_df = df.select(\"city_fuel_economy\", \"highway_fuel_economy\", \"combined_fuel_economy\").toPandas()\n",
        "\n",
        "# Dropping null values (if any)\n",
        "fuel_economy_pd_df = fuel_economy_pd_df.dropna()\n",
        "\n",
        "# Defining a function to plot the distribution for each column on subplots\n",
        "def plot_fuel_economy_distributions(data):\n",
        "    fig, axes = plt.subplots(1, 3, figsize=(15, 5))  # 1 row, 3 columns\n",
        "\n",
        "    # Titles for the charts\n",
        "    titles = [\"City Fuel Economy\", \"Highway Fuel Economy\", \"Combined Fuel Economy\"]\n",
        "\n",
        "    # Columns to plot\n",
        "    columns = [\"city_fuel_economy\", \"highway_fuel_economy\", \"combined_fuel_economy\"]\n",
        "\n",
        "    for i, col in enumerate(columns):\n",
        "        axes[i].hist(data[col], bins=20, edgecolor='black', alpha=0.7)\n",
        "        axes[i].set_title(f'{titles[i]} Distribution')\n",
        "\n",
        "        # Add mode,median and mean\n",
        "        mode = data[col].mode()[0]\n",
        "        axes[i].axvline(mode, color='r', linestyle='dashed', linewidth=2, label=f'Mode: {mode:.2f}')\n",
        "        median = data[col].median()\n",
        "        axes[i].axvline(median, color='goldenrod', label=f'Median: {median:.2f}')\n",
        "        mean = data[col].mean()\n",
        "        axes[i].axvline(mean, color='darkgreen', label=f'Mean: {mean:.2f}')\n",
        "\n",
        "        # Add labels and legend\n",
        "        axes[i].set_xlabel(titles[i])\n",
        "        axes[i].set_ylabel('Frequency')\n",
        "        axes[i].legend()\n",
        "\n",
        "    # Adjust layout\n",
        "    plt.tight_layout()\n",
        "    plt.show()\n",
        "\n",
        "# Plot all 3 distributions horizontally\n",
        "plot_fuel_economy_distributions(fuel_economy_pd_df)"
      ]
    },
    {
      "cell_type": "code",
      "execution_count": null,
      "id": "baeda08d",
      "metadata": {
        "colab": {
          "base_uri": "https://localhost:8080/"
        },
        "id": "baeda08d",
        "outputId": "b0278b76-2964-4081-b249-2b099d19df44"
      },
      "outputs": [
        {
          "name": "stdout",
          "output_type": "stream",
          "text": [
            "After repalcing null values with mean...\n",
            "\n",
            "Null values in 'city_fuel_economy' column AFTER handling: 0.0 %.\n",
            "Null values in 'highway_fuel_economy' column AFTER handling: 0.0 %.\n",
            "Null values in 'combined_fuel_economy' column AFTER handling: 0.0 %.\n"
          ]
        }
      ],
      "source": [
        "from pyspark.sql import functions as F\n",
        "\n",
        "# Calculating the total number of rows in the DataFrame\n",
        "total_rows = df.count()\n",
        "\n",
        "# Calculating the mean for each column\n",
        "mean_city_fuel_economy = round(df.select(F.mean(F.col('city_fuel_economy'))).first()[0], 2)\n",
        "mean_highway_fuel_economy = round(df.select(F.mean(F.col('highway_fuel_economy'))).first()[0], 2)\n",
        "mean_combined_fuel_economy = round(df.select(F.mean(F.col('combined_fuel_economy'))).first()[0], 2)\n",
        "\n",
        "# ing null values in each column with the respective mean value\n",
        "df = df.fillna({\n",
        "    'city_fuel_economy': mean_city_fuel_economy,\n",
        "    'highway_fuel_economy': mean_highway_fuel_economy,\n",
        "    'combined_fuel_economy': mean_combined_fuel_economy\n",
        "})\n",
        "\n",
        "print(\"After repalcing null values with mean...\\n\")\n",
        "\n",
        "# Calculating the percentage of null values for each fuel economy column\n",
        "city_fuel_economy_null_percentage = df.filter(F.col(\"city_fuel_economy\").isNull()).count() / total_rows * 100\n",
        "highway_fuel_economy_null_percentage = df.filter(F.col(\"highway_fuel_economy\").isNull()).count() / total_rows * 100\n",
        "combined_fuel_economy_null_percentage = df.filter(F.col(\"combined_fuel_economy\").isNull()).count() / total_rows * 100\n",
        "\n",
        "# Printing the result for each column, rounded to 2 decimal places\n",
        "print(f\"Null values in 'city_fuel_economy' column AFTER handling: {round(city_fuel_economy_null_percentage, 3)} %.\")\n",
        "print(f\"Null values in 'highway_fuel_economy' column AFTER handling: {round(highway_fuel_economy_null_percentage, 3)} %.\")\n",
        "print(f\"Null values in 'combined_fuel_economy' column AFTER handling: {round(combined_fuel_economy_null_percentage, 3)} %.\")\n"
      ]
    },
    {
      "cell_type": "markdown",
      "id": "bf0c3509",
      "metadata": {
        "id": "bf0c3509"
      },
      "source": [
        "I chose to replace the missing values in the `city_fuel_economy`, `highway_fuel_economy`, and `combined_fuel_economy` columns with the **mean** because the mean provides a measure of central tendency that reflects the overall distribution of the data. While there is a slight skew in the distributions, the differences between the mean, median, and mode are minimal, indicating that the mean is still representative of the data. Using the mean ensures consistency across the dataset and is particularly suitable when all values, including potential outliers, need to be accounted for in the analysis."
      ]
    },
    {
      "cell_type": "markdown",
      "id": "6320f987",
      "metadata": {
        "id": "6320f987"
      },
      "source": [
        "#### **legroom**"
      ]
    },
    {
      "cell_type": "code",
      "execution_count": null,
      "id": "0eb206af",
      "metadata": {
        "colab": {
          "base_uri": "https://localhost:8080/",
          "height": 564
        },
        "id": "0eb206af",
        "outputId": "af80b495-574e-49f9-faa4-6a1cddc298d8"
      },
      "outputs": [
        {
          "data": {
            "image/png": "[encoded data removed]",
            "text/plain": [
              "<Figure size 1000x600 with 1 Axes>"
            ]
          },
          "metadata": {},
          "output_type": "display_data"
        }
      ],
      "source": [
        "import matplotlib.pyplot as plt\n",
        "import pandas as pd\n",
        "\n",
        "# Collecting the 'legroom' column data from the Spark DataFrame into a Pandas DataFrame\n",
        "legroom_pd_df = df.select(\"legroom\").toPandas()\n",
        "\n",
        "# Dropping null values (if any) for plotting purposes\n",
        "legroom_pd_df = legroom_pd_df.dropna()\n",
        "\n",
        "# Plotting the distribution\n",
        "plt.figure(figsize=(10, 6))\n",
        "\n",
        "# Plotting histogram\n",
        "plt.hist(legroom_pd_df['legroom'], bins=20, edgecolor='black', alpha=0.7)\n",
        "plt.title('Legroom Distribution')\n",
        "\n",
        "# Adding mean,median and mode to the plot\n",
        "mode = legroom_pd_df['legroom'].mode()[0]\n",
        "plt.axvline(mode, color='r', linestyle='dashed', linewidth=2, label=f'Mode: {mode:.2f}')\n",
        "median = legroom_pd_df['legroom'].median()\n",
        "plt.axvline(median, color='goldenrod', label=f'Median: {median:.2f}')\n",
        "mean = legroom_pd_df['legroom'].mean()\n",
        "plt.axvline(mean, color='darkgreen', label=f'Mean: {mean:.2f}')\n",
        "\n",
        "plt.legend()\n",
        "plt.xlabel('Legroom')\n",
        "plt.ylabel('Frequency')\n",
        "\n",
        "plt.show()"
      ]
    },
    {
      "cell_type": "code",
      "execution_count": null,
      "id": "3e0bb97b",
      "metadata": {
        "colab": {
          "base_uri": "https://localhost:8080/"
        },
        "id": "3e0bb97b",
        "outputId": "7ffa292f-6f37-47a6-b456-fc13eda5a9d1"
      },
      "outputs": [
        {
          "name": "stdout",
          "output_type": "stream",
          "text": [
            "Null values in 'legroom' column BEFORE handling: 8.09 %.\n",
            "Null values in 'legroom' column AFTER handling (replacing null values with mean): 0.0 %.\n"
          ]
        }
      ],
      "source": [
        "from pyspark.sql import functions as F\n",
        "\n",
        "# Calculating the total number of rows in the DataFrame\n",
        "total_rows = df.count()\n",
        "\n",
        "# Calculating the percentage of null values in the 'legroom' column before handling nulls\n",
        "null_percentage_before = df.filter(F.col('legroom').isNull()).count() / total_rows * 100\n",
        "print(f\"Null values in 'legroom' column BEFORE handling: {round(null_percentage_before, 2)} %.\")\n",
        "\n",
        "# Calculating the mean of the 'legroom' column\n",
        "mean_legroom = round(df.select(F.mean(F.col('legroom'))).first()[0],2)\n",
        "\n",
        "# Filling null values in the 'legroom' column with the calculated mean\n",
        "df = df.fillna({'legroom': mean_legroom})\n",
        "\n",
        "# Calculating the percentage of remaining null values in the 'legroom' column after filling\n",
        "null_percentage_after = df.filter(F.col('legroom').isNull()).count() / total_rows * 100\n",
        "print(f\"Null values in 'legroom' column AFTER handling (replacing null values with mean): {round(null_percentage_after, 2)} %.\")\n"
      ]
    },
    {
      "cell_type": "markdown",
      "id": "98c10a2b",
      "metadata": {
        "id": "98c10a2b"
      },
      "source": [
        "#### **fuel_tank_volume**"
      ]
    },
    {
      "cell_type": "code",
      "execution_count": null,
      "id": "8ad34767",
      "metadata": {
        "colab": {
          "base_uri": "https://localhost:8080/"
        },
        "id": "8ad34767",
        "outputId": "48436e74-c83c-437f-a200-6f16ee598c23"
      },
      "outputs": [
        {
          "name": "stdout",
          "output_type": "stream",
          "text": [
            "The number of unique fuel_tank_volume values is: 182\n"
          ]
        }
      ],
      "source": [
        "# Counting the number of unique 'fuel_tank_volume' values\n",
        "unique_fuel_tank_volume_count = df.select(\"fuel_tank_volume\").distinct().count()\n",
        "\n",
        "print(f\"The number of unique fuel_tank_volume values is: {unique_fuel_tank_volume_count}\")\n"
      ]
    },
    {
      "cell_type": "markdown",
      "id": "3fce57a8",
      "metadata": {
        "id": "3fce57a8"
      },
      "source": [
        "Given that the fuel tank size is measured in the fuel_tank_volume column, what about the fuel tank size of electric vehicles?"
      ]
    },
    {
      "cell_type": "code",
      "execution_count": null,
      "id": "b458f1c3",
      "metadata": {
        "colab": {
          "base_uri": "https://localhost:8080/"
        },
        "id": "b458f1c3",
        "outputId": "542dce9a-1290-4aac-b222-51bbdb4cb3a8"
      },
      "outputs": [
        {
          "name": "stdout",
          "output_type": "stream",
          "text": [
            "+----------------+---------+\n",
            "|fuel_tank_volume|fuel_type|\n",
            "+----------------+---------+\n",
            "|NULL            |Electric |\n",
            "|NULL            |Electric |\n",
            "|NULL            |Electric |\n",
            "|NULL            |Electric |\n",
            "|NULL            |Electric |\n",
            "|NULL            |Electric |\n",
            "|NULL            |Electric |\n",
            "|NULL            |Electric |\n",
            "|NULL            |Electric |\n",
            "|NULL            |Electric |\n",
            "|NULL            |Electric |\n",
            "|NULL            |Electric |\n",
            "|NULL            |Electric |\n",
            "|NULL            |Electric |\n",
            "|NULL            |Electric |\n",
            "|NULL            |Electric |\n",
            "|NULL            |Electric |\n",
            "|NULL            |Electric |\n",
            "|NULL            |Electric |\n",
            "|NULL            |Electric |\n",
            "+----------------+---------+\n",
            "only showing top 20 rows\n",
            "\n"
          ]
        }
      ],
      "source": [
        "# Filtering rows where 'fuel_type' is 'Electric' and select 'fuel_tank_volume' and 'fuel_type'\n",
        "electric_fuel_tank_volume = df.filter(F.col(\"fuel_type\") == \"Electric\") \\\n",
        "    .select(\"fuel_tank_volume\", \"fuel_type\")\n",
        "\n",
        "electric_fuel_tank_volume.show(truncate=False)\n"
      ]
    },
    {
      "cell_type": "markdown",
      "id": "869062e6",
      "metadata": {
        "id": "869062e6"
      },
      "source": [
        "From the results,the fuel tank volume of the electric vehicles is null. We can fill in the null values with 0."
      ]
    },
    {
      "cell_type": "code",
      "execution_count": null,
      "id": "1c68ebad",
      "metadata": {
        "colab": {
          "base_uri": "https://localhost:8080/"
        },
        "id": "1c68ebad",
        "outputId": "07e78276-dff5-4f09-a224-131f1284143c"
      },
      "outputs": [
        {
          "name": "stdout",
          "output_type": "stream",
          "text": [
            "Null values in 'fuel_tank_volume' column (AFTER handling them for Electric cars): 4.81 %.\n"
          ]
        }
      ],
      "source": [
        "from pyspark.sql import functions as F\n",
        "from pyspark.sql import DataFrame\n",
        "\n",
        "# Calculating the total number of rows in the DataFrame\n",
        "total_rows = df.count()\n",
        "\n",
        "# Filtering rows where 'fuel_type' is 'Electric' and 'fuel_tank_volume' is null, then updating 'fuel_tank_volume' to 0\n",
        "df = df.withColumn(\n",
        "    'fuel_tank_volume',\n",
        "    F.when((F.col('fuel_type') == 'Electric') & F.col('fuel_tank_volume').isNull(), 0)\n",
        "    .otherwise(F.col('fuel_tank_volume'))\n",
        ")\n",
        "\n",
        "# Calculating the percentage of remaining null values in 'fuel_tank_volume' after the update\n",
        "null_percentage = df.filter(F.col('fuel_tank_volume').isNull()).count() / total_rows * 100\n",
        "\n",
        "print(f\"Null values in 'fuel_tank_volume' column (AFTER handling them for Electric cars): {round(null_percentage, 2)} %.\")\n"
      ]
    },
    {
      "cell_type": "markdown",
      "id": "9c02e5a2",
      "metadata": {
        "id": "9c02e5a2"
      },
      "source": [
        "We will `fill in the rest` of the null values with the `mean` value of the fuel tank volume."
      ]
    },
    {
      "cell_type": "code",
      "execution_count": null,
      "id": "492bf63e",
      "metadata": {
        "colab": {
          "base_uri": "https://localhost:8080/"
        },
        "id": "492bf63e",
        "outputId": "d518b1a9-2574-4b6c-e632-3f12e86137b6"
      },
      "outputs": [
        {
          "name": "stdout",
          "output_type": "stream",
          "text": [
            "Null values in 'fuel_tank_volume' column AFTER handling (replacing null values with mean of respective 'fuel_type'): 1.67 %.\n"
          ]
        }
      ],
      "source": [
        "from pyspark.sql import functions as F\n",
        "\n",
        "# Calculating the total number of rows in the DataFrame\n",
        "total_rows = df.count()\n",
        "\n",
        "# Calculating the mean 'fuel_tank_volume' for each 'fuel_type' and rounding to 2 decimal places\n",
        "mean_fuel_tank_volume_by_type = df.groupBy(\"fuel_type\").agg(F.round(F.mean(\"fuel_tank_volume\"), 2).alias(\"mean_fuel_tank_volume\"))\n",
        "\n",
        "# Joining the mean back to the original DataFrame\n",
        "df_with_mean = df.join(mean_fuel_tank_volume_by_type, on=\"fuel_type\", how=\"left\")\n",
        "\n",
        "# Filling null values in 'fuel_tank_volume' with the respective mean based on 'fuel_type'\n",
        "df = df_with_mean.withColumn(\n",
        "    'fuel_tank_volume',\n",
        "    F.when(F.col('fuel_tank_volume').isNull(), F.col('mean_fuel_tank_volume'))\n",
        "    .otherwise(F.col('fuel_tank_volume'))\n",
        ").drop('mean_fuel_tank_volume')  # Drop the extra column after filling\n",
        "\n",
        "# Calculating the percentage of remaining null values in 'fuel_tank_volume' after filling\n",
        "null_percentage = df.filter(F.col('fuel_tank_volume').isNull()).count() / total_rows * 100\n",
        "\n",
        "print(f\"Null values in 'fuel_tank_volume' column AFTER handling (replacing null values with mean of respective 'fuel_type'): {round(null_percentage, 2)} %.\")\n"
      ]
    },
    {
      "cell_type": "code",
      "execution_count": null,
      "id": "3c38d574",
      "metadata": {
        "colab": {
          "base_uri": "https://localhost:8080/"
        },
        "id": "3c38d574",
        "outputId": "6beaf577-08a5-4038-eddc-0f0b44a721af"
      },
      "outputs": [
        {
          "name": "stdout",
          "output_type": "stream",
          "text": [
            "+----------------+---------+\n",
            "|fuel_tank_volume|fuel_type|\n",
            "+----------------+---------+\n",
            "|NULL            |NULL     |\n",
            "|NULL            |NULL     |\n",
            "|NULL            |NULL     |\n",
            "|NULL            |NULL     |\n",
            "|NULL            |NULL     |\n",
            "|NULL            |NULL     |\n",
            "|NULL            |NULL     |\n",
            "|NULL            |NULL     |\n",
            "|NULL            |NULL     |\n",
            "|NULL            |NULL     |\n",
            "|NULL            |NULL     |\n",
            "|NULL            |NULL     |\n",
            "|NULL            |NULL     |\n",
            "|NULL            |NULL     |\n",
            "|NULL            |NULL     |\n",
            "|NULL            |NULL     |\n",
            "|NULL            |NULL     |\n",
            "|NULL            |NULL     |\n",
            "|NULL            |NULL     |\n",
            "|NULL            |NULL     |\n",
            "+----------------+---------+\n",
            "only showing top 20 rows\n",
            "\n"
          ]
        }
      ],
      "source": [
        "from pyspark.sql import functions as F\n",
        "\n",
        "# Calculating the mean 'fuel_tank_volume' for each 'fuel_type'\n",
        "mean_fuel_tank_volume_by_type = df.groupBy(\"fuel_type\").agg(F.mean(\"fuel_tank_volume\").alias(\"mean_fuel_tank_volume\"))\n",
        "\n",
        "# Joining the mean back to the original DataFrame\n",
        "df_with_mean = df.join(mean_fuel_tank_volume_by_type, on=\"fuel_type\", how=\"left\")\n",
        "\n",
        "# Filling null values in 'fuel_tank_volume' with the respective mean based on 'fuel_type'\n",
        "df = df_with_mean.withColumn(\n",
        "    'fuel_tank_volume',\n",
        "    F.when(F.col('fuel_tank_volume').isNull(), F.col('mean_fuel_tank_volume'))\n",
        "    .otherwise(F.col('fuel_tank_volume'))\n",
        ").drop('mean_fuel_tank_volume')  # Drop the extra column after filling\n",
        "\n",
        "# Displaying rows where 'fuel_tank_volume' is still null, showing 'fuel_tank_volume' and 'fuel_type'\n",
        "df.filter(F.col('fuel_tank_volume').isNull()).select(\"fuel_tank_volume\", \"fuel_type\").show(truncate=False)\n"
      ]
    },
    {
      "cell_type": "markdown",
      "id": "0af9fbe7",
      "metadata": {
        "id": "0af9fbe7"
      },
      "source": [
        "**Looks like we have to handle null values in `fuel_type` first, before we handle them in `fuel_tank_volume`**"
      ]
    },
    {
      "cell_type": "markdown",
      "id": "19739d41",
      "metadata": {
        "id": "19739d41"
      },
      "source": [
        "\n",
        "\n",
        "---\n",
        "\n"
      ]
    },
    {
      "cell_type": "markdown",
      "id": "38dd8b05",
      "metadata": {
        "id": "38dd8b05"
      },
      "source": [
        "#### **fuel_type**"
      ]
    },
    {
      "cell_type": "code",
      "execution_count": null,
      "id": "66d2bdbb",
      "metadata": {
        "colab": {
          "base_uri": "https://localhost:8080/"
        },
        "id": "66d2bdbb",
        "outputId": "fe3bc8b1-fc0c-4d90-f42b-3b70a4376916"
      },
      "outputs": [
        {
          "name": "stdout",
          "output_type": "stream",
          "text": [
            "+----------------------+-------+----------+\n",
            "|fuel_type             |count  |percentage|\n",
            "+----------------------+-------+----------+\n",
            "|Gasoline              |2598436|86.61     |\n",
            "|Flex Fuel Vehicle     |155993 |5.2       |\n",
            "|NULL                  |82724  |2.76      |\n",
            "|Hybrid                |76012  |2.53      |\n",
            "|Diesel                |44452  |1.48      |\n",
            "|Biodiesel             |25855  |0.86      |\n",
            "|Electric              |16416  |0.55      |\n",
            "|Compressed Natural Gas|146    |0.0       |\n",
            "|Propane               |6      |0.0       |\n",
            "+----------------------+-------+----------+\n",
            "\n"
          ]
        }
      ],
      "source": [
        "from pyspark.sql import functions as F\n",
        "from pyspark.sql.window import Window\n",
        "\n",
        "# Calculating the total number of rows in the DataFrame\n",
        "total_rows = df.count()\n",
        "\n",
        "# Defining a window to compute the total count\n",
        "window_spec = Window.rowsBetween(Window.unboundedPreceding, Window.unboundedFollowing)\n",
        "\n",
        "# Grouping by 'fuel_type' and count the number of occurrences\n",
        "fuel_type_counts = df.groupBy(\"fuel_type\").count()\n",
        "\n",
        "# Calculating the percentage representation of each fuel type and round the result to 2 decimal places\n",
        "fuel_type_counts = fuel_type_counts.withColumn(\n",
        "    \"percentage\",\n",
        "    F.round((F.col(\"count\") / F.sum(\"count\").over(window_spec)) * 100, 2)\n",
        ")\n",
        "\n",
        "# Showing the unique fuel types and their representation (count and percentage)\n",
        "fuel_type_counts.orderBy(\"count\", ascending=False).show(truncate=False)\n"
      ]
    },
    {
      "cell_type": "code",
      "execution_count": null,
      "id": "80385ec9",
      "metadata": {
        "colab": {
          "base_uri": "https://localhost:8080/"
        },
        "id": "80385ec9",
        "outputId": "2d92c412-d8c1-42b5-b973-b6058579563a"
      },
      "outputs": [
        {
          "name": "stdout",
          "output_type": "stream",
          "text": [
            "+---------+----------------+-----------+----------+------------------+\n",
            "|fuel_type|fuel_tank_volume|engine_type|make_name |model_name        |\n",
            "+---------+----------------+-----------+----------+------------------+\n",
            "|NULL     |NULL            |NULL       |Ford      |Econoline Wagon   |\n",
            "|NULL     |NULL            |NULL       |Nissan    |Frontier          |\n",
            "|NULL     |31.0            |NULL       |GMC       |Yukon XL          |\n",
            "|NULL     |21.5            |NULL       |Jeep      |Wrangler Unlimited|\n",
            "|NULL     |13.2            |NULL       |Nissan    |Sentra            |\n",
            "|NULL     |NULL            |NULL       |Subaru    |Ascent            |\n",
            "|NULL     |NULL            |NULL       |Chevrolet |Corvette          |\n",
            "|NULL     |26.0            |NULL       |Chevrolet |Silverado 1500    |\n",
            "|NULL     |18.6            |NULL       |Ford      |Explorer          |\n",
            "|NULL     |NULL            |NULL       |Subaru    |Outback           |\n",
            "|NULL     |26.0            |NULL       |RAM       |1500              |\n",
            "|NULL     |NULL            |NULL       |Hyundai   |Palisade          |\n",
            "|NULL     |16.2            |NULL       |Lincoln   |Corsair           |\n",
            "|NULL     |NULL            |NULL       |GMC       |Acadia            |\n",
            "|NULL     |26.0            |NULL       |Ford      |F-150             |\n",
            "|NULL     |16.5            |NULL       |Ford      |Fusion            |\n",
            "|NULL     |NULL            |NULL       |Chevrolet |Express           |\n",
            "|NULL     |NULL            |NULL       |Hyundai   |Sonata            |\n",
            "|NULL     |NULL            |NULL       |Kia       |Forte             |\n",
            "|NULL     |NULL            |NULL       |Volkswagen|Jetta             |\n",
            "+---------+----------------+-----------+----------+------------------+\n",
            "only showing top 20 rows\n",
            "\n"
          ]
        }
      ],
      "source": [
        "# Filtering rows where 'fuel_type' is null\n",
        "null_fuel_type_rows = df.filter(F.col('fuel_type').isNull())\n",
        "\n",
        "# Selecting the relevant columns ('fuel_type', 'fuel_tank_volume', 'engine_type', 'make_name', 'model_name')\n",
        "null_fuel_type_rows.select(\"fuel_type\", \"fuel_tank_volume\", \"engine_type\", \"make_name\", \"model_name\").show(truncate=False)\n"
      ]
    },
    {
      "cell_type": "markdown",
      "id": "bf6b8151",
      "metadata": {
        "id": "bf6b8151"
      },
      "source": [
        "Majority Class Imputation: Since `Gasoline` is the most frequent fuel type, filling missing values with the most common category helps to maintain consistency in the dataset without introducing extreme bias."
      ]
    },
    {
      "cell_type": "code",
      "execution_count": null,
      "id": "cc45f89f",
      "metadata": {
        "colab": {
          "base_uri": "https://localhost:8080/"
        },
        "id": "cc45f89f",
        "outputId": "75b06afb-4dad-49d6-86bd-db4e01914472"
      },
      "outputs": [
        {
          "name": "stdout",
          "output_type": "stream",
          "text": [
            "Null values in 'fuel_type' column BEFORE handling: 2.76 %.\n",
            "Null values in 'fuel_type' column AFTER handling: 0.0 %.\n"
          ]
        }
      ],
      "source": [
        "from pyspark.sql import functions as F\n",
        "\n",
        "# Calculating the total number of rows in the DataFrame\n",
        "total_rows = df.count()\n",
        "\n",
        "# Calculating the percentage of null values in the 'fuel_type' column before handling nulls\n",
        "null_percentage_before = df.filter(F.col('fuel_type').isNull()).count() / total_rows * 100\n",
        "print(f\"Null values in 'fuel_type' column BEFORE handling: {round(null_percentage_before, 2)} %.\")\n",
        "\n",
        "# Replacing NULL values in 'fuel_type' with 'Gasoline' where 'fuel_type' is NULL\n",
        "df = df.withColumn(\n",
        "    'fuel_type',\n",
        "    F.when(F.col('fuel_type').isNull(), 'Gasoline')\n",
        "    .otherwise(F.col('fuel_type'))\n",
        ")\n",
        "\n",
        "# Calculating the percentage of remaining null values in the 'fuel_type' column after filling\n",
        "null_percentage_after = df.filter(F.col('fuel_type').isNull()).count() / total_rows * 100\n",
        "print(f\"Null values in 'fuel_type' column AFTER handling: {round(null_percentage_after, 2)} %.\")\n"
      ]
    },
    {
      "cell_type": "markdown",
      "id": "84f4e04e",
      "metadata": {
        "id": "84f4e04e"
      },
      "source": [
        "\n",
        "\n",
        "---\n",
        "\n"
      ]
    },
    {
      "cell_type": "markdown",
      "id": "830b5052",
      "metadata": {
        "id": "830b5052"
      },
      "source": [
        "Now that the missing values in the `fuel_type` column have been successfully filled, let's revisit the `fuel_tank_volume` column to determine if we can address the remaining null values and fill them in appropriately."
      ]
    },
    {
      "cell_type": "code",
      "execution_count": null,
      "id": "6e3a1728",
      "metadata": {
        "colab": {
          "base_uri": "https://localhost:8080/"
        },
        "id": "6e3a1728",
        "outputId": "06254963-1abc-4776-da25-fd87f76f1646"
      },
      "outputs": [
        {
          "name": "stdout",
          "output_type": "stream",
          "text": [
            "+----------------+---------+\n",
            "|fuel_tank_volume|fuel_type|\n",
            "+----------------+---------+\n",
            "|NULL            |Gasoline |\n",
            "|NULL            |Gasoline |\n",
            "|NULL            |Gasoline |\n",
            "|NULL            |Gasoline |\n",
            "|NULL            |Gasoline |\n",
            "|NULL            |Gasoline |\n",
            "|NULL            |Gasoline |\n",
            "|NULL            |Gasoline |\n",
            "|NULL            |Gasoline |\n",
            "|NULL            |Gasoline |\n",
            "|NULL            |Gasoline |\n",
            "|NULL            |Gasoline |\n",
            "|NULL            |Gasoline |\n",
            "|NULL            |Gasoline |\n",
            "|NULL            |Gasoline |\n",
            "|NULL            |Gasoline |\n",
            "|NULL            |Gasoline |\n",
            "|NULL            |Gasoline |\n",
            "|NULL            |Gasoline |\n",
            "|NULL            |Gasoline |\n",
            "+----------------+---------+\n",
            "only showing top 20 rows\n",
            "\n"
          ]
        }
      ],
      "source": [
        "from pyspark.sql import functions as F\n",
        "\n",
        "# Displaying rows where 'fuel_tank_volume' is NULL along with 'fuel_type'\n",
        "null_fuel_tank_volume_rows = df.filter(F.col('fuel_tank_volume').isNull()) \\\n",
        "    .select('fuel_tank_volume', 'fuel_type')\n",
        "\n",
        "null_fuel_tank_volume_rows.show(truncate=False)\n"
      ]
    },
    {
      "cell_type": "code",
      "execution_count": null,
      "id": "cb5882fa",
      "metadata": {
        "colab": {
          "base_uri": "https://localhost:8080/"
        },
        "id": "cb5882fa",
        "outputId": "596c2613-9b8e-4cb6-f095-4eff9fc85bf4"
      },
      "outputs": [
        {
          "name": "stdout",
          "output_type": "stream",
          "text": [
            "{'Biodiesel': 37.07, 'Gasoline': 18.09, 'Diesel': 27.86, 'Flex Fuel Vehicle': 24.74, 'Hybrid': 13.55, 'Propane': 25.83, 'Electric': 0.0, 'Compressed Natural Gas': 23.92}\n"
          ]
        }
      ],
      "source": [
        "# Calculating the mean 'fuel_tank_volume' for each 'fuel_type' and collect the results\n",
        "mean_fuel_tank_volume_by_type = df.groupBy(\"fuel_type\").agg(F.mean(\"fuel_tank_volume\").alias(\"mean_fuel_tank_volume\")).collect()\n",
        "\n",
        "# Converting the results to a dictionary for easy lookup and round the values to two decimal places\n",
        "mean_fuel_tank_volume_dict = {row['fuel_type']: round(row['mean_fuel_tank_volume'], 2) for row in mean_fuel_tank_volume_by_type}\n",
        "print(mean_fuel_tank_volume_dict)\n"
      ]
    },
    {
      "cell_type": "code",
      "execution_count": null,
      "id": "73d7d8d6",
      "metadata": {
        "id": "73d7d8d6"
      },
      "outputs": [],
      "source": [
        "from pyspark.sql.functions import udf\n",
        "from pyspark.sql.types import FloatType\n",
        "\n",
        "# Defining a UDF to get the mean fuel tank volume based on 'fuel_type'\n",
        "def get_mean_fuel_tank_volume(fuel_type, fuel_tank_volume):\n",
        "    if fuel_tank_volume is None and fuel_type in mean_fuel_tank_volume_dict:\n",
        "        return mean_fuel_tank_volume_dict[fuel_type]\n",
        "    else:\n",
        "        return fuel_tank_volume\n",
        "\n",
        "# Registering the UDF in Spark\n",
        "get_mean_fuel_tank_volume_udf = udf(get_mean_fuel_tank_volume, FloatType())\n",
        "\n",
        "# Applying the UDF to fill null values in 'fuel_tank_volume'\n",
        "df = df.withColumn(\n",
        "    'fuel_tank_volume',\n",
        "    get_mean_fuel_tank_volume_udf(F.col('fuel_type'), F.col('fuel_tank_volume'))\n",
        ")\n"
      ]
    },
    {
      "cell_type": "code",
      "execution_count": null,
      "id": "a8f21dbb",
      "metadata": {
        "colab": {
          "base_uri": "https://localhost:8080/"
        },
        "id": "a8f21dbb",
        "outputId": "ddac6c93-cb1f-44ed-fed2-3bfffd5f24d5"
      },
      "outputs": [
        {
          "name": "stdout",
          "output_type": "stream",
          "text": [
            "Null values in 'fuel_tank_volume' column AFTER handling (replacing null values with mean of the respective engine type): 0.0 %.\n"
          ]
        }
      ],
      "source": [
        "# Calculating the percentage of remaining null values in 'fuel_tank_volume' after filling\n",
        "null_percentage_after = df.filter(F.col('fuel_tank_volume').isNull()).count() / total_rows * 100\n",
        "\n",
        "print(f\"Null values in 'fuel_tank_volume' column AFTER handling (replacing null values with mean of the respective engine type): {round(null_percentage_after, 2)} %.\")\n"
      ]
    },
    {
      "cell_type": "markdown",
      "id": "f8f282ac",
      "metadata": {
        "id": "f8f282ac"
      },
      "source": [
        "\n",
        "\n",
        "---\n",
        "\n"
      ]
    },
    {
      "cell_type": "markdown",
      "id": "4486d618",
      "metadata": {
        "id": "4486d618"
      },
      "source": [
        "#### **engine_type**"
      ]
    },
    {
      "cell_type": "code",
      "execution_count": null,
      "id": "54bd773a",
      "metadata": {
        "colab": {
          "base_uri": "https://localhost:8080/"
        },
        "id": "54bd773a",
        "outputId": "ebef614e-9ac4-4df2-c552-e80e5b67bc8e"
      },
      "outputs": [
        {
          "name": "stdout",
          "output_type": "stream",
          "text": [
            "+---------+--------------+-----------+---------+\n",
            "|make_name|model_name    |engine_type|fuel_type|\n",
            "+---------+--------------+-----------+---------+\n",
            "|Jeep     |Gladiator     |NULL       |Gasoline |\n",
            "|RAM      |1500          |NULL       |Gasoline |\n",
            "|Dodge    |RAM 2500      |NULL       |Gasoline |\n",
            "|Nissan   |Sentra        |NULL       |Gasoline |\n",
            "|BMW      |X3            |NULL       |Gasoline |\n",
            "|BMW      |X5            |NULL       |Gasoline |\n",
            "|Chevrolet|Bolt EV       |NULL       |Electric |\n",
            "|Ford     |Model T       |NULL       |Gasoline |\n",
            "|Nissan   |Frontier      |NULL       |Gasoline |\n",
            "|BMW      |X5            |NULL       |Gasoline |\n",
            "|Jeep     |Wrangler      |NULL       |Gasoline |\n",
            "|Nissan   |Frontier      |NULL       |Gasoline |\n",
            "|RAM      |1500          |NULL       |Gasoline |\n",
            "|Nissan   |LEAF          |NULL       |Electric |\n",
            "|Chevrolet|Silverado 1500|NULL       |Gasoline |\n",
            "|Chevrolet|Silverado 1500|NULL       |Gasoline |\n",
            "|BMW      |5 Series      |NULL       |Gasoline |\n",
            "|Ford     |Explorer      |NULL       |Gasoline |\n",
            "|Dodge    |Grand Caravan |NULL       |Gasoline |\n",
            "|BMW      |X3            |NULL       |Gasoline |\n",
            "+---------+--------------+-----------+---------+\n",
            "only showing top 20 rows\n",
            "\n"
          ]
        }
      ],
      "source": [
        "from pyspark.sql import functions as F\n",
        "\n",
        "# Filtering rows where 'engine_type' is NULL\n",
        "null_engine_type_rows = df.filter(F.col('engine_type').isNull())\n",
        "random_sample_null_engine_type_rows = null_engine_type_rows.sample(fraction=0.1)\n",
        "\n",
        "# Selecting specific columns for display\n",
        "random_sample_null_engine_type_rows.select(\"make_name\", \"model_name\", \"engine_type\", \"fuel_type\").show(truncate=False)\n"
      ]
    },
    {
      "cell_type": "code",
      "execution_count": null,
      "id": "5fb946b1",
      "metadata": {
        "colab": {
          "base_uri": "https://localhost:8080/"
        },
        "id": "5fb946b1",
        "outputId": "4240412c-ef13-4873-de51-d61a85092321"
      },
      "outputs": [
        {
          "name": "stdout",
          "output_type": "stream",
          "text": [
            "Null values in 'engine_type' column BEFORE handling: 3.35 %.\n",
            "Null values in 'engine_type' column AFTER handling: 0.0 %.\n"
          ]
        }
      ],
      "source": [
        "from pyspark.sql import functions as F\n",
        "\n",
        "# Calculating the total number of rows in the DataFrame\n",
        "total_rows = df.count()\n",
        "\n",
        "# Calculating the percentage of null values in the 'engine_type' column before handling nulls\n",
        "null_percentage_before = df.filter(F.col('engine_type').isNull()).count() / total_rows * 100\n",
        "print(f\"Null values in 'engine_type' column BEFORE handling: {round(null_percentage_before, 2)} %.\")\n",
        "\n",
        "# Filling 'engine_type' with specific values based on 'fuel_type'\n",
        "df = df.withColumn(\n",
        "    'engine_type',\n",
        "    F.when((F.col('engine_type').isNull()) & (F.col('fuel_type') == \"Electric\"), \"Electric Motor\")\n",
        "    .when((F.col('engine_type').isNull()) & (F.col('fuel_type') == \"Gasoline\"), \"Gasoline engine\")\n",
        "    .when((F.col('engine_type').isNull()) & (F.col('fuel_type') == \"Diesel\"), \"Diesel engine\")\n",
        "    .otherwise(F.col('engine_type'))  # Keep existing values where conditions don't apply\n",
        ")\n",
        "\n",
        "# Calculating the percentage of remaining null values in the 'engine_type' column after filling\n",
        "null_percentage_after = df.filter(F.col('engine_type').isNull()).count() / total_rows * 100\n",
        "print(f\"Null values in 'engine_type' column AFTER handling: {round(null_percentage_after, 2)} %.\")"
      ]
    },
    {
      "cell_type": "markdown",
      "id": "8d2a494d",
      "metadata": {
        "id": "8d2a494d"
      },
      "source": [
        "In this approach, instead of replacing the null values in the `engine_type` column with a generic \"Unknown,\" we are imputing them based on the corresponding `fuel_type`. This method provides more meaningful and accurate data, as it assigns specific engine types such as \"Electric Motor,\" \"Gasoline engine,\" and \"Diesel engine\" where applicable, reducing the loss of information and ensuring consistency in the dataset."
      ]
    },
    {
      "cell_type": "markdown",
      "id": "21b65331",
      "metadata": {
        "id": "21b65331"
      },
      "source": [
        "#### **height**"
      ]
    },
    {
      "cell_type": "code",
      "execution_count": null,
      "id": "b5f2120d",
      "metadata": {
        "colab": {
          "base_uri": "https://localhost:8080/",
          "height": 564
        },
        "id": "b5f2120d",
        "outputId": "cf5d7479-b130-4801-d9a6-d475c5f22aec"
      },
      "outputs": [
        {
          "data": {
            "image/png": "[encoded data removed]",
            "text/plain": [
              "<Figure size 1000x600 with 1 Axes>"
            ]
          },
          "metadata": {},
          "output_type": "display_data"
        }
      ],
      "source": [
        "import matplotlib.pyplot as plt\n",
        "import pandas as pd\n",
        "from pyspark.sql import functions as F\n",
        "\n",
        "# Collecting the 'height' column as a Pandas DataFrame\n",
        "height_pd_df = df.select('height').toPandas()\n",
        "\n",
        "# Dropping null values for accurate plotting\n",
        "height_pd_df = height_pd_df.dropna()\n",
        "\n",
        "# Calculating mode, median, and mean\n",
        "mode_height = height_pd_df['height'].mode()[0]\n",
        "median_height = height_pd_df['height'].median()\n",
        "mean_height = height_pd_df['height'].mean()\n",
        "\n",
        "# Plot the histogram\n",
        "plt.figure(figsize=(10, 6))\n",
        "plt.hist(height_pd_df['height'], bins=10, edgecolor='black', alpha=0.7)\n",
        "plt.title(\"Height Distribution\")\n",
        "\n",
        "# Adding mean,median and mode to the plot\n",
        "plt.axvline(mode_height, color='r', linestyle='dashed', linewidth=2, label=f'Mode: {mode_height:.2f}')\n",
        "plt.axvline(median_height, color='goldenrod', label=f'Median: {median_height:.2f}')\n",
        "plt.axvline(mean_height, color='darkgreen', label=f'Mean: {mean_height:.2f}')\n",
        "\n",
        "# Add legend and Label axes\n",
        "plt.legend()\n",
        "plt.xlabel('Height')\n",
        "plt.ylabel('Frequency')\n",
        "\n",
        "\n",
        "plt.show()"
      ]
    },
    {
      "cell_type": "code",
      "execution_count": null,
      "id": "27556107",
      "metadata": {
        "colab": {
          "base_uri": "https://localhost:8080/"
        },
        "id": "27556107",
        "outputId": "88193c6e-c7fd-4417-a660-460d56bd865b"
      },
      "outputs": [
        {
          "name": "stdout",
          "output_type": "stream",
          "text": [
            "Null values in 'height' column BEFORE handling: 5.32 %.\n",
            "Null values in 'height' column AFTER handling (replacing null values with mean): 0.0 %.\n"
          ]
        }
      ],
      "source": [
        "from pyspark.sql import functions as F\n",
        "\n",
        "# Calculating the total number of rows in the DataFrame\n",
        "total_rows = df.count()\n",
        "\n",
        "# Calculating the percentage of null values in the 'height' column before handling nulls\n",
        "null_percentage_before = df.filter(F.col('height').isNull()).count() / total_rows * 100\n",
        "print(f\"Null values in 'height' column BEFORE handling: {round(null_percentage_before, 2)} %.\")\n",
        "\n",
        "# Calculating the mean value of the 'height' column\n",
        "mean_height = round(df.select(F.mean(F.col('height'))).first()[0], 2)\n",
        "\n",
        "# Filling null values in 'height' with the calculated mean\n",
        "df = df.fillna({'height': mean_height})\n",
        "\n",
        "# Calculating the percentage of remaining null values in the 'height' column after filling\n",
        "null_percentage_after = df.filter(F.col('height').isNull()).count() / total_rows * 100\n",
        "print(f\"Null values in 'height' column AFTER handling (replacing null values with mean): {round(null_percentage_after, 2)} %.\")\n"
      ]
    },
    {
      "cell_type": "markdown",
      "id": "6302c527",
      "metadata": {
        "id": "6302c527"
      },
      "source": [
        "We compute the mean value of the `height` column and use it to fill in the missing values. Since the distribution of height is relatively symmetrical, using the `mean` ensures that the overall structure of the data is maintained."
      ]
    },
    {
      "cell_type": "markdown",
      "id": "7575be8b",
      "metadata": {
        "id": "7575be8b"
      },
      "source": [
        "#### **Length**"
      ]
    },
    {
      "cell_type": "code",
      "execution_count": null,
      "id": "3112d71b",
      "metadata": {
        "colab": {
          "base_uri": "https://localhost:8080/",
          "height": 564
        },
        "id": "3112d71b",
        "outputId": "a04c42c1-ab85-4377-f93f-22ab3385e941"
      },
      "outputs": [
        {
          "data": {
            "image/png": "[encoded data removed]",
            "text/plain": [
              "<Figure size 1000x600 with 1 Axes>"
            ]
          },
          "metadata": {},
          "output_type": "display_data"
        }
      ],
      "source": [
        "import matplotlib.pyplot as plt\n",
        "import pandas as pd\n",
        "from pyspark.sql import functions as F\n",
        "\n",
        "# Collecting the 'length' column as a Pandas DataFrame\n",
        "length_pd_df = df.select('length').toPandas()\n",
        "\n",
        "# Dropping null values for accurate plotting\n",
        "length_pd_df = length_pd_df.dropna()\n",
        "\n",
        "# Calculating mode, median, and mean\n",
        "mode_length = length_pd_df['length'].mode()[0]\n",
        "median_length = length_pd_df['length'].median()\n",
        "mean_length = length_pd_df['length'].mean()\n",
        "\n",
        "# Plotting the histogram\n",
        "plt.figure(figsize=(10, 6))\n",
        "plt.hist(length_pd_df['length'], bins=10, edgecolor='black', alpha=0.7)\n",
        "plt.title(\"Length Distribution\")\n",
        "\n",
        "# Adding mean,median and mode to the plot\n",
        "plt.axvline(mode_length, color='r', linestyle='dashed', linewidth=2, label=f'Mode: {mode_length:.2f}')\n",
        "plt.axvline(median_length, color='goldenrod', label=f'Median: {median_length:.2f}')\n",
        "plt.axvline(mean_length, color='darkgreen', label=f'Mean: {mean_length:.2f}')\n",
        "\n",
        "# Adding legend & Labeling the  axes\n",
        "plt.legend()\n",
        "plt.xlabel('Length')\n",
        "plt.ylabel('Frequency')\n",
        "\n",
        "plt.show()"
      ]
    },
    {
      "cell_type": "markdown",
      "id": "c603249d",
      "metadata": {
        "id": "c603249d"
      },
      "source": [
        "Since the distribution seems slightly skewed and the mode is significantly higher than both the median and mean, using the `median` is the best option. It is more robust to outliers and represents the central tendency of the majority of the data. This approach avoids any distortion from outliers or skewed data points while still maintaining the overall distribution."
      ]
    },
    {
      "cell_type": "code",
      "execution_count": null,
      "id": "bea43be1",
      "metadata": {
        "colab": {
          "base_uri": "https://localhost:8080/"
        },
        "id": "bea43be1",
        "outputId": "3e26de41-9060-4eec-a329-c28d168f03f6"
      },
      "outputs": [
        {
          "name": "stdout",
          "output_type": "stream",
          "text": [
            "Null values in 'length' column BEFORE handling: 5.32 %.\n",
            "Null values in 'length' column AFTER handling (replacing null values with median): 0.0 %.\n"
          ]
        }
      ],
      "source": [
        "from pyspark.sql import functions as F\n",
        "\n",
        "# Calculating the total number of rows in the DataFrame\n",
        "total_rows = df.count()\n",
        "\n",
        "# Calculating the percentage of null values in the 'length' column before handling nulls\n",
        "null_percentage_before = df.filter(F.col('length').isNull()).count() / total_rows * 100\n",
        "print(f\"Null values in 'length' column BEFORE handling: {round(null_percentage_before, 2)} %.\")\n",
        "\n",
        "# Calculating the median value of the 'length' column using approxQuantile\n",
        "median_length = df.approxQuantile(\"length\", [0.5], 0.01)[0]  # Using 0.01 precision\n",
        "\n",
        "# Filling null values in 'length' with the calculated median\n",
        "df = df.fillna({'length': median_length})\n",
        "\n",
        "# Calculating the percentage of remaining null values in the 'length' column after filling\n",
        "null_percentage_after = df.filter(F.col('length').isNull()).count() / total_rows * 100\n",
        "print(f\"Null values in 'length' column AFTER handling (replacing null values with median): {round(null_percentage_after, 2)} %.\")\n"
      ]
    },
    {
      "cell_type": "markdown",
      "id": "d3ef127f",
      "metadata": {
        "id": "d3ef127f"
      },
      "source": [
        "#### **width**"
      ]
    },
    {
      "cell_type": "code",
      "execution_count": null,
      "id": "c1b26910",
      "metadata": {
        "colab": {
          "base_uri": "https://localhost:8080/",
          "height": 564
        },
        "id": "c1b26910",
        "outputId": "dea1427b-d000-4f2a-a803-299904029bf0"
      },
      "outputs": [
        {
          "data": {
            "image/png": "[encoded data removed]",
            "text/plain": [
              "<Figure size 1000x600 with 1 Axes>"
            ]
          },
          "metadata": {},
          "output_type": "display_data"
        }
      ],
      "source": [
        "import matplotlib.pyplot as plt\n",
        "import pandas as pd\n",
        "from pyspark.sql import functions as F\n",
        "\n",
        "# Collecting the 'width' column as a Pandas DataFrame\n",
        "width_pd_df = df.select('width').toPandas()\n",
        "\n",
        "# Dropping null values for accurate plotting\n",
        "width_pd_df = width_pd_df.dropna()\n",
        "\n",
        "# Calculating mode, median, and mean\n",
        "mode_width = width_pd_df['width'].mode()[0]\n",
        "median_width = width_pd_df['width'].median()\n",
        "mean_width = width_pd_df['width'].mean()\n",
        "\n",
        "# Plotting the histogram\n",
        "plt.figure(figsize=(10, 6))\n",
        "plt.hist(width_pd_df['width'], bins=10, edgecolor='black', alpha=0.7)\n",
        "plt.title(\"Width Distribution\")\n",
        "\n",
        "# Adding mean,median and mode to the plot\n",
        "plt.axvline(mode_width, color='r', linestyle='dashed', linewidth=2, label=f'Mode: {mode_width:.2f}')\n",
        "plt.axvline(median_width, color='goldenrod', label=f'Median: {median_width:.2f}')\n",
        "plt.axvline(mean_width, color='darkgreen', label=f'Mean: {mean_width:.2f}')\n",
        "\n",
        "# Adding a legend and Labeling the axes\n",
        "plt.legend()\n",
        "plt.xlabel('Width')\n",
        "plt.ylabel('Frequency')\n",
        "\n",
        "plt.show()"
      ]
    },
    {
      "cell_type": "markdown",
      "id": "bb72c9af",
      "metadata": {
        "id": "bb72c9af"
      },
      "source": [
        "Using the `median` (77.30) to fill null values in the width column is an optimal choice because it accurately reflects the central point of the dataset without being affected by outliers or skewed data. This approach maintains data integrity by preventing any bias that might result from using other measures like the mean."
      ]
    },
    {
      "cell_type": "code",
      "execution_count": null,
      "id": "2f10496f",
      "metadata": {
        "colab": {
          "base_uri": "https://localhost:8080/"
        },
        "id": "2f10496f",
        "outputId": "6641dd48-fca5-49b5-9117-b1339bf031dd"
      },
      "outputs": [
        {
          "name": "stdout",
          "output_type": "stream",
          "text": [
            "Null values in 'width' column BEFORE handling: 5.32 %.\n",
            "Null values in 'width' column AFTER handling (replacing null values with median): 0.0 %.\n"
          ]
        }
      ],
      "source": [
        "from pyspark.sql import functions as F\n",
        "\n",
        "# Calculating the total number of rows in the DataFrame\n",
        "total_rows = df.count()\n",
        "\n",
        "# Calculating the percentage of null values in the 'width' column before handling nulls\n",
        "null_percentage_before = df.filter(F.col('width').isNull()).count() / total_rows * 100\n",
        "print(f\"Null values in 'width' column BEFORE handling: {round(null_percentage_before, 2)} %.\")\n",
        "\n",
        "# Calculating the median value of the 'width' column using approxQuantile\n",
        "median_width = df.approxQuantile(\"width\", [0.5], 0.01)[0]  # Using 0.01 precision\n",
        "\n",
        "# Filling null values in 'width' with the calculated median\n",
        "df = df.fillna({'width': median_width})\n",
        "\n",
        "# Calculating the percentage of remaining null values in the 'width' column after filling\n",
        "null_percentage_after = df.filter(F.col('width').isNull()).count() / total_rows * 100\n",
        "print(f\"Null values in 'width' column AFTER handling (replacing null values with median): {round(null_percentage_after, 2)} %.\")\n"
      ]
    },
    {
      "cell_type": "markdown",
      "id": "0fd8028f",
      "metadata": {
        "id": "0fd8028f"
      },
      "source": [
        "#### **horsepower**"
      ]
    },
    {
      "cell_type": "code",
      "execution_count": null,
      "id": "89e3fd54",
      "metadata": {
        "colab": {
          "base_uri": "https://localhost:8080/",
          "height": 564
        },
        "id": "89e3fd54",
        "outputId": "309719d7-8c97-4a3e-a92f-47e7d8fb0941"
      },
      "outputs": [
        {
          "data": {
            "image/png": "[encoded data removed]",
            "text/plain": [
              "<Figure size 1000x600 with 1 Axes>"
            ]
          },
          "metadata": {},
          "output_type": "display_data"
        }
      ],
      "source": [
        "import matplotlib.pyplot as plt\n",
        "import pandas as pd\n",
        "from pyspark.sql import functions as F\n",
        "\n",
        "# Collecting the 'horsepower' column as a Pandas DataFrame\n",
        "horsepower_pd_df = df.select('horsepower').toPandas()\n",
        "\n",
        "# Dropping null values for accurate plotting\n",
        "horsepower_pd_df = horsepower_pd_df.dropna()\n",
        "\n",
        "# Calculating mode, median, and mean\n",
        "mode_horsepower = horsepower_pd_df['horsepower'].mode()[0]\n",
        "median_horsepower = horsepower_pd_df['horsepower'].median()\n",
        "mean_horsepower = horsepower_pd_df['horsepower'].mean()\n",
        "\n",
        "# Plotting the histogram\n",
        "plt.figure(figsize=(10, 6))\n",
        "plt.hist(horsepower_pd_df['horsepower'], bins=10, edgecolor='black', alpha=0.7)\n",
        "plt.title(\"Horsepower Distribution\")\n",
        "\n",
        "# Adding mean,median and mode to the plot\n",
        "plt.axvline(mode_horsepower, color='r', linestyle='dashed', linewidth=2, label=f'Mode: {mode_horsepower:.2f}')\n",
        "plt.axvline(median_horsepower, color='goldenrod', label=f'Median: {median_horsepower:.2f}')\n",
        "plt.axvline(mean_horsepower, color='darkgreen', label=f'Mean: {mean_horsepower:.2f}')\n",
        "\n",
        "# Adding legend & Labeling the  axes\n",
        "plt.legend()\n",
        "plt.xlabel('Horsepower')\n",
        "plt.ylabel('Frequency')\n",
        "\n",
        "plt.show()"
      ]
    },
    {
      "cell_type": "code",
      "execution_count": null,
      "id": "c75aa354",
      "metadata": {
        "colab": {
          "base_uri": "https://localhost:8080/"
        },
        "id": "c75aa354",
        "outputId": "77f86400-f41c-4580-e793-0e9be9051b4e"
      },
      "outputs": [
        {
          "name": "stdout",
          "output_type": "stream",
          "text": [
            "Percentage of cars with 170 horsepower: 4.03%\n"
          ]
        }
      ],
      "source": [
        "from pyspark.sql import functions as F\n",
        "\n",
        "# Calculating the total number of rows in the DataFrame\n",
        "total_rows = df.count()\n",
        "\n",
        "# Counting of rows where 'horsepower' is 170\n",
        "count_170_hp = df.filter(F.col('horsepower') == 170).count()\n",
        "\n",
        "# Calculating the percentage\n",
        "percentage_170_hp = (count_170_hp / total_rows) * 100\n",
        "\n",
        "print(f\"Percentage of cars with 170 horsepower: {round(percentage_170_hp, 2)}%\")"
      ]
    },
    {
      "cell_type": "markdown",
      "id": "d3414e87",
      "metadata": {
        "id": "d3414e87"
      },
      "source": [
        "Since the **mode (170 HP)** is not very dominant (only 4.03%), and both the **median (244 HP)** and **mean (248 HP)** are more representative of the central tendency, it would be better to replace the null values with the **`median` (244 HP)**.\n",
        "\n",
        "This would provide a more accurate reflection of the typical car in my dataset, especially given the balance between higher and lower horsepower values."
      ]
    },
    {
      "cell_type": "code",
      "execution_count": null,
      "id": "872bed55",
      "metadata": {
        "colab": {
          "base_uri": "https://localhost:8080/"
        },
        "id": "872bed55",
        "outputId": "19a83119-a637-404b-eed1-c2e6c19e1957"
      },
      "outputs": [
        {
          "name": "stdout",
          "output_type": "stream",
          "text": [
            "Null values in 'horsepower' column BEFORE handling: 5.75 % .\n",
            "Null values in 'horsepower' column AFTER handling (replacing null values with median): 0.0 % .\n"
          ]
        }
      ],
      "source": [
        "from pyspark.sql import functions as F\n",
        "\n",
        "# Calculating the total number of rows in the DataFrame\n",
        "total_rows = df.count()\n",
        "\n",
        "# Calculating the percentage of null values in the 'horsepower' column before handling nulls\n",
        "null_percentage_before = df.filter(F.col('horsepower').isNull()).count() / total_rows * 100\n",
        "print(f\"Null values in 'horsepower' column BEFORE handling: {round(null_percentage_before, 2)} % .\")\n",
        "\n",
        "# Calculating the median value of the 'horsepower' column using approxQuantile\n",
        "median_horsepower = df.approxQuantile(\"horsepower\", [0.5], 0.01)[0]  # Using 0.01 precision\n",
        "\n",
        "# Filling null values in 'horsepower' with the calculated median\n",
        "df = df.fillna({'horsepower': median_horsepower})\n",
        "\n",
        "# Calculating the percentage of remaining null values in the 'horsepower' column after filling\n",
        "null_percentage_after = df.filter(F.col('horsepower').isNull()).count() / total_rows * 100\n",
        "print(f\"Null values in 'horsepower' column AFTER handling (replacing null values with median): {round(null_percentage_after, 2)} % .\")"
      ]
    },
    {
      "cell_type": "markdown",
      "id": "5fb128be",
      "metadata": {
        "id": "5fb128be"
      },
      "source": [
        "#### **mileage**"
      ]
    },
    {
      "cell_type": "code",
      "execution_count": null,
      "id": "fbc9efd7",
      "metadata": {
        "colab": {
          "base_uri": "https://localhost:8080/",
          "height": 564
        },
        "id": "fbc9efd7",
        "outputId": "c6c62294-3388-4089-daf6-883e3a294a42"
      },
      "outputs": [
        {
          "data": {
            "image/png": "[encoded data removed]",
            "text/plain": [
              "<Figure size 1000x600 with 1 Axes>"
            ]
          },
          "metadata": {},
          "output_type": "display_data"
        }
      ],
      "source": [
        "import matplotlib.pyplot as plt\n",
        "import pandas as pd\n",
        "from pyspark.sql import functions as F\n",
        "\n",
        "# Collecting the 'mileage' column as a Pandas DataFrame\n",
        "mileage_pd_df = df.select('mileage').toPandas()\n",
        "\n",
        "# Dropping null values for accurate plotting\n",
        "mileage_pd_df = mileage_pd_df.dropna()\n",
        "\n",
        "# Calculating mode, median, and mean\n",
        "mode_mileage = mileage_pd_df['mileage'].mode()[0]\n",
        "median_mileage = mileage_pd_df['mileage'].median()\n",
        "mean_mileage = mileage_pd_df['mileage'].mean()\n",
        "\n",
        "# Plotting the histogram\n",
        "plt.figure(figsize=(10, 6))\n",
        "plt.hist(mileage_pd_df['mileage'], bins=10, edgecolor='black', alpha=0.7)\n",
        "plt.title(\"Mileage Distribution\")\n",
        "\n",
        "# Adding mean,median and mode to the plot\n",
        "plt.axvline(mode_mileage, color='r', linestyle='dashed', linewidth=2, label=f'Mode: {mode_mileage:.2f}')\n",
        "plt.axvline(median_mileage, color='goldenrod', label=f'Median: {median_mileage:.2f}')\n",
        "plt.axvline(mean_mileage, color='darkgreen', label=f'Mean: {mean_mileage:.2f}')\n",
        "\n",
        "# Adding legend & Labeling the  axes\n",
        "plt.legend()\n",
        "plt.xlabel('Mileage')\n",
        "plt.ylabel('Frequency')\n",
        "\n",
        "plt.show()"
      ]
    },
    {
      "cell_type": "markdown",
      "id": "7e8df260",
      "metadata": {
        "id": "7e8df260"
      },
      "source": [
        "The histogram shows the distribution of the **mileage** column, with a large concentration of values near **0**, as evidenced by the mode being exactly **0.00**. This suggests a significant proportion of vehicles in the dataset have low or no mileage recorded, which might indicate new or low-used cars, or potentially missing data. The **median** mileage is **8267.00**, meaning half of the vehicles have mileage below this point. The **mean** mileage, at **31146.91**, is significantly higher than the median, indicating the presence of high-mileage outliers that are skewing the mean upwards. This suggests that the dataset contains a few cars with very high mileage, which could distort some analyses if not handled properly. Removing outliers or transforming the data (like with a `log transformation`) could be useful steps for more balanced analysis."
      ]
    },
    {
      "cell_type": "code",
      "execution_count": null,
      "id": "4ca96daf",
      "metadata": {
        "colab": {
          "base_uri": "https://localhost:8080/",
          "height": 564
        },
        "id": "4ca96daf",
        "outputId": "81453fc3-3897-4ead-f837-54b3b35d848b"
      },
      "outputs": [
        {
          "data": {
            "image/png": "[encoded data removed]",
            "text/plain": [
              "<Figure size 1000x600 with 1 Axes>"
            ]
          },
          "metadata": {},
          "output_type": "display_data"
        }
      ],
      "source": [
        "from pyspark.sql import functions as F\n",
        "\n",
        "# Calculating Q1 (25th percentile) and Q3 (75th percentile)\n",
        "q1, q3 = df.approxQuantile(\"mileage\", [0.25, 0.75], 0.01)\n",
        "\n",
        "# Calculating IQR\n",
        "iqr = q3 - q1\n",
        "\n",
        "# Defining Lower and Upper Bound\n",
        "lower_bound = q1 - 1.5 * iqr\n",
        "upper_bound = q3 + 1.5 * iqr\n",
        "\n",
        "# Filtering the DataFrame to remove outliers\n",
        "df_no_outliers = df.filter((F.col('mileage') >= lower_bound) & (F.col('mileage') <= upper_bound))\n",
        "\n",
        "# Collecting the 'mileage' column without outliers as a Pandas DataFrame\n",
        "mileage_no_outliers_pd_df = df_no_outliers.select('mileage').toPandas()\n",
        "\n",
        "# Dropping null values for accurate plotting\n",
        "mileage_no_outliers_pd_df = mileage_no_outliers_pd_df.dropna()\n",
        "\n",
        "# Calculating mode, median, and mean\n",
        "mode_mileage = mileage_no_outliers_pd_df['mileage'].mode()[0]\n",
        "median_mileage = mileage_no_outliers_pd_df['mileage'].median()\n",
        "mean_mileage = mileage_no_outliers_pd_df['mileage'].mean()\n",
        "\n",
        "# Plotting the histogram\n",
        "plt.figure(figsize=(10, 6))\n",
        "plt.hist(mileage_no_outliers_pd_df['mileage'], bins=10, edgecolor='black', alpha=0.7)\n",
        "plt.title(\"Mileage Distribution After Removing Outliers using IQR\")\n",
        "\n",
        "# Adding mean,median and mode to the plot\n",
        "plt.axvline(mode_mileage, color='r', linestyle='dashed', linewidth=2, label=f'Mode: {mode_mileage:.2f}')\n",
        "plt.axvline(median_mileage, color='goldenrod', label=f'Median: {median_mileage:.2f}')\n",
        "plt.axvline(mean_mileage, color='darkgreen', label=f'Mean: {mean_mileage:.2f}')\n",
        "\n",
        "# Adding legend & Labeling the  axes\n",
        "plt.legend()\n",
        "plt.xlabel('Mileage')\n",
        "plt.ylabel('Frequency')\n",
        "\n",
        "plt.show()"
      ]
    },
    {
      "cell_type": "code",
      "execution_count": null,
      "id": "8d9c1def",
      "metadata": {
        "colab": {
          "base_uri": "https://localhost:8080/",
          "height": 564
        },
        "id": "8d9c1def",
        "outputId": "b4870c6e-0ac6-43be-fd67-8e7b2c7f9911"
      },
      "outputs": [
        {
          "data": {
            "image/png": "[encoded data removed]",
            "text/plain": [
              "<Figure size 1000x600 with 1 Axes>"
            ]
          },
          "metadata": {},
          "output_type": "display_data"
        }
      ],
      "source": [
        "import matplotlib.pyplot as plt\n",
        "import pandas as pd\n",
        "from pyspark.sql import functions as F\n",
        "\n",
        "# Applying log transformation to the mileage column\n",
        "df_transformed = df.withColumn('log_mileage', F.log(F.col('mileage')))\n",
        "\n",
        "# Collecting the transformed mileage data into a Pandas DataFrame for visualization\n",
        "log_mileage_pd_df = df_transformed.select('log_mileage').toPandas()\n",
        "\n",
        "# Calculating the mode, median, and mean of the log-transformed mileage\n",
        "mode_log_mileage = log_mileage_pd_df['log_mileage'].mode()[0]\n",
        "median_log_mileage = log_mileage_pd_df['log_mileage'].median()\n",
        "mean_log_mileage = log_mileage_pd_df['log_mileage'].mean()\n",
        "\n",
        "# Plotting the histogram of the log-transformed mileage data\n",
        "plt.figure(figsize=(10, 6))\n",
        "plt.hist(log_mileage_pd_df['log_mileage'], bins=10, edgecolor='black', alpha=0.7)\n",
        "plt.title(\"Log-Mileage Distribution\")\n",
        "\n",
        "# Adding mean,median and mode to the plot\n",
        "plt.axvline(mode_log_mileage, color='r', linestyle='dashed', linewidth=2, label=f'Mode: {mode_log_mileage:.2f}')\n",
        "plt.axvline(median_log_mileage, color='goldenrod', label=f'Median: {median_log_mileage:.2f}')\n",
        "plt.axvline(mean_log_mileage, color='darkgreen', label=f'Mean: {mean_log_mileage:.2f}')\n",
        "\n",
        "# Adding legend & Labeling the  axes\n",
        "plt.legend()\n",
        "plt.xlabel(\"Log of Mileage\")\n",
        "plt.ylabel(\"Frequency\")\n",
        "\n",
        "plt.show()\n"
      ]
    },
    {
      "cell_type": "markdown",
      "id": "adc56c31",
      "metadata": {
        "id": "adc56c31"
      },
      "source": [
        "In this case, the log transformation seems to provide a more normalized and less skewed distribution compared to the original data after the IQR . The log transformation compresses the scale and allows the data to be distributed more evenly, while the IQR method removes outliers but does not address the underlying skew in the dataset.\n",
        "\n",
        "Therefore, the log transformation appears to be a better method for making the mileage data more normally distributed and suitable for further analysis."
      ]
    },
    {
      "cell_type": "markdown",
      "id": "1f26994d",
      "metadata": {
        "id": "1f26994d"
      },
      "source": [
        "**Handling null values : replacing with median**"
      ]
    },
    {
      "cell_type": "markdown",
      "id": "d30d9739",
      "metadata": {
        "id": "d30d9739"
      },
      "source": [
        "Using the `median` to replace null values in my mileage data is advantageous because it is robust to outliers, unlike the mean, which can be skewed by extreme values. The median represents the middle value, providing a better representation of a \"typical\" mileage for the majority of vehicles in my dataset. This makes it a more stable measure of central tendency, especially in a skewed distribution with many low or zero values. Additionally, the median is simple to calculate and interpret, making it an intuitive choice for analysis.  I am not using the mean (31146.91) ro fill nall values, as it may be skewed by high-mileage outliers."
      ]
    },
    {
      "cell_type": "code",
      "execution_count": null,
      "id": "2a38916f",
      "metadata": {
        "colab": {
          "base_uri": "https://localhost:8080/"
        },
        "id": "2a38916f",
        "outputId": "081513bb-596e-4b6b-854b-72074f67dacb"
      },
      "outputs": [
        {
          "name": "stdout",
          "output_type": "stream",
          "text": [
            "Null values in 'mileage' column BEFORE handling: 4.81 %.\n",
            "Null values in 'mileage' column AFTER handling (replacing null values with median): 0.0 %.\n"
          ]
        }
      ],
      "source": [
        "from pyspark.sql import functions as F\n",
        "\n",
        "# Calculating the total number of rows in the DataFrame\n",
        "total_rows = df.count()\n",
        "\n",
        "# Calculating the percentage of null values in the 'mileage' column before handling nulls\n",
        "null_percentage_before = df.filter(F.col('mileage').isNull()).count() / total_rows * 100\n",
        "print(f\"Null values in 'mileage' column BEFORE handling: {round(null_percentage_before, 2)} %.\")\n",
        "\n",
        "# Calculating the median value of the 'mileage' column using approxQuantile\n",
        "median_mileage = df.approxQuantile(\"mileage\", [0.5], 0.01)[0]  # Using 0.01 precision\n",
        "\n",
        "# Filling null values in 'mileage' with the calculated median\n",
        "df = df.fillna({'mileage': median_mileage})\n",
        "\n",
        "# Calculating the percentage of remaining null values in the 'mileage' column after filling\n",
        "null_percentage_after = df.filter(F.col('mileage').isNull()).count() / total_rows * 100\n",
        "print(f\"Null values in 'mileage' column AFTER handling (replacing null values with median): {round(null_percentage_after, 2)} %.\")\n"
      ]
    },
    {
      "cell_type": "markdown",
      "id": "9361cc84",
      "metadata": {
        "id": "9361cc84"
      },
      "source": [
        "**Adding log_mileage**"
      ]
    },
    {
      "cell_type": "code",
      "execution_count": null,
      "id": "7a2dae02",
      "metadata": {
        "colab": {
          "base_uri": "https://localhost:8080/"
        },
        "id": "7a2dae02",
        "outputId": "b360d8e2-a56e-4ae5-f0bc-ce781c671f39"
      },
      "outputs": [
        {
          "name": "stdout",
          "output_type": "stream",
          "text": [
            "Zero or negative values in 'mileage': 256899\n"
          ]
        }
      ],
      "source": [
        "# Checking for zero or negative values in the 'mileage' column\n",
        "zero_or_negative_count = df.filter(F.col('mileage') <= 0).count()\n",
        "print(f\"Zero or negative values in 'mileage': {zero_or_negative_count}\")"
      ]
    },
    {
      "cell_type": "code",
      "execution_count": null,
      "id": "1cf76210",
      "metadata": {
        "id": "1cf76210"
      },
      "outputs": [],
      "source": [
        "# imputing zero or negative values with the median mileage before applying the log transformation, ensuring that they are valid for log calculation.\n",
        "median_mileage = df.approxQuantile(\"mileage\", [0.5], 0.01)[0]\n",
        "df = df.withColumn('mileage', F.when(F.col('mileage') <= 0, median_mileage).otherwise(F.col('mileage')))"
      ]
    },
    {
      "cell_type": "markdown",
      "id": "3ff35753",
      "metadata": {
        "id": "3ff35753"
      },
      "source": [
        "Imputing zero or negative values in the `mileage` column before applying the log transformation is essential because the logarithm of such values is undefined, leading to null results. By replacing these values with the `median` mileage, I ensure that all entries are positive and valid for the log calculation. This approach maintains data integrity and prevents the introduction of null entries in the `log_mileage` column, allowing for accurate analysis and modeling.\n",
        "\n",
        "If I dont impute zero or negative values with median, I might get null values after log transformation, which I dont want"
      ]
    },
    {
      "cell_type": "code",
      "execution_count": null,
      "id": "737ac9a3",
      "metadata": {
        "colab": {
          "base_uri": "https://localhost:8080/"
        },
        "id": "737ac9a3",
        "outputId": "64625e5b-5bf2-4068-aba8-432d17981508"
      },
      "outputs": [
        {
          "name": "stdout",
          "output_type": "stream",
          "text": [
            "+--------+-----------+\n",
            "| mileage|log_mileage|\n",
            "+--------+-----------+\n",
            "| 37400.0|      10.53|\n",
            "|     6.0|       1.79|\n",
            "| 30168.0|      10.31|\n",
            "|    15.0|       2.71|\n",
            "|127267.0|      11.75|\n",
            "|  7407.0|       8.91|\n",
            "| 98000.0|      11.49|\n",
            "|  7407.0|       8.91|\n",
            "| 29872.0|       10.3|\n",
            "|     4.0|       1.39|\n",
            "|148782.0|      11.91|\n",
            "| 55801.0|      10.93|\n",
            "|  7407.0|       8.91|\n",
            "| 72028.0|      11.18|\n",
            "| 13309.0|        9.5|\n",
            "|131767.0|      11.79|\n",
            "|  7407.0|       8.91|\n",
            "|  7407.0|       8.91|\n",
            "|    10.0|        2.3|\n",
            "|     5.0|       1.61|\n",
            "+--------+-----------+\n",
            "only showing top 20 rows\n",
            "\n"
          ]
        }
      ],
      "source": [
        "from pyspark.sql import functions as F\n",
        "\n",
        "# Logging transform the 'mileage' column and add it to the DataFrame, rounding to 2 decimal places\n",
        "df = df.withColumn('log_mileage', F.round(F.log(F.col('mileage')), 2))\n",
        "\n",
        "# Selecting to show only 'mileage' and 'log_mileage'\n",
        "df.orderBy(F.rand()).select('mileage', 'log_mileage').show()\n"
      ]
    },
    {
      "cell_type": "code",
      "execution_count": null,
      "id": "f1d315d1",
      "metadata": {
        "colab": {
          "base_uri": "https://localhost:8080/"
        },
        "id": "f1d315d1",
        "outputId": "298a62ca-16fb-44c3-dd09-ea987ecbba0a"
      },
      "outputs": [
        {
          "name": "stdout",
          "output_type": "stream",
          "text": [
            "Null values in 'log_mileage': 0\n",
            "\n",
            "Mean of log_mileage: 7.339374461674072\n",
            "Median of log_mileage: 8.91\n",
            "Mode of log_mileage: 8.91\n"
          ]
        }
      ],
      "source": [
        "from pyspark.sql import functions as F\n",
        "\n",
        "# Checking for null values in the 'log_mileage' column\n",
        "null_count = df.filter(F.col('log_mileage').isNull()).count()\n",
        "print(f\"Null values in 'log_mileage': {null_count}\")\n",
        "\n",
        "# Calculating mean, median, and mode for 'log_mileage'\n",
        "mean_log_mileage = df.select(F.mean('log_mileage')).collect()[0][0]\n",
        "median_log_mileage = df.approxQuantile(\"log_mileage\", [0.5], 0.01)[0]  # Using approxQuantile for median\n",
        "mode_log_mileage = df.groupBy('log_mileage').count().orderBy(F.desc('count')).first()[0]\n",
        "\n",
        "print(f\"\\nMean of log_mileage: {mean_log_mileage}\")\n",
        "print(f\"Median of log_mileage: {median_log_mileage}\")\n",
        "print(f\"Mode of log_mileage: {mode_log_mileage}\")"
      ]
    },
    {
      "cell_type": "markdown",
      "id": "2dea9ae8",
      "metadata": {
        "id": "2dea9ae8"
      },
      "source": [
        "#### **wheelbase**"
      ]
    },
    {
      "cell_type": "code",
      "execution_count": null,
      "id": "f589af99",
      "metadata": {
        "colab": {
          "base_uri": "https://localhost:8080/",
          "height": 564
        },
        "id": "f589af99",
        "outputId": "dd1735a5-35e9-45ad-9789-5d9ab674c043"
      },
      "outputs": [
        {
          "data": {
            "image/png": "[encoded data removed]",
            "text/plain": [
              "<Figure size 1000x600 with 1 Axes>"
            ]
          },
          "metadata": {},
          "output_type": "display_data"
        }
      ],
      "source": [
        "import matplotlib.pyplot as plt\n",
        "import pandas as pd\n",
        "from pyspark.sql import functions as F\n",
        "\n",
        "# Collecting the 'wheelbase' column as a Pandas DataFrame\n",
        "wheelbase_pd_df = df.select('wheelbase').toPandas()\n",
        "\n",
        "# Dropping null values for accurate plotting\n",
        "wheelbase_pd_df = wheelbase_pd_df.dropna()\n",
        "\n",
        "# Calculating mode, median, and mean\n",
        "mode_wheelbase = wheelbase_pd_df['wheelbase'].mode()[0]\n",
        "median_wheelbase = wheelbase_pd_df['wheelbase'].median()\n",
        "mean_wheelbase = wheelbase_pd_df['wheelbase'].mean()\n",
        "\n",
        "# Plotting the histogram\n",
        "plt.figure(figsize=(10, 6))\n",
        "plt.hist(wheelbase_pd_df['wheelbase'], bins=10, edgecolor='black', alpha=0.7)\n",
        "plt.title(\"Wheelbase Distribution\")\n",
        "\n",
        "# Adding mean,median and mode to the plot\n",
        "plt.axvline(mode_wheelbase, color='r', linestyle='dashed', linewidth=2, label=f'Mode: {mode_wheelbase:.2f}')\n",
        "plt.axvline(median_wheelbase, color='goldenrod', label=f'Median: {median_wheelbase:.2f}')\n",
        "plt.axvline(mean_wheelbase, color='darkgreen', label=f'Mean: {mean_wheelbase:.2f}')\n",
        "\n",
        "# Adding legend & Labeling the  axes\n",
        "plt.legend()\n",
        "plt.xlabel('Wheelbase')\n",
        "plt.ylabel('Frequency')\n",
        "\n",
        "plt.show()"
      ]
    },
    {
      "cell_type": "markdown",
      "id": "2d606b20",
      "metadata": {
        "id": "2d606b20"
      },
      "source": [
        "In this case, the distribution of the `wheelbase` data appears to be right-skewed, with a long tail towards higher values. The mean is more influenced by the extreme values in the tail, while the median better represents the central tendency of the majority of the data, especially given the skewness. Therefore, `replacing null values with the median` is a more robust approach since it is less affected by outliers compared to the mean."
      ]
    },
    {
      "cell_type": "code",
      "execution_count": null,
      "id": "b278e59c",
      "metadata": {
        "colab": {
          "base_uri": "https://localhost:8080/"
        },
        "id": "b278e59c",
        "outputId": "59bd1efe-319e-4694-9aa4-e55fad2f3c2a"
      },
      "outputs": [
        {
          "name": "stdout",
          "output_type": "stream",
          "text": [
            "Null values in 'wheelbase' column BEFORE handling: 5.32 %.\n",
            "Null values in 'wheelbase' column AFTER handling (replacing null values with median): 0.0 %.\n"
          ]
        }
      ],
      "source": [
        "from pyspark.sql import functions as F\n",
        "\n",
        "# Calculating the total number of rows in the DataFrame\n",
        "total_rows = df.count()\n",
        "\n",
        "# Calculating the percentage of null values in the 'wheelbase' column BEFORE handling nulls\n",
        "null_percentage_before = df.filter(F.col('wheelbase').isNull()).count() / total_rows * 100\n",
        "print(f\"Null values in 'wheelbase' column BEFORE handling: {round(null_percentage_before, 2)} %.\")\n",
        "\n",
        "# Calculating the median value of the 'wheelbase' column using approxQuantile\n",
        "median_wheelbase = df.approxQuantile(\"wheelbase\", [0.5], 0.01)[0]  # Using 0.01 precision for median\n",
        "\n",
        "# Filling null values in 'wheelbase' with the calculated median\n",
        "df = df.fillna({'wheelbase': median_wheelbase})\n",
        "\n",
        "# Calculating the percentage of remaining null values in the 'wheelbase' column AFTER filling\n",
        "null_percentage_after = df.filter(F.col('wheelbase').isNull()).count() / total_rows * 100\n",
        "print(f\"Null values in 'wheelbase' column AFTER handling (replacing null values with median): {round(null_percentage_after, 2)} %.\")\n"
      ]
    },
    {
      "cell_type": "markdown",
      "id": "565d87aa",
      "metadata": {
        "id": "565d87aa"
      },
      "source": [
        "#### **maximum_seating**"
      ]
    },
    {
      "cell_type": "code",
      "execution_count": null,
      "id": "dff6ccd9",
      "metadata": {
        "colab": {
          "base_uri": "https://localhost:8080/",
          "height": 564
        },
        "id": "dff6ccd9",
        "outputId": "28964219-91c5-4e13-c850-278358ff9331"
      },
      "outputs": [
        {
          "data": {
            "image/png": "[encoded data removed]",
            "text/plain": [
              "<Figure size 1000x600 with 1 Axes>"
            ]
          },
          "metadata": {},
          "output_type": "display_data"
        }
      ],
      "source": [
        "import matplotlib.pyplot as plt\n",
        "import pandas as pd\n",
        "from pyspark.sql import functions as F\n",
        "\n",
        "# Converting the column 'maximum_seating' from Spark DataFrame to Pandas\n",
        "max_seating_pd_df = df.select('maximum_seating').toPandas()\n",
        "\n",
        "# Dropping null values for accurate plotting\n",
        "max_seating_pd_df = max_seating_pd_df.dropna()\n",
        "\n",
        "# Calculating mode, median, and mean\n",
        "mode_max_seating = max_seating_pd_df['maximum_seating'].mode()[0]\n",
        "median_max_seating = max_seating_pd_df['maximum_seating'].median()\n",
        "mean_max_seating = max_seating_pd_df['maximum_seating'].mean()\n",
        "\n",
        "# Plotting the histogram\n",
        "plt.figure(figsize=(10, 6))\n",
        "plt.hist(max_seating_pd_df['maximum_seating'], bins=10, edgecolor='black', alpha=0.7)\n",
        "plt.title(\"Maximum Seating Distribution\")\n",
        "\n",
        "# Adding mean,median and mode to the plot\n",
        "plt.axvline(mode_max_seating, color='r', linestyle='dashed', linewidth=2, label=f'Mode: {mode_max_seating:.2f}')\n",
        "plt.axvline(median_max_seating, color='goldenrod', label=f'Median: {median_max_seating:.2f}')\n",
        "plt.axvline(mean_max_seating, color='darkgreen', label=f'Mean: {mean_max_seating:.2f}')\n",
        "\n",
        "# Adding legend & Labeling the  axes\n",
        "plt.legend()\n",
        "plt.xlabel('Maximum Seating')\n",
        "plt.ylabel('Frequency')\n",
        "\n",
        "\n",
        "plt.show()"
      ]
    },
    {
      "cell_type": "code",
      "execution_count": null,
      "id": "9c81b972",
      "metadata": {
        "colab": {
          "base_uri": "https://localhost:8080/"
        },
        "id": "9c81b972",
        "outputId": "1ce913f7-3335-461d-a810-2559bd1b1c12"
      },
      "outputs": [
        {
          "name": "stdout",
          "output_type": "stream",
          "text": [
            "+---------------+-------+\n",
            "|maximum_seating|  count|\n",
            "+---------------+-------+\n",
            "|            5.0|1875357|\n",
            "|            7.0| 305330|\n",
            "|            6.0| 301485|\n",
            "|            8.0| 200360|\n",
            "|           NULL| 159770|\n",
            "|            4.0|  81174|\n",
            "|            2.0|  35105|\n",
            "|            3.0|  29676|\n",
            "|           15.0|   5906|\n",
            "|            9.0|   3634|\n",
            "|           12.0|   1703|\n",
            "|           10.0|    540|\n",
            "+---------------+-------+\n",
            "\n"
          ]
        }
      ],
      "source": [
        "# Grouping by 'maximum_seating' and count the occurrences\n",
        "df.groupBy('maximum_seating').count().orderBy('count', ascending=False).show()"
      ]
    },
    {
      "cell_type": "markdown",
      "id": "0d8f798b",
      "metadata": {
        "id": "0d8f798b"
      },
      "source": [
        "Replacing null values in the `maximum_seating` column with '5 seats' is justified because 5 seats is the industry standard for most modern cars. This approach minimizes bias and preserves the overall data distribution without complicating the imputation process. It is a practical solution that aligns with common car configurations, ensuring that the dataset remains representative."
      ]
    },
    {
      "cell_type": "code",
      "execution_count": null,
      "id": "936c7a22",
      "metadata": {
        "colab": {
          "base_uri": "https://localhost:8080/"
        },
        "id": "936c7a22",
        "outputId": "2388ea80-b3ce-4f41-bcfa-e141c9ceaa05"
      },
      "outputs": [
        {
          "name": "stdout",
          "output_type": "stream",
          "text": [
            "Null values in 'maximum_seating' column BEFORE handling: 5.33 %.\n",
            "Null values in 'maximum_seating' column AFTER handling (replacing null values with 5): 0.0 %.\n"
          ]
        }
      ],
      "source": [
        "from pyspark.sql import functions as F\n",
        "\n",
        "# Calculating the total number of rows in the DataFrame\n",
        "total_rows = df.count()\n",
        "\n",
        "# Calculating the percentage of null values in the 'maximum_seating' column BEFORE handling nulls\n",
        "null_percentage_before = df.filter(F.col('maximum_seating').isNull()).count() / total_rows * 100\n",
        "print(f\"Null values in 'maximum_seating' column BEFORE handling: {round(null_percentage_before, 2)} %.\")\n",
        "\n",
        "# Filling null values in 'maximum_seating' with the value '5'\n",
        "df = df.fillna({'maximum_seating': 5})\n",
        "\n",
        "# Calculating the percentage of remaining null values in the 'maximum_seating' column AFTER filling\n",
        "null_percentage_after = df.filter(F.col('maximum_seating').isNull()).count() / total_rows * 100\n",
        "print(f\"Null values in 'maximum_seating' column AFTER handling (replacing null values with 5): {round(null_percentage_after, 2)} %.\")\n"
      ]
    },
    {
      "cell_type": "markdown",
      "id": "7c800c4d",
      "metadata": {
        "id": "7c800c4d"
      },
      "source": [
        "#### **rating**"
      ]
    },
    {
      "cell_type": "code",
      "execution_count": null,
      "id": "69e0479f",
      "metadata": {
        "colab": {
          "base_uri": "https://localhost:8080/",
          "height": 564
        },
        "id": "69e0479f",
        "outputId": "5d4cc5a7-ead6-4b5a-a126-6ab20c49c767"
      },
      "outputs": [
        {
          "data": {
            "image/png": "[encoded data removed]",
            "text/plain": [
              "<Figure size 1000x600 with 1 Axes>"
            ]
          },
          "metadata": {},
          "output_type": "display_data"
        }
      ],
      "source": [
        "import matplotlib.pyplot as plt\n",
        "import pandas as pd\n",
        "from pyspark.sql import functions as F\n",
        "\n",
        "# Converting the column 'seller_rating' from Spark DataFrame to Pandas\n",
        "seller_rating_pd_df = df.select('seller_rating').toPandas()\n",
        "\n",
        "# Dropping null values for accurate plotting\n",
        "seller_rating_pd_df = seller_rating_pd_df.dropna()\n",
        "\n",
        "# Calculating mode, median, and mean\n",
        "mode_seller_rating = seller_rating_pd_df['seller_rating'].mode()[0]\n",
        "median_seller_rating = seller_rating_pd_df['seller_rating'].median()\n",
        "mean_seller_rating = seller_rating_pd_df['seller_rating'].mean()\n",
        "\n",
        "# Plotting the histogram\n",
        "plt.figure(figsize=(10, 6))\n",
        "plt.hist(seller_rating_pd_df['seller_rating'], bins=10, edgecolor='black', alpha=0.7)\n",
        "plt.title(\"Seller Rating Distribution\")\n",
        "\n",
        "# Adding mean,median and mode to the plot\n",
        "plt.axvline(mode_seller_rating, color='r', linestyle='dashed', linewidth=2, label=f'Mode: {mode_seller_rating:.2f}')\n",
        "plt.axvline(median_seller_rating, color='goldenrod', label=f'Median: {median_seller_rating:.2f}')\n",
        "plt.axvline(mean_seller_rating, color='darkgreen', label=f'Mean: {mean_seller_rating:.2f}')\n",
        "\n",
        "# Adding legend & Labeling the  axes\n",
        "plt.legend()\n",
        "plt.xlabel('Seller Rating')\n",
        "plt.ylabel('Frequency')\n",
        "\n",
        "\n",
        "plt.show()"
      ]
    },
    {
      "cell_type": "code",
      "execution_count": null,
      "id": "3379213c",
      "metadata": {
        "colab": {
          "base_uri": "https://localhost:8080/"
        },
        "id": "3379213c",
        "outputId": "c260c66b-d212-4963-aded-fdc7ee7e054a"
      },
      "outputs": [
        {
          "name": "stdout",
          "output_type": "stream",
          "text": [
            "+-------------+------+\n",
            "|seller_rating| count|\n",
            "+-------------+------+\n",
            "|          5.0|189321|\n",
            "|          4.0|122922|\n",
            "|          4.5|106764|\n",
            "|    4.6666665| 61967|\n",
            "|    4.3333335| 59993|\n",
            "|         4.75| 42888|\n",
            "|         NULL| 40872|\n",
            "|         4.25| 39789|\n",
            "|          4.6| 35490|\n",
            "|          4.8| 34807|\n",
            "|          4.2| 33088|\n",
            "|          4.4| 32209|\n",
            "|     4.285714| 29500|\n",
            "|     4.571429| 28384|\n",
            "|    4.8333335| 28044|\n",
            "|    3.6666667| 25260|\n",
            "|     4.428571| 25173|\n",
            "|          3.0| 24466|\n",
            "|        4.375| 23410|\n",
            "|          3.5| 22768|\n",
            "+-------------+------+\n",
            "only showing top 20 rows\n",
            "\n"
          ]
        }
      ],
      "source": [
        "# Grouping by 'seller_rating' and count the occurrences\n",
        "df.groupBy('seller_rating').count().orderBy('count', ascending=False).show()"
      ]
    },
    {
      "cell_type": "code",
      "execution_count": null,
      "id": "40eb25bf",
      "metadata": {
        "colab": {
          "base_uri": "https://localhost:8080/"
        },
        "id": "40eb25bf",
        "outputId": "ddf9dff6-0e12-4f2a-db88-9f27b27aa57f"
      },
      "outputs": [
        {
          "name": "stdout",
          "output_type": "stream",
          "text": [
            "+--------------------+-------+----------+\n",
            "|seller_rating_binned|  count|percentage|\n",
            "+--------------------+-------+----------+\n",
            "|             5 stars|2331205|     77.71|\n",
            "|             4 stars| 575442|     19.18|\n",
            "|             3 stars|  43381|      1.45|\n",
            "|                NULL|  40872|      1.36|\n",
            "|             2 stars|   9140|       0.3|\n",
            "+--------------------+-------+----------+\n",
            "\n"
          ]
        }
      ],
      "source": [
        "from pyspark.sql import functions as F\n",
        "\n",
        "# Calculating total rows to compute percentages later\n",
        "total_rows = df.count()\n",
        "\n",
        "# Binning the 'seller_rating' column into 5-star categories\n",
        "df = df.withColumn(\n",
        "    \"seller_rating_binned\",\n",
        "    F.when((F.col(\"seller_rating\") >= 0) & (F.col(\"seller_rating\") < 1), \"1 star\")\n",
        "     .when((F.col(\"seller_rating\") >= 1) & (F.col(\"seller_rating\") < 2), \"2 stars\")\n",
        "     .when((F.col(\"seller_rating\") >= 2) & (F.col(\"seller_rating\") < 3), \"3 stars\")\n",
        "     .when((F.col(\"seller_rating\") >= 3) & (F.col(\"seller_rating\") < 4), \"4 stars\")\n",
        "     .when((F.col(\"seller_rating\") >= 4) & (F.col(\"seller_rating\") <= 5), \"5 stars\")\n",
        ")\n",
        "\n",
        "# Grouping by the binned ratings and counting\n",
        "rating_counts = df.groupBy(\"seller_rating_binned\").count()\n",
        "\n",
        "# Calculating percentage for each bin\n",
        "rating_counts_with_percentage = rating_counts.withColumn(\n",
        "    \"percentage\",\n",
        "    F.round((F.col(\"count\") / total_rows) * 100, 2)\n",
        ")\n",
        "\n",
        "# Ordering by count ro show the result\n",
        "rating_counts_with_percentage.orderBy(\"count\", ascending=False).show()\n"
      ]
    },
    {
      "cell_type": "markdown",
      "id": "56329d88",
      "metadata": {
        "id": "56329d88"
      },
      "source": [
        "Replacing null values in the `seller_rating` column with the mode, which is **5 stars**, is a logical approach because it represents the most common rating, covering nearly 78% of the data. This ensures that the replacement is aligned with the majority of the observations, minimizing bias and maintaining consistency. Since `5 stars` is overwhelmingly dominant, it is a reasonable assumption for missing values, preserving the integrity of the data distribution."
      ]
    },
    {
      "cell_type": "code",
      "execution_count": null,
      "id": "2ab2a551",
      "metadata": {
        "colab": {
          "base_uri": "https://localhost:8080/"
        },
        "id": "2ab2a551",
        "outputId": "38a61d28-953c-4f54-d204-406893fefaa4"
      },
      "outputs": [
        {
          "name": "stdout",
          "output_type": "stream",
          "text": [
            "Null values in 'seller_rating' column BEFORE handling: 1.36 %.\n",
            "Null values in 'seller_rating' column AFTER handling (replacing null values with 5 stars): 0.0 %.\n"
          ]
        }
      ],
      "source": [
        "from pyspark.sql import functions as F\n",
        "\n",
        "# Calculating the total number of rows in the DataFrame\n",
        "total_rows = df.count()\n",
        "\n",
        "# Calculating the percentage of null values in the 'seller_rating' column BEFORE handling nulls\n",
        "null_percentage_before = df.filter(F.col('seller_rating').isNull()).count() / total_rows * 100\n",
        "print(f\"Null values in 'seller_rating' column BEFORE handling: {round(null_percentage_before, 2)} %.\")\n",
        "\n",
        "# Filling null values in 'seller_rating' with the mode value '5 stars'\n",
        "df = df.fillna({'seller_rating': 5.0})\n",
        "\n",
        "# Calculating the percentage of remaining null values in the 'seller_rating' column AFTER filling\n",
        "null_percentage_after = df.filter(F.col('seller_rating').isNull()).count() / total_rows * 100\n",
        "print(f\"Null values in 'seller_rating' column AFTER handling (replacing null values with 5 stars): {round(null_percentage_after, 2)} %.\")\n"
      ]
    },
    {
      "cell_type": "code",
      "execution_count": null,
      "id": "bf4c7a17",
      "metadata": {
        "id": "bf4c7a17"
      },
      "outputs": [],
      "source": [
        "df = df.drop('seller_rating_binned')"
      ]
    },
    {
      "cell_type": "markdown",
      "id": "76a947fd",
      "metadata": {
        "id": "76a947fd"
      },
      "source": [
        "#### **engine_displacement**"
      ]
    },
    {
      "cell_type": "code",
      "execution_count": null,
      "id": "73056abf",
      "metadata": {
        "colab": {
          "base_uri": "https://localhost:8080/",
          "height": 564
        },
        "id": "73056abf",
        "outputId": "e6e32a4b-08d2-44d0-b49b-43e21c898312"
      },
      "outputs": [
        {
          "data": {
            "image/png": "[encoded data removed]",
            "text/plain": [
              "<Figure size 1000x600 with 1 Axes>"
            ]
          },
          "metadata": {},
          "output_type": "display_data"
        }
      ],
      "source": [
        "import matplotlib.pyplot as plt\n",
        "import pandas as pd\n",
        "from pyspark.sql import functions as F\n",
        "\n",
        "# Collecting the 'engine_displacement' column as a Pandas DataFrame\n",
        "engine_displacement_pd_df = df.select('engine_displacement').toPandas()\n",
        "\n",
        "# Dropping null values for accurate plotting\n",
        "engine_displacement_pd_df = engine_displacement_pd_df.dropna()\n",
        "\n",
        "# Calculating mode, median, and mean\n",
        "mode_engine_displacement = engine_displacement_pd_df['engine_displacement'].mode()[0]\n",
        "median_engine_displacement = engine_displacement_pd_df['engine_displacement'].median()\n",
        "mean_engine_displacement = engine_displacement_pd_df['engine_displacement'].mean()\n",
        "\n",
        "# Plotting the histogram\n",
        "plt.figure(figsize=(10, 6))\n",
        "plt.hist(engine_displacement_pd_df['engine_displacement'], bins=10, edgecolor='black', alpha=0.7)\n",
        "plt.title(\"Engine Displacement Distribution\")\n",
        "\n",
        "# Adding mean,median and mode to the plot\n",
        "plt.axvline(mode_engine_displacement, color='r', linestyle='dashed', linewidth=2, label=f'Mode: {mode_engine_displacement:.2f}')\n",
        "plt.axvline(median_engine_displacement, color='goldenrod', label=f'Median: {median_engine_displacement:.2f}')\n",
        "plt.axvline(mean_engine_displacement, color='darkgreen', label=f'Mean: {mean_engine_displacement:.2f}')\n",
        "\n",
        "# Adding legend & Labeling the  axes\n",
        "plt.legend()\n",
        "plt.xlabel('Engine Displacement')\n",
        "plt.ylabel('Frequency')\n",
        "\n",
        "plt.show()"
      ]
    },
    {
      "cell_type": "markdown",
      "id": "9b90cf34",
      "metadata": {
        "id": "9b90cf34"
      },
      "source": [
        "Replacing null values in the `engine_displacement` column with the `median` is ideal because the median represents the middle value, making it less sensitive to outliers that could skew the data. By using the median, I ensure that the imputed values are more representative of the typical engine displacement in the dataset."
      ]
    },
    {
      "cell_type": "code",
      "execution_count": null,
      "id": "3f391118",
      "metadata": {
        "colab": {
          "base_uri": "https://localhost:8080/"
        },
        "id": "3f391118",
        "outputId": "28416e26-07c8-4449-b9cf-87801c61a51a"
      },
      "outputs": [
        {
          "name": "stdout",
          "output_type": "stream",
          "text": [
            "Null values in 'engine_displacement' column BEFORE handling: 5.75 %.\n",
            "Null values in 'engine_displacement' column AFTER handling (replacing null values with median 2500.0): 0.0 %.\n"
          ]
        }
      ],
      "source": [
        "from pyspark.sql import functions as F\n",
        "\n",
        "# Calculating the total number of rows in the DataFrame\n",
        "total_rows = df.count()\n",
        "\n",
        "# Calculating the percentage of null values in the 'engine_displacement' column BEFORE handling nulls\n",
        "null_percentage_before = df.filter(F.col('engine_displacement').isNull()).count() / total_rows * 100\n",
        "print(f\"Null values in 'engine_displacement' column BEFORE handling: {round(null_percentage_before, 2)} %.\")\n",
        "\n",
        "# Filling null values in 'engine_displacement' with the median value\n",
        "df = df.fillna({'engine_displacement': median_engine_displacement})\n",
        "\n",
        "# Calculating the percentage of remaining null values in the 'engine_displacement' column AFTER filling\n",
        "null_percentage_after = df.filter(F.col('engine_displacement').isNull()).count() / total_rows * 100\n",
        "print(f\"Null values in 'engine_displacement' column AFTER handling (replacing null values with median {median_engine_displacement}): {round(null_percentage_after, 2)} %.\")\n"
      ]
    },
    {
      "cell_type": "markdown",
      "id": "16189b6c",
      "metadata": {
        "id": "16189b6c"
      },
      "source": [
        "\n",
        "\n",
        "---\n",
        "\n"
      ]
    },
    {
      "cell_type": "markdown",
      "id": "2b6362be",
      "metadata": {
        "id": "2b6362be"
      },
      "source": [
        "## **Handling Categorical coloumns**"
      ]
    },
    {
      "cell_type": "markdown",
      "id": "8085224c",
      "metadata": {
        "id": "8085224c"
      },
      "source": [
        "#### **Interior colors**"
      ]
    },
    {
      "cell_type": "code",
      "execution_count": null,
      "id": "55ca809b",
      "metadata": {
        "id": "55ca809b"
      },
      "outputs": [],
      "source": [
        "# Converting the 'exterior_color' and 'interior_color' columns to lowercase\n",
        "from pyspark.sql.functions import lower, col\n",
        "\n",
        "df = df.withColumn('exterior_color', lower(col('exterior_color'))) \\\n",
        "       .withColumn('interior_color', lower(col('interior_color')))"
      ]
    },
    {
      "cell_type": "code",
      "execution_count": null,
      "id": "402cc2da",
      "metadata": {
        "colab": {
          "base_uri": "https://localhost:8080/"
        },
        "id": "402cc2da",
        "outputId": "3e5bfbbe-28a2-4fdc-bdcd-e44ec500ec2c"
      },
      "outputs": [
        {
          "name": "stdout",
          "output_type": "stream",
          "text": [
            "Null values in 'interior_color' column BEFORE handling: 0.00017 %.\n"
          ]
        }
      ],
      "source": [
        "# Calculating the percentage of null values in the 'seller_rating' column BEFORE handling nulls\n",
        "null_percentage_before = df.filter(F.col('interior_color').isNull()).count() / total_rows * 100\n",
        "print(f\"Null values in 'interior_color' column BEFORE handling: {round(null_percentage_before, 5)} %.\")"
      ]
    },
    {
      "cell_type": "code",
      "execution_count": null,
      "id": "efacd4b1",
      "metadata": {
        "colab": {
          "base_uri": "https://localhost:8080/"
        },
        "id": "efacd4b1",
        "outputId": "bbdd3617-c81e-4e1b-9eea-7e71e6974905"
      },
      "outputs": [
        {
          "name": "stdout",
          "output_type": "stream",
          "text": [
            "Null values in 'exterior_color' column BEFORE handling: 0.0 %.\n"
          ]
        }
      ],
      "source": [
        "# Calculating the percentage of null values in the 'seller_rating' column BEFORE handling nulls\n",
        "null_percentage_before = df.filter(F.col('exterior_color').isNull()).count() / total_rows * 100\n",
        "print(f\"Null values in 'exterior_color' column BEFORE handling: {round(null_percentage_before, 5)} %.\")"
      ]
    },
    {
      "cell_type": "markdown",
      "id": "288bc466",
      "metadata": {
        "id": "288bc466"
      },
      "source": [
        "so we see there are null values in exterior colors alone."
      ]
    },
    {
      "cell_type": "code",
      "execution_count": null,
      "id": "1a749cbb",
      "metadata": {
        "colab": {
          "base_uri": "https://localhost:8080/"
        },
        "id": "1a749cbb",
        "outputId": "35996103-8a84-493d-c753-3c47f95f0d35"
      },
      "outputs": [
        {
          "name": "stdout",
          "output_type": "stream",
          "text": [
            "+------------------+----------+\n",
            "|    interior_color|percentage|\n",
            "+------------------+----------+\n",
            "|             black|  29.04605|\n",
            "|              none|   12.7939|\n",
            "|         jet black|   7.38623|\n",
            "|              gray|   6.53018|\n",
            "|     black (ebony)|   5.02777|\n",
            "|  black (charcoal)|   4.20624|\n",
            "|     brown (beige)|   1.59235|\n",
            "| medium earth gray|   1.49135|\n",
            "|       brown (tan)|   1.11872|\n",
            "|    charcoal black|   0.84306|\n",
            "|       titan black|   0.73899|\n",
            "| diesel gray/black|   0.72096|\n",
            "|          graphite|   0.61833|\n",
            "|     white (ivory)|   0.57329|\n",
            "|       ebony black|   0.53816|\n",
            "|   medium ash gray|   0.50386|\n",
            "|               ash|   0.46903|\n",
            "|        light gray|   0.32396|\n",
            "|medium light stone|   0.27803|\n",
            "|   dark earth gray|   0.25943|\n",
            "+------------------+----------+\n",
            "only showing top 20 rows\n",
            "\n"
          ]
        }
      ],
      "source": [
        "from pyspark.sql import functions as F\n",
        "\n",
        "# Calculating the total number of rows in the DataFrame\n",
        "total_rows = df.count()\n",
        "\n",
        "# Grouping by 'interior_color' and count occurrences\n",
        "color_counts = df.groupBy('interior_color').count()\n",
        "\n",
        "# Calculating percentage for each interior color\n",
        "color_counts_with_percentage = color_counts.withColumn(\n",
        "    \"percentage\",\n",
        "    F.round((F.col(\"count\") / total_rows) * 100, 5)  # Rounding to 5 decimal places for better precision\n",
        ")\n",
        "\n",
        "# Displaying the percentages in descending order\n",
        "color_counts_with_percentage.orderBy(F.col(\"percentage\").desc()).select(\"interior_color\", \"percentage\").show()\n"
      ]
    },
    {
      "cell_type": "markdown",
      "id": "9c228112",
      "metadata": {
        "id": "9c228112"
      },
      "source": [
        "I am replacing the null values in the `interior_color` column with **black**, as it represents 29.05% of the data, making it the most common and predominant value. Using the most frequent value helps maintain consistency and prevents the introduction of bias. Although 'none' accounts for 12.79%, it likely indicates missing or unspecified data rather than a valid color. Replacing with `black` provides a more meaningful and representative value for the dataset."
      ]
    },
    {
      "cell_type": "code",
      "execution_count": null,
      "id": "1dedad87",
      "metadata": {
        "colab": {
          "base_uri": "https://localhost:8080/"
        },
        "id": "1dedad87",
        "outputId": "6ba6a0d4-ffb4-41db-c664-079a65ea7858"
      },
      "outputs": [
        {
          "name": "stdout",
          "output_type": "stream",
          "text": [
            "Null values in 'interior_color' column AFTER handling (replacing null values with black): 0.0 %.\n"
          ]
        }
      ],
      "source": [
        "from pyspark.sql import functions as F\n",
        "\n",
        "# Calculating the total number of rows in the DataFrame\n",
        "total_rows = df.count()\n",
        "\n",
        "# Filling null values in 'interior_color' with the value 'black'\n",
        "df = df.fillna({'interior_color': 'black'})\n",
        "\n",
        "# Calculating the percentage of remaining null values in the 'interior_color' column AFTER filling\n",
        "null_percentage_after = df.filter(F.col('interior_color').isNull()).count() / total_rows * 100\n",
        "print(f\"Null values in 'interior_color' column AFTER handling (replacing null values with black): {round(null_percentage_after, 2)} %.\")\n"
      ]
    },
    {
      "cell_type": "markdown",
      "id": "60abac73",
      "metadata": {
        "id": "60abac73"
      },
      "source": [
        "#### **major_options**"
      ]
    },
    {
      "cell_type": "code",
      "execution_count": null,
      "id": "3bd12e86",
      "metadata": {
        "colab": {
          "base_uri": "https://localhost:8080/"
        },
        "id": "3bd12e86",
        "outputId": "09774a7e-13df-4bcd-c491-b92234232406"
      },
      "outputs": [
        {
          "name": "stdout",
          "output_type": "stream",
          "text": [
            "Null values in 'major_options' column BEFORE handling: 6.67 %.\n",
            "Null values in 'major_options' column AFTER handling (replacing null values with 'Unknown'): 0.0 %.\n"
          ]
        }
      ],
      "source": [
        "from pyspark.sql import functions as F\n",
        "\n",
        "# Calculating the total number of rows in the DataFrame\n",
        "total_rows = df.count()\n",
        "\n",
        "# Calculating the percentage of null values in the 'major_options' column BEFORE handling nulls\n",
        "null_percentage_before = df.filter(F.col('major_options').isNull()).count() / total_rows * 100\n",
        "print(f\"Null values in 'major_options' column BEFORE handling: {round(null_percentage_before, 2)} %.\")\n",
        "\n",
        "# Filling null values in 'major_options' with the value 'Unknown'\n",
        "df = df.fillna({'major_options': 'Unknown'})\n",
        "\n",
        "# Calculating the percentage of remaining null values in the 'major_options' column AFTER filling\n",
        "null_percentage_after = df.filter(F.col('major_options').isNull()).count() / total_rows * 100\n",
        "print(f\"Null values in 'major_options' column AFTER handling (replacing null values with 'Unknown'): {round(null_percentage_after, 2)} %.\")\n"
      ]
    },
    {
      "cell_type": "markdown",
      "id": "016096cf",
      "metadata": {
        "id": "016096cf"
      },
      "source": [
        "I am replacing null values in the `major_options` column with `'Unknown'` to ensure consistency and avoid losing data during analysis. This approach helps distinguish between missing information and actual values, allowing for better data integrity. By using `'Unknown'`, I retain all rows for further analysis while clearly marking the absence of specific major options."
      ]
    },
    {
      "cell_type": "code",
      "execution_count": null,
      "id": "ca342a7c",
      "metadata": {
        "colab": {
          "base_uri": "https://localhost:8080/"
        },
        "id": "ca342a7c",
        "outputId": "06ee63b7-5857-4418-fbc0-67f160f58a2a"
      },
      "outputs": [
        {
          "name": "stdout",
          "output_type": "stream",
          "text": [
            "+-------------------+------+\n",
            "|major_options_count| count|\n",
            "+-------------------+------+\n",
            "|                  4|340507|\n",
            "|                  3|314023|\n",
            "|                  5|307013|\n",
            "|                  6|282666|\n",
            "|                  7|249405|\n",
            "|                  8|225960|\n",
            "|                  2|224622|\n",
            "|                  0|200048|\n",
            "|                  1|183391|\n",
            "|                  9|183372|\n",
            "|                 10|150294|\n",
            "|                 11|115622|\n",
            "|                 12| 80844|\n",
            "|                 13| 51702|\n",
            "|                 14| 32477|\n",
            "|                 15| 18990|\n",
            "|                 16| 12781|\n",
            "|                 17|  8002|\n",
            "|                 18|  5175|\n",
            "|                 19|  3521|\n",
            "+-------------------+------+\n",
            "only showing top 20 rows\n",
            "\n"
          ]
        }
      ],
      "source": [
        "from pyspark.sql import functions as F\n",
        "\n",
        "# Creating 'major_options_count' column by counting commas in 'major_options' and adding 1\n",
        "df = df.withColumn(\n",
        "    'major_options_count',\n",
        "    F.when(F.col('major_options') == 'Unknown', 0)  # Set count to 0 if 'major_options' is 'Unknown'\n",
        "     .otherwise(F.size(F.split(F.col('major_options'), ',')))  # Else, count commas and add 1\n",
        ")\n",
        "\n",
        "# Checking the result by counting the occurrences of each count (similar to value_counts in Pandas)\n",
        "df.groupBy('major_options_count').count().orderBy('count', ascending=False).show()\n"
      ]
    },
    {
      "cell_type": "markdown",
      "id": "8675afa9",
      "metadata": {
        "id": "8675afa9"
      },
      "source": [
        "Setting the count of `major_options` as `'Unknown'` to `0` ensures accurate representation, reflecting that no known options are available, instead of misleadingly assigning a value of 1. This approach helps ensure the dataset accurately captures the absence of information."
      ]
    },
    {
      "cell_type": "code",
      "execution_count": null,
      "id": "6d63dbd8",
      "metadata": {
        "colab": {
          "base_uri": "https://localhost:8080/"
        },
        "id": "6d63dbd8",
        "outputId": "bb954c36-c38b-4202-81a6-ee5f533213a7"
      },
      "outputs": [
        {
          "name": "stdout",
          "output_type": "stream",
          "text": [
            "+-------------------+-------------------------------------------------------------------------------------------------------------------------------------------------------------------------------------------------------------------------------------------------------+\n",
            "|major_options_count|major_options                                                                                                                                                                                                                                          |\n",
            "+-------------------+-------------------------------------------------------------------------------------------------------------------------------------------------------------------------------------------------------------------------------------------------------+\n",
            "|9                  |['Sport Package', 'Sunroof/Moonroof', 'Navigation System', 'Alloy Wheels', 'Bluetooth', 'Backup Camera', 'Blind Spot Monitoring', 'Premium Package', 'Heated Seats']                                                                                   |\n",
            "|8                  |['Sunroof/Moonroof', 'Navigation System', 'Bluetooth', 'Remote Start', 'Blind Spot Monitoring', 'Off Road Package', 'Heated Seats', 'Multi Zone Climate Control']                                                                                      |\n",
            "|10                 |['Driver Confidence Package', 'Alloy Wheels', 'Preferred Package', 'Bluetooth', 'Backup Camera', 'Blind Spot Monitoring', 'Parking Sensors', 'Android Auto', 'CarPlay', 'Convenience Package']                                                         |\n",
            "|3                  |['101A Mid Equipment Group', 'Appearance Package', 'Backup Camera']                                                                                                                                                                                    |\n",
            "|6                  |['Alloy Wheels', 'Adaptive Suspension', 'Backup Camera', 'Heated Seats', 'Android Auto', 'CarPlay']                                                                                                                                                    |\n",
            "|1                  |['Heated Seats']                                                                                                                                                                                                                                       |\n",
            "|8                  |['Alloy Wheels', 'Technology Package', 'Blind Spot Monitoring', 'Remote Start', 'Parking Sensors', 'Heated Seats', 'Android Auto', 'CarPlay']                                                                                                          |\n",
            "|2                  |['Alloy Wheels', 'Tow Package']                                                                                                                                                                                                                        |\n",
            "|7                  |['Leather Seats', 'Alloy Wheels', 'Bluetooth', 'Backup Camera', 'Remote Start', 'Parking Sensors', 'Heated Seats']                                                                                                                                     |\n",
            "|6                  |['Leather Seats', 'Sunroof/Moonroof', 'Chrome Wheels', 'Bluetooth', 'Premium Package', 'Quick Order Package']                                                                                                                                          |\n",
            "|3                  |['Alloy Wheels', 'Backup Camera', 'Convenience Package']                                                                                                                                                                                               |\n",
            "|8                  |['Sport Package', 'LE Package', 'Leather Seats', 'Bluetooth', 'Backup Camera', 'Remote Start', 'Blind Spot Monitoring', 'Parking Sensors']                                                                                                             |\n",
            "|7                  |['Navigation System', 'Alloy Wheels', 'Bluetooth', 'Backup Camera', 'Remote Start', 'Heated Seats', 'Convenience Package']                                                                                                                             |\n",
            "|2                  |['Alloy Wheels', 'Appearance Package']                                                                                                                                                                                                                 |\n",
            "|12                 |['Sunroof/Moonroof', 'Navigation System', 'Alloy Wheels', 'Bluetooth', 'Backup Camera', 'Remote Start', 'Blind Spot Monitoring', 'Multimedia Package', 'Premium Package', 'Heated Seats', 'CarPlay', 'Convenience Package']                            |\n",
            "|7                  |['Leather Seats', 'Sunroof/Moonroof', 'Navigation System', 'Alloy Wheels', 'Bluetooth', 'Backup Camera', 'Remote Start']                                                                                                                               |\n",
            "|13                 |['Leather Seats', 'Sunroof/Moonroof', 'Navigation System', 'Adaptive Cruise Control', 'Alloy Wheels', 'Third Row Seating', 'Blind Spot Monitoring', 'Parking Sensors', 'Premium Package', 'Heated Seats', 'Bluetooth', 'Backup Camera', 'Remote Start']|\n",
            "|3                  |['Steel Wheels', 'Bluetooth', 'Tow Package']                                                                                                                                                                                                           |\n",
            "|8                  |['Sunroof/Moonroof', 'Navigation System', 'Third Row Seating', 'Bluetooth', 'Backup Camera', 'Heated Seats', 'Android Auto', 'CarPlay']                                                                                                                |\n",
            "|4                  |['Alloy Wheels', 'Bluetooth', 'Backup Camera', 'Parking Sensors']                                                                                                                                                                                      |\n",
            "+-------------------+-------------------------------------------------------------------------------------------------------------------------------------------------------------------------------------------------------------------------------------------------------+\n",
            "only showing top 20 rows\n",
            "\n"
          ]
        }
      ],
      "source": [
        "# Selecting 'major_options' and 'major_options_count' side by side\n",
        "df_view = df.select( 'major_options_count','major_options')\n",
        "\n",
        "# Showing the result\n",
        "df_view.show(truncate=False)"
      ]
    },
    {
      "cell_type": "markdown",
      "id": "532d4416",
      "metadata": {
        "id": "532d4416"
      },
      "source": [
        "#### **description**"
      ]
    },
    {
      "cell_type": "markdown",
      "id": "f6268a94",
      "metadata": {
        "id": "f6268a94"
      },
      "source": [
        "I am replacing null values in the `description` column with `'Unknown'` to ensure consistency and avoid losing data during analysis."
      ]
    },
    {
      "cell_type": "code",
      "execution_count": null,
      "id": "88f13175",
      "metadata": {
        "colab": {
          "base_uri": "https://localhost:8080/"
        },
        "id": "88f13175",
        "outputId": "cab6c858-bf2b-4f54-c8f7-5bee9fe743b9"
      },
      "outputs": [
        {
          "name": "stdout",
          "output_type": "stream",
          "text": [
            "Null values in 'description' column BEFORE handling: 2.6 %.\n",
            "Null values in 'description' column AFTER handling (replacing null values with 'Unknown'): 0.0 %.\n"
          ]
        }
      ],
      "source": [
        "from pyspark.sql import functions as F\n",
        "\n",
        "# Calculating the total number of rows in the DataFrame\n",
        "total_rows = df.count()\n",
        "\n",
        "# Calculating the percentage of null values in the 'description' column BEFORE handling nulls\n",
        "null_percentage_before = df.filter(F.col('description').isNull()).count() / total_rows * 100\n",
        "print(f\"Null values in 'description' column BEFORE handling: {round(null_percentage_before, 2)} %.\")\n",
        "\n",
        "# Filling null values in 'description' with the value 'Unknown'\n",
        "df = df.fillna({'description': 'Unknown'})\n",
        "\n",
        "# Calculating the percentage of remaining null values in the 'description' column AFTER filling\n",
        "null_percentage_after = df.filter(F.col('description').isNull()).count() / total_rows * 100\n",
        "print(f\"Null values in 'description' column AFTER handling (replacing null values with 'Unknown'): {round(null_percentage_after, 2)} %.\")\n"
      ]
    },
    {
      "cell_type": "markdown",
      "id": "e917f300",
      "metadata": {
        "id": "e917f300"
      },
      "source": [
        "#### **transmission**"
      ]
    },
    {
      "cell_type": "code",
      "execution_count": null,
      "id": "a0426d46",
      "metadata": {
        "colab": {
          "base_uri": "https://localhost:8080/"
        },
        "id": "a0426d46",
        "outputId": "78973b61-c835-4b38-a474-186c2e3653a8"
      },
      "outputs": [
        {
          "name": "stdout",
          "output_type": "stream",
          "text": [
            "+------------+-------+----------+\n",
            "|transmission|count  |percentage|\n",
            "+------------+-------+----------+\n",
            "|A           |2418345|80.61     |\n",
            "|CVT         |458016 |15.27     |\n",
            "|NULL        |64185  |2.14      |\n",
            "|M           |48425  |1.61      |\n",
            "|Dual Clutch |11069  |0.37      |\n",
            "+------------+-------+----------+\n",
            "\n"
          ]
        }
      ],
      "source": [
        "from pyspark.sql import functions as F\n",
        "\n",
        "# Calculating the total number of rows in the DataFrame\n",
        "total_rows = df.count()\n",
        "\n",
        "# Grouping by 'transmission' column, count the occurrences, and calculating the rounded percentage\n",
        "df_transmission_percentage = df.groupBy('transmission') \\\n",
        "    .count() \\\n",
        "    .withColumn('percentage', F.round((F.col('count') / total_rows) * 100, 2)) \\\n",
        "    .orderBy(F.col('percentage').desc())\n",
        "\n",
        "# Showing the result\n",
        "df_transmission_percentage.show(truncate=False)\n"
      ]
    },
    {
      "cell_type": "markdown",
      "id": "6df6d90e",
      "metadata": {
        "id": "6df6d90e"
      },
      "source": [
        "I replace the null values in the `transmission` column with **`A` (Automatic)** because it represents 80.61% of the data, making it the most common category. This replacement minimizes bias by aligning with the majority of the dataset. Given that automatic transmissions are dominant in modern vehicles, it’s a practical assumption for handling missing values."
      ]
    },
    {
      "cell_type": "code",
      "execution_count": null,
      "id": "754f0fad",
      "metadata": {
        "colab": {
          "base_uri": "https://localhost:8080/"
        },
        "id": "754f0fad",
        "outputId": "9ef047ae-fdeb-4c1b-c379-d126be60670b"
      },
      "outputs": [
        {
          "name": "stdout",
          "output_type": "stream",
          "text": [
            "Null values in 'transmission' column BEFORE handling: 2.14 %.\n",
            "Null values in 'transmission' column AFTER handling (replacing null values with 'A'): 0.0 %.\n"
          ]
        }
      ],
      "source": [
        "from pyspark.sql import functions as F\n",
        "\n",
        "# Calculating the total number of rows in the DataFrame\n",
        "total_rows = df.count()\n",
        "\n",
        "# Calculating the percentage of null values in the 'transmission' column BEFORE handling nulls\n",
        "null_percentage_before = df.filter(F.col('transmission').isNull()).count() / total_rows * 100\n",
        "print(f\"Null values in 'transmission' column BEFORE handling: {round(null_percentage_before, 2)} %.\")\n",
        "\n",
        "# Filling null values in 'transmission' with the value 'A' (Automatic)\n",
        "df = df.fillna({'transmission': 'A'})\n",
        "\n",
        "# Calculating the percentage of remaining null values in the 'transmission' column AFTER filling\n",
        "null_percentage_after = df.filter(F.col('transmission').isNull()).count() / total_rows * 100\n",
        "print(f\"Null values in 'transmission' column AFTER handling (replacing null values with 'A'): {round(null_percentage_after, 2)} %.\")\n"
      ]
    },
    {
      "cell_type": "markdown",
      "id": "393acec7",
      "metadata": {
        "id": "393acec7"
      },
      "source": [
        "#### **body_type**"
      ]
    },
    {
      "cell_type": "code",
      "execution_count": null,
      "id": "1bc0db9c",
      "metadata": {
        "colab": {
          "base_uri": "https://localhost:8080/"
        },
        "id": "1bc0db9c",
        "outputId": "d0f0e524-a8cd-4b57-9144-221dac17a3a3"
      },
      "outputs": [
        {
          "name": "stdout",
          "output_type": "stream",
          "text": [
            "Null values in 'body_type' column BEFORE handling: 0.45 %.\n",
            "Null values in 'body_type' column AFTER handling (replacing null values with 'Unknown'): 0.0 %.\n"
          ]
        }
      ],
      "source": [
        "from pyspark.sql import functions as F\n",
        "\n",
        "# Calculating the total number of rows in the DataFrame\n",
        "total_rows = df.count()\n",
        "\n",
        "# Calculating the percentage of null values in the 'body_type' column BEFORE handling nulls\n",
        "null_percentage_before = df.filter(F.col('body_type').isNull()).count() / total_rows * 100\n",
        "print(f\"Null values in 'body_type' column BEFORE handling: {round(null_percentage_before, 2)} %.\")\n",
        "\n",
        "# Filling null values in 'body_type' with the value 'Unknown'\n",
        "df = df.fillna({'body_type': 'Unknown'})\n",
        "\n",
        "# Calculating the percentage of remaining null values in the 'body_type' column AFTER filling\n",
        "null_percentage_after = df.filter(F.col('body_type').isNull()).count() / total_rows * 100\n",
        "print(f\"Null values in 'body_type' column AFTER handling (replacing null values with 'Unknown'): {round(null_percentage_after, 2)} %.\")\n"
      ]
    },
    {
      "cell_type": "markdown",
      "id": "7bbb7a59",
      "metadata": {
        "id": "7bbb7a59"
      },
      "source": [
        "#### **transmission_display**"
      ]
    },
    {
      "cell_type": "code",
      "execution_count": null,
      "id": "5dffb4e1",
      "metadata": {
        "colab": {
          "base_uri": "https://localhost:8080/"
        },
        "id": "5dffb4e1",
        "outputId": "4175f790-427f-434e-afdb-39c2fe926d0f"
      },
      "outputs": [
        {
          "name": "stdout",
          "output_type": "stream",
          "text": [
            "+----------------------------------+-------+----------+\n",
            "|transmission_display              |count  |percentage|\n",
            "+----------------------------------+-------+----------+\n",
            "|Automatic                         |1255101|41.84     |\n",
            "|Continuously Variable Transmission|454964 |15.17     |\n",
            "|6-Speed Automatic                 |425544 |14.18     |\n",
            "|8-Speed Automatic                 |333315 |11.11     |\n",
            "|9-Speed Automatic                 |146622 |4.89      |\n",
            "|6-Speed Automatic Overdrive       |88050  |2.93      |\n",
            "|NULL                              |64185  |2.14      |\n",
            "|7-Speed Automatic                 |44200  |1.47      |\n",
            "|5-Speed Automatic                 |40504  |1.35      |\n",
            "|4-Speed Automatic                 |36843  |1.23      |\n",
            "|6-Speed Manual                    |21107  |0.7       |\n",
            "|Manual                            |16866  |0.56      |\n",
            "|8-Speed Automatic Overdrive       |12257  |0.41      |\n",
            "|5-Speed Automatic Overdrive       |11996  |0.4       |\n",
            "|1-Speed Automatic                 |8297   |0.28      |\n",
            "|4-Speed Automatic Overdrive       |8033   |0.27      |\n",
            "|5-Speed Manual                    |7874   |0.26      |\n",
            "|6-Speed Dual Clutch               |6190   |0.21      |\n",
            "|9-Speed Automatic Overdrive       |4162   |0.14      |\n",
            "|8-Speed Dual Clutch               |2888   |0.1       |\n",
            "+----------------------------------+-------+----------+\n",
            "only showing top 20 rows\n",
            "\n"
          ]
        }
      ],
      "source": [
        "from pyspark.sql import functions as F\n",
        "\n",
        "# Calculating the total number of rows in the DataFrame\n",
        "total_rows = df.count()\n",
        "\n",
        "# Grouping by 'transmission_display' column, counting the occurrences, and calculating the rounded percentage\n",
        "df_transmission_display_percentage = df.groupBy('transmission_display') \\\n",
        "    .count() \\\n",
        "    .withColumn('percentage', F.round((F.col('count') / total_rows) * 100, 2)) \\\n",
        "    .orderBy(F.col('percentage').desc())\n",
        "\n",
        "# Showing the result\n",
        "df_transmission_display_percentage.show(truncate=False)\n"
      ]
    },
    {
      "cell_type": "markdown",
      "id": "085fec64",
      "metadata": {
        "id": "085fec64"
      },
      "source": [
        "Replacing null values in the `transmission_display` column with `Automatic` is advantageous because the combined percentage of all automatic transmission types amounts to approximately **76.63%** (41.84% for 'Automatic', 15.17% for 'Continuously Variable Transmission', 14.18% for '6-Speed Automatic', 11.11% for '8-Speed Automatic', and others). This substantial majority indicates that automatic transmissions are the most common type in the dataset. In contrast, replacing null values with **'Unknown'** would fail to leverage this significant information, potentially leading to inaccurate analyses and insights regarding vehicle transmission types."
      ]
    },
    {
      "cell_type": "code",
      "execution_count": null,
      "id": "b04219bc",
      "metadata": {
        "colab": {
          "base_uri": "https://localhost:8080/"
        },
        "id": "b04219bc",
        "outputId": "e9053e2e-2e59-4ad2-cb85-3370f11d38c4"
      },
      "outputs": [
        {
          "name": "stdout",
          "output_type": "stream",
          "text": [
            "Null values in 'transmission_display' column BEFORE handling: 2.14 %.\n",
            "Null values in 'transmission_display' column AFTER handling (replacing null values with 'Automatic'): 0.0 %.\n"
          ]
        }
      ],
      "source": [
        "from pyspark.sql import functions as F\n",
        "\n",
        "# Calculating the total number of rows in the DataFrame\n",
        "total_rows = df.count()\n",
        "\n",
        "# Calculating the percentage of null values in the 'transmission_display' column BEFORE handling nulls\n",
        "null_percentage_before = df.filter(F.col('transmission_display').isNull()).count() / total_rows * 100\n",
        "print(f\"Null values in 'transmission_display' column BEFORE handling: {round(null_percentage_before, 2)} %.\")\n",
        "\n",
        "# Filling null values in 'transmission_display' with the value 'Automatic'\n",
        "df = df.fillna({'transmission_display': 'Automatic'})\n",
        "\n",
        "# Calculating the percentage of remaining null values in the 'transmission_display' column AFTER filling\n",
        "null_percentage_after = df.filter(F.col('transmission_display').isNull()).count() / total_rows * 100\n",
        "print(f\"Null values in 'transmission_display' column AFTER handling (replacing null values with 'Automatic'): {round(null_percentage_after, 2)} %.\")\n"
      ]
    },
    {
      "cell_type": "markdown",
      "id": "e93abb7a",
      "metadata": {
        "id": "e93abb7a"
      },
      "source": [
        "#### **wheel_system_display**\n",
        "\n"
      ]
    },
    {
      "cell_type": "code",
      "execution_count": null,
      "id": "e4e00683",
      "metadata": {
        "colab": {
          "base_uri": "https://localhost:8080/"
        },
        "id": "e4e00683",
        "outputId": "aa13fa21-51d2-40d8-aa4a-1640820715cc"
      },
      "outputs": [
        {
          "name": "stdout",
          "output_type": "stream",
          "text": [
            "+--------------------+-------+----------+\n",
            "|wheel_system_display|count  |percentage|\n",
            "+--------------------+-------+----------+\n",
            "|Front-Wheel Drive   |1261367|42.05     |\n",
            "|All-Wheel Drive     |695731 |23.19     |\n",
            "|Four-Wheel Drive    |584524 |19.48     |\n",
            "|Rear-Wheel Drive    |190757 |6.36      |\n",
            "|NULL                |146732 |4.89      |\n",
            "|4X2                 |120929 |4.03      |\n",
            "+--------------------+-------+----------+\n",
            "\n"
          ]
        }
      ],
      "source": [
        "from pyspark.sql import functions as F\n",
        "\n",
        "# Calculating the total number of rows in the DataFrame\n",
        "total_rows = df.count()\n",
        "\n",
        "# Grouping by 'wheel_system_display' column, count the occurrences, and calculate the rounded percentage\n",
        "df_wheel_system_display_percentage = df.groupBy('wheel_system_display') \\\n",
        "    .count() \\\n",
        "    .withColumn('percentage', F.round((F.col('count') / total_rows) * 100, 2)) \\\n",
        "    .orderBy(F.col('percentage').desc())\n",
        "\n",
        "# Showing the result\n",
        "df_wheel_system_display_percentage.show(truncate=False)\n"
      ]
    },
    {
      "cell_type": "markdown",
      "id": "bc80f928",
      "metadata": {
        "id": "bc80f928"
      },
      "source": [
        " I am replacing null values in the `wheel_system_display` with `Unknown` is a more better approach than replacing with **'Front-Wheel Drive'** in this case, because it indicates that the specific wheel system is not available, preserving the integrity of the data without making unwarranted assumptions. This way, I maintain a clear distinction between known and unknown values, which is crucial for accurate analysis."
      ]
    },
    {
      "cell_type": "code",
      "execution_count": null,
      "id": "150d28d6",
      "metadata": {
        "colab": {
          "base_uri": "https://localhost:8080/"
        },
        "id": "150d28d6",
        "outputId": "d98c728d-54a2-497e-f40e-308aba42b648"
      },
      "outputs": [
        {
          "name": "stdout",
          "output_type": "stream",
          "text": [
            "Null values in 'wheel_system_display' column BEFORE handling: 4.89 %.\n",
            "Null values in 'wheel_system_display' column AFTER handling (replacing null values with 'Unknown'): 0.0 %.\n"
          ]
        }
      ],
      "source": [
        "from pyspark.sql import functions as F\n",
        "\n",
        "# Calculating the total number of rows in the DataFrame\n",
        "total_rows = df.count()\n",
        "\n",
        "# Calculating the percentage of null values in the 'wheel_system_display' column BEFORE handling nulls\n",
        "null_percentage_before = df.filter(F.col('wheel_system_display').isNull()).count() / total_rows * 100\n",
        "print(f\"Null values in 'wheel_system_display' column BEFORE handling: {round(null_percentage_before, 2)} %.\")\n",
        "\n",
        "# Filling null values in 'wheel_system_display' with the value 'Unknown'\n",
        "df = df.fillna({'wheel_system_display': 'Unknown'})\n",
        "\n",
        "# Calculating the percentage of remaining null values in the 'wheel_system_display' column AFTER filling\n",
        "null_percentage_after = df.filter(F.col('wheel_system_display').isNull()).count() / total_rows * 100\n",
        "print(f\"Null values in 'wheel_system_display' column AFTER handling (replacing null values with 'Unknown'): {round(null_percentage_after, 2)} %.\")\n"
      ]
    },
    {
      "cell_type": "markdown",
      "id": "5c48513b",
      "metadata": {
        "id": "5c48513b"
      },
      "source": [
        "\n",
        "\n",
        "---\n",
        "\n"
      ]
    },
    {
      "cell_type": "code",
      "execution_count": null,
      "id": "47129492",
      "metadata": {
        "colab": {
          "base_uri": "https://localhost:8080/"
        },
        "id": "47129492",
        "outputId": "2fea1069-c010-4336-c143-5d479cde30f9"
      },
      "outputs": [
        {
          "name": "stdout",
          "output_type": "stream",
          "text": [
            "Number of rows with at least one null value: 0\n"
          ]
        }
      ],
      "source": [
        "from functools import reduce\n",
        "from pyspark.sql.functions import col\n",
        "\n",
        "# Checking for rows with at least one null value in any column\n",
        "rows_with_null = df.filter(\n",
        "    reduce(lambda x, y: x | y, (col(c).isNull() for c in df.columns))).count()\n",
        "\n",
        "print(f\"Number of rows with at least one null value: {rows_with_null}\")"
      ]
    },
    {
      "cell_type": "code",
      "execution_count": null,
      "id": "4defcfc1",
      "metadata": {
        "colab": {
          "base_uri": "https://localhost:8080/"
        },
        "id": "4defcfc1",
        "outputId": "ce110e9e-9fd3-4c1e-ea6c-42c1a785117b"
      },
      "outputs": [
        {
          "name": "stdout",
          "output_type": "stream",
          "text": [
            "+-----+---------------------+---------------+\n",
            "|Index|Column Name          |Null Percentage|\n",
            "+-----+---------------------+---------------+\n",
            "|1    |fuel_type            |0              |\n",
            "|2    |body_type            |0              |\n",
            "|3    |city                 |0              |\n",
            "|4    |city_fuel_economy    |0              |\n",
            "|5    |daysonmarket         |0              |\n",
            "|6    |dealer_zip           |0              |\n",
            "|7    |description          |0              |\n",
            "|8    |engine_displacement  |0              |\n",
            "|9    |engine_type          |0              |\n",
            "|10   |exterior_color       |0              |\n",
            "|11   |franchise_dealer     |0              |\n",
            "|12   |fuel_tank_volume     |0              |\n",
            "|13   |height               |0              |\n",
            "|14   |highway_fuel_economy |0              |\n",
            "|15   |horsepower           |0              |\n",
            "|16   |interior_color       |0              |\n",
            "|17   |is_new               |0              |\n",
            "|18   |latitude             |0              |\n",
            "|19   |length               |0              |\n",
            "|20   |listed_date          |0              |\n",
            "|21   |listing_color        |0              |\n",
            "|22   |longitude            |0              |\n",
            "|23   |major_options        |0              |\n",
            "|24   |make_name            |0              |\n",
            "|25   |maximum_seating      |0              |\n",
            "|26   |mileage              |0              |\n",
            "|27   |model_name           |0              |\n",
            "|28   |price                |0              |\n",
            "|29   |savings_amount       |0              |\n",
            "|30   |seller_rating        |0              |\n",
            "|31   |sp_name              |0              |\n",
            "|32   |torque               |0              |\n",
            "|33   |transmission         |0              |\n",
            "|34   |transmission_display |0              |\n",
            "|35   |wheel_system_display |0              |\n",
            "|36   |wheelbase            |0              |\n",
            "|37   |width                |0              |\n",
            "|38   |year                 |0              |\n",
            "|39   |combined_fuel_economy|0              |\n",
            "|40   |legroom              |0              |\n",
            "|41   |log_mileage          |0              |\n",
            "|42   |major_options_count  |0              |\n",
            "+-----+---------------------+---------------+\n",
            "\n"
          ]
        }
      ],
      "source": [
        "import pandas as pd\n",
        "from pyspark.sql import functions as F\n",
        "from pyspark.sql.window import Window\n",
        "\n",
        "pd.set_option('display.max_columns', None)\n",
        "\n",
        "# Calculating the null percentage for each column (keep it as float for now)\n",
        "null_percentage_calculate_df = df.select(\n",
        "    [(F.sum(F.when(F.col(c).isNull(), 1).otherwise(0)) / F.count(F.lit(1)) * 100).alias(c) for c in df.columns]\n",
        ")\n",
        "\n",
        "# Using explode and creating a map of column names and their null percentages, then casting to int\n",
        "null_percentage_display_df = null_percentage_calculate_df.select(\n",
        "    F.explode(\n",
        "        F.map_from_arrays(\n",
        "            F.array([F.lit(c) for c in df.columns]),\n",
        "            F.array([F.col(c).cast(\"int\") for c in null_percentage_calculate_df.columns])  # Casting percentages to integer\n",
        "        )\n",
        "    ).alias(\"Column Name\", \"Null Percentage\")\n",
        ")\n",
        "\n",
        "# Creating a row index (1-based) and add it to the DataFrame\n",
        "window_spec = Window.orderBy(F.lit(1))\n",
        "null_percentage_display_df = null_percentage_display_df.withColumn(\"Index\", F.row_number().over(window_spec))\n",
        "null_percentage_display_df = null_percentage_display_df.select(\"Index\", \"Column Name\", \"Null Percentage\")\n",
        "\n",
        "# Getting the total number of rows in the reshaped DataFrame\n",
        "total_rows = null_percentage_display_df.count()\n",
        "\n",
        "# Displaying all rows with index without truncation\n",
        "null_percentage_display_df.show(total_rows, truncate=False)\n",
        "\n",
        "# Deleting the DataFrame from the local namespace\n",
        "del null_percentage_display_df\n",
        "_ = gc.collect()\n"
      ]
    },
    {
      "cell_type": "code",
      "execution_count": null,
      "id": "f407e514",
      "metadata": {
        "colab": {
          "base_uri": "https://localhost:8080/"
        },
        "id": "f407e514",
        "outputId": "b51db8cb-8b5d-4a6f-905d-70f7fb977723"
      },
      "outputs": [
        {
          "name": "stdout",
          "output_type": "stream",
          "text": [
            "DataFrame has been saved as a single Parquet file in Google Drive.\n"
          ]
        }
      ],
      "source": [
        "# Setting Spark broadcast timeout for larger datasets\n",
        "spark.conf.set(\"spark.sql.broadcastTimeout\", \"600\")\n",
        "\n",
        "# Coalescing into a single partition (to write as a single file)\n",
        "df_single_partition = df.coalesce(1)\n",
        "\n",
        "# Defining the path in Google Drive where the DataFrame will be saved as a Parquet file\n",
        "output_path = '/content/drive/MyDrive/Big Data Analytics - Project/Datasets/Processed_DF.parquet'\n",
        "\n",
        "# Writing the DataFrame as a Parquet file in the specified Google Drive location\n",
        "df_single_partition.write.format(\"parquet\") \\\n",
        "    .mode(\"overwrite\") \\\n",
        "    .save(output_path)\n",
        "\n",
        "print(\"DataFrame has been saved as a single Parquet file in Google Drive.\")"
      ]
    },
    {
      "cell_type": "markdown",
      "id": "77456a57",
      "metadata": {
        "id": "77456a57"
      },
      "source": [
        "\n",
        "\n",
        "---\n",
        "\n"
      ]
    }
  ],
  "metadata": {
    "kernelspec": {
      "display_name": "Python 3",
      "language": "python",
      "name": "python3"
    },
    "language_info": {
      "codemirror_mode": {
        "name": "ipython",
        "version": 3
      },
      "file_extension": ".py",
      "mimetype": "text/x-python",
      "name": "python",
      "nbconvert_exporter": "python",
      "pygments_lexer": "ipython3",
      "version": "3.11.9"
    },
    "colab": {
      "provenance": []
    }
  },
  "nbformat": 4,
  "nbformat_minor": 5
}
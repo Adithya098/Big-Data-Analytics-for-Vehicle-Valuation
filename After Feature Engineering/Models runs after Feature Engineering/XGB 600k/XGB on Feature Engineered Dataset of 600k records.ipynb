{
 "cells": [
  {
   "cell_type": "code",
   "execution_count": null,
   "metadata": {
    "colab": {
     "base_uri": "https://localhost:8080/"
    },
    "id": "O4Zdpj42Q-4L",
    "outputId": "5f64d249-b712-472e-b97d-ef06080c2737"
   },
   "outputs": [
    {
     "name": "stdout",
     "output_type": "stream",
     "text": [
      "\n",
      "tqdm is already installed.\n",
      "\n",
      "pyspark is already installed.\n",
      "\n",
      "gdown is already installed.\n",
      "\n",
      "numpy is already installed.\n",
      "\n",
      "xgboost is already installed.\n",
      "\n",
      "sparkxgb is already installed.\n"
     ]
    }
   ],
   "source": [
    "import importlib\n",
    "import subprocess\n",
    "import sys\n",
    "import gc\n",
    "\n",
    "def check_and_install_package(package_name, version=None):\n",
    "    try:\n",
    "        importlib.import_module(package_name)\n",
    "        print(f\"\\n{package_name} is already installed.\")\n",
    "    except ImportError:\n",
    "        print(f\"\\n{package_name} is NOT installed. Installing now...\")\n",
    "        if version:\n",
    "            subprocess.check_call([sys.executable, \"-m\", \"pip\", \"install\", f\"{package_name}=={version}\"])\n",
    "        else:\n",
    "            subprocess.check_call([sys.executable, \"-m\", \"pip\", \"install\", package_name])\n",
    "        print(f\"{package_name} installation completed.\")\n",
    "\n",
    "# List of packages to check along with specific versions if necessary\n",
    "packages = [\n",
    "    {\"name\": \"tqdm\", \"version\": None},\n",
    "    {\"name\": \"pyspark\", \"version\": \"3.1.1\"},\n",
    "    {\"name\": \"gdown\", \"version\": None},\n",
    "    {\"name\": \"numpy\", \"version\": \"1.22.4\"},\n",
    "    {\"name\": \"xgboost\", \"version\": None},\n",
    "    {\"name\": \"sparkxgb\", \"version\": None},\n",
    "]\n",
    "\n",
    "# Checking and installing packages\n",
    "for package in packages:\n",
    "    check_and_install_package(package[\"name\"], package[\"version\"])"
   ]
  },
  {
   "cell_type": "code",
   "execution_count": null,
   "metadata": {
    "colab": {
     "base_uri": "https://localhost:8080/"
    },
    "id": "M0LqyJRl0VQN",
    "outputId": "9751186b-205c-4073-8cb1-ee78da7ab011"
   },
   "outputs": [
    {
     "name": "stdout",
     "output_type": "stream",
     "text": [
      "Requirement already satisfied: numpy==1.22.4 in /usr/local/lib/python3.10/dist-packages (1.22.4)\n"
     ]
    }
   ],
   "source": [
    "!pip install numpy==1.22.4"
   ]
  },
  {
   "cell_type": "code",
   "execution_count": null,
   "metadata": {
    "colab": {
     "base_uri": "https://localhost:8080/"
    },
    "id": "jogYwheA0ZXo",
    "outputId": "a85d4849-abe8-4b88-e4c1-50a51dd73dea"
   },
   "outputs": [
    {
     "name": "stdout",
     "output_type": "stream",
     "text": [
      "1.22.4\n"
     ]
    }
   ],
   "source": [
    "import numpy\n",
    "print(numpy.__version__)"
   ]
  },
  {
   "cell_type": "code",
   "execution_count": null,
   "metadata": {
    "colab": {
     "base_uri": "https://localhost:8080/"
    },
    "id": "CPD4U30UJDrh",
    "outputId": "103c8e67-15d4-4035-d56f-0804c450cda7"
   },
   "outputs": [
    {
     "name": "stdout",
     "output_type": "stream",
     "text": [
      "Requirement already satisfied: sparkxgb in /usr/local/lib/python3.10/dist-packages (0.1)\n",
      "Requirement already satisfied: pyspark==3.1.1 in /usr/local/lib/python3.10/dist-packages (from sparkxgb) (3.1.1)\n",
      "Requirement already satisfied: py4j==0.10.9 in /usr/local/lib/python3.10/dist-packages (from pyspark==3.1.1->sparkxgb) (0.10.9)\n"
     ]
    }
   ],
   "source": [
    "!pip install sparkxgb"
   ]
  },
  {
   "cell_type": "code",
   "execution_count": null,
   "metadata": {
    "colab": {
     "base_uri": "https://localhost:8080/"
    },
    "id": "RzKYWgsyRGny",
    "outputId": "5e98cd1f-a55c-456f-f0d7-1f1da05b5cb4"
   },
   "outputs": [
    {
     "name": "stdout",
     "output_type": "stream",
     "text": [
      "Mounted at /content/drive\n"
     ]
    }
   ],
   "source": [
    "from google.colab import drive\n",
    "drive.mount('/content/drive')"
   ]
  },
  {
   "cell_type": "code",
   "execution_count": null,
   "metadata": {
    "colab": {
     "base_uri": "https://localhost:8080/"
    },
    "id": "4QHkLfzsGy18",
    "outputId": "e67522f3-58ab-4b24-91a3-23d22fe3bb76"
   },
   "outputs": [
    {
     "name": "stdout",
     "output_type": "stream",
     "text": [
      "Jar Files copied to: /resources\n",
      "['xgboost4j-spark_2.12-1.7.6.jar', 'xgboost4j_2.12-1.7.6.jar']\n"
     ]
    }
   ],
   "source": [
    "import os\n",
    "import shutil\n",
    "\n",
    "# Defining local resources directory\n",
    "local_resources_path = \"/resources\"\n",
    "os.makedirs(local_resources_path, exist_ok=True)\n",
    "\n",
    "# Defining the source paths from the mounted Google Drive\n",
    "xgboost4j_source = \"/content/drive/MyDrive/Big Data Analytics - Project/resources/xgboost4j_2.12-1.7.6.jar\"\n",
    "xgboost4j_spark_source = \"/content/drive/MyDrive/Big Data Analytics - Project/resources/xgboost4j-spark_2.12-1.7.6.jar\"\n",
    "\n",
    "# Defining the destination paths in the instance's local file system\n",
    "xgboost4j_dest = os.path.join(local_resources_path, \"xgboost4j_2.12-1.7.6.jar\")\n",
    "xgboost4j_spark_dest = os.path.join(local_resources_path, \"xgboost4j-spark_2.12-1.7.6.jar\")\n",
    "\n",
    "# Copying the files from Google Drive to the local instance\n",
    "shutil.copyfile(xgboost4j_source, xgboost4j_dest)\n",
    "shutil.copyfile(xgboost4j_spark_source, xgboost4j_spark_dest)\n",
    "\n",
    "# Verifying that the files are copied\n",
    "print(f\"Jar Files copied to: {local_resources_path}\")\n",
    "print(os.listdir(local_resources_path))\n"
   ]
  },
  {
   "cell_type": "code",
   "execution_count": null,
   "metadata": {
    "colab": {
     "base_uri": "https://localhost:8080/"
    },
    "id": "dMvRtGAZRWKh",
    "outputId": "9766b294-8484-497e-ed3b-b75b94cdbd10"
   },
   "outputs": [
    {
     "name": "stdout",
     "output_type": "stream",
     "text": [
      "Spark session started with version: 3.1.1\n"
     ]
    }
   ],
   "source": [
    "from pyspark.sql import SparkSession\n",
    "\n",
    "# Defining the path to the copied jar files in the local instance\n",
    "jar_files = \"/resources/xgboost4j_2.12-1.7.6.jar,/resources/xgboost4j-spark_2.12-1.7.6.jar\"\n",
    "\n",
    "# Initializing Spark session with the JAR files\n",
    "spark = SparkSession.builder \\\n",
    "    .appName(\"XGBoostRegressor\") \\\n",
    "    .config(\"spark.driver.memory\", \"150g\") \\\n",
    "    .config(\"spark.executor.memory\", \"150g\") \\\n",
    "    .config(\"spark.driver.maxResultSize\", \"50g\") \\\n",
    "    .config(\"spark.executor.memoryOverhead\", \"50g\") \\\n",
    "    .config(\"spark.executor.cores\", \"5\") \\\n",
    "    .config(\"spark.kryoserializer.buffer.max\", \"2047m\") \\\n",
    "    .config(\"spark.serializer\", \"org.apache.spark.serializer.KryoSerializer\") \\\n",
    "    .config(\"spark.dynamicAllocation.enabled\", \"true\") \\\n",
    "    .config(\"spark.sql.shuffle.partitions\", \"400\") \\\n",
    "    .config(\"spark.hadoop.fs.file.impl\", \"org.apache.hadoop.fs.LocalFileSystem\") \\\n",
    "    .config(\"spark.executor.extraJavaOptions\", \"-XX:+UseG1GC -XX:InitiatingHeapOccupancyPercent=35 -XX:ConcGCThreads=4 -XX:ParallelGCThreads=4\") \\\n",
    "    .config(\"spark.jars\", jar_files) \\\n",
    "    .getOrCreate()\n",
    "\n",
    "# Verifying Spark session creation\n",
    "print(f\"Spark session started with version: {spark.version}\")"
   ]
  },
  {
   "cell_type": "code",
   "execution_count": null,
   "metadata": {
    "colab": {
     "base_uri": "https://localhost:8080/"
    },
    "id": "x5Z292PcHRYR",
    "outputId": "c57e1d5a-3c52-4e64-e3b0-324dc6cda34f"
   },
   "outputs": [
    {
     "name": "stdout",
     "output_type": "stream",
     "text": [
      "sparkxgb loaded successfully!\n"
     ]
    }
   ],
   "source": [
    "# Testing if sparkxgb is loaded properly\n",
    "try:\n",
    "    from sparkxgb import XGBoostRegressor\n",
    "\n",
    "    model = XGBoostRegressor()\n",
    "    print(\"sparkxgb loaded successfully!\")\n",
    "except Exception as e:\n",
    "    print(f\"Error loading sparkxgb: {e}\")\n"
   ]
  },
  {
   "cell_type": "code",
   "execution_count": null,
   "metadata": {
    "colab": {
     "base_uri": "https://localhost:8080/"
    },
    "id": "dCaWvkRDRw1H",
    "outputId": "1e294863-0428-4f83-d5aa-f1f229c55da8"
   },
   "outputs": [
    {
     "name": "stdout",
     "output_type": "stream",
     "text": [
      "The Processed DataFrame has been loaded successfully.\n"
     ]
    }
   ],
   "source": [
    "# loading the df\n",
    "\n",
    "!cp '/content/drive/MyDrive/Big Data Analytics - Project/Datasets/Processed_DF.parquet' /content/\n",
    "\n",
    "output_path = '/content/Processed_DF.parquet'\n",
    "df = spark.read.parquet(output_path)\n",
    "print(\"The Processed DataFrame has been loaded successfully.\")\n"
   ]
  },
  {
   "cell_type": "code",
   "execution_count": null,
   "metadata": {
    "id": "LZ1dUb5kRzBz"
   },
   "outputs": [],
   "source": [
    "df = df.repartition(100)  # Repartitioning into 100 partitions for parallelism"
   ]
  },
  {
   "cell_type": "code",
   "execution_count": null,
   "metadata": {
    "colab": {
     "base_uri": "https://localhost:8080/"
    },
    "id": "IwSMZkPSQKW9",
    "outputId": "94107435-0a8a-49ca-ff92-8714949ad1f6"
   },
   "outputs": [
    {
     "name": "stdout",
     "output_type": "stream",
     "text": [
      "The shape of the loaded DataFrame is: (3000040, 42)\n"
     ]
    }
   ],
   "source": [
    "# Printing the shape of the DataFrame\n",
    "total_rows = df.count()\n",
    "total_columns = len(df.columns)\n",
    "\n",
    "print(f\"The shape of the loaded DataFrame is: ({total_rows}, {total_columns})\")"
   ]
  },
  {
   "cell_type": "markdown",
   "metadata": {
    "id": "hEAdCyX20Z9f"
   },
   "source": [
    "### **Handling Categorical Coloumns**"
   ]
  },
  {
   "cell_type": "code",
   "execution_count": null,
   "metadata": {
    "id": "xmEHi2yiR2Mp"
   },
   "outputs": [],
   "source": [
    "df=df.drop('description','major_options','mileage')\n",
    "# Keeping the columns ['exterior_color','dealer_zip','interior_color']"
   ]
  },
  {
   "cell_type": "code",
   "execution_count": null,
   "metadata": {
    "colab": {
     "base_uri": "https://localhost:8080/"
    },
    "id": "ib1FhenhSMIy",
    "outputId": "fa71b74d-331e-46a2-caba-7a442af6309b"
   },
   "outputs": [
    {
     "name": "stdout",
     "output_type": "stream",
     "text": [
      "Unique exterior colors: 23036\n",
      "Unique interior colors: 38528\n"
     ]
    }
   ],
   "source": [
    "# Counting unique values in 'exterior_color' and 'interior_color' columns\n",
    "exterior_colors_count = df.select('exterior_color').distinct().count()\n",
    "interior_colors_count = df.select('interior_color').distinct().count()\n",
    "\n",
    "print(f\"Unique exterior colors: {exterior_colors_count}\")\n",
    "print(f\"Unique interior colors: {interior_colors_count}\")"
   ]
  },
  {
   "cell_type": "code",
   "execution_count": null,
   "metadata": {
    "id": "T9PceT2CSN3i"
   },
   "outputs": [],
   "source": [
    "from pyspark.sql import functions as F\n",
    "from pyspark.sql.types import ArrayType, StringType\n",
    "\n",
    "# Listing top colors for both exterior and interior\n",
    "colors = ['White', 'Black', 'Gray', 'Silver', 'Red', 'Blue', 'Brown', 'Green', 'Beige', 'Orange', 'Gold', 'Yellow', 'Purple']\n",
    "\n",
    "# Creating a UDF to find colors in the color columns\n",
    "@F.udf(returnType=ArrayType(StringType()))\n",
    "def find_colors(color_string):\n",
    "    if color_string is None or color_string.strip() == \"\":\n",
    "        return [\"Other\"]  # Handle empty or null values\n",
    "    found_colors = [c for c in colors if c.lower() in color_string.lower()]\n",
    "    return found_colors if found_colors else [\"Other\"]  # Label non-matching colors as \"Other\"\n",
    "\n",
    "# Applying the UDF to both the exterior and interior color columns\n",
    "df = df.withColumn(\"exterior_color_array\", find_colors(\"exterior_color\"))\n",
    "df = df.withColumn(\"interior_color_array\", find_colors(\"interior_color\"))\n",
    "\n",
    "# Creating a column with the count of colors found for both exterior and interior\n",
    "df = df.withColumn(\"exterior_color_count\", F.size(\"exterior_color_array\"))\n",
    "df = df.withColumn(\"interior_color_count\", F.size(\"interior_color_array\"))\n",
    "\n",
    "# Joining the color arrays into string columns\n",
    "df = df.withColumn(\"exterior_color\", F.array_join(\"exterior_color_array\", \", \"))\n",
    "df = df.withColumn(\"interior_color\", F.array_join(\"interior_color_array\", \", \"))\n",
    "\n",
    "# Labeling mixed colors for both exterior and interior colors\n",
    "df = df.withColumn(\n",
    "    \"exterior_color\",\n",
    "    F.when(F.col(\"exterior_color_count\") > 1, \"Mixed Colors\")\n",
    "     .otherwise(F.col(\"exterior_color\")))\n",
    "\n",
    "df = df.withColumn(\n",
    "    \"interior_color\",\n",
    "    F.when(F.col(\"interior_color_count\") > 1, \"Mixed Colors\")\n",
    "     .otherwise(F.col(\"interior_color\")))\n",
    "\n",
    "# Dropping temporary columns\n",
    "df = df.drop(\"exterior_color_array\", \"exterior_color_count\", \"interior_color_array\", \"interior_color_count\")\n"
   ]
  },
  {
   "cell_type": "code",
   "execution_count": null,
   "metadata": {
    "colab": {
     "base_uri": "https://localhost:8080/"
    },
    "id": "b4EcpFeISPsU",
    "outputId": "9811de94-1545-41c9-b409-c7284652711e"
   },
   "outputs": [
    {
     "name": "stdout",
     "output_type": "stream",
     "text": [
      "Exterior Color Distribution:\n",
      "+--------------+------+----------+\n",
      "|exterior_color|count |percentage|\n",
      "+--------------+------+----------+\n",
      "|White         |675979|22.53     |\n",
      "|Black         |580148|19.34     |\n",
      "|Other         |543638|18.12     |\n",
      "|Silver        |384540|12.82     |\n",
      "|Blue          |253263|8.44      |\n",
      "|Red           |242331|8.08      |\n",
      "|Gray          |231172|7.71      |\n",
      "|Green         |23026 |0.77      |\n",
      "|Mixed Colors  |19728 |0.66      |\n",
      "|Brown         |12905 |0.43      |\n",
      "|Orange        |11638 |0.39      |\n",
      "|Gold          |10544 |0.35      |\n",
      "|Beige         |5065  |0.17      |\n",
      "|Yellow        |4855  |0.16      |\n",
      "|Purple        |1208  |0.04      |\n",
      "+--------------+------+----------+\n",
      "\n"
     ]
    }
   ],
   "source": [
    "# Counting the occurrences of each exterior and interior color and calculating percentages\n",
    "exterior_color_counts = df.groupBy(\"exterior_color\").count().withColumn(\n",
    "    \"percentage\", F.round((F.col(\"count\") / df.count()) * 100, 2))\n",
    "\n",
    "interior_color_counts = df.groupBy(\"interior_color\").count().withColumn(\n",
    "    \"percentage\", F.round((F.col(\"count\") / df.count()) * 100, 2))\n",
    "\n",
    "# Showing the results\n",
    "print(\"Exterior Color Distribution:\")\n",
    "exterior_color_counts.orderBy(F.desc(\"count\")).show(truncate=False)"
   ]
  },
  {
   "cell_type": "code",
   "execution_count": null,
   "metadata": {
    "colab": {
     "base_uri": "https://localhost:8080/"
    },
    "id": "4XTgdusCSRQe",
    "outputId": "a0f0ee2c-33af-43d6-f76d-19263164c7ee"
   },
   "outputs": [
    {
     "name": "stdout",
     "output_type": "stream",
     "text": [
      "Interior Color Distribution:\n",
      "+--------------+-------+----------+\n",
      "|interior_color|count  |percentage|\n",
      "+--------------+-------+----------+\n",
      "|Black         |1624033|54.13     |\n",
      "|Other         |577578 |19.25     |\n",
      "|Gray          |383966 |12.8      |\n",
      "|Mixed Colors  |171212 |5.71      |\n",
      "|White         |91545  |3.05      |\n",
      "|Brown         |65943  |2.2       |\n",
      "|Red           |34117  |1.14      |\n",
      "|Silver        |24124  |0.8       |\n",
      "|Blue          |22828  |0.76      |\n",
      "|Green         |2048   |0.07      |\n",
      "|Gold          |1193   |0.04      |\n",
      "|Orange        |1133   |0.04      |\n",
      "|Yellow        |134    |0.0       |\n",
      "|Purple        |121    |0.0       |\n",
      "|Beige         |65     |0.0       |\n",
      "+--------------+-------+----------+\n",
      "\n"
     ]
    }
   ],
   "source": [
    "print(\"Interior Color Distribution:\")\n",
    "interior_color_counts.orderBy(F.desc(\"count\")).show(truncate=False)"
   ]
  },
  {
   "cell_type": "code",
   "execution_count": null,
   "metadata": {
    "colab": {
     "base_uri": "https://localhost:8080/"
    },
    "id": "jLYLAYhwSURW",
    "outputId": "5628e258-eff2-4294-f545-5de9709013f4"
   },
   "outputs": [
    {
     "name": "stdout",
     "output_type": "stream",
     "text": [
      "Final processed DataFrame used for the model has 3000040 rows and 39 columns.\n"
     ]
    }
   ],
   "source": [
    "print(f\"Final processed DataFrame used for the model has {df.count()} rows and {len(df.columns)} columns.\")"
   ]
  },
  {
   "cell_type": "code",
   "execution_count": null,
   "metadata": {
    "colab": {
     "base_uri": "https://localhost:8080/"
    },
    "id": "7dcz6FESaJZt",
    "outputId": "02c07809-908d-4d2e-ef6b-2207e67b1d67"
   },
   "outputs": [
    {
     "name": "stdout",
     "output_type": "stream",
     "text": [
      "Average price of a car: 29933\n"
     ]
    }
   ],
   "source": [
    "# Calculating the average price\n",
    "avg_price = df.agg({\"price\": \"avg\"}).collect()[0][0]\n",
    "print(f\"Average price of a car: {round(avg_price)}\")"
   ]
  },
  {
   "cell_type": "code",
   "execution_count": null,
   "metadata": {
    "colab": {
     "base_uri": "https://localhost:8080/",
     "height": 399
    },
    "id": "IycOaAwj1U8o",
    "outputId": "31fcd4c7-20a7-4f09-ca34-b8ed8e476516"
   },
   "outputs": [
    {
     "data": {
      "application/vnd.google.colaboratory.intrinsic+json": {
       "type": "dataframe",
       "variable_name": "pandas_df"
      },
      "text/html": [
       "\n",
       "  <div id=\"df-f43bd7b3-503e-4b6a-81b1-4b5ca70b1369\" class=\"colab-df-container\">\n",
       "    <div>\n",
       "<style scoped>\n",
       "    .dataframe tbody tr th:only-of-type {\n",
       "        vertical-align: middle;\n",
       "    }\n",
       "\n",
       "    .dataframe tbody tr th {\n",
       "        vertical-align: top;\n",
       "    }\n",
       "\n",
       "    .dataframe thead th {\n",
       "        text-align: right;\n",
       "    }\n",
       "</style>\n",
       "<table border=\"1\" class=\"dataframe\">\n",
       "  <thead>\n",
       "    <tr style=\"text-align: right;\">\n",
       "      <th></th>\n",
       "      <th>fuel_type</th>\n",
       "      <th>body_type</th>\n",
       "      <th>city</th>\n",
       "      <th>city_fuel_economy</th>\n",
       "      <th>daysonmarket</th>\n",
       "      <th>dealer_zip</th>\n",
       "      <th>engine_displacement</th>\n",
       "      <th>engine_type</th>\n",
       "      <th>exterior_color</th>\n",
       "      <th>franchise_dealer</th>\n",
       "      <th>fuel_tank_volume</th>\n",
       "      <th>height</th>\n",
       "      <th>highway_fuel_economy</th>\n",
       "      <th>horsepower</th>\n",
       "      <th>interior_color</th>\n",
       "      <th>is_new</th>\n",
       "      <th>latitude</th>\n",
       "      <th>length</th>\n",
       "      <th>listed_date</th>\n",
       "      <th>listing_color</th>\n",
       "      <th>longitude</th>\n",
       "      <th>make_name</th>\n",
       "      <th>maximum_seating</th>\n",
       "      <th>model_name</th>\n",
       "      <th>price</th>\n",
       "      <th>savings_amount</th>\n",
       "      <th>seller_rating</th>\n",
       "      <th>sp_name</th>\n",
       "      <th>torque</th>\n",
       "      <th>transmission</th>\n",
       "      <th>transmission_display</th>\n",
       "      <th>wheel_system_display</th>\n",
       "      <th>wheelbase</th>\n",
       "      <th>width</th>\n",
       "      <th>year</th>\n",
       "      <th>combined_fuel_economy</th>\n",
       "      <th>legroom</th>\n",
       "      <th>log_mileage</th>\n",
       "      <th>major_options_count</th>\n",
       "    </tr>\n",
       "  </thead>\n",
       "  <tbody>\n",
       "    <tr>\n",
       "      <th>0</th>\n",
       "      <td>Gasoline</td>\n",
       "      <td>SUV / Crossover</td>\n",
       "      <td>Aurora</td>\n",
       "      <td>18.000000</td>\n",
       "      <td>182</td>\n",
       "      <td>80014</td>\n",
       "      <td>3600.0</td>\n",
       "      <td>V6</td>\n",
       "      <td>Red</td>\n",
       "      <td>True</td>\n",
       "      <td>21.700001</td>\n",
       "      <td>67.00</td>\n",
       "      <td>25.000000</td>\n",
       "      <td>308.0</td>\n",
       "      <td>Black</td>\n",
       "      <td>True</td>\n",
       "      <td>39.679298</td>\n",
       "      <td>191.4</td>\n",
       "      <td>2020-03-14</td>\n",
       "      <td>RED</td>\n",
       "      <td>-104.866997</td>\n",
       "      <td>Chevrolet</td>\n",
       "      <td>5.0</td>\n",
       "      <td>Blazer</td>\n",
       "      <td>51959.0</td>\n",
       "      <td>0</td>\n",
       "      <td>3.863636</td>\n",
       "      <td>Ed Bozarth Chevrolet Company, Inc.</td>\n",
       "      <td>270.00</td>\n",
       "      <td>A</td>\n",
       "      <td>Automatic</td>\n",
       "      <td>All-Wheel Drive</td>\n",
       "      <td>112.7</td>\n",
       "      <td>76.7</td>\n",
       "      <td>2020</td>\n",
       "      <td>21.50</td>\n",
       "      <td>80.60</td>\n",
       "      <td>0.00</td>\n",
       "      <td>12</td>\n",
       "    </tr>\n",
       "    <tr>\n",
       "      <th>1</th>\n",
       "      <td>Gasoline</td>\n",
       "      <td>SUV / Crossover</td>\n",
       "      <td>Chillicothe</td>\n",
       "      <td>27.000000</td>\n",
       "      <td>33</td>\n",
       "      <td>45601</td>\n",
       "      <td>2500.0</td>\n",
       "      <td>I4</td>\n",
       "      <td>Gray</td>\n",
       "      <td>True</td>\n",
       "      <td>13.200000</td>\n",
       "      <td>61.60</td>\n",
       "      <td>33.000000</td>\n",
       "      <td>241.0</td>\n",
       "      <td>Black</td>\n",
       "      <td>True</td>\n",
       "      <td>39.395100</td>\n",
       "      <td>164.0</td>\n",
       "      <td>2020-08-08</td>\n",
       "      <td>GRAY</td>\n",
       "      <td>-82.972099</td>\n",
       "      <td>Hyundai</td>\n",
       "      <td>5.0</td>\n",
       "      <td>Kona</td>\n",
       "      <td>23925.0</td>\n",
       "      <td>0</td>\n",
       "      <td>4.150000</td>\n",
       "      <td>Herrnstein Hyundai</td>\n",
       "      <td>265.22</td>\n",
       "      <td>A</td>\n",
       "      <td>6-Speed Automatic</td>\n",
       "      <td>Unknown</td>\n",
       "      <td>102.4</td>\n",
       "      <td>70.9</td>\n",
       "      <td>2021</td>\n",
       "      <td>30.00</td>\n",
       "      <td>76.10</td>\n",
       "      <td>8.91</td>\n",
       "      <td>6</td>\n",
       "    </tr>\n",
       "    <tr>\n",
       "      <th>2</th>\n",
       "      <td>Gasoline</td>\n",
       "      <td>Sedan</td>\n",
       "      <td>Flowood</td>\n",
       "      <td>22.690001</td>\n",
       "      <td>7</td>\n",
       "      <td>39232</td>\n",
       "      <td>2500.0</td>\n",
       "      <td>Gasoline engine</td>\n",
       "      <td>Black</td>\n",
       "      <td>True</td>\n",
       "      <td>18.090000</td>\n",
       "      <td>65.87</td>\n",
       "      <td>29.469999</td>\n",
       "      <td>241.0</td>\n",
       "      <td>Black</td>\n",
       "      <td>True</td>\n",
       "      <td>32.336201</td>\n",
       "      <td>189.8</td>\n",
       "      <td>2020-09-04</td>\n",
       "      <td>BLACK</td>\n",
       "      <td>-90.096603</td>\n",
       "      <td>Hyundai</td>\n",
       "      <td>5.0</td>\n",
       "      <td>Sonata</td>\n",
       "      <td>32030.0</td>\n",
       "      <td>0</td>\n",
       "      <td>3.875000</td>\n",
       "      <td>Wilson Hyundai</td>\n",
       "      <td>265.22</td>\n",
       "      <td>A</td>\n",
       "      <td>Automatic</td>\n",
       "      <td>Unknown</td>\n",
       "      <td>111.0</td>\n",
       "      <td>77.2</td>\n",
       "      <td>2021</td>\n",
       "      <td>26.08</td>\n",
       "      <td>80.16</td>\n",
       "      <td>2.40</td>\n",
       "      <td>0</td>\n",
       "    </tr>\n",
       "    <tr>\n",
       "      <th>3</th>\n",
       "      <td>Diesel</td>\n",
       "      <td>Pickup Truck</td>\n",
       "      <td>Mount Airy</td>\n",
       "      <td>22.690001</td>\n",
       "      <td>252</td>\n",
       "      <td>27030</td>\n",
       "      <td>6700.0</td>\n",
       "      <td>I6</td>\n",
       "      <td>Other</td>\n",
       "      <td>True</td>\n",
       "      <td>31.000000</td>\n",
       "      <td>78.20</td>\n",
       "      <td>29.469999</td>\n",
       "      <td>370.0</td>\n",
       "      <td>Black</td>\n",
       "      <td>True</td>\n",
       "      <td>36.509899</td>\n",
       "      <td>238.8</td>\n",
       "      <td>2020-01-02</td>\n",
       "      <td>UNKNOWN</td>\n",
       "      <td>-80.625298</td>\n",
       "      <td>RAM</td>\n",
       "      <td>6.0</td>\n",
       "      <td>2500</td>\n",
       "      <td>45835.0</td>\n",
       "      <td>0</td>\n",
       "      <td>4.727273</td>\n",
       "      <td>Mount Airy Chrysler Dodge Jeep Ram</td>\n",
       "      <td>850.00</td>\n",
       "      <td>A</td>\n",
       "      <td>Automatic</td>\n",
       "      <td>4X2</td>\n",
       "      <td>149.0</td>\n",
       "      <td>83.5</td>\n",
       "      <td>2020</td>\n",
       "      <td>26.08</td>\n",
       "      <td>81.10</td>\n",
       "      <td>0.00</td>\n",
       "      <td>3</td>\n",
       "    </tr>\n",
       "    <tr>\n",
       "      <th>4</th>\n",
       "      <td>Hybrid</td>\n",
       "      <td>SUV / Crossover</td>\n",
       "      <td>Arlington</td>\n",
       "      <td>22.690001</td>\n",
       "      <td>37</td>\n",
       "      <td>76017</td>\n",
       "      <td>3000.0</td>\n",
       "      <td>V6</td>\n",
       "      <td>White</td>\n",
       "      <td>True</td>\n",
       "      <td>19.400000</td>\n",
       "      <td>67.40</td>\n",
       "      <td>29.469999</td>\n",
       "      <td>321.0</td>\n",
       "      <td>White</td>\n",
       "      <td>True</td>\n",
       "      <td>32.675499</td>\n",
       "      <td>196.2</td>\n",
       "      <td>2020-08-06</td>\n",
       "      <td>GRAY</td>\n",
       "      <td>-97.121902</td>\n",
       "      <td>Acura</td>\n",
       "      <td>6.0</td>\n",
       "      <td>MDX Hybrid Sport</td>\n",
       "      <td>60775.0</td>\n",
       "      <td>0</td>\n",
       "      <td>3.984848</td>\n",
       "      <td>Vandergriff Acura</td>\n",
       "      <td>265.22</td>\n",
       "      <td>A</td>\n",
       "      <td>7-Speed Automatic</td>\n",
       "      <td>All-Wheel Drive</td>\n",
       "      <td>111.0</td>\n",
       "      <td>77.7</td>\n",
       "      <td>2020</td>\n",
       "      <td>26.08</td>\n",
       "      <td>77.00</td>\n",
       "      <td>1.10</td>\n",
       "      <td>7</td>\n",
       "    </tr>\n",
       "  </tbody>\n",
       "</table>\n",
       "</div>\n",
       "    <div class=\"colab-df-buttons\">\n",
       "\n",
       "  <div class=\"colab-df-container\">\n",
       "    <button class=\"colab-df-convert\" onclick=\"convertToInteractive('df-f43bd7b3-503e-4b6a-81b1-4b5ca70b1369')\"\n",
       "            title=\"Convert this dataframe to an interactive table.\"\n",
       "            style=\"display:none;\">\n",
       "\n",
       "  <svg xmlns=\"http://www.w3.org/2000/svg\" height=\"24px\" viewBox=\"0 -960 960 960\">\n",
       "    <path d=\"M120-120v-720h720v720H120Zm60-500h600v-160H180v160Zm220 220h160v-160H400v160Zm0 220h160v-160H400v160ZM180-400h160v-160H180v160Zm440 0h160v-160H620v160ZM180-180h160v-160H180v160Zm440 0h160v-160H620v160Z\"/>\n",
       "  </svg>\n",
       "    </button>\n",
       "\n",
       "  <style>\n",
       "    .colab-df-container {\n",
       "      display:flex;\n",
       "      gap: 12px;\n",
       "    }\n",
       "\n",
       "    .colab-df-convert {\n",
       "      background-color: #E8F0FE;\n",
       "      border: none;\n",
       "      border-radius: 50%;\n",
       "      cursor: pointer;\n",
       "      display: none;\n",
       "      fill: #1967D2;\n",
       "      height: 32px;\n",
       "      padding: 0 0 0 0;\n",
       "      width: 32px;\n",
       "    }\n",
       "\n",
       "    .colab-df-convert:hover {\n",
       "      background-color: #E2EBFA;\n",
       "      box-shadow: 0px 1px 2px rgba(60, 64, 67, 0.3), 0px 1px 3px 1px rgba(60, 64, 67, 0.15);\n",
       "      fill: #174EA6;\n",
       "    }\n",
       "\n",
       "    .colab-df-buttons div {\n",
       "      margin-bottom: 4px;\n",
       "    }\n",
       "\n",
       "    [theme=dark] .colab-df-convert {\n",
       "      background-color: #3B4455;\n",
       "      fill: #D2E3FC;\n",
       "    }\n",
       "\n",
       "    [theme=dark] .colab-df-convert:hover {\n",
       "      background-color: #434B5C;\n",
       "      box-shadow: 0px 1px 3px 1px rgba(0, 0, 0, 0.15);\n",
       "      filter: drop-shadow(0px 1px 2px rgba(0, 0, 0, 0.3));\n",
       "      fill: #FFFFFF;\n",
       "    }\n",
       "  </style>\n",
       "\n",
       "    <script>\n",
       "      const buttonEl =\n",
       "        document.querySelector('#df-f43bd7b3-503e-4b6a-81b1-4b5ca70b1369 button.colab-df-convert');\n",
       "      buttonEl.style.display =\n",
       "        google.colab.kernel.accessAllowed ? 'block' : 'none';\n",
       "\n",
       "      async function convertToInteractive(key) {\n",
       "        const element = document.querySelector('#df-f43bd7b3-503e-4b6a-81b1-4b5ca70b1369');\n",
       "        const dataTable =\n",
       "          await google.colab.kernel.invokeFunction('convertToInteractive',\n",
       "                                                    [key], {});\n",
       "        if (!dataTable) return;\n",
       "\n",
       "        const docLinkHtml = 'Like what you see? Visit the ' +\n",
       "          '<a target=\"_blank\" href=https://colab.research.google.com/notebooks/data_table.ipynb>data table notebook</a>'\n",
       "          + ' to learn more about interactive tables.';\n",
       "        element.innerHTML = '';\n",
       "        dataTable['output_type'] = 'display_data';\n",
       "        await google.colab.output.renderOutput(dataTable, element);\n",
       "        const docLink = document.createElement('div');\n",
       "        docLink.innerHTML = docLinkHtml;\n",
       "        element.appendChild(docLink);\n",
       "      }\n",
       "    </script>\n",
       "  </div>\n",
       "\n",
       "\n",
       "<div id=\"df-6f8cde34-eb29-49ee-b3ba-da7278b065c3\">\n",
       "  <button class=\"colab-df-quickchart\" onclick=\"quickchart('df-6f8cde34-eb29-49ee-b3ba-da7278b065c3')\"\n",
       "            title=\"Suggest charts\"\n",
       "            style=\"display:none;\">\n",
       "\n",
       "<svg xmlns=\"http://www.w3.org/2000/svg\" height=\"24px\"viewBox=\"0 0 24 24\"\n",
       "     width=\"24px\">\n",
       "    <g>\n",
       "        <path d=\"M19 3H5c-1.1 0-2 .9-2 2v14c0 1.1.9 2 2 2h14c1.1 0 2-.9 2-2V5c0-1.1-.9-2-2-2zM9 17H7v-7h2v7zm4 0h-2V7h2v10zm4 0h-2v-4h2v4z\"/>\n",
       "    </g>\n",
       "</svg>\n",
       "  </button>\n",
       "\n",
       "<style>\n",
       "  .colab-df-quickchart {\n",
       "      --bg-color: #E8F0FE;\n",
       "      --fill-color: #1967D2;\n",
       "      --hover-bg-color: #E2EBFA;\n",
       "      --hover-fill-color: #174EA6;\n",
       "      --disabled-fill-color: #AAA;\n",
       "      --disabled-bg-color: #DDD;\n",
       "  }\n",
       "\n",
       "  [theme=dark] .colab-df-quickchart {\n",
       "      --bg-color: #3B4455;\n",
       "      --fill-color: #D2E3FC;\n",
       "      --hover-bg-color: #434B5C;\n",
       "      --hover-fill-color: #FFFFFF;\n",
       "      --disabled-bg-color: #3B4455;\n",
       "      --disabled-fill-color: #666;\n",
       "  }\n",
       "\n",
       "  .colab-df-quickchart {\n",
       "    background-color: var(--bg-color);\n",
       "    border: none;\n",
       "    border-radius: 50%;\n",
       "    cursor: pointer;\n",
       "    display: none;\n",
       "    fill: var(--fill-color);\n",
       "    height: 32px;\n",
       "    padding: 0;\n",
       "    width: 32px;\n",
       "  }\n",
       "\n",
       "  .colab-df-quickchart:hover {\n",
       "    background-color: var(--hover-bg-color);\n",
       "    box-shadow: 0 1px 2px rgba(60, 64, 67, 0.3), 0 1px 3px 1px rgba(60, 64, 67, 0.15);\n",
       "    fill: var(--button-hover-fill-color);\n",
       "  }\n",
       "\n",
       "  .colab-df-quickchart-complete:disabled,\n",
       "  .colab-df-quickchart-complete:disabled:hover {\n",
       "    background-color: var(--disabled-bg-color);\n",
       "    fill: var(--disabled-fill-color);\n",
       "    box-shadow: none;\n",
       "  }\n",
       "\n",
       "  .colab-df-spinner {\n",
       "    border: 2px solid var(--fill-color);\n",
       "    border-color: transparent;\n",
       "    border-bottom-color: var(--fill-color);\n",
       "    animation:\n",
       "      spin 1s steps(1) infinite;\n",
       "  }\n",
       "\n",
       "  @keyframes spin {\n",
       "    0% {\n",
       "      border-color: transparent;\n",
       "      border-bottom-color: var(--fill-color);\n",
       "      border-left-color: var(--fill-color);\n",
       "    }\n",
       "    20% {\n",
       "      border-color: transparent;\n",
       "      border-left-color: var(--fill-color);\n",
       "      border-top-color: var(--fill-color);\n",
       "    }\n",
       "    30% {\n",
       "      border-color: transparent;\n",
       "      border-left-color: var(--fill-color);\n",
       "      border-top-color: var(--fill-color);\n",
       "      border-right-color: var(--fill-color);\n",
       "    }\n",
       "    40% {\n",
       "      border-color: transparent;\n",
       "      border-right-color: var(--fill-color);\n",
       "      border-top-color: var(--fill-color);\n",
       "    }\n",
       "    60% {\n",
       "      border-color: transparent;\n",
       "      border-right-color: var(--fill-color);\n",
       "    }\n",
       "    80% {\n",
       "      border-color: transparent;\n",
       "      border-right-color: var(--fill-color);\n",
       "      border-bottom-color: var(--fill-color);\n",
       "    }\n",
       "    90% {\n",
       "      border-color: transparent;\n",
       "      border-bottom-color: var(--fill-color);\n",
       "    }\n",
       "  }\n",
       "</style>\n",
       "\n",
       "  <script>\n",
       "    async function quickchart(key) {\n",
       "      const quickchartButtonEl =\n",
       "        document.querySelector('#' + key + ' button');\n",
       "      quickchartButtonEl.disabled = true;  // To prevent multiple clicks.\n",
       "      quickchartButtonEl.classList.add('colab-df-spinner');\n",
       "      try {\n",
       "        const charts = await google.colab.kernel.invokeFunction(\n",
       "            'suggestCharts', [key], {});\n",
       "      } catch (error) {\n",
       "        console.error('Error during call to suggestCharts:', error);\n",
       "      }\n",
       "      quickchartButtonEl.classList.remove('colab-df-spinner');\n",
       "      quickchartButtonEl.classList.add('colab-df-quickchart-complete');\n",
       "    }\n",
       "    (() => {\n",
       "      let quickchartButtonEl =\n",
       "        document.querySelector('#df-6f8cde34-eb29-49ee-b3ba-da7278b065c3 button');\n",
       "      quickchartButtonEl.style.display =\n",
       "        google.colab.kernel.accessAllowed ? 'block' : 'none';\n",
       "    })();\n",
       "  </script>\n",
       "</div>\n",
       "\n",
       "  <div id=\"id_2d9339b1-782f-483d-a00b-d5b488764c6e\">\n",
       "    <style>\n",
       "      .colab-df-generate {\n",
       "        background-color: #E8F0FE;\n",
       "        border: none;\n",
       "        border-radius: 50%;\n",
       "        cursor: pointer;\n",
       "        display: none;\n",
       "        fill: #1967D2;\n",
       "        height: 32px;\n",
       "        padding: 0 0 0 0;\n",
       "        width: 32px;\n",
       "      }\n",
       "\n",
       "      .colab-df-generate:hover {\n",
       "        background-color: #E2EBFA;\n",
       "        box-shadow: 0px 1px 2px rgba(60, 64, 67, 0.3), 0px 1px 3px 1px rgba(60, 64, 67, 0.15);\n",
       "        fill: #174EA6;\n",
       "      }\n",
       "\n",
       "      [theme=dark] .colab-df-generate {\n",
       "        background-color: #3B4455;\n",
       "        fill: #D2E3FC;\n",
       "      }\n",
       "\n",
       "      [theme=dark] .colab-df-generate:hover {\n",
       "        background-color: #434B5C;\n",
       "        box-shadow: 0px 1px 3px 1px rgba(0, 0, 0, 0.15);\n",
       "        filter: drop-shadow(0px 1px 2px rgba(0, 0, 0, 0.3));\n",
       "        fill: #FFFFFF;\n",
       "      }\n",
       "    </style>\n",
       "    <button class=\"colab-df-generate\" onclick=\"generateWithVariable('pandas_df')\"\n",
       "            title=\"Generate code using this dataframe.\"\n",
       "            style=\"display:none;\">\n",
       "\n",
       "  <svg xmlns=\"http://www.w3.org/2000/svg\" height=\"24px\"viewBox=\"0 0 24 24\"\n",
       "       width=\"24px\">\n",
       "    <path d=\"M7,19H8.4L18.45,9,17,7.55,7,17.6ZM5,21V16.75L18.45,3.32a2,2,0,0,1,2.83,0l1.4,1.43a1.91,1.91,0,0,1,.58,1.4,1.91,1.91,0,0,1-.58,1.4L9.25,21ZM18.45,9,17,7.55Zm-12,3A5.31,5.31,0,0,0,4.9,8.1,5.31,5.31,0,0,0,1,6.5,5.31,5.31,0,0,0,4.9,4.9,5.31,5.31,0,0,0,6.5,1,5.31,5.31,0,0,0,8.1,4.9,5.31,5.31,0,0,0,12,6.5,5.46,5.46,0,0,0,6.5,12Z\"/>\n",
       "  </svg>\n",
       "    </button>\n",
       "    <script>\n",
       "      (() => {\n",
       "      const buttonEl =\n",
       "        document.querySelector('#id_2d9339b1-782f-483d-a00b-d5b488764c6e button.colab-df-generate');\n",
       "      buttonEl.style.display =\n",
       "        google.colab.kernel.accessAllowed ? 'block' : 'none';\n",
       "\n",
       "      buttonEl.onclick = () => {\n",
       "        google.colab.notebook.generateWithVariable('pandas_df');\n",
       "      }\n",
       "      })();\n",
       "    </script>\n",
       "  </div>\n",
       "\n",
       "    </div>\n",
       "  </div>\n"
      ],
      "text/plain": [
       "  fuel_type        body_type         city  city_fuel_economy  daysonmarket  \\\n",
       "0  Gasoline  SUV / Crossover       Aurora          18.000000           182   \n",
       "1  Gasoline  SUV / Crossover  Chillicothe          27.000000            33   \n",
       "2  Gasoline            Sedan      Flowood          22.690001             7   \n",
       "3    Diesel     Pickup Truck   Mount Airy          22.690001           252   \n",
       "4    Hybrid  SUV / Crossover    Arlington          22.690001            37   \n",
       "\n",
       "  dealer_zip  engine_displacement      engine_type exterior_color  \\\n",
       "0      80014               3600.0               V6            Red   \n",
       "1      45601               2500.0               I4           Gray   \n",
       "2      39232               2500.0  Gasoline engine          Black   \n",
       "3      27030               6700.0               I6          Other   \n",
       "4      76017               3000.0               V6          White   \n",
       "\n",
       "   franchise_dealer  fuel_tank_volume  height  highway_fuel_economy  \\\n",
       "0              True         21.700001   67.00             25.000000   \n",
       "1              True         13.200000   61.60             33.000000   \n",
       "2              True         18.090000   65.87             29.469999   \n",
       "3              True         31.000000   78.20             29.469999   \n",
       "4              True         19.400000   67.40             29.469999   \n",
       "\n",
       "   horsepower interior_color  is_new   latitude  length listed_date  \\\n",
       "0       308.0          Black    True  39.679298   191.4  2020-03-14   \n",
       "1       241.0          Black    True  39.395100   164.0  2020-08-08   \n",
       "2       241.0          Black    True  32.336201   189.8  2020-09-04   \n",
       "3       370.0          Black    True  36.509899   238.8  2020-01-02   \n",
       "4       321.0          White    True  32.675499   196.2  2020-08-06   \n",
       "\n",
       "  listing_color   longitude  make_name  maximum_seating        model_name  \\\n",
       "0           RED -104.866997  Chevrolet              5.0            Blazer   \n",
       "1          GRAY  -82.972099    Hyundai              5.0              Kona   \n",
       "2         BLACK  -90.096603    Hyundai              5.0            Sonata   \n",
       "3       UNKNOWN  -80.625298        RAM              6.0              2500   \n",
       "4          GRAY  -97.121902      Acura              6.0  MDX Hybrid Sport   \n",
       "\n",
       "     price  savings_amount  seller_rating                             sp_name  \\\n",
       "0  51959.0               0       3.863636  Ed Bozarth Chevrolet Company, Inc.   \n",
       "1  23925.0               0       4.150000                  Herrnstein Hyundai   \n",
       "2  32030.0               0       3.875000                      Wilson Hyundai   \n",
       "3  45835.0               0       4.727273  Mount Airy Chrysler Dodge Jeep Ram   \n",
       "4  60775.0               0       3.984848                   Vandergriff Acura   \n",
       "\n",
       "   torque transmission transmission_display wheel_system_display  wheelbase  \\\n",
       "0  270.00            A            Automatic      All-Wheel Drive      112.7   \n",
       "1  265.22            A    6-Speed Automatic              Unknown      102.4   \n",
       "2  265.22            A            Automatic              Unknown      111.0   \n",
       "3  850.00            A            Automatic                  4X2      149.0   \n",
       "4  265.22            A    7-Speed Automatic      All-Wheel Drive      111.0   \n",
       "\n",
       "   width  year  combined_fuel_economy  legroom  log_mileage  \\\n",
       "0   76.7  2020                  21.50    80.60         0.00   \n",
       "1   70.9  2021                  30.00    76.10         8.91   \n",
       "2   77.2  2021                  26.08    80.16         2.40   \n",
       "3   83.5  2020                  26.08    81.10         0.00   \n",
       "4   77.7  2020                  26.08    77.00         1.10   \n",
       "\n",
       "   major_options_count  \n",
       "0                   12  \n",
       "1                    6  \n",
       "2                    0  \n",
       "3                    3  \n",
       "4                    7  "
      ]
     },
     "metadata": {},
     "output_type": "display_data"
    }
   ],
   "source": [
    "import pandas as pd\n",
    "from IPython.display import display\n",
    "import pyspark.sql.functions as F\n",
    "\n",
    "# Converting the Spark DataFrame to a Pandas DataFrame and displaying the first 5 rows\n",
    "pd.set_option('display.max_columns', None)\n",
    "pandas_df = df.orderBy(F.rand()).limit(5).toPandas()\n",
    "display(pandas_df)\n"
   ]
  },
  {
   "cell_type": "markdown",
   "metadata": {
    "id": "VLx_pBWYzgLb"
   },
   "source": [
    "\n",
    "\n",
    "---\n",
    "\n"
   ]
  },
  {
   "cell_type": "markdown",
   "metadata": {
    "id": "P9W2rhuySne7"
   },
   "source": [
    "# **XGB**"
   ]
  },
  {
   "cell_type": "code",
   "execution_count": null,
   "metadata": {
    "colab": {
     "base_uri": "https://localhost:8080/"
    },
    "id": "Xse0xeO9XWzi",
    "outputId": "8c427df3-7751-44cb-81a5-6ada39af9906"
   },
   "outputs": [
    {
     "name": "stdout",
     "output_type": "stream",
     "text": [
      "Processing the data...\n"
     ]
    },
    {
     "name": "stderr",
     "output_type": "stream",
     "text": [
      "Progress: 6it [00:51,  8.65s/it]                       "
     ]
    },
    {
     "name": "stdout",
     "output_type": "stream",
     "text": [
      "\n",
      "\n",
      "Data preprocessing and splitting completed!\n"
     ]
    },
    {
     "name": "stderr",
     "output_type": "stream",
     "text": [
      "\n"
     ]
    }
   ],
   "source": [
    "import warnings\n",
    "from tqdm import tqdm\n",
    "from pyspark.ml.feature import StringIndexer, VectorAssembler, StandardScaler, OneHotEncoder\n",
    "from pyspark.ml import Pipeline\n",
    "from pyspark.sql.functions import mean as sql_mean\n",
    "import pyspark.sql.functions as F\n",
    "\n",
    "# Ignore warnings\n",
    "warnings.filterwarnings('ignore')\n",
    "\n",
    "print(\"Processing the data...\")\n",
    "with tqdm(total=5, desc=\"Progress\") as pbar:\n",
    "\n",
    "    df_sample = df.sample(fraction=0.2, seed=42)  # Randomly sample 600k records of the data\n",
    "    pbar.update(1)\n",
    "\n",
    "    # Handling categorical columns\n",
    "    cat_columns = [field for (field, dtype) in df_sample.dtypes if dtype == \"string\"]\n",
    "    stages = []\n",
    "    for col_name in cat_columns:\n",
    "        indexer = StringIndexer(inputCol=col_name, outputCol=f\"{col_name}_indexed\", handleInvalid=\"keep\")\n",
    "        encoder = OneHotEncoder(inputCol=f\"{col_name}_indexed\", outputCol=f\"{col_name}_encoded\")\n",
    "        stages += [indexer, encoder]\n",
    "    pbar.update(1)\n",
    "\n",
    "    # Assembling features\n",
    "    num_columns = [col for col in df_sample.columns if col != 'price' and col not in cat_columns]\n",
    "    encoded_columns = [f\"{col}_encoded\" for col in cat_columns]\n",
    "    feature_columns = num_columns + encoded_columns\n",
    "    assembler = VectorAssembler(inputCols=feature_columns, outputCol=\"features\")\n",
    "    stages += [assembler]\n",
    "    pbar.update(1)\n",
    "\n",
    "    # Adding scaling to the pipeline\n",
    "    scaler = StandardScaler(inputCol=\"features\", outputCol=\"scaled_features\", withMean=True, withStd=True)\n",
    "    stages += [scaler]\n",
    "\n",
    "    # Creating and applying the pipeline\n",
    "    pipeline = Pipeline(stages=stages)\n",
    "    pipeline_model = pipeline.fit(df_sample)\n",
    "    df_sample = pipeline_model.transform(df_sample)\n",
    "    pbar.update(1)\n",
    "\n",
    "    # Filling in missing values\n",
    "    for col in df_sample.columns:\n",
    "        if df_sample.schema[col].dataType.typeName() in [\"double\", \"float\", \"int\", \"long\"]:\n",
    "            mean_value = df_sample.select(sql_mean(col)).first()[0]\n",
    "            df_sample = df_sample.na.fill({col: mean_value})\n",
    "    pbar.update(1)\n",
    "\n",
    "    # Splitting the data\n",
    "    train_df, test_df = df_sample.randomSplit([0.8, 0.2], seed=42)\n",
    "    pbar.update(1)\n",
    "\n",
    "print(\"\\n\\nData preprocessing and splitting completed!\")\n"
   ]
  },
  {
   "cell_type": "code",
   "execution_count": null,
   "metadata": {
    "colab": {
     "base_uri": "https://localhost:8080/"
    },
    "id": "I6G88V13Xd2-",
    "outputId": "1c474d58-e534-46f6-ad66-076b93306481"
   },
   "outputs": [
    {
     "name": "stdout",
     "output_type": "stream",
     "text": [
      "Train_DF has 480539 rows and 71 columns\n"
     ]
    }
   ],
   "source": [
    "print(f\"Train_DF has {train_df.count()} rows and {len(train_df.columns)} columns\")"
   ]
  },
  {
   "cell_type": "code",
   "execution_count": null,
   "metadata": {
    "colab": {
     "base_uri": "https://localhost:8080/"
    },
    "id": "Er9LqLYgXhld",
    "outputId": "6f9e2420-f83d-4841-82ed-b7ae2368b410"
   },
   "outputs": [
    {
     "name": "stdout",
     "output_type": "stream",
     "text": [
      "Training XGBoost model...\n",
      "Making predictions...\n",
      "Evaluating the model...\n",
      "\n",
      "Train size: 480539 samples\n",
      "Test size: 120300 samples\n",
      "\n",
      "\n",
      "R-Squared Score (Accuracy): 87.54%\n",
      "\n",
      "\n",
      "Overall runtime: 302 minutes.\n"
     ]
    }
   ],
   "source": [
    "from pyspark.ml.evaluation import RegressionEvaluator\n",
    "from sparkxgb import XGBoostRegressor\n",
    "import time\n",
    "\n",
    "# Modeling training\n",
    "print(\"Training XGBoost model...\")\n",
    "\n",
    "xgb_regressor = XGBoostRegressor(\n",
    "    featuresCol=\"scaled_features\",\n",
    "    labelCol=\"price\",\n",
    "    maxDepth=6,\n",
    "    numRound=100,\n",
    "    objective=\"reg:squarederror\",\n",
    "    treeMethod=\"hist\",\n",
    ")\n",
    "\n",
    "\n",
    "# Before training\n",
    "start_time = time.time()\n",
    "\n",
    "# Training the model\n",
    "model = xgb_regressor.fit(train_df)\n",
    "\n",
    "# Making predictions\n",
    "print(\"Making predictions...\")\n",
    "predictions = model.transform(test_df)\n",
    "\n",
    "# Evaluating the model\n",
    "print(\"Evaluating the model...\")\n",
    "evaluator = RegressionEvaluator(labelCol=\"price\", predictionCol=\"prediction\", metricName=\"r2\")\n",
    "r2 = evaluator.evaluate(predictions)\n",
    "\n",
    "print(f\"\\nTrain size: {train_df.count()} samples\")\n",
    "print(f\"Test size: {test_df.count()} samples\")\n",
    "print(f\"\\n\\nR-Squared Score (Accuracy): {r2 * 100:.2f}%\")\n",
    "\n",
    "# Calculating total runtime\n",
    "end_time = time.time()\n",
    "total_runtime = (end_time - start_time) / 60\n",
    "print(f\"\\n\\nOverall runtime: {round(total_runtime)} minutes.\")"
   ]
  },
  {
   "cell_type": "code",
   "execution_count": null,
   "metadata": {
    "colab": {
     "base_uri": "https://localhost:8080/"
    },
    "id": "TDPbFxGvX7_8",
    "outputId": "52e04156-7f68-430a-864c-304c8f42b75e"
   },
   "outputs": [
    {
     "name": "stdout",
     "output_type": "stream",
     "text": [
      "Additional Metrics:\n",
      "Mean Absolute Error: 2946\n",
      "Mean Squared Error: 42177391\n",
      "Root Mean Squared Error: 6494\n"
     ]
    }
   ],
   "source": [
    "# Calculating additional metrics\n",
    "mae_evaluator = RegressionEvaluator(labelCol=\"price\", predictionCol=\"prediction\", metricName=\"mae\")\n",
    "mae = mae_evaluator.evaluate(predictions)\n",
    "\n",
    "mse_evaluator = RegressionEvaluator(labelCol=\"price\", predictionCol=\"prediction\", metricName=\"mse\")\n",
    "mse = mse_evaluator.evaluate(predictions)\n",
    "\n",
    "rmse_evaluator = RegressionEvaluator(labelCol=\"price\", predictionCol=\"prediction\", metricName=\"rmse\")\n",
    "rmse = rmse_evaluator.evaluate(predictions)\n",
    "\n",
    "print(\"Additional Metrics:\")\n",
    "print(f\"Mean Absolute Error: {round(mae)}\")\n",
    "print(f\"Mean Squared Error: {round(mse)}\")\n",
    "print(f\"Root Mean Squared Error: {round(rmse)}\")"
   ]
  },
  {
   "cell_type": "code",
   "execution_count": null,
   "metadata": {
    "id": "IHPRowoF_5ux"
   },
   "outputs": [],
   "source": [
    "# Saving the trained XGBoost model\n",
    "model.write().overwrite().save(\"/tmp/xgboost_model\")"
   ]
  },
  {
   "cell_type": "code",
   "execution_count": null,
   "metadata": {
    "colab": {
     "base_uri": "https://localhost:8080/"
    },
    "id": "_lEzwV_xg47-",
    "outputId": "a4b17735-d352-451f-8f01-a1fcc279c779"
   },
   "outputs": [
    {
     "name": "stdout",
     "output_type": "stream",
     "text": [
      "['data', 'metadata']\n"
     ]
    }
   ],
   "source": [
    "import os\n",
    "print(os.listdir(\"/tmp/xgboost_model\"))"
   ]
  },
  {
   "cell_type": "code",
   "execution_count": null,
   "metadata": {
    "id": "vgo9UA8xhVPb"
   },
   "outputs": [],
   "source": [
    "import xgboost as xgb\n",
    "\n",
    "# Loading the model using the XGBoost native API\n",
    "native_model = xgb.Booster()\n",
    "native_model.load_model(\"/tmp/xgboost_model/data/XGBoostRegressionModel\")"
   ]
  },
  {
   "cell_type": "code",
   "execution_count": null,
   "metadata": {
    "colab": {
     "base_uri": "https://localhost:8080/"
    },
    "id": "AzBHII_yh4wO",
    "outputId": "88d2f814-5e3e-455b-e49d-4d795d0e2aa4"
   },
   "outputs": [
    {
     "name": "stdout",
     "output_type": "stream",
     "text": [
      "Top 10 Features Ranked by Importance (Highest to Lowest)\n",
      "1. log_mileage\n",
      "2. year\n",
      "3. daysonmarket\n",
      "4. city_fuel_economy\n",
      "5. major_options_count\n",
      "6. horsepower\n",
      "7. height\n",
      "8. latitude\n",
      "9. engine_displacement\n",
      "10. fuel_tank_volume\n"
     ]
    }
   ],
   "source": [
    "# Getting feature importances from the loaded native XGBoost model\n",
    "importance_dict = native_model.get_score(importance_type='weight')\n",
    "\n",
    "features_list = pipeline_model.stages[-2].getInputCols()  # Getting the input column names from the VectorAssembler\n",
    "\n",
    "# Mapping the feature indices (f0, f1, ...) to the actual feature names safely\n",
    "sorted_importance = [\n",
    "    (features_list[int(f[1:])], importance)\n",
    "    for f, importance in importance_dict.items()\n",
    "    if int(f[1:]) < len(features_list)  # Ensuring the index is within bounds\n",
    "]\n",
    "\n",
    "# Sorting by importance\n",
    "sorted_importance = sorted(sorted_importance, key=lambda x: x[1], reverse=True)\n",
    "\n",
    "# Printing the top 10 features with their actual names (sorted by importance)\n",
    "print(\"Top 10 Features Ranked by Importance (Highest to Lowest)\")\n",
    "for rank, (feature, importance) in enumerate(sorted_importance[:10], 1):\n",
    "    print(f\"{rank}. {feature}\")"
   ]
  },
  {
   "cell_type": "markdown",
   "metadata": {
    "id": "Y8RGLPUA_dkA"
   },
   "source": [
    "\n",
    "\n",
    "---\n",
    "\n"
   ]
  },
  {
   "cell_type": "markdown",
   "metadata": {
    "id": "YuabDRrpS888"
   },
   "source": [
    "# **Predictions after Feature Engineering**"
   ]
  },
  {
   "cell_type": "code",
   "execution_count": null,
   "metadata": {
    "colab": {
     "base_uri": "https://localhost:8080/"
    },
    "id": "74JPP1A15OAQ",
    "outputId": "70fdcdd7-cead-4034-ad45-58c5efa79e0e"
   },
   "outputs": [
    {
     "name": "stdout",
     "output_type": "stream",
     "text": [
      "The Feature Engineered DataFrame has been loaded successfully.\n"
     ]
    }
   ],
   "source": [
    "!cp '/content/drive/MyDrive/Big Data Analytics - Project/Datasets/Feature_Engineered_DF.parquet' /content/\n",
    "\n",
    "output_path = '/content/Feature_Engineered_DF.parquet'\n",
    "df = spark.read.parquet(output_path)\n",
    "print(\"The Feature Engineered DataFrame has been loaded successfully.\")\n"
   ]
  },
  {
   "cell_type": "code",
   "execution_count": null,
   "metadata": {
    "colab": {
     "base_uri": "https://localhost:8080/"
    },
    "id": "jIQ0jom35_PN",
    "outputId": "c0ca26e1-c508-41da-f872-477c00a84162"
   },
   "outputs": [
    {
     "name": "stdout",
     "output_type": "stream",
     "text": [
      "The shape of the loaded DataFrame is: (3000040, 47)\n"
     ]
    }
   ],
   "source": [
    "# Printing the shape of the DataFrame\n",
    "total_rows = df.count()\n",
    "total_columns = len(df.columns)\n",
    "\n",
    "print(f\"The shape of the loaded DataFrame is: ({total_rows}, {total_columns})\")"
   ]
  },
  {
   "cell_type": "code",
   "execution_count": null,
   "metadata": {
    "colab": {
     "base_uri": "https://localhost:8080/"
    },
    "id": "Ngd7Um5Q6H-Y",
    "outputId": "f03651b3-3553-44cf-ab0f-47d7f7923a6c"
   },
   "outputs": [
    {
     "name": "stdout",
     "output_type": "stream",
     "text": [
      "Average price of a car: 29933\n"
     ]
    }
   ],
   "source": [
    "# Calculating the average price\n",
    "avg_price = df.agg({\"price\": \"avg\"}).collect()[0][0]\n",
    "print(f\"Average price of a car: {round(avg_price)}\")"
   ]
  },
  {
   "cell_type": "code",
   "execution_count": null,
   "metadata": {
    "colab": {
     "base_uri": "https://localhost:8080/",
     "height": 399
    },
    "id": "loBieuHM6NG5",
    "outputId": "1dcb5e0d-d476-47b0-8567-2970e52d9a25"
   },
   "outputs": [
    {
     "data": {
      "application/vnd.google.colaboratory.intrinsic+json": {
       "type": "dataframe",
       "variable_name": "pandas_df"
      },
      "text/html": [
       "\n",
       "  <div id=\"df-b21916b2-7873-4e33-b170-f01830ba1f7f\" class=\"colab-df-container\">\n",
       "    <div>\n",
       "<style scoped>\n",
       "    .dataframe tbody tr th:only-of-type {\n",
       "        vertical-align: middle;\n",
       "    }\n",
       "\n",
       "    .dataframe tbody tr th {\n",
       "        vertical-align: top;\n",
       "    }\n",
       "\n",
       "    .dataframe thead th {\n",
       "        text-align: right;\n",
       "    }\n",
       "</style>\n",
       "<table border=\"1\" class=\"dataframe\">\n",
       "  <thead>\n",
       "    <tr style=\"text-align: right;\">\n",
       "      <th></th>\n",
       "      <th>fuel_type</th>\n",
       "      <th>body_type</th>\n",
       "      <th>city</th>\n",
       "      <th>city_fuel_economy</th>\n",
       "      <th>days_in_market</th>\n",
       "      <th>dealer_zip</th>\n",
       "      <th>engine_displacement</th>\n",
       "      <th>engine_type</th>\n",
       "      <th>exterior_color</th>\n",
       "      <th>franchise_dealer</th>\n",
       "      <th>fuel_tank_volume</th>\n",
       "      <th>height</th>\n",
       "      <th>highway_fuel_economy</th>\n",
       "      <th>horsepower</th>\n",
       "      <th>interior_color</th>\n",
       "      <th>is_new</th>\n",
       "      <th>latitude</th>\n",
       "      <th>length</th>\n",
       "      <th>listing_color</th>\n",
       "      <th>longitude</th>\n",
       "      <th>make_name</th>\n",
       "      <th>maximum_seating</th>\n",
       "      <th>model_name</th>\n",
       "      <th>price</th>\n",
       "      <th>savings_amount</th>\n",
       "      <th>seller_rating</th>\n",
       "      <th>sp_name</th>\n",
       "      <th>torque</th>\n",
       "      <th>transmission</th>\n",
       "      <th>transmission_display</th>\n",
       "      <th>wheel_system_display</th>\n",
       "      <th>wheelbase</th>\n",
       "      <th>width</th>\n",
       "      <th>manufactured_year</th>\n",
       "      <th>combined_fuel_economy</th>\n",
       "      <th>legroom</th>\n",
       "      <th>log_mileage</th>\n",
       "      <th>major_options_count</th>\n",
       "      <th>hp_x_engine_disp</th>\n",
       "      <th>hp_x_torque</th>\n",
       "      <th>listed_day</th>\n",
       "      <th>listed_month</th>\n",
       "      <th>listed_year</th>\n",
       "      <th>age</th>\n",
       "      <th>resale_value_score</th>\n",
       "      <th>maintenance_cost</th>\n",
       "      <th>luxury_score</th>\n",
       "    </tr>\n",
       "  </thead>\n",
       "  <tbody>\n",
       "    <tr>\n",
       "      <th>0</th>\n",
       "      <td>Flex Fuel Vehicle</td>\n",
       "      <td>Pickup Truck</td>\n",
       "      <td>Patchogue</td>\n",
       "      <td>22.690001</td>\n",
       "      <td>12</td>\n",
       "      <td>11772</td>\n",
       "      <td>2500.0</td>\n",
       "      <td>V8</td>\n",
       "      <td>Red</td>\n",
       "      <td>True</td>\n",
       "      <td>24.74</td>\n",
       "      <td>65.87</td>\n",
       "      <td>29.469999</td>\n",
       "      <td>241.0</td>\n",
       "      <td>Other</td>\n",
       "      <td>False</td>\n",
       "      <td>40.766102</td>\n",
       "      <td>189.8</td>\n",
       "      <td>RED</td>\n",
       "      <td>-73.007004</td>\n",
       "      <td>Ford</td>\n",
       "      <td>5.0</td>\n",
       "      <td>F-150</td>\n",
       "      <td>35657.0</td>\n",
       "      <td>1715</td>\n",
       "      <td>3.750000</td>\n",
       "      <td>Baron Honda</td>\n",
       "      <td>265.22</td>\n",
       "      <td>A</td>\n",
       "      <td>Automatic</td>\n",
       "      <td>Unknown</td>\n",
       "      <td>111.0</td>\n",
       "      <td>77.2</td>\n",
       "      <td>2017</td>\n",
       "      <td>26.08</td>\n",
       "      <td>80.16</td>\n",
       "      <td>10.72</td>\n",
       "      <td>0</td>\n",
       "      <td>0.03</td>\n",
       "      <td>0.00000</td>\n",
       "      <td>28</td>\n",
       "      <td>8</td>\n",
       "      <td>2020</td>\n",
       "      <td>3</td>\n",
       "      <td>25</td>\n",
       "      <td>39</td>\n",
       "      <td>30</td>\n",
       "    </tr>\n",
       "    <tr>\n",
       "      <th>1</th>\n",
       "      <td>Gasoline</td>\n",
       "      <td>Sedan</td>\n",
       "      <td>Heath</td>\n",
       "      <td>29.000000</td>\n",
       "      <td>0</td>\n",
       "      <td>43056</td>\n",
       "      <td>1800.0</td>\n",
       "      <td>I4</td>\n",
       "      <td>Red</td>\n",
       "      <td>True</td>\n",
       "      <td>13.20</td>\n",
       "      <td>57.30</td>\n",
       "      <td>38.000000</td>\n",
       "      <td>132.0</td>\n",
       "      <td>Other</td>\n",
       "      <td>False</td>\n",
       "      <td>39.991100</td>\n",
       "      <td>182.6</td>\n",
       "      <td>RED</td>\n",
       "      <td>-82.475998</td>\n",
       "      <td>Toyota</td>\n",
       "      <td>5.0</td>\n",
       "      <td>Corolla</td>\n",
       "      <td>13090.0</td>\n",
       "      <td>471</td>\n",
       "      <td>4.461538</td>\n",
       "      <td>Coughlin Toyota</td>\n",
       "      <td>128.00</td>\n",
       "      <td>CVT</td>\n",
       "      <td>Continuously Variable Transmission</td>\n",
       "      <td>Front-Wheel Drive</td>\n",
       "      <td>106.3</td>\n",
       "      <td>69.9</td>\n",
       "      <td>2015</td>\n",
       "      <td>33.50</td>\n",
       "      <td>83.70</td>\n",
       "      <td>10.76</td>\n",
       "      <td>2</td>\n",
       "      <td>1.14</td>\n",
       "      <td>1.65957</td>\n",
       "      <td>10</td>\n",
       "      <td>9</td>\n",
       "      <td>2020</td>\n",
       "      <td>5</td>\n",
       "      <td>23</td>\n",
       "      <td>32</td>\n",
       "      <td>27</td>\n",
       "    </tr>\n",
       "    <tr>\n",
       "      <th>2</th>\n",
       "      <td>Gasoline</td>\n",
       "      <td>Sedan</td>\n",
       "      <td>Owensboro</td>\n",
       "      <td>32.000000</td>\n",
       "      <td>209</td>\n",
       "      <td>42301</td>\n",
       "      <td>1600.0</td>\n",
       "      <td>I4</td>\n",
       "      <td>Other</td>\n",
       "      <td>True</td>\n",
       "      <td>10.80</td>\n",
       "      <td>57.30</td>\n",
       "      <td>40.000000</td>\n",
       "      <td>122.0</td>\n",
       "      <td>Black</td>\n",
       "      <td>True</td>\n",
       "      <td>37.730701</td>\n",
       "      <td>177.0</td>\n",
       "      <td>GRAY</td>\n",
       "      <td>-87.121902</td>\n",
       "      <td>Nissan</td>\n",
       "      <td>5.0</td>\n",
       "      <td>Versa</td>\n",
       "      <td>17327.0</td>\n",
       "      <td>0</td>\n",
       "      <td>4.173913</td>\n",
       "      <td>Don Moore Automall</td>\n",
       "      <td>114.00</td>\n",
       "      <td>CVT</td>\n",
       "      <td>Continuously Variable Transmission</td>\n",
       "      <td>Front-Wheel Drive</td>\n",
       "      <td>103.1</td>\n",
       "      <td>68.5</td>\n",
       "      <td>2020</td>\n",
       "      <td>36.00</td>\n",
       "      <td>75.50</td>\n",
       "      <td>2.30</td>\n",
       "      <td>3</td>\n",
       "      <td>1.46</td>\n",
       "      <td>1.98710</td>\n",
       "      <td>15</td>\n",
       "      <td>2</td>\n",
       "      <td>2020</td>\n",
       "      <td>0</td>\n",
       "      <td>25</td>\n",
       "      <td>35</td>\n",
       "      <td>30</td>\n",
       "    </tr>\n",
       "    <tr>\n",
       "      <th>3</th>\n",
       "      <td>Gasoline</td>\n",
       "      <td>Pickup Truck</td>\n",
       "      <td>Elko</td>\n",
       "      <td>17.000000</td>\n",
       "      <td>8</td>\n",
       "      <td>89801</td>\n",
       "      <td>3600.0</td>\n",
       "      <td>V6</td>\n",
       "      <td>White</td>\n",
       "      <td>True</td>\n",
       "      <td>21.00</td>\n",
       "      <td>70.60</td>\n",
       "      <td>24.000000</td>\n",
       "      <td>305.0</td>\n",
       "      <td>Other</td>\n",
       "      <td>False</td>\n",
       "      <td>40.853802</td>\n",
       "      <td>212.4</td>\n",
       "      <td>WHITE</td>\n",
       "      <td>-115.741997</td>\n",
       "      <td>GMC</td>\n",
       "      <td>5.0</td>\n",
       "      <td>Canyon</td>\n",
       "      <td>30499.0</td>\n",
       "      <td>859</td>\n",
       "      <td>5.000000</td>\n",
       "      <td>Gallagher Ford Lincoln</td>\n",
       "      <td>369.00</td>\n",
       "      <td>A</td>\n",
       "      <td>Automatic</td>\n",
       "      <td>Four-Wheel Drive</td>\n",
       "      <td>128.3</td>\n",
       "      <td>83.9</td>\n",
       "      <td>2016</td>\n",
       "      <td>20.50</td>\n",
       "      <td>80.80</td>\n",
       "      <td>10.45</td>\n",
       "      <td>7</td>\n",
       "      <td>0.33</td>\n",
       "      <td>0.62334</td>\n",
       "      <td>3</td>\n",
       "      <td>9</td>\n",
       "      <td>2020</td>\n",
       "      <td>4</td>\n",
       "      <td>28</td>\n",
       "      <td>40</td>\n",
       "      <td>32</td>\n",
       "    </tr>\n",
       "    <tr>\n",
       "      <th>4</th>\n",
       "      <td>Gasoline</td>\n",
       "      <td>Pickup Truck</td>\n",
       "      <td>Stuart</td>\n",
       "      <td>17.000000</td>\n",
       "      <td>330</td>\n",
       "      <td>34994</td>\n",
       "      <td>3600.0</td>\n",
       "      <td>V6</td>\n",
       "      <td>Red</td>\n",
       "      <td>True</td>\n",
       "      <td>22.00</td>\n",
       "      <td>75.00</td>\n",
       "      <td>22.000000</td>\n",
       "      <td>285.0</td>\n",
       "      <td>Black</td>\n",
       "      <td>True</td>\n",
       "      <td>27.171301</td>\n",
       "      <td>218.0</td>\n",
       "      <td>RED</td>\n",
       "      <td>-80.229698</td>\n",
       "      <td>Jeep</td>\n",
       "      <td>5.0</td>\n",
       "      <td>Gladiator</td>\n",
       "      <td>46256.0</td>\n",
       "      <td>0</td>\n",
       "      <td>4.384615</td>\n",
       "      <td>Wallace Chrysler Jeep Dodge Ram</td>\n",
       "      <td>260.00</td>\n",
       "      <td>A</td>\n",
       "      <td>8-Speed Automatic</td>\n",
       "      <td>Four-Wheel Drive</td>\n",
       "      <td>137.3</td>\n",
       "      <td>73.8</td>\n",
       "      <td>2019</td>\n",
       "      <td>19.50</td>\n",
       "      <td>79.50</td>\n",
       "      <td>4.96</td>\n",
       "      <td>11</td>\n",
       "      <td>0.21</td>\n",
       "      <td>-0.02043</td>\n",
       "      <td>16</td>\n",
       "      <td>10</td>\n",
       "      <td>2019</td>\n",
       "      <td>0</td>\n",
       "      <td>25</td>\n",
       "      <td>41</td>\n",
       "      <td>36</td>\n",
       "    </tr>\n",
       "  </tbody>\n",
       "</table>\n",
       "</div>\n",
       "    <div class=\"colab-df-buttons\">\n",
       "\n",
       "  <div class=\"colab-df-container\">\n",
       "    <button class=\"colab-df-convert\" onclick=\"convertToInteractive('df-b21916b2-7873-4e33-b170-f01830ba1f7f')\"\n",
       "            title=\"Convert this dataframe to an interactive table.\"\n",
       "            style=\"display:none;\">\n",
       "\n",
       "  <svg xmlns=\"http://www.w3.org/2000/svg\" height=\"24px\" viewBox=\"0 -960 960 960\">\n",
       "    <path d=\"M120-120v-720h720v720H120Zm60-500h600v-160H180v160Zm220 220h160v-160H400v160Zm0 220h160v-160H400v160ZM180-400h160v-160H180v160Zm440 0h160v-160H620v160ZM180-180h160v-160H180v160Zm440 0h160v-160H620v160Z\"/>\n",
       "  </svg>\n",
       "    </button>\n",
       "\n",
       "  <style>\n",
       "    .colab-df-container {\n",
       "      display:flex;\n",
       "      gap: 12px;\n",
       "    }\n",
       "\n",
       "    .colab-df-convert {\n",
       "      background-color: #E8F0FE;\n",
       "      border: none;\n",
       "      border-radius: 50%;\n",
       "      cursor: pointer;\n",
       "      display: none;\n",
       "      fill: #1967D2;\n",
       "      height: 32px;\n",
       "      padding: 0 0 0 0;\n",
       "      width: 32px;\n",
       "    }\n",
       "\n",
       "    .colab-df-convert:hover {\n",
       "      background-color: #E2EBFA;\n",
       "      box-shadow: 0px 1px 2px rgba(60, 64, 67, 0.3), 0px 1px 3px 1px rgba(60, 64, 67, 0.15);\n",
       "      fill: #174EA6;\n",
       "    }\n",
       "\n",
       "    .colab-df-buttons div {\n",
       "      margin-bottom: 4px;\n",
       "    }\n",
       "\n",
       "    [theme=dark] .colab-df-convert {\n",
       "      background-color: #3B4455;\n",
       "      fill: #D2E3FC;\n",
       "    }\n",
       "\n",
       "    [theme=dark] .colab-df-convert:hover {\n",
       "      background-color: #434B5C;\n",
       "      box-shadow: 0px 1px 3px 1px rgba(0, 0, 0, 0.15);\n",
       "      filter: drop-shadow(0px 1px 2px rgba(0, 0, 0, 0.3));\n",
       "      fill: #FFFFFF;\n",
       "    }\n",
       "  </style>\n",
       "\n",
       "    <script>\n",
       "      const buttonEl =\n",
       "        document.querySelector('#df-b21916b2-7873-4e33-b170-f01830ba1f7f button.colab-df-convert');\n",
       "      buttonEl.style.display =\n",
       "        google.colab.kernel.accessAllowed ? 'block' : 'none';\n",
       "\n",
       "      async function convertToInteractive(key) {\n",
       "        const element = document.querySelector('#df-b21916b2-7873-4e33-b170-f01830ba1f7f');\n",
       "        const dataTable =\n",
       "          await google.colab.kernel.invokeFunction('convertToInteractive',\n",
       "                                                    [key], {});\n",
       "        if (!dataTable) return;\n",
       "\n",
       "        const docLinkHtml = 'Like what you see? Visit the ' +\n",
       "          '<a target=\"_blank\" href=https://colab.research.google.com/notebooks/data_table.ipynb>data table notebook</a>'\n",
       "          + ' to learn more about interactive tables.';\n",
       "        element.innerHTML = '';\n",
       "        dataTable['output_type'] = 'display_data';\n",
       "        await google.colab.output.renderOutput(dataTable, element);\n",
       "        const docLink = document.createElement('div');\n",
       "        docLink.innerHTML = docLinkHtml;\n",
       "        element.appendChild(docLink);\n",
       "      }\n",
       "    </script>\n",
       "  </div>\n",
       "\n",
       "\n",
       "<div id=\"df-6859f7a2-16c2-43a3-88bb-c3c912450d70\">\n",
       "  <button class=\"colab-df-quickchart\" onclick=\"quickchart('df-6859f7a2-16c2-43a3-88bb-c3c912450d70')\"\n",
       "            title=\"Suggest charts\"\n",
       "            style=\"display:none;\">\n",
       "\n",
       "<svg xmlns=\"http://www.w3.org/2000/svg\" height=\"24px\"viewBox=\"0 0 24 24\"\n",
       "     width=\"24px\">\n",
       "    <g>\n",
       "        <path d=\"M19 3H5c-1.1 0-2 .9-2 2v14c0 1.1.9 2 2 2h14c1.1 0 2-.9 2-2V5c0-1.1-.9-2-2-2zM9 17H7v-7h2v7zm4 0h-2V7h2v10zm4 0h-2v-4h2v4z\"/>\n",
       "    </g>\n",
       "</svg>\n",
       "  </button>\n",
       "\n",
       "<style>\n",
       "  .colab-df-quickchart {\n",
       "      --bg-color: #E8F0FE;\n",
       "      --fill-color: #1967D2;\n",
       "      --hover-bg-color: #E2EBFA;\n",
       "      --hover-fill-color: #174EA6;\n",
       "      --disabled-fill-color: #AAA;\n",
       "      --disabled-bg-color: #DDD;\n",
       "  }\n",
       "\n",
       "  [theme=dark] .colab-df-quickchart {\n",
       "      --bg-color: #3B4455;\n",
       "      --fill-color: #D2E3FC;\n",
       "      --hover-bg-color: #434B5C;\n",
       "      --hover-fill-color: #FFFFFF;\n",
       "      --disabled-bg-color: #3B4455;\n",
       "      --disabled-fill-color: #666;\n",
       "  }\n",
       "\n",
       "  .colab-df-quickchart {\n",
       "    background-color: var(--bg-color);\n",
       "    border: none;\n",
       "    border-radius: 50%;\n",
       "    cursor: pointer;\n",
       "    display: none;\n",
       "    fill: var(--fill-color);\n",
       "    height: 32px;\n",
       "    padding: 0;\n",
       "    width: 32px;\n",
       "  }\n",
       "\n",
       "  .colab-df-quickchart:hover {\n",
       "    background-color: var(--hover-bg-color);\n",
       "    box-shadow: 0 1px 2px rgba(60, 64, 67, 0.3), 0 1px 3px 1px rgba(60, 64, 67, 0.15);\n",
       "    fill: var(--button-hover-fill-color);\n",
       "  }\n",
       "\n",
       "  .colab-df-quickchart-complete:disabled,\n",
       "  .colab-df-quickchart-complete:disabled:hover {\n",
       "    background-color: var(--disabled-bg-color);\n",
       "    fill: var(--disabled-fill-color);\n",
       "    box-shadow: none;\n",
       "  }\n",
       "\n",
       "  .colab-df-spinner {\n",
       "    border: 2px solid var(--fill-color);\n",
       "    border-color: transparent;\n",
       "    border-bottom-color: var(--fill-color);\n",
       "    animation:\n",
       "      spin 1s steps(1) infinite;\n",
       "  }\n",
       "\n",
       "  @keyframes spin {\n",
       "    0% {\n",
       "      border-color: transparent;\n",
       "      border-bottom-color: var(--fill-color);\n",
       "      border-left-color: var(--fill-color);\n",
       "    }\n",
       "    20% {\n",
       "      border-color: transparent;\n",
       "      border-left-color: var(--fill-color);\n",
       "      border-top-color: var(--fill-color);\n",
       "    }\n",
       "    30% {\n",
       "      border-color: transparent;\n",
       "      border-left-color: var(--fill-color);\n",
       "      border-top-color: var(--fill-color);\n",
       "      border-right-color: var(--fill-color);\n",
       "    }\n",
       "    40% {\n",
       "      border-color: transparent;\n",
       "      border-right-color: var(--fill-color);\n",
       "      border-top-color: var(--fill-color);\n",
       "    }\n",
       "    60% {\n",
       "      border-color: transparent;\n",
       "      border-right-color: var(--fill-color);\n",
       "    }\n",
       "    80% {\n",
       "      border-color: transparent;\n",
       "      border-right-color: var(--fill-color);\n",
       "      border-bottom-color: var(--fill-color);\n",
       "    }\n",
       "    90% {\n",
       "      border-color: transparent;\n",
       "      border-bottom-color: var(--fill-color);\n",
       "    }\n",
       "  }\n",
       "</style>\n",
       "\n",
       "  <script>\n",
       "    async function quickchart(key) {\n",
       "      const quickchartButtonEl =\n",
       "        document.querySelector('#' + key + ' button');\n",
       "      quickchartButtonEl.disabled = true;  // To prevent multiple clicks.\n",
       "      quickchartButtonEl.classList.add('colab-df-spinner');\n",
       "      try {\n",
       "        const charts = await google.colab.kernel.invokeFunction(\n",
       "            'suggestCharts', [key], {});\n",
       "      } catch (error) {\n",
       "        console.error('Error during call to suggestCharts:', error);\n",
       "      }\n",
       "      quickchartButtonEl.classList.remove('colab-df-spinner');\n",
       "      quickchartButtonEl.classList.add('colab-df-quickchart-complete');\n",
       "    }\n",
       "    (() => {\n",
       "      let quickchartButtonEl =\n",
       "        document.querySelector('#df-6859f7a2-16c2-43a3-88bb-c3c912450d70 button');\n",
       "      quickchartButtonEl.style.display =\n",
       "        google.colab.kernel.accessAllowed ? 'block' : 'none';\n",
       "    })();\n",
       "  </script>\n",
       "</div>\n",
       "\n",
       "  <div id=\"id_4f98d59d-2773-46c4-8896-f02edf401517\">\n",
       "    <style>\n",
       "      .colab-df-generate {\n",
       "        background-color: #E8F0FE;\n",
       "        border: none;\n",
       "        border-radius: 50%;\n",
       "        cursor: pointer;\n",
       "        display: none;\n",
       "        fill: #1967D2;\n",
       "        height: 32px;\n",
       "        padding: 0 0 0 0;\n",
       "        width: 32px;\n",
       "      }\n",
       "\n",
       "      .colab-df-generate:hover {\n",
       "        background-color: #E2EBFA;\n",
       "        box-shadow: 0px 1px 2px rgba(60, 64, 67, 0.3), 0px 1px 3px 1px rgba(60, 64, 67, 0.15);\n",
       "        fill: #174EA6;\n",
       "      }\n",
       "\n",
       "      [theme=dark] .colab-df-generate {\n",
       "        background-color: #3B4455;\n",
       "        fill: #D2E3FC;\n",
       "      }\n",
       "\n",
       "      [theme=dark] .colab-df-generate:hover {\n",
       "        background-color: #434B5C;\n",
       "        box-shadow: 0px 1px 3px 1px rgba(0, 0, 0, 0.15);\n",
       "        filter: drop-shadow(0px 1px 2px rgba(0, 0, 0, 0.3));\n",
       "        fill: #FFFFFF;\n",
       "      }\n",
       "    </style>\n",
       "    <button class=\"colab-df-generate\" onclick=\"generateWithVariable('pandas_df')\"\n",
       "            title=\"Generate code using this dataframe.\"\n",
       "            style=\"display:none;\">\n",
       "\n",
       "  <svg xmlns=\"http://www.w3.org/2000/svg\" height=\"24px\"viewBox=\"0 0 24 24\"\n",
       "       width=\"24px\">\n",
       "    <path d=\"M7,19H8.4L18.45,9,17,7.55,7,17.6ZM5,21V16.75L18.45,3.32a2,2,0,0,1,2.83,0l1.4,1.43a1.91,1.91,0,0,1,.58,1.4,1.91,1.91,0,0,1-.58,1.4L9.25,21ZM18.45,9,17,7.55Zm-12,3A5.31,5.31,0,0,0,4.9,8.1,5.31,5.31,0,0,0,1,6.5,5.31,5.31,0,0,0,4.9,4.9,5.31,5.31,0,0,0,6.5,1,5.31,5.31,0,0,0,8.1,4.9,5.31,5.31,0,0,0,12,6.5,5.46,5.46,0,0,0,6.5,12Z\"/>\n",
       "  </svg>\n",
       "    </button>\n",
       "    <script>\n",
       "      (() => {\n",
       "      const buttonEl =\n",
       "        document.querySelector('#id_4f98d59d-2773-46c4-8896-f02edf401517 button.colab-df-generate');\n",
       "      buttonEl.style.display =\n",
       "        google.colab.kernel.accessAllowed ? 'block' : 'none';\n",
       "\n",
       "      buttonEl.onclick = () => {\n",
       "        google.colab.notebook.generateWithVariable('pandas_df');\n",
       "      }\n",
       "      })();\n",
       "    </script>\n",
       "  </div>\n",
       "\n",
       "    </div>\n",
       "  </div>\n"
      ],
      "text/plain": [
       "           fuel_type     body_type       city  city_fuel_economy  \\\n",
       "0  Flex Fuel Vehicle  Pickup Truck  Patchogue          22.690001   \n",
       "1           Gasoline         Sedan      Heath          29.000000   \n",
       "2           Gasoline         Sedan  Owensboro          32.000000   \n",
       "3           Gasoline  Pickup Truck       Elko          17.000000   \n",
       "4           Gasoline  Pickup Truck     Stuart          17.000000   \n",
       "\n",
       "   days_in_market dealer_zip  engine_displacement engine_type exterior_color  \\\n",
       "0              12      11772               2500.0          V8            Red   \n",
       "1               0      43056               1800.0          I4            Red   \n",
       "2             209      42301               1600.0          I4          Other   \n",
       "3               8      89801               3600.0          V6          White   \n",
       "4             330      34994               3600.0          V6            Red   \n",
       "\n",
       "   franchise_dealer  fuel_tank_volume  height  highway_fuel_economy  \\\n",
       "0              True             24.74   65.87             29.469999   \n",
       "1              True             13.20   57.30             38.000000   \n",
       "2              True             10.80   57.30             40.000000   \n",
       "3              True             21.00   70.60             24.000000   \n",
       "4              True             22.00   75.00             22.000000   \n",
       "\n",
       "   horsepower interior_color  is_new   latitude  length listing_color  \\\n",
       "0       241.0          Other   False  40.766102   189.8           RED   \n",
       "1       132.0          Other   False  39.991100   182.6           RED   \n",
       "2       122.0          Black    True  37.730701   177.0          GRAY   \n",
       "3       305.0          Other   False  40.853802   212.4         WHITE   \n",
       "4       285.0          Black    True  27.171301   218.0           RED   \n",
       "\n",
       "    longitude make_name  maximum_seating model_name    price  savings_amount  \\\n",
       "0  -73.007004      Ford              5.0      F-150  35657.0            1715   \n",
       "1  -82.475998    Toyota              5.0    Corolla  13090.0             471   \n",
       "2  -87.121902    Nissan              5.0      Versa  17327.0               0   \n",
       "3 -115.741997       GMC              5.0     Canyon  30499.0             859   \n",
       "4  -80.229698      Jeep              5.0  Gladiator  46256.0               0   \n",
       "\n",
       "   seller_rating                          sp_name  torque transmission  \\\n",
       "0       3.750000                      Baron Honda  265.22            A   \n",
       "1       4.461538                  Coughlin Toyota  128.00          CVT   \n",
       "2       4.173913               Don Moore Automall  114.00          CVT   \n",
       "3       5.000000           Gallagher Ford Lincoln  369.00            A   \n",
       "4       4.384615  Wallace Chrysler Jeep Dodge Ram  260.00            A   \n",
       "\n",
       "                 transmission_display wheel_system_display  wheelbase  width  \\\n",
       "0                           Automatic              Unknown      111.0   77.2   \n",
       "1  Continuously Variable Transmission    Front-Wheel Drive      106.3   69.9   \n",
       "2  Continuously Variable Transmission    Front-Wheel Drive      103.1   68.5   \n",
       "3                           Automatic     Four-Wheel Drive      128.3   83.9   \n",
       "4                   8-Speed Automatic     Four-Wheel Drive      137.3   73.8   \n",
       "\n",
       "   manufactured_year  combined_fuel_economy  legroom  log_mileage  \\\n",
       "0               2017                  26.08    80.16        10.72   \n",
       "1               2015                  33.50    83.70        10.76   \n",
       "2               2020                  36.00    75.50         2.30   \n",
       "3               2016                  20.50    80.80        10.45   \n",
       "4               2019                  19.50    79.50         4.96   \n",
       "\n",
       "   major_options_count  hp_x_engine_disp  hp_x_torque  listed_day  \\\n",
       "0                    0              0.03      0.00000          28   \n",
       "1                    2              1.14      1.65957          10   \n",
       "2                    3              1.46      1.98710          15   \n",
       "3                    7              0.33      0.62334           3   \n",
       "4                   11              0.21     -0.02043          16   \n",
       "\n",
       "   listed_month  listed_year  age  resale_value_score  maintenance_cost  \\\n",
       "0             8         2020    3                  25                39   \n",
       "1             9         2020    5                  23                32   \n",
       "2             2         2020    0                  25                35   \n",
       "3             9         2020    4                  28                40   \n",
       "4            10         2019    0                  25                41   \n",
       "\n",
       "   luxury_score  \n",
       "0            30  \n",
       "1            27  \n",
       "2            30  \n",
       "3            32  \n",
       "4            36  "
      ]
     },
     "metadata": {},
     "output_type": "display_data"
    }
   ],
   "source": [
    "import pandas as pd\n",
    "from IPython.display import display\n",
    "import pyspark.sql.functions as F\n",
    "\n",
    "# Converting the Spark DataFrame to a Pandas DataFrame and displaying the first 5 rows\n",
    "pd.set_option('display.max_columns', None)\n",
    "pandas_df = df.orderBy(F.rand()).limit(5).toPandas()\n",
    "display(pandas_df)\n"
   ]
  },
  {
   "cell_type": "code",
   "execution_count": null,
   "metadata": {
    "colab": {
     "base_uri": "https://localhost:8080/"
    },
    "id": "mR62AsJs7TD1",
    "outputId": "8e474870-7b54-430f-83a0-be04394117d8"
   },
   "outputs": [
    {
     "name": "stdout",
     "output_type": "stream",
     "text": [
      "Processing the data...\n"
     ]
    },
    {
     "name": "stderr",
     "output_type": "stream",
     "text": [
      "Progress: 6it [00:44,  7.46s/it]                       "
     ]
    },
    {
     "name": "stdout",
     "output_type": "stream",
     "text": [
      "\n",
      "\n",
      "Data preprocessing and splitting completed!\n"
     ]
    },
    {
     "name": "stderr",
     "output_type": "stream",
     "text": [
      "\n"
     ]
    }
   ],
   "source": [
    "import warnings\n",
    "from tqdm import tqdm\n",
    "from pyspark.ml.feature import StringIndexer, VectorAssembler, StandardScaler, OneHotEncoder\n",
    "from pyspark.ml import Pipeline\n",
    "from pyspark.sql.functions import mean as sql_mean\n",
    "import pyspark.sql.functions as F\n",
    "\n",
    "# Ignore warnings\n",
    "warnings.filterwarnings('ignore')\n",
    "\n",
    "print(\"Processing the data...\")\n",
    "with tqdm(total=5, desc=\"Progress\") as pbar:\n",
    "\n",
    "    df_sample = df.sample(fraction=0.2, seed=42)  # Randomly sample 600k records of the data\n",
    "    pbar.update(1)\n",
    "\n",
    "    # Handling categorical columns\n",
    "    cat_columns = [field for (field, dtype) in df_sample.dtypes if dtype == \"string\"]\n",
    "    stages = []\n",
    "    for col_name in cat_columns:\n",
    "        indexer = StringIndexer(inputCol=col_name, outputCol=f\"{col_name}_indexed\", handleInvalid=\"keep\")\n",
    "        encoder = OneHotEncoder(inputCol=f\"{col_name}_indexed\", outputCol=f\"{col_name}_encoded\")\n",
    "        stages += [indexer, encoder]\n",
    "    pbar.update(1)\n",
    "\n",
    "    # Assembling features\n",
    "    num_columns = [col for col in df_sample.columns if col != 'price' and col not in cat_columns]\n",
    "    encoded_columns = [f\"{col}_encoded\" for col in cat_columns]\n",
    "    feature_columns = num_columns + encoded_columns\n",
    "    assembler = VectorAssembler(inputCols=feature_columns, outputCol=\"features\")\n",
    "    stages += [assembler]\n",
    "    pbar.update(1)\n",
    "\n",
    "    # Adding scaling to the pipeline\n",
    "    scaler = StandardScaler(inputCol=\"features\", outputCol=\"scaled_features\", withMean=True, withStd=True)\n",
    "    stages += [scaler]\n",
    "\n",
    "    # Creating and applying the pipeline\n",
    "    pipeline = Pipeline(stages=stages)\n",
    "    pipeline_model = pipeline.fit(df_sample)\n",
    "    df_sample = pipeline_model.transform(df_sample)\n",
    "    pbar.update(1)\n",
    "\n",
    "    # Filling in missing values\n",
    "    for col in df_sample.columns:\n",
    "        if df_sample.schema[col].dataType.typeName() in [\"double\", \"float\", \"int\", \"long\"]:\n",
    "            mean_value = df_sample.select(sql_mean(col)).first()[0]\n",
    "            df_sample = df_sample.na.fill({col: mean_value})\n",
    "    pbar.update(1)\n",
    "\n",
    "    # Splitting the data\n",
    "    train_df, test_df = df_sample.randomSplit([0.8, 0.2], seed=42)\n",
    "    pbar.update(1)\n",
    "\n",
    "print(\"\\n\\nData preprocessing and splitting completed!\")\n"
   ]
  },
  {
   "cell_type": "code",
   "execution_count": null,
   "metadata": {
    "colab": {
     "base_uri": "https://localhost:8080/"
    },
    "id": "kUPR7u6C7i7O",
    "outputId": "0e8b3227-65e1-4c6d-834f-569538c062cc"
   },
   "outputs": [
    {
     "name": "stdout",
     "output_type": "stream",
     "text": [
      "Training XGBoost model...\n",
      "Making predictions...\n",
      "Evaluating the model...\n",
      "\n",
      "Train size: 479672 samples\n",
      "Test size: 119602 samples\n",
      "\n",
      "R-Squared Score (Accuracy): 92.09%\n"
     ]
    }
   ],
   "source": [
    "from pyspark.ml.evaluation import RegressionEvaluator\n",
    "from sparkxgb import XGBoostRegressor\n",
    "import time\n",
    "\n",
    "# Model training\n",
    "print(\"Training XGBoost model...\")\n",
    "\n",
    "xgb_regressor = XGBoostRegressor(\n",
    "    featuresCol=\"scaled_features\",\n",
    "    labelCol=\"price\",\n",
    "    maxDepth=6,\n",
    "    numRound=100,\n",
    "    objective=\"reg:squarederror\",\n",
    "    treeMethod=\"hist\",\n",
    ")\n",
    "\n",
    "\n",
    "# Before training\n",
    "start_time = time.time()\n",
    "\n",
    "# Training the model\n",
    "model = xgb_regressor.fit(train_df)\n",
    "\n",
    "# Making predictions\n",
    "print(\"Making predictions...\")\n",
    "predictions = model.transform(test_df)\n",
    "\n",
    "# Evaluating the model\n",
    "print(\"Evaluating the model...\")\n",
    "evaluator = RegressionEvaluator(labelCol=\"price\", predictionCol=\"prediction\", metricName=\"r2\")\n",
    "r2 = evaluator.evaluate(predictions)\n",
    "\n",
    "print(f\"\\nTrain size: {train_df.count()} samples\")\n",
    "print(f\"Test size: {test_df.count()} samples\")\n",
    "print(f\"\\n\\nR-Squared Score (Accuracy): {r2 * 100:.2f}%\")\n"
   ]
  },
  {
   "cell_type": "code",
   "execution_count": null,
   "metadata": {
    "colab": {
     "base_uri": "https://localhost:8080/"
    },
    "id": "g38x9bRH7nfY",
    "outputId": "8d79a5eb-30e9-4cbd-eebc-d87847d36d9e"
   },
   "outputs": [
    {
     "name": "stdout",
     "output_type": "stream",
     "text": [
      "Additional Metrics:\n",
      "Mean Absolute Error: 2975\n",
      "Mean Squared Error: 77020439\n",
      "Root Mean Squared Error: 6581\n",
      "\n",
      "Overall runtime: 227 minutes.\n"
     ]
    }
   ],
   "source": [
    "# Calculating additional metrics\n",
    "mae_evaluator = RegressionEvaluator(labelCol=\"price\", predictionCol=\"prediction\", metricName=\"mae\")\n",
    "mae = mae_evaluator.evaluate(predictions)\n",
    "\n",
    "mse_evaluator = RegressionEvaluator(labelCol=\"price\", predictionCol=\"prediction\", metricName=\"mse\")\n",
    "mse = mse_evaluator.evaluate(predictions)\n",
    "\n",
    "rmse_evaluator = RegressionEvaluator(labelCol=\"price\", predictionCol=\"prediction\", metricName=\"rmse\")\n",
    "rmse = rmse_evaluator.evaluate(predictions)\n",
    "\n",
    "print(\"Additional Metrics:\")\n",
    "print(f\"Mean Absolute Error: {round(mae)}\")\n",
    "print(f\"Mean Squared Error: {round(mse)}\")\n",
    "print(f\"Root Mean Squared Error: {round(rmse)}\")\n",
    "\n",
    "# Calculating total runtime\n",
    "end_time = time.time()\n",
    "total_runtime = (end_time - start_time) / 60\n",
    "print(f\"\\n\\nOverall runtime: {round(total_runtime)} minutes.\")"
   ]
  },
  {
   "cell_type": "markdown",
   "metadata": {
    "id": "VpDletBo7s0u"
   },
   "source": [
    "After evaluating the **XGBoost model** on both **300k** and **600k records**, I observed that while increasing the data size to 600k records did lead to slightly improved accuracy (**R² increased from 91.84% to 92.09%**), the overall gain in performance was marginal. The **Mean Absolute Error (MAE)** only reduced slightly (from **\\$3018** to **\\$2975**), and the **Root Mean Squared Error (RMSE)** showed a more noticeable improvement (from **\\$5268** to **$\\6581**). However, the increase in runtime to **227 minutes** for 600k records is substantial, with only modest performance gains.\n",
    "\n",
    "Given the relatively minor improvements in accuracy and error metrics compared to the significant increase in runtime, I have decided to stick with **300k records**, as it offers a more optimal balance between performance and training efficiency."
   ]
  },
  {
   "cell_type": "code",
   "execution_count": null,
   "metadata": {
    "id": "VYil6Por73Xz"
   },
   "outputs": [],
   "source": [
    "# Saving the trained XGBoost model\n",
    "model.write().overwrite().save(\"/tmp/xgboost_model\")"
   ]
  },
  {
   "cell_type": "code",
   "execution_count": null,
   "metadata": {
    "colab": {
     "base_uri": "https://localhost:8080/"
    },
    "id": "DmXMF6m776bW",
    "outputId": "e02bcfc3-2501-4a5c-b356-2d051a786ec5"
   },
   "outputs": [
    {
     "name": "stdout",
     "output_type": "stream",
     "text": [
      "['metadata', 'data']\n"
     ]
    }
   ],
   "source": [
    "import os\n",
    "print(os.listdir(\"/tmp/xgboost_model\"))"
   ]
  },
  {
   "cell_type": "code",
   "execution_count": null,
   "metadata": {
    "id": "yeUF7OK88AWE"
   },
   "outputs": [],
   "source": [
    "import xgboost as xgb\n",
    "\n",
    "# Loading the model using the XGBoost native API\n",
    "native_model = xgb.Booster()\n",
    "native_model.load_model(\"/tmp/xgboost_model/data/XGBoostRegressionModel\")\n"
   ]
  },
  {
   "cell_type": "code",
   "execution_count": null,
   "metadata": {
    "colab": {
     "base_uri": "https://localhost:8080/"
    },
    "id": "aeFBlTaY8Cme",
    "outputId": "771af378-c795-41dc-b929-99fcbdcc1cab"
   },
   "outputs": [
    {
     "name": "stdout",
     "output_type": "stream",
     "text": [
      "Top 10 Features Ranked by Importance (Highest to Lowest)\n",
      "1. log_mileage\n",
      "2. days_in_market\n",
      "3. city_fuel_economy\n",
      "4. maintenance_cost\n",
      "5. manufactured_year\n",
      "6. major_options_count\n",
      "7. height\n",
      "8. latitude\n",
      "9. horsepower\n",
      "10. fuel_tank_volume\n"
     ]
    }
   ],
   "source": [
    "# Getting feature importances from the loaded native XGBoost model\n",
    "importance_dict = native_model.get_score(importance_type='weight')\n",
    "\n",
    "features_list = pipeline_model.stages[-2].getInputCols()  # Getting the input column names from the VectorAssembler\n",
    "\n",
    "# Mapping the feature indices (f0, f1, ...) to the actual feature names safely\n",
    "sorted_importance = [\n",
    "    (features_list[int(f[1:])], importance)\n",
    "    for f, importance in importance_dict.items()\n",
    "    if int(f[1:]) < len(features_list)  # Ensuring the index is within bounds\n",
    "]\n",
    "\n",
    "# Sorting by importance\n",
    "sorted_importance = sorted(sorted_importance, key=lambda x: x[1], reverse=True)\n",
    "\n",
    "# Printing the top 10 features with their actual names (sorted by importance)\n",
    "print(\"Top 10 Features Ranked by Importance (Highest to Lowest)\")\n",
    "for rank, (feature, importance) in enumerate(sorted_importance[:10], 1):\n",
    "    print(f\"{rank}. {feature}\")"
   ]
  }
 ],
 "metadata": {
  "accelerator": "TPU",
  "colab": {
   "gpuType": "V28",
   "machine_shape": "hm",
   "provenance": []
  },
  "kernelspec": {
   "display_name": "Python 3",
   "name": "python3"
  },
  "language_info": {
   "name": "python"
  }
 },
 "nbformat": 4,
 "nbformat_minor": 0
}

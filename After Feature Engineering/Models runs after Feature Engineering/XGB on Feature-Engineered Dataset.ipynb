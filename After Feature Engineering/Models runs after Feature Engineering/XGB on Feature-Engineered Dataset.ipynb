{
  "cells": [
    {
      "cell_type": "code",
      "execution_count": 1,
      "metadata": {
        "colab": {
          "base_uri": "https://localhost:8080/"
        },
        "id": "O4Zdpj42Q-4L",
        "outputId": "e4a2ceda-3a24-4851-a10c-696fd77dd362"
      },
      "outputs": [
        {
          "output_type": "stream",
          "name": "stdout",
          "text": [
            "\n",
            "tqdm is already installed.\n",
            "\n",
            "pyspark is already installed.\n",
            "\n",
            "gdown is already installed.\n",
            "\n",
            "numpy is already installed.\n",
            "\n",
            "xgboost is already installed.\n",
            "\n",
            "sparkxgb is already installed.\n"
          ]
        }
      ],
      "source": [
        "import importlib\n",
        "import subprocess\n",
        "import sys\n",
        "import gc\n",
        "\n",
        "def check_and_install_package(package_name, version=None):\n",
        "    try:\n",
        "        importlib.import_module(package_name)\n",
        "        print(f\"\\n{package_name} is already installed.\")\n",
        "    except ImportError:\n",
        "        print(f\"\\n{package_name} is NOT installed. Installing now...\")\n",
        "        if version:\n",
        "            subprocess.check_call([sys.executable, \"-m\", \"pip\", \"install\", f\"{package_name}=={version}\"])\n",
        "        else:\n",
        "            subprocess.check_call([sys.executable, \"-m\", \"pip\", \"install\", package_name])\n",
        "        print(f\"{package_name} installation completed.\")\n",
        "\n",
        "# List of packages to check along with specific versions if necessary\n",
        "packages = [\n",
        "    {\"name\": \"tqdm\", \"version\": None},\n",
        "    {\"name\": \"pyspark\", \"version\": \"3.1.1\"},\n",
        "    {\"name\": \"gdown\", \"version\": None},\n",
        "    {\"name\": \"numpy\", \"version\": \"1.22.4\"},\n",
        "    {\"name\": \"xgboost\", \"version\": None},\n",
        "    {\"name\": \"sparkxgb\", \"version\": None},\n",
        "]\n",
        "\n",
        "# Checking and installing the packages\n",
        "for package in packages:\n",
        "    check_and_install_package(package[\"name\"], package[\"version\"])"
      ]
    },
    {
      "cell_type": "code",
      "source": [
        "!pip install numpy==1.22.4"
      ],
      "metadata": {
        "colab": {
          "base_uri": "https://localhost:8080/"
        },
        "id": "M0LqyJRl0VQN",
        "outputId": "1f204f6e-a6bb-4aa7-eddc-2e0e5884c895"
      },
      "execution_count": 2,
      "outputs": [
        {
          "output_type": "stream",
          "name": "stdout",
          "text": [
            "Requirement already satisfied: numpy==1.22.4 in /usr/local/lib/python3.10/dist-packages (1.22.4)\n"
          ]
        }
      ]
    },
    {
      "cell_type": "code",
      "source": [
        "import numpy\n",
        "print(numpy.__version__)"
      ],
      "metadata": {
        "colab": {
          "base_uri": "https://localhost:8080/"
        },
        "id": "jogYwheA0ZXo",
        "outputId": "88908389-9321-4404-90a8-7e86b70366fd"
      },
      "execution_count": 3,
      "outputs": [
        {
          "output_type": "stream",
          "name": "stdout",
          "text": [
            "1.22.4\n"
          ]
        }
      ]
    },
    {
      "cell_type": "code",
      "source": [
        "!pip install sparkxgb"
      ],
      "metadata": {
        "colab": {
          "base_uri": "https://localhost:8080/"
        },
        "id": "CPD4U30UJDrh",
        "outputId": "0a2a4719-bebb-4370-bc42-f19994acae3f"
      },
      "execution_count": 4,
      "outputs": [
        {
          "output_type": "stream",
          "name": "stdout",
          "text": [
            "Requirement already satisfied: sparkxgb in /usr/local/lib/python3.10/dist-packages (0.1)\n",
            "Requirement already satisfied: pyspark==3.1.1 in /usr/local/lib/python3.10/dist-packages (from sparkxgb) (3.1.1)\n",
            "Requirement already satisfied: py4j==0.10.9 in /usr/local/lib/python3.10/dist-packages (from pyspark==3.1.1->sparkxgb) (0.10.9)\n"
          ]
        }
      ]
    },
    {
      "cell_type": "code",
      "execution_count": 5,
      "metadata": {
        "id": "RzKYWgsyRGny",
        "colab": {
          "base_uri": "https://localhost:8080/"
        },
        "outputId": "a52e8141-ef48-4605-ea25-78e72c192e08"
      },
      "outputs": [
        {
          "output_type": "stream",
          "name": "stdout",
          "text": [
            "Mounted at /content/drive\n"
          ]
        }
      ],
      "source": [
        "from google.colab import drive\n",
        "drive.mount('/content/drive')"
      ]
    },
    {
      "cell_type": "code",
      "execution_count": 6,
      "metadata": {
        "colab": {
          "base_uri": "https://localhost:8080/"
        },
        "id": "4QHkLfzsGy18",
        "outputId": "899074b7-55ff-49ea-f23a-de2a27db643e"
      },
      "outputs": [
        {
          "output_type": "stream",
          "name": "stdout",
          "text": [
            "Jar Files copied to: /resources\n",
            "['xgboost4j-spark_2.12-1.7.6.jar', 'xgboost4j_2.12-1.7.6.jar']\n"
          ]
        }
      ],
      "source": [
        "import os\n",
        "import shutil\n",
        "\n",
        "# Defining local resources directory\n",
        "local_resources_path = \"/resources\"\n",
        "os.makedirs(local_resources_path, exist_ok=True)\n",
        "\n",
        "# Defining the source paths from mounted Google Drive\n",
        "xgboost4j_source = \"/content/drive/MyDrive/Big Data Analytics - Project/resources/xgboost4j_2.12-1.7.6.jar\"\n",
        "xgboost4j_spark_source = \"/content/drive/MyDrive/Big Data Analytics - Project/resources/xgboost4j-spark_2.12-1.7.6.jar\"\n",
        "\n",
        "# Defining the destination paths in the instance's local file system\n",
        "xgboost4j_dest = os.path.join(local_resources_path, \"xgboost4j_2.12-1.7.6.jar\")\n",
        "xgboost4j_spark_dest = os.path.join(local_resources_path, \"xgboost4j-spark_2.12-1.7.6.jar\")\n",
        "\n",
        "# Copying the files from Google Drive to the local instance\n",
        "shutil.copyfile(xgboost4j_source, xgboost4j_dest)\n",
        "shutil.copyfile(xgboost4j_spark_source, xgboost4j_spark_dest)\n",
        "\n",
        "# Verifying that the files are copied\n",
        "print(f\"Jar Files copied to: {local_resources_path}\")\n",
        "print(os.listdir(local_resources_path))\n"
      ]
    },
    {
      "cell_type": "markdown",
      "source": [
        "**Testing if spark XGB works on dummy data**"
      ],
      "metadata": {
        "id": "Epdaw4bNh_xS"
      }
    },
    {
      "cell_type": "code",
      "source": [
        "from pyspark.sql import SparkSession\n",
        "from pyspark.ml.feature import VectorAssembler, StandardScaler\n",
        "from pyspark.sql import Row\n",
        "from pyspark.ml.evaluation import RegressionEvaluator\n",
        "from sparkxgb import XGBoostRegressor\n",
        "\n",
        "# Path to the copied JAR files\n",
        "xgboost4j_jar = \"/resources/xgboost4j_2.12-1.7.6.jar\"\n",
        "xgboost4j_spark_jar = \"/resources/xgboost4j-spark_2.12-1.7.6.jar\"\n",
        "\n",
        "# Initializing Spark session\n",
        "spark = SparkSession.builder \\\n",
        "    .appName(\"Test_SparkXGB\") \\\n",
        "    .config(\"spark.jars\", f\"{xgboost4j_jar},{xgboost4j_spark_jar}\") \\\n",
        "    .getOrCreate()\n",
        "\n",
        "# Creating some dummy data for testing\n",
        "data = [\n",
        "    Row(price=30000, feature1=4.0, feature2=1.2),\n",
        "    Row(price=25000, feature1=5.0, feature2=1.5),\n",
        "    Row(price=22000, feature1=6.0, feature2=1.7),\n",
        "    Row(price=35000, feature1=3.0, feature2=1.1),\n",
        "    Row(price=28000, feature1=7.0, feature2=1.9),\n",
        "    Row(price=32000, feature1=8.0, feature2=2.0),\n",
        "    Row(price=27000, feature1=5.5, feature2=1.8),\n",
        "]\n",
        "\n",
        "# Creating DataFrame\n",
        "df = spark.createDataFrame(data)\n",
        "\n",
        "# Assembling features\n",
        "assembler = VectorAssembler(inputCols=[\"feature1\", \"feature2\"], outputCol=\"features\")\n",
        "df_assembled = assembler.transform(df)\n",
        "\n",
        "# Scaling features\n",
        "scaler = StandardScaler(inputCol=\"features\", outputCol=\"scaled_features\", withStd=True, withMean=True)\n",
        "scaler_model = scaler.fit(df_assembled)\n",
        "df_scaled = scaler_model.transform(df_assembled)\n",
        "\n",
        "# Splitting data\n",
        "train_df, test_df = df_scaled.randomSplit([0.8, 0.2], seed=42)\n",
        "\n",
        "# Defining XGBoost Regressor (from sparkxgb)\n",
        "xgb_regressor = XGBoostRegressor(\n",
        "    featuresCol=\"scaled_features\",\n",
        "    labelCol=\"price\",\n",
        "    maxDepth=6,\n",
        "    numRound=100,\n",
        "    objective=\"reg:squarederror\",\n",
        ")\n",
        "\n",
        "# Training the model\n",
        "model = xgb_regressor.fit(train_df)\n",
        "\n",
        "# Making predictions\n",
        "predictions = model.transform(test_df)\n",
        "\n",
        "# Evaluating the model\n",
        "evaluator = RegressionEvaluator(labelCol=\"price\", predictionCol=\"prediction\", metricName=\"r2\")\n",
        "r2 = evaluator.evaluate(predictions)\n",
        "print(f\"R-Squared Score: {r2}\")\n",
        "\n",
        "# Showing predictions\n",
        "predictions.select(\"price\", \"prediction\").show()\n",
        "\n",
        "spark.catalog.clearCache()\n",
        "spark.stop()\n",
        "print(\"Test_SparkXGB Stopped !\")"
      ],
      "metadata": {
        "colab": {
          "base_uri": "https://localhost:8080/"
        },
        "id": "hJUJ-2E3H2Kw",
        "outputId": "a8783d5d-9a1b-4840-8a7e-a21247f3f54c"
      },
      "execution_count": null,
      "outputs": [
        {
          "output_type": "stream",
          "name": "stdout",
          "text": [
            "R-Squared Score: -9.000014062505493\n",
            "+-----+---------------+\n",
            "|price|     prediction|\n",
            "+-----+---------------+\n",
            "|30000|24999.994140625|\n",
            "|35000|24999.994140625|\n",
            "+-----+---------------+\n",
            "\n",
            "Test_SparkXGB Stopped !\n"
          ]
        }
      ]
    },
    {
      "cell_type": "code",
      "execution_count": 7,
      "metadata": {
        "colab": {
          "base_uri": "https://localhost:8080/"
        },
        "id": "dMvRtGAZRWKh",
        "outputId": "d8a93270-d23a-4b7b-9787-e77d4d55905f"
      },
      "outputs": [
        {
          "output_type": "stream",
          "name": "stdout",
          "text": [
            "Spark session started with version: 3.1.1\n"
          ]
        }
      ],
      "source": [
        "from pyspark.sql import SparkSession\n",
        "\n",
        "# Defining the path to the copied jar files in the local instance\n",
        "jar_files = \"/resources/xgboost4j_2.12-1.7.6.jar,/resources/xgboost4j-spark_2.12-1.7.6.jar\"\n",
        "\n",
        "# Initializing Spark session with the JAR files\n",
        "spark = SparkSession.builder \\\n",
        "    .appName(\"XGBoostRegressor\") \\\n",
        "    .config(\"spark.driver.memory\", \"120g\") \\\n",
        "    .config(\"spark.executor.memory\", \"120g\") \\\n",
        "    .config(\"spark.driver.maxResultSize\", \"40g\") \\\n",
        "    .config(\"spark.executor.memoryOverhead\", \"40g\") \\\n",
        "    .config(\"spark.executor.cores\", \"5\") \\\n",
        "    .config(\"spark.kryoserializer.buffer.max\", \"2047m\") \\\n",
        "    .config(\"spark.serializer\", \"org.apache.spark.serializer.KryoSerializer\") \\\n",
        "    .config(\"spark.dynamicAllocation.enabled\", \"true\") \\\n",
        "    .config(\"spark.sql.shuffle.partitions\", \"400\") \\\n",
        "    .config(\"spark.hadoop.fs.file.impl\", \"org.apache.hadoop.fs.LocalFileSystem\") \\\n",
        "    .config(\"spark.executor.extraJavaOptions\", \"-XX:+UseG1GC -XX:InitiatingHeapOccupancyPercent=35 -XX:ConcGCThreads=4 -XX:ParallelGCThreads=4\") \\\n",
        "    .config(\"spark.jars\", jar_files) \\\n",
        "    .getOrCreate()\n",
        "\n",
        "# Verifying Spark session creation\n",
        "print(f\"Spark session started with version: {spark.version}\")"
      ]
    },
    {
      "cell_type": "code",
      "execution_count": 8,
      "metadata": {
        "colab": {
          "base_uri": "https://localhost:8080/"
        },
        "id": "x5Z292PcHRYR",
        "outputId": "b78919bd-2509-4869-e098-23ebda20c8f8"
      },
      "outputs": [
        {
          "output_type": "stream",
          "name": "stdout",
          "text": [
            "sparkxgb loaded successfully!\n"
          ]
        }
      ],
      "source": [
        "# Testing if sparkxgb is loaded properly\n",
        "try:\n",
        "    from sparkxgb import XGBoostRegressor\n",
        "\n",
        "    # Create a test XGBoost model using sparkxgb\n",
        "    model = XGBoostRegressor()\n",
        "    print(\"sparkxgb loaded successfully!\")\n",
        "except Exception as e:\n",
        "    print(f\"Error loading sparkxgb: {e}\")\n"
      ]
    },
    {
      "cell_type": "markdown",
      "source": [
        "# **Predictions BEFORE Feature Engineering**"
      ],
      "metadata": {
        "id": "WCjj2pYxeDyq"
      }
    },
    {
      "cell_type": "code",
      "execution_count": null,
      "metadata": {
        "id": "dCaWvkRDRw1H",
        "colab": {
          "base_uri": "https://localhost:8080/"
        },
        "outputId": "49a19049-b64d-4091-ffae-7ecfb534a5e4"
      },
      "outputs": [
        {
          "output_type": "stream",
          "name": "stdout",
          "text": [
            "The Processed DataFrame has been loaded successfully.\n"
          ]
        }
      ],
      "source": [
        "# loading the df\n",
        "\n",
        "!cp '/content/drive/MyDrive/Big Data Analytics - Project/Datasets/Processed_DF.parquet' /content/\n",
        "\n",
        "output_path = '/content/Processed_DF.parquet'\n",
        "df = spark.read.parquet(output_path)\n",
        "print(\"The Processed DataFrame has been loaded successfully.\")\n"
      ]
    },
    {
      "cell_type": "code",
      "execution_count": null,
      "metadata": {
        "id": "LZ1dUb5kRzBz"
      },
      "outputs": [],
      "source": [
        "df = df.repartition(100)  # Repartitioning into 100 partitions for parallelism"
      ]
    },
    {
      "cell_type": "code",
      "source": [
        "# Printing the shape of the DataFrame\n",
        "total_rows = df.count()\n",
        "total_columns = len(df.columns)\n",
        "\n",
        "print(f\"The shape of the loaded DataFrame is: ({total_rows}, {total_columns})\")"
      ],
      "metadata": {
        "id": "IwSMZkPSQKW9",
        "colab": {
          "base_uri": "https://localhost:8080/"
        },
        "outputId": "38773392-0f2d-4c3e-fb6e-79ea2e447122"
      },
      "execution_count": null,
      "outputs": [
        {
          "output_type": "stream",
          "name": "stdout",
          "text": [
            "The shape of the loaded DataFrame is: (3000040, 42)\n"
          ]
        }
      ]
    },
    {
      "cell_type": "markdown",
      "source": [
        "### **Handling Categorical Coloumns**"
      ],
      "metadata": {
        "id": "hEAdCyX20Z9f"
      }
    },
    {
      "cell_type": "code",
      "execution_count": null,
      "metadata": {
        "id": "xmEHi2yiR2Mp"
      },
      "outputs": [],
      "source": [
        "df=df.drop('description','major_options','mileage')\n",
        "# Keeping the columns ['exterior_color','dealer_zip','interior_color']"
      ]
    },
    {
      "cell_type": "code",
      "execution_count": null,
      "metadata": {
        "colab": {
          "base_uri": "https://localhost:8080/"
        },
        "id": "ib1FhenhSMIy",
        "outputId": "fc3b0bf2-412e-40b7-d6a4-a5b3b7c2924c"
      },
      "outputs": [
        {
          "output_type": "stream",
          "name": "stdout",
          "text": [
            "Unique exterior colors: 23036\n",
            "Unique interior colors: 38528\n"
          ]
        }
      ],
      "source": [
        "# Counting unique values in 'exterior_color' and 'interior_color' columns\n",
        "exterior_colors_count = df.select('exterior_color').distinct().count()\n",
        "interior_colors_count = df.select('interior_color').distinct().count()\n",
        "\n",
        "print(f\"Unique exterior colors: {exterior_colors_count}\")\n",
        "print(f\"Unique interior colors: {interior_colors_count}\")"
      ]
    },
    {
      "cell_type": "code",
      "execution_count": null,
      "metadata": {
        "id": "T9PceT2CSN3i"
      },
      "outputs": [],
      "source": [
        "from pyspark.sql import functions as F\n",
        "from pyspark.sql.types import ArrayType, StringType\n",
        "\n",
        "# Listing top colors for both exterior and interior\n",
        "colors = ['White', 'Black', 'Gray', 'Silver', 'Red', 'Blue', 'Brown', 'Green', 'Beige', 'Orange', 'Gold', 'Yellow', 'Purple']\n",
        "\n",
        "# Creating a UDF to find colors in the color columns\n",
        "@F.udf(returnType=ArrayType(StringType()))\n",
        "def find_colors(color_string):\n",
        "    if color_string is None or color_string.strip() == \"\":\n",
        "        return [\"Other\"]  # Handle empty or null values\n",
        "    found_colors = [c for c in colors if c.lower() in color_string.lower()]\n",
        "    return found_colors if found_colors else [\"Other\"]  # Label non-matching colors as \"Other\"\n",
        "\n",
        "# Applying the UDF to both the exterior and interior color columns\n",
        "df = df.withColumn(\"exterior_color_array\", find_colors(\"exterior_color\"))\n",
        "df = df.withColumn(\"interior_color_array\", find_colors(\"interior_color\"))\n",
        "\n",
        "# Creating a column with the count of colors found for both exterior and interior\n",
        "df = df.withColumn(\"exterior_color_count\", F.size(\"exterior_color_array\"))\n",
        "df = df.withColumn(\"interior_color_count\", F.size(\"interior_color_array\"))\n",
        "\n",
        "# Joining the color arrays into string columns\n",
        "df = df.withColumn(\"exterior_color\", F.array_join(\"exterior_color_array\", \", \"))\n",
        "df = df.withColumn(\"interior_color\", F.array_join(\"interior_color_array\", \", \"))\n",
        "\n",
        "# Labeling mixed colors for both exterior and interior colors\n",
        "df = df.withColumn(\n",
        "    \"exterior_color\",\n",
        "    F.when(F.col(\"exterior_color_count\") > 1, \"Mixed Colors\")\n",
        "     .otherwise(F.col(\"exterior_color\")))\n",
        "\n",
        "df = df.withColumn(\n",
        "    \"interior_color\",\n",
        "    F.when(F.col(\"interior_color_count\") > 1, \"Mixed Colors\")\n",
        "     .otherwise(F.col(\"interior_color\")))\n",
        "\n",
        "# Dropping temporary columns\n",
        "df = df.drop(\"exterior_color_array\", \"exterior_color_count\", \"interior_color_array\", \"interior_color_count\")\n"
      ]
    },
    {
      "cell_type": "code",
      "execution_count": null,
      "metadata": {
        "colab": {
          "base_uri": "https://localhost:8080/"
        },
        "id": "b4EcpFeISPsU",
        "outputId": "f345b16e-6551-4f5b-cdec-ca8c50070b8e"
      },
      "outputs": [
        {
          "output_type": "stream",
          "name": "stdout",
          "text": [
            "Exterior Color Distribution:\n",
            "+--------------+------+----------+\n",
            "|exterior_color|count |percentage|\n",
            "+--------------+------+----------+\n",
            "|White         |675979|22.53     |\n",
            "|Black         |580148|19.34     |\n",
            "|Other         |543638|18.12     |\n",
            "|Silver        |384540|12.82     |\n",
            "|Blue          |253263|8.44      |\n",
            "|Red           |242331|8.08      |\n",
            "|Gray          |231172|7.71      |\n",
            "|Green         |23026 |0.77      |\n",
            "|Mixed Colors  |19728 |0.66      |\n",
            "|Brown         |12905 |0.43      |\n",
            "|Orange        |11638 |0.39      |\n",
            "|Gold          |10544 |0.35      |\n",
            "|Beige         |5065  |0.17      |\n",
            "|Yellow        |4855  |0.16      |\n",
            "|Purple        |1208  |0.04      |\n",
            "+--------------+------+----------+\n",
            "\n"
          ]
        }
      ],
      "source": [
        "# Counting the occurrences of each exterior and interior color and calculating percentages\n",
        "exterior_color_counts = df.groupBy(\"exterior_color\").count().withColumn(\n",
        "    \"percentage\", F.round((F.col(\"count\") / df.count()) * 100, 2))\n",
        "\n",
        "interior_color_counts = df.groupBy(\"interior_color\").count().withColumn(\n",
        "    \"percentage\", F.round((F.col(\"count\") / df.count()) * 100, 2))\n",
        "\n",
        "# Showing the results\n",
        "print(\"Exterior Color Distribution:\")\n",
        "exterior_color_counts.orderBy(F.desc(\"count\")).show(truncate=False)"
      ]
    },
    {
      "cell_type": "code",
      "execution_count": null,
      "metadata": {
        "colab": {
          "base_uri": "https://localhost:8080/"
        },
        "id": "4XTgdusCSRQe",
        "outputId": "c022180c-a2d1-4983-c3b1-8ce48b9704c5"
      },
      "outputs": [
        {
          "output_type": "stream",
          "name": "stdout",
          "text": [
            "Interior Color Distribution:\n",
            "+--------------+-------+----------+\n",
            "|interior_color|count  |percentage|\n",
            "+--------------+-------+----------+\n",
            "|Black         |1624033|54.13     |\n",
            "|Other         |577578 |19.25     |\n",
            "|Gray          |383966 |12.8      |\n",
            "|Mixed Colors  |171212 |5.71      |\n",
            "|White         |91545  |3.05      |\n",
            "|Brown         |65943  |2.2       |\n",
            "|Red           |34117  |1.14      |\n",
            "|Silver        |24124  |0.8       |\n",
            "|Blue          |22828  |0.76      |\n",
            "|Green         |2048   |0.07      |\n",
            "|Gold          |1193   |0.04      |\n",
            "|Orange        |1133   |0.04      |\n",
            "|Yellow        |134    |0.0       |\n",
            "|Purple        |121    |0.0       |\n",
            "|Beige         |65     |0.0       |\n",
            "+--------------+-------+----------+\n",
            "\n"
          ]
        }
      ],
      "source": [
        "print(\"Interior Color Distribution:\")\n",
        "interior_color_counts.orderBy(F.desc(\"count\")).show(truncate=False)"
      ]
    },
    {
      "cell_type": "code",
      "execution_count": null,
      "metadata": {
        "colab": {
          "base_uri": "https://localhost:8080/"
        },
        "id": "jLYLAYhwSURW",
        "outputId": "5130c6b7-7e61-46d8-9347-6155a7948789"
      },
      "outputs": [
        {
          "output_type": "stream",
          "name": "stdout",
          "text": [
            "Final processed DataFrame used for the model has 3000040 rows and 39 columns.\n"
          ]
        }
      ],
      "source": [
        "print(f\"Final processed DataFrame used for the model has {df.count()} rows and {len(df.columns)} columns.\")"
      ]
    },
    {
      "cell_type": "code",
      "source": [
        "# Calculating the average price\n",
        "avg_price = df.agg({\"price\": \"avg\"}).collect()[0][0]\n",
        "print(f\"Average price of a car: {round(avg_price)}\")"
      ],
      "metadata": {
        "colab": {
          "base_uri": "https://localhost:8080/"
        },
        "id": "7dcz6FESaJZt",
        "outputId": "288216ae-a22f-4720-c4dc-df4066ea149e"
      },
      "execution_count": null,
      "outputs": [
        {
          "output_type": "stream",
          "name": "stdout",
          "text": [
            "Average price of a car: 29933\n"
          ]
        }
      ]
    },
    {
      "cell_type": "code",
      "source": [
        "import pandas as pd\n",
        "from IPython.display import display\n",
        "import pyspark.sql.functions as F\n",
        "\n",
        "# Converting the Spark DataFrame to a Pandas DataFrame and displaying the first 5 rows\n",
        "pd.set_option('display.max_columns', None)\n",
        "pandas_df = df.orderBy(F.rand()).limit(5).toPandas()\n",
        "display(pandas_df)\n"
      ],
      "metadata": {
        "colab": {
          "base_uri": "https://localhost:8080/",
          "height": 434
        },
        "id": "IycOaAwj1U8o",
        "outputId": "09333ae1-80da-4661-b2b0-7519056473ae"
      },
      "execution_count": null,
      "outputs": [
        {
          "output_type": "display_data",
          "data": {
            "text/plain": [
              "  fuel_type        body_type          city  city_fuel_economy  daysonmarket  \\\n",
              "0  Gasoline            Sedan    Fort Worth               15.0             3   \n",
              "1  Gasoline            Coupe  Broken Arrow               22.0            49   \n",
              "2  Gasoline  SUV / Crossover      Temecula               22.0           316   \n",
              "3  Gasoline  SUV / Crossover   Bloomington               19.0            40   \n",
              "4  Gasoline          Minivan       Raleigh               19.0           238   \n",
              "\n",
              "  dealer_zip  engine_displacement engine_type exterior_color  \\\n",
              "0      76108               5000.0          V8          White   \n",
              "1      74012               2000.0          I4          White   \n",
              "2      92591               2400.0          I4          Black   \n",
              "3      55437               3500.0          V6            Red   \n",
              "4      27616               3500.0          V6         Silver   \n",
              "\n",
              "   franchise_dealer  fuel_tank_volume  height  highway_fuel_economy  \\\n",
              "0              True         21.700001    57.0                  21.0   \n",
              "1              True         13.200000    55.1                  29.0   \n",
              "2              True         15.900000    65.7                  31.0   \n",
              "3              True         19.200001    70.1                  26.0   \n",
              "4              True         19.500000    69.6                  28.0   \n",
              "\n",
              "   horsepower interior_color  is_new   latitude  length listed_date  \\\n",
              "0       470.0          Other   False  32.754902   206.6  2020-09-08   \n",
              "1       250.0          Black    True  36.060902   168.0  2020-07-24   \n",
              "2       180.0          Black    True  33.513199   182.0  2019-11-01   \n",
              "3       295.0          Other   False  44.857601   192.5  2020-08-01   \n",
              "4       280.0           Gray    True  35.861301   203.2  2020-01-16   \n",
              "\n",
              "  listing_color   longitude make_name  maximum_seating  model_name    price  \\\n",
              "0         WHITE  -97.479500    Jaguar              5.0   XJ-Series  16995.0   \n",
              "1         WHITE  -95.820000   Hyundai              4.0  Veloster N  29241.0   \n",
              "2         BLACK -117.153999      Jeep              5.0    Cherokee  27430.0   \n",
              "3           RED  -93.337601    Toyota              8.0  Highlander  34998.0   \n",
              "4        SILVER  -78.581703     Honda              8.0     Odyssey  40830.0   \n",
              "\n",
              "   savings_amount  seller_rating  \\\n",
              "0             540       3.660000   \n",
              "1               0       4.000000   \n",
              "2               0       4.142857   \n",
              "3             430       4.640000   \n",
              "4               0       4.354839   \n",
              "\n",
              "                                        sp_name  torque transmission  \\\n",
              "0                      Alfa Romeo of Fort Worth   424.0            A   \n",
              "1                              Regional Hyundai   260.0            M   \n",
              "2  DCH Chrysler Dodge Jeep Ram FIAT of Temecula   239.0            A   \n",
              "3                                 Walser Toyota   263.0            A   \n",
              "4                                   Leith Honda   262.0            A   \n",
              "\n",
              "  transmission_display wheel_system_display  wheelbase  width  year  \\\n",
              "0    6-Speed Automatic     Rear-Wheel Drive      124.3   83.1  2011   \n",
              "1       6-Speed Manual    Front-Wheel Drive      104.3   71.3  2020   \n",
              "2    9-Speed Automatic    Front-Wheel Drive      106.5   73.2  2020   \n",
              "3            Automatic      All-Wheel Drive      109.8   75.8  2018   \n",
              "4            Automatic    Front-Wheel Drive      118.1   92.3  2019   \n",
              "\n",
              "   combined_fuel_economy  legroom  log_mileage  major_options_count  \n",
              "0                   18.0     85.6        11.45                    8  \n",
              "1                   25.5     76.7         2.71                    5  \n",
              "2                   26.5     81.4         1.61                    4  \n",
              "3                   22.5     82.6         9.77                   10  \n",
              "4                   23.5     81.8         2.71                    7  "
            ],
            "text/html": [
              "\n",
              "  <div id=\"df-f7281480-786f-4471-aa44-b5b8dd377438\" class=\"colab-df-container\">\n",
              "    <div>\n",
              "<style scoped>\n",
              "    .dataframe tbody tr th:only-of-type {\n",
              "        vertical-align: middle;\n",
              "    }\n",
              "\n",
              "    .dataframe tbody tr th {\n",
              "        vertical-align: top;\n",
              "    }\n",
              "\n",
              "    .dataframe thead th {\n",
              "        text-align: right;\n",
              "    }\n",
              "</style>\n",
              "<table border=\"1\" class=\"dataframe\">\n",
              "  <thead>\n",
              "    <tr style=\"text-align: right;\">\n",
              "      <th></th>\n",
              "      <th>fuel_type</th>\n",
              "      <th>body_type</th>\n",
              "      <th>city</th>\n",
              "      <th>city_fuel_economy</th>\n",
              "      <th>daysonmarket</th>\n",
              "      <th>dealer_zip</th>\n",
              "      <th>engine_displacement</th>\n",
              "      <th>engine_type</th>\n",
              "      <th>exterior_color</th>\n",
              "      <th>franchise_dealer</th>\n",
              "      <th>fuel_tank_volume</th>\n",
              "      <th>height</th>\n",
              "      <th>highway_fuel_economy</th>\n",
              "      <th>horsepower</th>\n",
              "      <th>interior_color</th>\n",
              "      <th>is_new</th>\n",
              "      <th>latitude</th>\n",
              "      <th>length</th>\n",
              "      <th>listed_date</th>\n",
              "      <th>listing_color</th>\n",
              "      <th>longitude</th>\n",
              "      <th>make_name</th>\n",
              "      <th>maximum_seating</th>\n",
              "      <th>model_name</th>\n",
              "      <th>price</th>\n",
              "      <th>savings_amount</th>\n",
              "      <th>seller_rating</th>\n",
              "      <th>sp_name</th>\n",
              "      <th>torque</th>\n",
              "      <th>transmission</th>\n",
              "      <th>transmission_display</th>\n",
              "      <th>wheel_system_display</th>\n",
              "      <th>wheelbase</th>\n",
              "      <th>width</th>\n",
              "      <th>year</th>\n",
              "      <th>combined_fuel_economy</th>\n",
              "      <th>legroom</th>\n",
              "      <th>log_mileage</th>\n",
              "      <th>major_options_count</th>\n",
              "    </tr>\n",
              "  </thead>\n",
              "  <tbody>\n",
              "    <tr>\n",
              "      <th>0</th>\n",
              "      <td>Gasoline</td>\n",
              "      <td>Sedan</td>\n",
              "      <td>Fort Worth</td>\n",
              "      <td>15.0</td>\n",
              "      <td>3</td>\n",
              "      <td>76108</td>\n",
              "      <td>5000.0</td>\n",
              "      <td>V8</td>\n",
              "      <td>White</td>\n",
              "      <td>True</td>\n",
              "      <td>21.700001</td>\n",
              "      <td>57.0</td>\n",
              "      <td>21.0</td>\n",
              "      <td>470.0</td>\n",
              "      <td>Other</td>\n",
              "      <td>False</td>\n",
              "      <td>32.754902</td>\n",
              "      <td>206.6</td>\n",
              "      <td>2020-09-08</td>\n",
              "      <td>WHITE</td>\n",
              "      <td>-97.479500</td>\n",
              "      <td>Jaguar</td>\n",
              "      <td>5.0</td>\n",
              "      <td>XJ-Series</td>\n",
              "      <td>16995.0</td>\n",
              "      <td>540</td>\n",
              "      <td>3.660000</td>\n",
              "      <td>Alfa Romeo of Fort Worth</td>\n",
              "      <td>424.0</td>\n",
              "      <td>A</td>\n",
              "      <td>6-Speed Automatic</td>\n",
              "      <td>Rear-Wheel Drive</td>\n",
              "      <td>124.3</td>\n",
              "      <td>83.1</td>\n",
              "      <td>2011</td>\n",
              "      <td>18.0</td>\n",
              "      <td>85.6</td>\n",
              "      <td>11.45</td>\n",
              "      <td>8</td>\n",
              "    </tr>\n",
              "    <tr>\n",
              "      <th>1</th>\n",
              "      <td>Gasoline</td>\n",
              "      <td>Coupe</td>\n",
              "      <td>Broken Arrow</td>\n",
              "      <td>22.0</td>\n",
              "      <td>49</td>\n",
              "      <td>74012</td>\n",
              "      <td>2000.0</td>\n",
              "      <td>I4</td>\n",
              "      <td>White</td>\n",
              "      <td>True</td>\n",
              "      <td>13.200000</td>\n",
              "      <td>55.1</td>\n",
              "      <td>29.0</td>\n",
              "      <td>250.0</td>\n",
              "      <td>Black</td>\n",
              "      <td>True</td>\n",
              "      <td>36.060902</td>\n",
              "      <td>168.0</td>\n",
              "      <td>2020-07-24</td>\n",
              "      <td>WHITE</td>\n",
              "      <td>-95.820000</td>\n",
              "      <td>Hyundai</td>\n",
              "      <td>4.0</td>\n",
              "      <td>Veloster N</td>\n",
              "      <td>29241.0</td>\n",
              "      <td>0</td>\n",
              "      <td>4.000000</td>\n",
              "      <td>Regional Hyundai</td>\n",
              "      <td>260.0</td>\n",
              "      <td>M</td>\n",
              "      <td>6-Speed Manual</td>\n",
              "      <td>Front-Wheel Drive</td>\n",
              "      <td>104.3</td>\n",
              "      <td>71.3</td>\n",
              "      <td>2020</td>\n",
              "      <td>25.5</td>\n",
              "      <td>76.7</td>\n",
              "      <td>2.71</td>\n",
              "      <td>5</td>\n",
              "    </tr>\n",
              "    <tr>\n",
              "      <th>2</th>\n",
              "      <td>Gasoline</td>\n",
              "      <td>SUV / Crossover</td>\n",
              "      <td>Temecula</td>\n",
              "      <td>22.0</td>\n",
              "      <td>316</td>\n",
              "      <td>92591</td>\n",
              "      <td>2400.0</td>\n",
              "      <td>I4</td>\n",
              "      <td>Black</td>\n",
              "      <td>True</td>\n",
              "      <td>15.900000</td>\n",
              "      <td>65.7</td>\n",
              "      <td>31.0</td>\n",
              "      <td>180.0</td>\n",
              "      <td>Black</td>\n",
              "      <td>True</td>\n",
              "      <td>33.513199</td>\n",
              "      <td>182.0</td>\n",
              "      <td>2019-11-01</td>\n",
              "      <td>BLACK</td>\n",
              "      <td>-117.153999</td>\n",
              "      <td>Jeep</td>\n",
              "      <td>5.0</td>\n",
              "      <td>Cherokee</td>\n",
              "      <td>27430.0</td>\n",
              "      <td>0</td>\n",
              "      <td>4.142857</td>\n",
              "      <td>DCH Chrysler Dodge Jeep Ram FIAT of Temecula</td>\n",
              "      <td>239.0</td>\n",
              "      <td>A</td>\n",
              "      <td>9-Speed Automatic</td>\n",
              "      <td>Front-Wheel Drive</td>\n",
              "      <td>106.5</td>\n",
              "      <td>73.2</td>\n",
              "      <td>2020</td>\n",
              "      <td>26.5</td>\n",
              "      <td>81.4</td>\n",
              "      <td>1.61</td>\n",
              "      <td>4</td>\n",
              "    </tr>\n",
              "    <tr>\n",
              "      <th>3</th>\n",
              "      <td>Gasoline</td>\n",
              "      <td>SUV / Crossover</td>\n",
              "      <td>Bloomington</td>\n",
              "      <td>19.0</td>\n",
              "      <td>40</td>\n",
              "      <td>55437</td>\n",
              "      <td>3500.0</td>\n",
              "      <td>V6</td>\n",
              "      <td>Red</td>\n",
              "      <td>True</td>\n",
              "      <td>19.200001</td>\n",
              "      <td>70.1</td>\n",
              "      <td>26.0</td>\n",
              "      <td>295.0</td>\n",
              "      <td>Other</td>\n",
              "      <td>False</td>\n",
              "      <td>44.857601</td>\n",
              "      <td>192.5</td>\n",
              "      <td>2020-08-01</td>\n",
              "      <td>RED</td>\n",
              "      <td>-93.337601</td>\n",
              "      <td>Toyota</td>\n",
              "      <td>8.0</td>\n",
              "      <td>Highlander</td>\n",
              "      <td>34998.0</td>\n",
              "      <td>430</td>\n",
              "      <td>4.640000</td>\n",
              "      <td>Walser Toyota</td>\n",
              "      <td>263.0</td>\n",
              "      <td>A</td>\n",
              "      <td>Automatic</td>\n",
              "      <td>All-Wheel Drive</td>\n",
              "      <td>109.8</td>\n",
              "      <td>75.8</td>\n",
              "      <td>2018</td>\n",
              "      <td>22.5</td>\n",
              "      <td>82.6</td>\n",
              "      <td>9.77</td>\n",
              "      <td>10</td>\n",
              "    </tr>\n",
              "    <tr>\n",
              "      <th>4</th>\n",
              "      <td>Gasoline</td>\n",
              "      <td>Minivan</td>\n",
              "      <td>Raleigh</td>\n",
              "      <td>19.0</td>\n",
              "      <td>238</td>\n",
              "      <td>27616</td>\n",
              "      <td>3500.0</td>\n",
              "      <td>V6</td>\n",
              "      <td>Silver</td>\n",
              "      <td>True</td>\n",
              "      <td>19.500000</td>\n",
              "      <td>69.6</td>\n",
              "      <td>28.0</td>\n",
              "      <td>280.0</td>\n",
              "      <td>Gray</td>\n",
              "      <td>True</td>\n",
              "      <td>35.861301</td>\n",
              "      <td>203.2</td>\n",
              "      <td>2020-01-16</td>\n",
              "      <td>SILVER</td>\n",
              "      <td>-78.581703</td>\n",
              "      <td>Honda</td>\n",
              "      <td>8.0</td>\n",
              "      <td>Odyssey</td>\n",
              "      <td>40830.0</td>\n",
              "      <td>0</td>\n",
              "      <td>4.354839</td>\n",
              "      <td>Leith Honda</td>\n",
              "      <td>262.0</td>\n",
              "      <td>A</td>\n",
              "      <td>Automatic</td>\n",
              "      <td>Front-Wheel Drive</td>\n",
              "      <td>118.1</td>\n",
              "      <td>92.3</td>\n",
              "      <td>2019</td>\n",
              "      <td>23.5</td>\n",
              "      <td>81.8</td>\n",
              "      <td>2.71</td>\n",
              "      <td>7</td>\n",
              "    </tr>\n",
              "  </tbody>\n",
              "</table>\n",
              "</div>\n",
              "    <div class=\"colab-df-buttons\">\n",
              "\n",
              "  <div class=\"colab-df-container\">\n",
              "    <button class=\"colab-df-convert\" onclick=\"convertToInteractive('df-f7281480-786f-4471-aa44-b5b8dd377438')\"\n",
              "            title=\"Convert this dataframe to an interactive table.\"\n",
              "            style=\"display:none;\">\n",
              "\n",
              "  <svg xmlns=\"http://www.w3.org/2000/svg\" height=\"24px\" viewBox=\"0 -960 960 960\">\n",
              "    <path d=\"M120-120v-720h720v720H120Zm60-500h600v-160H180v160Zm220 220h160v-160H400v160Zm0 220h160v-160H400v160ZM180-400h160v-160H180v160Zm440 0h160v-160H620v160ZM180-180h160v-160H180v160Zm440 0h160v-160H620v160Z\"/>\n",
              "  </svg>\n",
              "    </button>\n",
              "\n",
              "  <style>\n",
              "    .colab-df-container {\n",
              "      display:flex;\n",
              "      gap: 12px;\n",
              "    }\n",
              "\n",
              "    .colab-df-convert {\n",
              "      background-color: #E8F0FE;\n",
              "      border: none;\n",
              "      border-radius: 50%;\n",
              "      cursor: pointer;\n",
              "      display: none;\n",
              "      fill: #1967D2;\n",
              "      height: 32px;\n",
              "      padding: 0 0 0 0;\n",
              "      width: 32px;\n",
              "    }\n",
              "\n",
              "    .colab-df-convert:hover {\n",
              "      background-color: #E2EBFA;\n",
              "      box-shadow: 0px 1px 2px rgba(60, 64, 67, 0.3), 0px 1px 3px 1px rgba(60, 64, 67, 0.15);\n",
              "      fill: #174EA6;\n",
              "    }\n",
              "\n",
              "    .colab-df-buttons div {\n",
              "      margin-bottom: 4px;\n",
              "    }\n",
              "\n",
              "    [theme=dark] .colab-df-convert {\n",
              "      background-color: #3B4455;\n",
              "      fill: #D2E3FC;\n",
              "    }\n",
              "\n",
              "    [theme=dark] .colab-df-convert:hover {\n",
              "      background-color: #434B5C;\n",
              "      box-shadow: 0px 1px 3px 1px rgba(0, 0, 0, 0.15);\n",
              "      filter: drop-shadow(0px 1px 2px rgba(0, 0, 0, 0.3));\n",
              "      fill: #FFFFFF;\n",
              "    }\n",
              "  </style>\n",
              "\n",
              "    <script>\n",
              "      const buttonEl =\n",
              "        document.querySelector('#df-f7281480-786f-4471-aa44-b5b8dd377438 button.colab-df-convert');\n",
              "      buttonEl.style.display =\n",
              "        google.colab.kernel.accessAllowed ? 'block' : 'none';\n",
              "\n",
              "      async function convertToInteractive(key) {\n",
              "        const element = document.querySelector('#df-f7281480-786f-4471-aa44-b5b8dd377438');\n",
              "        const dataTable =\n",
              "          await google.colab.kernel.invokeFunction('convertToInteractive',\n",
              "                                                    [key], {});\n",
              "        if (!dataTable) return;\n",
              "\n",
              "        const docLinkHtml = 'Like what you see? Visit the ' +\n",
              "          '<a target=\"_blank\" href=https://colab.research.google.com/notebooks/data_table.ipynb>data table notebook</a>'\n",
              "          + ' to learn more about interactive tables.';\n",
              "        element.innerHTML = '';\n",
              "        dataTable['output_type'] = 'display_data';\n",
              "        await google.colab.output.renderOutput(dataTable, element);\n",
              "        const docLink = document.createElement('div');\n",
              "        docLink.innerHTML = docLinkHtml;\n",
              "        element.appendChild(docLink);\n",
              "      }\n",
              "    </script>\n",
              "  </div>\n",
              "\n",
              "\n",
              "<div id=\"df-ac953b27-3605-4260-92cd-c34034f634a7\">\n",
              "  <button class=\"colab-df-quickchart\" onclick=\"quickchart('df-ac953b27-3605-4260-92cd-c34034f634a7')\"\n",
              "            title=\"Suggest charts\"\n",
              "            style=\"display:none;\">\n",
              "\n",
              "<svg xmlns=\"http://www.w3.org/2000/svg\" height=\"24px\"viewBox=\"0 0 24 24\"\n",
              "     width=\"24px\">\n",
              "    <g>\n",
              "        <path d=\"M19 3H5c-1.1 0-2 .9-2 2v14c0 1.1.9 2 2 2h14c1.1 0 2-.9 2-2V5c0-1.1-.9-2-2-2zM9 17H7v-7h2v7zm4 0h-2V7h2v10zm4 0h-2v-4h2v4z\"/>\n",
              "    </g>\n",
              "</svg>\n",
              "  </button>\n",
              "\n",
              "<style>\n",
              "  .colab-df-quickchart {\n",
              "      --bg-color: #E8F0FE;\n",
              "      --fill-color: #1967D2;\n",
              "      --hover-bg-color: #E2EBFA;\n",
              "      --hover-fill-color: #174EA6;\n",
              "      --disabled-fill-color: #AAA;\n",
              "      --disabled-bg-color: #DDD;\n",
              "  }\n",
              "\n",
              "  [theme=dark] .colab-df-quickchart {\n",
              "      --bg-color: #3B4455;\n",
              "      --fill-color: #D2E3FC;\n",
              "      --hover-bg-color: #434B5C;\n",
              "      --hover-fill-color: #FFFFFF;\n",
              "      --disabled-bg-color: #3B4455;\n",
              "      --disabled-fill-color: #666;\n",
              "  }\n",
              "\n",
              "  .colab-df-quickchart {\n",
              "    background-color: var(--bg-color);\n",
              "    border: none;\n",
              "    border-radius: 50%;\n",
              "    cursor: pointer;\n",
              "    display: none;\n",
              "    fill: var(--fill-color);\n",
              "    height: 32px;\n",
              "    padding: 0;\n",
              "    width: 32px;\n",
              "  }\n",
              "\n",
              "  .colab-df-quickchart:hover {\n",
              "    background-color: var(--hover-bg-color);\n",
              "    box-shadow: 0 1px 2px rgba(60, 64, 67, 0.3), 0 1px 3px 1px rgba(60, 64, 67, 0.15);\n",
              "    fill: var(--button-hover-fill-color);\n",
              "  }\n",
              "\n",
              "  .colab-df-quickchart-complete:disabled,\n",
              "  .colab-df-quickchart-complete:disabled:hover {\n",
              "    background-color: var(--disabled-bg-color);\n",
              "    fill: var(--disabled-fill-color);\n",
              "    box-shadow: none;\n",
              "  }\n",
              "\n",
              "  .colab-df-spinner {\n",
              "    border: 2px solid var(--fill-color);\n",
              "    border-color: transparent;\n",
              "    border-bottom-color: var(--fill-color);\n",
              "    animation:\n",
              "      spin 1s steps(1) infinite;\n",
              "  }\n",
              "\n",
              "  @keyframes spin {\n",
              "    0% {\n",
              "      border-color: transparent;\n",
              "      border-bottom-color: var(--fill-color);\n",
              "      border-left-color: var(--fill-color);\n",
              "    }\n",
              "    20% {\n",
              "      border-color: transparent;\n",
              "      border-left-color: var(--fill-color);\n",
              "      border-top-color: var(--fill-color);\n",
              "    }\n",
              "    30% {\n",
              "      border-color: transparent;\n",
              "      border-left-color: var(--fill-color);\n",
              "      border-top-color: var(--fill-color);\n",
              "      border-right-color: var(--fill-color);\n",
              "    }\n",
              "    40% {\n",
              "      border-color: transparent;\n",
              "      border-right-color: var(--fill-color);\n",
              "      border-top-color: var(--fill-color);\n",
              "    }\n",
              "    60% {\n",
              "      border-color: transparent;\n",
              "      border-right-color: var(--fill-color);\n",
              "    }\n",
              "    80% {\n",
              "      border-color: transparent;\n",
              "      border-right-color: var(--fill-color);\n",
              "      border-bottom-color: var(--fill-color);\n",
              "    }\n",
              "    90% {\n",
              "      border-color: transparent;\n",
              "      border-bottom-color: var(--fill-color);\n",
              "    }\n",
              "  }\n",
              "</style>\n",
              "\n",
              "  <script>\n",
              "    async function quickchart(key) {\n",
              "      const quickchartButtonEl =\n",
              "        document.querySelector('#' + key + ' button');\n",
              "      quickchartButtonEl.disabled = true;  // To prevent multiple clicks.\n",
              "      quickchartButtonEl.classList.add('colab-df-spinner');\n",
              "      try {\n",
              "        const charts = await google.colab.kernel.invokeFunction(\n",
              "            'suggestCharts', [key], {});\n",
              "      } catch (error) {\n",
              "        console.error('Error during call to suggestCharts:', error);\n",
              "      }\n",
              "      quickchartButtonEl.classList.remove('colab-df-spinner');\n",
              "      quickchartButtonEl.classList.add('colab-df-quickchart-complete');\n",
              "    }\n",
              "    (() => {\n",
              "      let quickchartButtonEl =\n",
              "        document.querySelector('#df-ac953b27-3605-4260-92cd-c34034f634a7 button');\n",
              "      quickchartButtonEl.style.display =\n",
              "        google.colab.kernel.accessAllowed ? 'block' : 'none';\n",
              "    })();\n",
              "  </script>\n",
              "</div>\n",
              "\n",
              "  <div id=\"id_1d215d65-7b8d-421a-990f-f4c36df8678f\">\n",
              "    <style>\n",
              "      .colab-df-generate {\n",
              "        background-color: #E8F0FE;\n",
              "        border: none;\n",
              "        border-radius: 50%;\n",
              "        cursor: pointer;\n",
              "        display: none;\n",
              "        fill: #1967D2;\n",
              "        height: 32px;\n",
              "        padding: 0 0 0 0;\n",
              "        width: 32px;\n",
              "      }\n",
              "\n",
              "      .colab-df-generate:hover {\n",
              "        background-color: #E2EBFA;\n",
              "        box-shadow: 0px 1px 2px rgba(60, 64, 67, 0.3), 0px 1px 3px 1px rgba(60, 64, 67, 0.15);\n",
              "        fill: #174EA6;\n",
              "      }\n",
              "\n",
              "      [theme=dark] .colab-df-generate {\n",
              "        background-color: #3B4455;\n",
              "        fill: #D2E3FC;\n",
              "      }\n",
              "\n",
              "      [theme=dark] .colab-df-generate:hover {\n",
              "        background-color: #434B5C;\n",
              "        box-shadow: 0px 1px 3px 1px rgba(0, 0, 0, 0.15);\n",
              "        filter: drop-shadow(0px 1px 2px rgba(0, 0, 0, 0.3));\n",
              "        fill: #FFFFFF;\n",
              "      }\n",
              "    </style>\n",
              "    <button class=\"colab-df-generate\" onclick=\"generateWithVariable('pandas_df')\"\n",
              "            title=\"Generate code using this dataframe.\"\n",
              "            style=\"display:none;\">\n",
              "\n",
              "  <svg xmlns=\"http://www.w3.org/2000/svg\" height=\"24px\"viewBox=\"0 0 24 24\"\n",
              "       width=\"24px\">\n",
              "    <path d=\"M7,19H8.4L18.45,9,17,7.55,7,17.6ZM5,21V16.75L18.45,3.32a2,2,0,0,1,2.83,0l1.4,1.43a1.91,1.91,0,0,1,.58,1.4,1.91,1.91,0,0,1-.58,1.4L9.25,21ZM18.45,9,17,7.55Zm-12,3A5.31,5.31,0,0,0,4.9,8.1,5.31,5.31,0,0,0,1,6.5,5.31,5.31,0,0,0,4.9,4.9,5.31,5.31,0,0,0,6.5,1,5.31,5.31,0,0,0,8.1,4.9,5.31,5.31,0,0,0,12,6.5,5.46,5.46,0,0,0,6.5,12Z\"/>\n",
              "  </svg>\n",
              "    </button>\n",
              "    <script>\n",
              "      (() => {\n",
              "      const buttonEl =\n",
              "        document.querySelector('#id_1d215d65-7b8d-421a-990f-f4c36df8678f button.colab-df-generate');\n",
              "      buttonEl.style.display =\n",
              "        google.colab.kernel.accessAllowed ? 'block' : 'none';\n",
              "\n",
              "      buttonEl.onclick = () => {\n",
              "        google.colab.notebook.generateWithVariable('pandas_df');\n",
              "      }\n",
              "      })();\n",
              "    </script>\n",
              "  </div>\n",
              "\n",
              "    </div>\n",
              "  </div>\n"
            ],
            "application/vnd.google.colaboratory.intrinsic+json": {
              "type": "dataframe",
              "variable_name": "pandas_df"
            }
          },
          "metadata": {}
        }
      ]
    },
    {
      "cell_type": "markdown",
      "source": [
        "\n",
        "\n",
        "---\n",
        "\n"
      ],
      "metadata": {
        "id": "VLx_pBWYzgLb"
      }
    },
    {
      "cell_type": "markdown",
      "metadata": {
        "id": "P9W2rhuySne7"
      },
      "source": [
        "# **XGB**"
      ]
    },
    {
      "cell_type": "code",
      "source": [
        "import warnings\n",
        "from tqdm import tqdm\n",
        "from pyspark.ml.feature import StringIndexer, VectorAssembler, StandardScaler, OneHotEncoder\n",
        "from pyspark.ml import Pipeline\n",
        "from pyspark.sql.functions import mean as sql_mean\n",
        "import pyspark.sql.functions as F\n",
        "\n",
        "# Ignore warnings\n",
        "warnings.filterwarnings('ignore')\n",
        "\n",
        "print(\"Processing the data...\")\n",
        "with tqdm(total=6, desc=\"Progress\") as pbar:\n",
        "\n",
        "    df_sample = df.sample(fraction=0.1, seed=42)   # Randomly sampling 10% of the data\n",
        "    pbar.update(1)\n",
        "\n",
        "    # Handling categorical columns\n",
        "    cat_columns = [field for (field, dtype) in df_sample.dtypes if dtype == \"string\"]\n",
        "    stages = []\n",
        "    for col_name in cat_columns:\n",
        "        indexer = StringIndexer(inputCol=col_name, outputCol=f\"{col_name}_indexed\", handleInvalid=\"keep\")\n",
        "        encoder = OneHotEncoder(inputCol=f\"{col_name}_indexed\", outputCol=f\"{col_name}_encoded\")\n",
        "        stages += [indexer, encoder]\n",
        "    pbar.update(1)\n",
        "\n",
        "    # Assembling features\n",
        "    num_columns = [col for col in df_sample.columns if col != 'price' and col not in cat_columns]\n",
        "    encoded_columns = [f\"{col}_encoded\" for col in cat_columns]\n",
        "    feature_columns = num_columns + encoded_columns\n",
        "    assembler = VectorAssembler(inputCols=feature_columns, outputCol=\"features\")\n",
        "    stages += [assembler]\n",
        "    pbar.update(1)\n",
        "\n",
        "    # Adding scaling to the pipeline\n",
        "    scaler = StandardScaler(inputCol=\"features\", outputCol=\"scaled_features\", withMean=True, withStd=True)\n",
        "    stages += [scaler]\n",
        "\n",
        "    # Creating and apply the pipeline\n",
        "    pipeline = Pipeline(stages=stages)\n",
        "    pipeline_model = pipeline.fit(df_sample)\n",
        "    df_sample = pipeline_model.transform(df_sample)\n",
        "    pbar.update(1)\n",
        "\n",
        "    # Filling in missing values\n",
        "    for col in df_sample.columns:\n",
        "        if df_sample.schema[col].dataType.typeName() in [\"double\", \"float\", \"int\", \"long\"]:\n",
        "            mean_value = df_sample.select(sql_mean(col)).first()[0]\n",
        "            df_sample = df_sample.na.fill({col: mean_value})\n",
        "    pbar.update(1)\n",
        "\n",
        "    # Splitting the data\n",
        "    train_df, test_df = df_sample.randomSplit([0.8, 0.2], seed=42)\n",
        "    pbar.update(1)\n",
        "\n",
        "print(\"\\n\\nData preprocessing and splitting completed!\\n\")\n"
      ],
      "metadata": {
        "colab": {
          "base_uri": "https://localhost:8080/"
        },
        "id": "Xse0xeO9XWzi",
        "outputId": "16ec6d63-1b5f-4c41-b48f-a3f89523d134"
      },
      "execution_count": null,
      "outputs": [
        {
          "output_type": "stream",
          "name": "stdout",
          "text": [
            "Processing the data...\n"
          ]
        },
        {
          "output_type": "stream",
          "name": "stderr",
          "text": [
            "Progress: 100%|██████████| 6/6 [00:51<00:00,  8.64s/it]"
          ]
        },
        {
          "output_type": "stream",
          "name": "stdout",
          "text": [
            "\n",
            "\n",
            "Data preprocessing and splitting completed!\n",
            "\n"
          ]
        },
        {
          "output_type": "stream",
          "name": "stderr",
          "text": [
            "\n"
          ]
        }
      ]
    },
    {
      "cell_type": "code",
      "source": [
        "print(f\"Train_DF has {train_df.count()} rows and {len(train_df.columns)} columns\")"
      ],
      "metadata": {
        "colab": {
          "base_uri": "https://localhost:8080/"
        },
        "id": "I6G88V13Xd2-",
        "outputId": "62e49cbf-4e0d-46ad-a02f-3efe9825e58c"
      },
      "execution_count": null,
      "outputs": [
        {
          "output_type": "stream",
          "name": "stdout",
          "text": [
            "Train_DF has 240412 rows and 71 columns\n"
          ]
        }
      ]
    },
    {
      "cell_type": "code",
      "source": [
        "from pyspark.ml.evaluation import RegressionEvaluator\n",
        "from sparkxgb import XGBoostRegressor\n",
        "import time\n",
        "\n",
        "# Model training\n",
        "print(\"Training XGBoost model...\")\n",
        "\n",
        "xgb_regressor = XGBoostRegressor(\n",
        "    featuresCol=\"scaled_features\",  # Use scaled features\n",
        "    labelCol=\"price\",               # Target column\n",
        "    maxDepth=6,\n",
        "    numRound=100,\n",
        "    objective=\"reg:squarederror\",   # Regression task\n",
        "    treeMethod=\"hist\",\n",
        ")\n",
        "\n",
        "\n",
        "# Before training\n",
        "start_time = time.time()\n",
        "\n",
        "# Training the model\n",
        "model = xgb_regressor.fit(train_df)\n",
        "\n",
        "# Making predictions\n",
        "print(\"Making predictions...\")\n",
        "predictions = model.transform(test_df)\n",
        "\n",
        "# Evaluating the model\n",
        "print(\"Evaluating the model...\")\n",
        "evaluator = RegressionEvaluator(labelCol=\"price\", predictionCol=\"prediction\", metricName=\"r2\")\n",
        "r2 = evaluator.evaluate(predictions)\n",
        "\n",
        "print(f\"\\nTrain size: {train_df.count()} samples\")\n",
        "print(f\"Test size: {test_df.count()} samples\")\n",
        "print(f\"\\n\\nR-Squared Score (Accuracy): {round(r2 * 100)}%\\n\")\n",
        "\n",
        "# Calculating total runtime\n",
        "end_time = time.time()\n",
        "total_runtime = (end_time - start_time) / 60\n",
        "print(f\"\\nOverall runtime: {round(total_runtime)} minutes.\")"
      ],
      "metadata": {
        "colab": {
          "base_uri": "https://localhost:8080/"
        },
        "id": "Er9LqLYgXhld",
        "outputId": "50a8ff28-6ee1-4358-d762-d5f95f9967f0"
      },
      "execution_count": null,
      "outputs": [
        {
          "output_type": "stream",
          "name": "stdout",
          "text": [
            "Training XGBoost model...\n",
            "Making predictions...\n",
            "Evaluating the model...\n",
            "\n",
            "Train size: 240,412 samples\n",
            "Test size: 60,072 samples\n",
            "\n",
            "\n",
            "R-Squared Score (Accuracy): 85.36%\n",
            "\n",
            "\n",
            "Overall runtime: 119 minutes.\n"
          ]
        }
      ]
    },
    {
      "cell_type": "code",
      "source": [
        "# Calculate additional metrics\n",
        "mae_evaluator = RegressionEvaluator(labelCol=\"price\", predictionCol=\"prediction\", metricName=\"mae\")\n",
        "mae = mae_evaluator.evaluate(predictions)\n",
        "\n",
        "mse_evaluator = RegressionEvaluator(labelCol=\"price\", predictionCol=\"prediction\", metricName=\"mse\")\n",
        "mse = mse_evaluator.evaluate(predictions)\n",
        "\n",
        "rmse_evaluator = RegressionEvaluator(labelCol=\"price\", predictionCol=\"prediction\", metricName=\"rmse\")\n",
        "rmse = rmse_evaluator.evaluate(predictions)\n",
        "\n",
        "print(\"Additional Metrics:\")\n",
        "print(f\"Mean Absolute Error: {round(mae)}\")\n",
        "print(f\"Mean Squared Error: {round(mse)}\")\n",
        "print(f\"Root Mean Squared Error: {round(rmse)}\")"
      ],
      "metadata": {
        "colab": {
          "base_uri": "https://localhost:8080/"
        },
        "id": "TDPbFxGvX7_8",
        "outputId": "920640c1-26e1-4ab7-adfa-e46fc6d76949"
      },
      "execution_count": null,
      "outputs": [
        {
          "output_type": "stream",
          "name": "stdout",
          "text": [
            "Additional Metrics:\n",
            "Mean Absolute Error: 3066\n",
            "Mean Squared Error: 56468542\n",
            "Root Mean Squared Error: 7515\n"
          ]
        }
      ]
    },
    {
      "cell_type": "markdown",
      "source": [
        "The Mean Absolute Error (`MAE`) of **\\$3066**  suggests that, on average, the predicted car prices deviate from the actual prices by this amount. Given that the Mean car price is **\\$29,933** , this error represents about `10.2% of the mean price`, which suggests that the model performs extremely well."
      ],
      "metadata": {
        "id": "dUtNcdT9eNHf"
      }
    },
    {
      "cell_type": "code",
      "source": [
        "# Saving the trained XGBoost model\n",
        "model.write().overwrite().save(\"/tmp/xgboost_model\")"
      ],
      "metadata": {
        "id": "IHPRowoF_5ux"
      },
      "execution_count": null,
      "outputs": []
    },
    {
      "cell_type": "code",
      "source": [
        "import os\n",
        "print(os.listdir(\"/tmp/xgboost_model\"))"
      ],
      "metadata": {
        "colab": {
          "base_uri": "https://localhost:8080/"
        },
        "id": "_lEzwV_xg47-",
        "outputId": "d57ac0b6-9ad9-44b3-8670-1da9a291fa94"
      },
      "execution_count": null,
      "outputs": [
        {
          "output_type": "stream",
          "name": "stdout",
          "text": [
            "['data', 'metadata']\n"
          ]
        }
      ]
    },
    {
      "cell_type": "code",
      "source": [
        "import xgboost as xgb\n",
        "\n",
        "# Loading the model using the XGBoost native API\n",
        "native_model = xgb.Booster()\n",
        "native_model.load_model(\"/tmp/xgboost_model/data/XGBoostRegressionModel\")\n"
      ],
      "metadata": {
        "id": "vgo9UA8xhVPb"
      },
      "execution_count": null,
      "outputs": []
    },
    {
      "cell_type": "code",
      "source": [
        "# Getting feature importances from the loaded native XGBoost model\n",
        "importance_dict = native_model.get_score(importance_type='weight')\n",
        "\n",
        "features_list = pipeline_model.stages[-2].getInputCols()  # Get the input column names from the VectorAssembler\n",
        "\n",
        "# Mapping the feature indices (f0, f1, ...) to the actual feature names safely\n",
        "sorted_importance = [\n",
        "    (features_list[int(f[1:])], importance)\n",
        "    for f, importance in importance_dict.items()\n",
        "    if int(f[1:]) < len(features_list)  # Ensuring the index is within bounds\n",
        "]\n",
        "\n",
        "# Sorting by importance\n",
        "sorted_importance = sorted(sorted_importance, key=lambda x: x[1], reverse=True)\n",
        "\n",
        "# Printing the top 10 features with their actual names (sorted by importance)\n",
        "print(\"Top 10 Features Ranked by Importance (Highest to Lowest)\")\n",
        "for rank, (feature, importance) in enumerate(sorted_importance[:10], 1):\n",
        "    print(f\"{rank}. {feature}\")"
      ],
      "metadata": {
        "colab": {
          "base_uri": "https://localhost:8080/"
        },
        "id": "AzBHII_yh4wO",
        "outputId": "0c07be7a-b11e-45c7-a13f-5530b4bd6e81"
      },
      "execution_count": null,
      "outputs": [
        {
          "output_type": "stream",
          "name": "stdout",
          "text": [
            "Top 10 Features Ranked by Importance (Highest to Lowest)\n",
            "1. log_mileage\n",
            "2. daysonmarket\n",
            "3. year\n",
            "4. major_options_count\n",
            "5. city_fuel_economy\n",
            "6. horsepower\n",
            "7. latitude\n",
            "8. fuel_tank_volume\n",
            "9. longitude\n",
            "10. savings_amount\n"
          ]
        }
      ]
    },
    {
      "cell_type": "markdown",
      "source": [
        "\n",
        "\n",
        "---\n",
        "\n"
      ],
      "metadata": {
        "id": "Y8RGLPUA_dkA"
      }
    },
    {
      "cell_type": "markdown",
      "source": [
        "# **Predictions AFTER Feature Engineering**"
      ],
      "metadata": {
        "id": "YuabDRrpS888"
      }
    },
    {
      "cell_type": "code",
      "source": [
        "!cp '/content/drive/MyDrive/Big Data Analytics - Project/Datasets/Feature_Engineered_DF.parquet' /content/\n",
        "\n",
        "output_path = '/content/Feature_Engineered_DF.parquet'\n",
        "df = spark.read.parquet(output_path)\n",
        "print(\"The Feature Engineered DataFrame has been loaded successfully.\")\n"
      ],
      "metadata": {
        "colab": {
          "base_uri": "https://localhost:8080/"
        },
        "id": "74JPP1A15OAQ",
        "outputId": "3336971a-cad7-465d-f181-762cd164185a"
      },
      "execution_count": 9,
      "outputs": [
        {
          "output_type": "stream",
          "name": "stdout",
          "text": [
            "The Feature Engineered DataFrame has been loaded successfully.\n"
          ]
        }
      ]
    },
    {
      "cell_type": "code",
      "source": [
        "# Printing the shape of the DataFrame\n",
        "total_rows = df.count()\n",
        "total_columns = len(df.columns)\n",
        "\n",
        "print(f\"The shape of the loaded DataFrame is: ({total_rows}, {total_columns})\")"
      ],
      "metadata": {
        "colab": {
          "base_uri": "https://localhost:8080/"
        },
        "id": "jIQ0jom35_PN",
        "outputId": "130affc6-9a4a-408a-fce5-f395064e6cd8"
      },
      "execution_count": 10,
      "outputs": [
        {
          "output_type": "stream",
          "name": "stdout",
          "text": [
            "The shape of the loaded DataFrame is: (3000040, 47)\n"
          ]
        }
      ]
    },
    {
      "cell_type": "code",
      "source": [
        "# Calculating the average price\n",
        "avg_price = df.agg({\"price\": \"avg\"}).collect()[0][0]\n",
        "print(f\"Average price of a car: {round(avg_price)}\")"
      ],
      "metadata": {
        "colab": {
          "base_uri": "https://localhost:8080/"
        },
        "id": "Ngd7Um5Q6H-Y",
        "outputId": "96629934-2f1e-4b81-9a30-9f08ca94187e"
      },
      "execution_count": 11,
      "outputs": [
        {
          "output_type": "stream",
          "name": "stdout",
          "text": [
            "Average price of a car: 29933\n"
          ]
        }
      ]
    },
    {
      "cell_type": "code",
      "source": [
        "import pandas as pd\n",
        "from IPython.display import display\n",
        "import pyspark.sql.functions as F\n",
        "\n",
        "# Converting the Spark DataFrame to a Pandas DataFrame and displaying 5 random rows with all columns\n",
        "pd.set_option('display.max_columns', None)\n",
        "pandas_df = df.orderBy(F.rand()).limit(5).toPandas()\n",
        "display(pandas_df)\n"
      ],
      "metadata": {
        "colab": {
          "base_uri": "https://localhost:8080/",
          "height": 451
        },
        "id": "loBieuHM6NG5",
        "outputId": "0447f5cc-5e00-4a4b-835f-e41f92bc7587"
      },
      "execution_count": 12,
      "outputs": [
        {
          "output_type": "display_data",
          "data": {
            "text/plain": [
              "           fuel_type        body_type        city  city_fuel_economy  \\\n",
              "0             Hybrid            Sedan      Aurora               53.0   \n",
              "1             Hybrid        Hatchback     Beverly               51.0   \n",
              "2           Gasoline  SUV / Crossover  Burlington               17.0   \n",
              "3           Gasoline  SUV / Crossover   Rochester               17.0   \n",
              "4  Flex Fuel Vehicle        Hatchback      Kenner               26.0   \n",
              "\n",
              "   days_in_market dealer_zip  engine_displacement engine_type exterior_color  \\\n",
              "0              79      80012               1800.0          I4            Red   \n",
              "1              92      01915               1800.0          I4           Gray   \n",
              "2             176      66839               3500.0          V6          Other   \n",
              "3               7      55901               3500.0          V6          Black   \n",
              "4              44      70065               2000.0          I4          White   \n",
              "\n",
              "   franchise_dealer  fuel_tank_volume  height  highway_fuel_economy  \\\n",
              "0              True              11.4    56.5                  52.0   \n",
              "1             False              11.9    58.7                  48.0   \n",
              "2              True              18.6    68.0                  24.0   \n",
              "3              True              21.0    72.7                  24.0   \n",
              "4             False              12.4    57.8                  38.0   \n",
              "\n",
              "   horsepower interior_color  is_new   latitude  length listing_color  \\\n",
              "0       121.0           Gray    True  39.708401   182.3           RED   \n",
              "1       134.0           Gray   False  42.552601   176.4          GRAY   \n",
              "2       262.0          Other   False  38.181599   201.8       UNKNOWN   \n",
              "3       250.0          Other   False  44.036098   191.4         BLACK   \n",
              "4       160.0          Brown   False  30.014299   171.7         WHITE   \n",
              "\n",
              "    longitude make_name  maximum_seating      model_name    price  \\\n",
              "0 -104.865997    Toyota              5.0  Corolla Hybrid  25163.0   \n",
              "1  -70.882500    Toyota              5.0           Prius   9495.0   \n",
              "2  -95.738701      Ford              7.0            Flex  10775.0   \n",
              "3  -92.512299     Honda              8.0           Pilot  18750.0   \n",
              "4  -90.243401      Ford              5.0           Focus  11998.0   \n",
              "\n",
              "   savings_amount  seller_rating  \\\n",
              "0               0       3.933333   \n",
              "1             447       4.500000   \n",
              "2             989       4.750000   \n",
              "3             503       4.028572   \n",
              "4             932       4.181818   \n",
              "\n",
              "                                        sp_name  torque transmission  \\\n",
              "0                         Stevinson Toyota East  265.22          CVT   \n",
              "1                                     CJ Motors  265.22            A   \n",
              "2                    Crow-Moddie Chevrolet Ford  248.00            A   \n",
              "3                              Tom Kadlec Honda  253.00            A   \n",
              "4  CarMax Kenner - Now offering Curbside Pickup  148.00            A   \n",
              "\n",
              "                 transmission_display wheel_system_display  wheelbase  width  \\\n",
              "0  Continuously Variable Transmission    Front-Wheel Drive      106.3   70.1   \n",
              "1                           Automatic    Front-Wheel Drive      106.3   68.7   \n",
              "2                           Automatic    Front-Wheel Drive      117.9   88.8   \n",
              "3                   5-Speed Automatic     Four-Wheel Drive      109.2   78.5   \n",
              "4                           Automatic    Front-Wheel Drive      104.3   80.5   \n",
              "\n",
              "   manufactured_year  combined_fuel_economy  legroom  log_mileage  \\\n",
              "0               2020                   52.5     76.8         2.30   \n",
              "1               2013                   49.5     78.5        11.59   \n",
              "2               2009                   20.5     85.1        11.39   \n",
              "3               2015                   20.5     79.9        11.61   \n",
              "4               2016                   32.0     76.3        10.90   \n",
              "\n",
              "   major_options_count  hp_x_engine_disp  hp_x_torque  listed_day  \\\n",
              "0                    4              1.25     -0.00001          25   \n",
              "1                    3              1.12     -0.00001           9   \n",
              "2                    3              0.07     -0.02595          19   \n",
              "3                    6              0.01     -0.00308           3   \n",
              "4                    3              0.71      1.07428          29   \n",
              "\n",
              "   listed_month  listed_year  age  resale_value_score  maintenance_cost  \\\n",
              "0             6         2020    0                  27                37   \n",
              "1             6         2020    7                  13                29   \n",
              "2             3         2020   11                  12                32   \n",
              "3             9         2020    5                  23                36   \n",
              "4             7         2020    4                  20                35   \n",
              "\n",
              "   luxury_score  \n",
              "0            30  \n",
              "1            27  \n",
              "2            32  \n",
              "3            31  \n",
              "4            31  "
            ],
            "text/html": [
              "\n",
              "  <div id=\"df-91999022-2fd1-4914-ba37-39be7e8bacbc\" class=\"colab-df-container\">\n",
              "    <div>\n",
              "<style scoped>\n",
              "    .dataframe tbody tr th:only-of-type {\n",
              "        vertical-align: middle;\n",
              "    }\n",
              "\n",
              "    .dataframe tbody tr th {\n",
              "        vertical-align: top;\n",
              "    }\n",
              "\n",
              "    .dataframe thead th {\n",
              "        text-align: right;\n",
              "    }\n",
              "</style>\n",
              "<table border=\"1\" class=\"dataframe\">\n",
              "  <thead>\n",
              "    <tr style=\"text-align: right;\">\n",
              "      <th></th>\n",
              "      <th>fuel_type</th>\n",
              "      <th>body_type</th>\n",
              "      <th>city</th>\n",
              "      <th>city_fuel_economy</th>\n",
              "      <th>days_in_market</th>\n",
              "      <th>dealer_zip</th>\n",
              "      <th>engine_displacement</th>\n",
              "      <th>engine_type</th>\n",
              "      <th>exterior_color</th>\n",
              "      <th>franchise_dealer</th>\n",
              "      <th>fuel_tank_volume</th>\n",
              "      <th>height</th>\n",
              "      <th>highway_fuel_economy</th>\n",
              "      <th>horsepower</th>\n",
              "      <th>interior_color</th>\n",
              "      <th>is_new</th>\n",
              "      <th>latitude</th>\n",
              "      <th>length</th>\n",
              "      <th>listing_color</th>\n",
              "      <th>longitude</th>\n",
              "      <th>make_name</th>\n",
              "      <th>maximum_seating</th>\n",
              "      <th>model_name</th>\n",
              "      <th>price</th>\n",
              "      <th>savings_amount</th>\n",
              "      <th>seller_rating</th>\n",
              "      <th>sp_name</th>\n",
              "      <th>torque</th>\n",
              "      <th>transmission</th>\n",
              "      <th>transmission_display</th>\n",
              "      <th>wheel_system_display</th>\n",
              "      <th>wheelbase</th>\n",
              "      <th>width</th>\n",
              "      <th>manufactured_year</th>\n",
              "      <th>combined_fuel_economy</th>\n",
              "      <th>legroom</th>\n",
              "      <th>log_mileage</th>\n",
              "      <th>major_options_count</th>\n",
              "      <th>hp_x_engine_disp</th>\n",
              "      <th>hp_x_torque</th>\n",
              "      <th>listed_day</th>\n",
              "      <th>listed_month</th>\n",
              "      <th>listed_year</th>\n",
              "      <th>age</th>\n",
              "      <th>resale_value_score</th>\n",
              "      <th>maintenance_cost</th>\n",
              "      <th>luxury_score</th>\n",
              "    </tr>\n",
              "  </thead>\n",
              "  <tbody>\n",
              "    <tr>\n",
              "      <th>0</th>\n",
              "      <td>Hybrid</td>\n",
              "      <td>Sedan</td>\n",
              "      <td>Aurora</td>\n",
              "      <td>53.0</td>\n",
              "      <td>79</td>\n",
              "      <td>80012</td>\n",
              "      <td>1800.0</td>\n",
              "      <td>I4</td>\n",
              "      <td>Red</td>\n",
              "      <td>True</td>\n",
              "      <td>11.4</td>\n",
              "      <td>56.5</td>\n",
              "      <td>52.0</td>\n",
              "      <td>121.0</td>\n",
              "      <td>Gray</td>\n",
              "      <td>True</td>\n",
              "      <td>39.708401</td>\n",
              "      <td>182.3</td>\n",
              "      <td>RED</td>\n",
              "      <td>-104.865997</td>\n",
              "      <td>Toyota</td>\n",
              "      <td>5.0</td>\n",
              "      <td>Corolla Hybrid</td>\n",
              "      <td>25163.0</td>\n",
              "      <td>0</td>\n",
              "      <td>3.933333</td>\n",
              "      <td>Stevinson Toyota East</td>\n",
              "      <td>265.22</td>\n",
              "      <td>CVT</td>\n",
              "      <td>Continuously Variable Transmission</td>\n",
              "      <td>Front-Wheel Drive</td>\n",
              "      <td>106.3</td>\n",
              "      <td>70.1</td>\n",
              "      <td>2020</td>\n",
              "      <td>52.5</td>\n",
              "      <td>76.8</td>\n",
              "      <td>2.30</td>\n",
              "      <td>4</td>\n",
              "      <td>1.25</td>\n",
              "      <td>-0.00001</td>\n",
              "      <td>25</td>\n",
              "      <td>6</td>\n",
              "      <td>2020</td>\n",
              "      <td>0</td>\n",
              "      <td>27</td>\n",
              "      <td>37</td>\n",
              "      <td>30</td>\n",
              "    </tr>\n",
              "    <tr>\n",
              "      <th>1</th>\n",
              "      <td>Hybrid</td>\n",
              "      <td>Hatchback</td>\n",
              "      <td>Beverly</td>\n",
              "      <td>51.0</td>\n",
              "      <td>92</td>\n",
              "      <td>01915</td>\n",
              "      <td>1800.0</td>\n",
              "      <td>I4</td>\n",
              "      <td>Gray</td>\n",
              "      <td>False</td>\n",
              "      <td>11.9</td>\n",
              "      <td>58.7</td>\n",
              "      <td>48.0</td>\n",
              "      <td>134.0</td>\n",
              "      <td>Gray</td>\n",
              "      <td>False</td>\n",
              "      <td>42.552601</td>\n",
              "      <td>176.4</td>\n",
              "      <td>GRAY</td>\n",
              "      <td>-70.882500</td>\n",
              "      <td>Toyota</td>\n",
              "      <td>5.0</td>\n",
              "      <td>Prius</td>\n",
              "      <td>9495.0</td>\n",
              "      <td>447</td>\n",
              "      <td>4.500000</td>\n",
              "      <td>CJ Motors</td>\n",
              "      <td>265.22</td>\n",
              "      <td>A</td>\n",
              "      <td>Automatic</td>\n",
              "      <td>Front-Wheel Drive</td>\n",
              "      <td>106.3</td>\n",
              "      <td>68.7</td>\n",
              "      <td>2013</td>\n",
              "      <td>49.5</td>\n",
              "      <td>78.5</td>\n",
              "      <td>11.59</td>\n",
              "      <td>3</td>\n",
              "      <td>1.12</td>\n",
              "      <td>-0.00001</td>\n",
              "      <td>9</td>\n",
              "      <td>6</td>\n",
              "      <td>2020</td>\n",
              "      <td>7</td>\n",
              "      <td>13</td>\n",
              "      <td>29</td>\n",
              "      <td>27</td>\n",
              "    </tr>\n",
              "    <tr>\n",
              "      <th>2</th>\n",
              "      <td>Gasoline</td>\n",
              "      <td>SUV / Crossover</td>\n",
              "      <td>Burlington</td>\n",
              "      <td>17.0</td>\n",
              "      <td>176</td>\n",
              "      <td>66839</td>\n",
              "      <td>3500.0</td>\n",
              "      <td>V6</td>\n",
              "      <td>Other</td>\n",
              "      <td>True</td>\n",
              "      <td>18.6</td>\n",
              "      <td>68.0</td>\n",
              "      <td>24.0</td>\n",
              "      <td>262.0</td>\n",
              "      <td>Other</td>\n",
              "      <td>False</td>\n",
              "      <td>38.181599</td>\n",
              "      <td>201.8</td>\n",
              "      <td>UNKNOWN</td>\n",
              "      <td>-95.738701</td>\n",
              "      <td>Ford</td>\n",
              "      <td>7.0</td>\n",
              "      <td>Flex</td>\n",
              "      <td>10775.0</td>\n",
              "      <td>989</td>\n",
              "      <td>4.750000</td>\n",
              "      <td>Crow-Moddie Chevrolet Ford</td>\n",
              "      <td>248.00</td>\n",
              "      <td>A</td>\n",
              "      <td>Automatic</td>\n",
              "      <td>Front-Wheel Drive</td>\n",
              "      <td>117.9</td>\n",
              "      <td>88.8</td>\n",
              "      <td>2009</td>\n",
              "      <td>20.5</td>\n",
              "      <td>85.1</td>\n",
              "      <td>11.39</td>\n",
              "      <td>3</td>\n",
              "      <td>0.07</td>\n",
              "      <td>-0.02595</td>\n",
              "      <td>19</td>\n",
              "      <td>3</td>\n",
              "      <td>2020</td>\n",
              "      <td>11</td>\n",
              "      <td>12</td>\n",
              "      <td>32</td>\n",
              "      <td>32</td>\n",
              "    </tr>\n",
              "    <tr>\n",
              "      <th>3</th>\n",
              "      <td>Gasoline</td>\n",
              "      <td>SUV / Crossover</td>\n",
              "      <td>Rochester</td>\n",
              "      <td>17.0</td>\n",
              "      <td>7</td>\n",
              "      <td>55901</td>\n",
              "      <td>3500.0</td>\n",
              "      <td>V6</td>\n",
              "      <td>Black</td>\n",
              "      <td>True</td>\n",
              "      <td>21.0</td>\n",
              "      <td>72.7</td>\n",
              "      <td>24.0</td>\n",
              "      <td>250.0</td>\n",
              "      <td>Other</td>\n",
              "      <td>False</td>\n",
              "      <td>44.036098</td>\n",
              "      <td>191.4</td>\n",
              "      <td>BLACK</td>\n",
              "      <td>-92.512299</td>\n",
              "      <td>Honda</td>\n",
              "      <td>8.0</td>\n",
              "      <td>Pilot</td>\n",
              "      <td>18750.0</td>\n",
              "      <td>503</td>\n",
              "      <td>4.028572</td>\n",
              "      <td>Tom Kadlec Honda</td>\n",
              "      <td>253.00</td>\n",
              "      <td>A</td>\n",
              "      <td>5-Speed Automatic</td>\n",
              "      <td>Four-Wheel Drive</td>\n",
              "      <td>109.2</td>\n",
              "      <td>78.5</td>\n",
              "      <td>2015</td>\n",
              "      <td>20.5</td>\n",
              "      <td>79.9</td>\n",
              "      <td>11.61</td>\n",
              "      <td>6</td>\n",
              "      <td>0.01</td>\n",
              "      <td>-0.00308</td>\n",
              "      <td>3</td>\n",
              "      <td>9</td>\n",
              "      <td>2020</td>\n",
              "      <td>5</td>\n",
              "      <td>23</td>\n",
              "      <td>36</td>\n",
              "      <td>31</td>\n",
              "    </tr>\n",
              "    <tr>\n",
              "      <th>4</th>\n",
              "      <td>Flex Fuel Vehicle</td>\n",
              "      <td>Hatchback</td>\n",
              "      <td>Kenner</td>\n",
              "      <td>26.0</td>\n",
              "      <td>44</td>\n",
              "      <td>70065</td>\n",
              "      <td>2000.0</td>\n",
              "      <td>I4</td>\n",
              "      <td>White</td>\n",
              "      <td>False</td>\n",
              "      <td>12.4</td>\n",
              "      <td>57.8</td>\n",
              "      <td>38.0</td>\n",
              "      <td>160.0</td>\n",
              "      <td>Brown</td>\n",
              "      <td>False</td>\n",
              "      <td>30.014299</td>\n",
              "      <td>171.7</td>\n",
              "      <td>WHITE</td>\n",
              "      <td>-90.243401</td>\n",
              "      <td>Ford</td>\n",
              "      <td>5.0</td>\n",
              "      <td>Focus</td>\n",
              "      <td>11998.0</td>\n",
              "      <td>932</td>\n",
              "      <td>4.181818</td>\n",
              "      <td>CarMax Kenner - Now offering Curbside Pickup</td>\n",
              "      <td>148.00</td>\n",
              "      <td>A</td>\n",
              "      <td>Automatic</td>\n",
              "      <td>Front-Wheel Drive</td>\n",
              "      <td>104.3</td>\n",
              "      <td>80.5</td>\n",
              "      <td>2016</td>\n",
              "      <td>32.0</td>\n",
              "      <td>76.3</td>\n",
              "      <td>10.90</td>\n",
              "      <td>3</td>\n",
              "      <td>0.71</td>\n",
              "      <td>1.07428</td>\n",
              "      <td>29</td>\n",
              "      <td>7</td>\n",
              "      <td>2020</td>\n",
              "      <td>4</td>\n",
              "      <td>20</td>\n",
              "      <td>35</td>\n",
              "      <td>31</td>\n",
              "    </tr>\n",
              "  </tbody>\n",
              "</table>\n",
              "</div>\n",
              "    <div class=\"colab-df-buttons\">\n",
              "\n",
              "  <div class=\"colab-df-container\">\n",
              "    <button class=\"colab-df-convert\" onclick=\"convertToInteractive('df-91999022-2fd1-4914-ba37-39be7e8bacbc')\"\n",
              "            title=\"Convert this dataframe to an interactive table.\"\n",
              "            style=\"display:none;\">\n",
              "\n",
              "  <svg xmlns=\"http://www.w3.org/2000/svg\" height=\"24px\" viewBox=\"0 -960 960 960\">\n",
              "    <path d=\"M120-120v-720h720v720H120Zm60-500h600v-160H180v160Zm220 220h160v-160H400v160Zm0 220h160v-160H400v160ZM180-400h160v-160H180v160Zm440 0h160v-160H620v160ZM180-180h160v-160H180v160Zm440 0h160v-160H620v160Z\"/>\n",
              "  </svg>\n",
              "    </button>\n",
              "\n",
              "  <style>\n",
              "    .colab-df-container {\n",
              "      display:flex;\n",
              "      gap: 12px;\n",
              "    }\n",
              "\n",
              "    .colab-df-convert {\n",
              "      background-color: #E8F0FE;\n",
              "      border: none;\n",
              "      border-radius: 50%;\n",
              "      cursor: pointer;\n",
              "      display: none;\n",
              "      fill: #1967D2;\n",
              "      height: 32px;\n",
              "      padding: 0 0 0 0;\n",
              "      width: 32px;\n",
              "    }\n",
              "\n",
              "    .colab-df-convert:hover {\n",
              "      background-color: #E2EBFA;\n",
              "      box-shadow: 0px 1px 2px rgba(60, 64, 67, 0.3), 0px 1px 3px 1px rgba(60, 64, 67, 0.15);\n",
              "      fill: #174EA6;\n",
              "    }\n",
              "\n",
              "    .colab-df-buttons div {\n",
              "      margin-bottom: 4px;\n",
              "    }\n",
              "\n",
              "    [theme=dark] .colab-df-convert {\n",
              "      background-color: #3B4455;\n",
              "      fill: #D2E3FC;\n",
              "    }\n",
              "\n",
              "    [theme=dark] .colab-df-convert:hover {\n",
              "      background-color: #434B5C;\n",
              "      box-shadow: 0px 1px 3px 1px rgba(0, 0, 0, 0.15);\n",
              "      filter: drop-shadow(0px 1px 2px rgba(0, 0, 0, 0.3));\n",
              "      fill: #FFFFFF;\n",
              "    }\n",
              "  </style>\n",
              "\n",
              "    <script>\n",
              "      const buttonEl =\n",
              "        document.querySelector('#df-91999022-2fd1-4914-ba37-39be7e8bacbc button.colab-df-convert');\n",
              "      buttonEl.style.display =\n",
              "        google.colab.kernel.accessAllowed ? 'block' : 'none';\n",
              "\n",
              "      async function convertToInteractive(key) {\n",
              "        const element = document.querySelector('#df-91999022-2fd1-4914-ba37-39be7e8bacbc');\n",
              "        const dataTable =\n",
              "          await google.colab.kernel.invokeFunction('convertToInteractive',\n",
              "                                                    [key], {});\n",
              "        if (!dataTable) return;\n",
              "\n",
              "        const docLinkHtml = 'Like what you see? Visit the ' +\n",
              "          '<a target=\"_blank\" href=https://colab.research.google.com/notebooks/data_table.ipynb>data table notebook</a>'\n",
              "          + ' to learn more about interactive tables.';\n",
              "        element.innerHTML = '';\n",
              "        dataTable['output_type'] = 'display_data';\n",
              "        await google.colab.output.renderOutput(dataTable, element);\n",
              "        const docLink = document.createElement('div');\n",
              "        docLink.innerHTML = docLinkHtml;\n",
              "        element.appendChild(docLink);\n",
              "      }\n",
              "    </script>\n",
              "  </div>\n",
              "\n",
              "\n",
              "<div id=\"df-c116de53-e27c-490e-8832-41fb3bd06405\">\n",
              "  <button class=\"colab-df-quickchart\" onclick=\"quickchart('df-c116de53-e27c-490e-8832-41fb3bd06405')\"\n",
              "            title=\"Suggest charts\"\n",
              "            style=\"display:none;\">\n",
              "\n",
              "<svg xmlns=\"http://www.w3.org/2000/svg\" height=\"24px\"viewBox=\"0 0 24 24\"\n",
              "     width=\"24px\">\n",
              "    <g>\n",
              "        <path d=\"M19 3H5c-1.1 0-2 .9-2 2v14c0 1.1.9 2 2 2h14c1.1 0 2-.9 2-2V5c0-1.1-.9-2-2-2zM9 17H7v-7h2v7zm4 0h-2V7h2v10zm4 0h-2v-4h2v4z\"/>\n",
              "    </g>\n",
              "</svg>\n",
              "  </button>\n",
              "\n",
              "<style>\n",
              "  .colab-df-quickchart {\n",
              "      --bg-color: #E8F0FE;\n",
              "      --fill-color: #1967D2;\n",
              "      --hover-bg-color: #E2EBFA;\n",
              "      --hover-fill-color: #174EA6;\n",
              "      --disabled-fill-color: #AAA;\n",
              "      --disabled-bg-color: #DDD;\n",
              "  }\n",
              "\n",
              "  [theme=dark] .colab-df-quickchart {\n",
              "      --bg-color: #3B4455;\n",
              "      --fill-color: #D2E3FC;\n",
              "      --hover-bg-color: #434B5C;\n",
              "      --hover-fill-color: #FFFFFF;\n",
              "      --disabled-bg-color: #3B4455;\n",
              "      --disabled-fill-color: #666;\n",
              "  }\n",
              "\n",
              "  .colab-df-quickchart {\n",
              "    background-color: var(--bg-color);\n",
              "    border: none;\n",
              "    border-radius: 50%;\n",
              "    cursor: pointer;\n",
              "    display: none;\n",
              "    fill: var(--fill-color);\n",
              "    height: 32px;\n",
              "    padding: 0;\n",
              "    width: 32px;\n",
              "  }\n",
              "\n",
              "  .colab-df-quickchart:hover {\n",
              "    background-color: var(--hover-bg-color);\n",
              "    box-shadow: 0 1px 2px rgba(60, 64, 67, 0.3), 0 1px 3px 1px rgba(60, 64, 67, 0.15);\n",
              "    fill: var(--button-hover-fill-color);\n",
              "  }\n",
              "\n",
              "  .colab-df-quickchart-complete:disabled,\n",
              "  .colab-df-quickchart-complete:disabled:hover {\n",
              "    background-color: var(--disabled-bg-color);\n",
              "    fill: var(--disabled-fill-color);\n",
              "    box-shadow: none;\n",
              "  }\n",
              "\n",
              "  .colab-df-spinner {\n",
              "    border: 2px solid var(--fill-color);\n",
              "    border-color: transparent;\n",
              "    border-bottom-color: var(--fill-color);\n",
              "    animation:\n",
              "      spin 1s steps(1) infinite;\n",
              "  }\n",
              "\n",
              "  @keyframes spin {\n",
              "    0% {\n",
              "      border-color: transparent;\n",
              "      border-bottom-color: var(--fill-color);\n",
              "      border-left-color: var(--fill-color);\n",
              "    }\n",
              "    20% {\n",
              "      border-color: transparent;\n",
              "      border-left-color: var(--fill-color);\n",
              "      border-top-color: var(--fill-color);\n",
              "    }\n",
              "    30% {\n",
              "      border-color: transparent;\n",
              "      border-left-color: var(--fill-color);\n",
              "      border-top-color: var(--fill-color);\n",
              "      border-right-color: var(--fill-color);\n",
              "    }\n",
              "    40% {\n",
              "      border-color: transparent;\n",
              "      border-right-color: var(--fill-color);\n",
              "      border-top-color: var(--fill-color);\n",
              "    }\n",
              "    60% {\n",
              "      border-color: transparent;\n",
              "      border-right-color: var(--fill-color);\n",
              "    }\n",
              "    80% {\n",
              "      border-color: transparent;\n",
              "      border-right-color: var(--fill-color);\n",
              "      border-bottom-color: var(--fill-color);\n",
              "    }\n",
              "    90% {\n",
              "      border-color: transparent;\n",
              "      border-bottom-color: var(--fill-color);\n",
              "    }\n",
              "  }\n",
              "</style>\n",
              "\n",
              "  <script>\n",
              "    async function quickchart(key) {\n",
              "      const quickchartButtonEl =\n",
              "        document.querySelector('#' + key + ' button');\n",
              "      quickchartButtonEl.disabled = true;  // To prevent multiple clicks.\n",
              "      quickchartButtonEl.classList.add('colab-df-spinner');\n",
              "      try {\n",
              "        const charts = await google.colab.kernel.invokeFunction(\n",
              "            'suggestCharts', [key], {});\n",
              "      } catch (error) {\n",
              "        console.error('Error during call to suggestCharts:', error);\n",
              "      }\n",
              "      quickchartButtonEl.classList.remove('colab-df-spinner');\n",
              "      quickchartButtonEl.classList.add('colab-df-quickchart-complete');\n",
              "    }\n",
              "    (() => {\n",
              "      let quickchartButtonEl =\n",
              "        document.querySelector('#df-c116de53-e27c-490e-8832-41fb3bd06405 button');\n",
              "      quickchartButtonEl.style.display =\n",
              "        google.colab.kernel.accessAllowed ? 'block' : 'none';\n",
              "    })();\n",
              "  </script>\n",
              "</div>\n",
              "\n",
              "  <div id=\"id_9ee8ece9-b0dd-430c-b527-cdac37acccb8\">\n",
              "    <style>\n",
              "      .colab-df-generate {\n",
              "        background-color: #E8F0FE;\n",
              "        border: none;\n",
              "        border-radius: 50%;\n",
              "        cursor: pointer;\n",
              "        display: none;\n",
              "        fill: #1967D2;\n",
              "        height: 32px;\n",
              "        padding: 0 0 0 0;\n",
              "        width: 32px;\n",
              "      }\n",
              "\n",
              "      .colab-df-generate:hover {\n",
              "        background-color: #E2EBFA;\n",
              "        box-shadow: 0px 1px 2px rgba(60, 64, 67, 0.3), 0px 1px 3px 1px rgba(60, 64, 67, 0.15);\n",
              "        fill: #174EA6;\n",
              "      }\n",
              "\n",
              "      [theme=dark] .colab-df-generate {\n",
              "        background-color: #3B4455;\n",
              "        fill: #D2E3FC;\n",
              "      }\n",
              "\n",
              "      [theme=dark] .colab-df-generate:hover {\n",
              "        background-color: #434B5C;\n",
              "        box-shadow: 0px 1px 3px 1px rgba(0, 0, 0, 0.15);\n",
              "        filter: drop-shadow(0px 1px 2px rgba(0, 0, 0, 0.3));\n",
              "        fill: #FFFFFF;\n",
              "      }\n",
              "    </style>\n",
              "    <button class=\"colab-df-generate\" onclick=\"generateWithVariable('pandas_df')\"\n",
              "            title=\"Generate code using this dataframe.\"\n",
              "            style=\"display:none;\">\n",
              "\n",
              "  <svg xmlns=\"http://www.w3.org/2000/svg\" height=\"24px\"viewBox=\"0 0 24 24\"\n",
              "       width=\"24px\">\n",
              "    <path d=\"M7,19H8.4L18.45,9,17,7.55,7,17.6ZM5,21V16.75L18.45,3.32a2,2,0,0,1,2.83,0l1.4,1.43a1.91,1.91,0,0,1,.58,1.4,1.91,1.91,0,0,1-.58,1.4L9.25,21ZM18.45,9,17,7.55Zm-12,3A5.31,5.31,0,0,0,4.9,8.1,5.31,5.31,0,0,0,1,6.5,5.31,5.31,0,0,0,4.9,4.9,5.31,5.31,0,0,0,6.5,1,5.31,5.31,0,0,0,8.1,4.9,5.31,5.31,0,0,0,12,6.5,5.46,5.46,0,0,0,6.5,12Z\"/>\n",
              "  </svg>\n",
              "    </button>\n",
              "    <script>\n",
              "      (() => {\n",
              "      const buttonEl =\n",
              "        document.querySelector('#id_9ee8ece9-b0dd-430c-b527-cdac37acccb8 button.colab-df-generate');\n",
              "      buttonEl.style.display =\n",
              "        google.colab.kernel.accessAllowed ? 'block' : 'none';\n",
              "\n",
              "      buttonEl.onclick = () => {\n",
              "        google.colab.notebook.generateWithVariable('pandas_df');\n",
              "      }\n",
              "      })();\n",
              "    </script>\n",
              "  </div>\n",
              "\n",
              "    </div>\n",
              "  </div>\n"
            ],
            "application/vnd.google.colaboratory.intrinsic+json": {
              "type": "dataframe",
              "variable_name": "pandas_df"
            }
          },
          "metadata": {}
        }
      ]
    },
    {
      "cell_type": "code",
      "source": [
        "import warnings\n",
        "from tqdm import tqdm\n",
        "from pyspark.ml.feature import StringIndexer, VectorAssembler, StandardScaler, OneHotEncoder\n",
        "from pyspark.ml import Pipeline\n",
        "from pyspark.sql.functions import mean as sql_mean\n",
        "import pyspark.sql.functions as F\n",
        "\n",
        "# Ignore warnings\n",
        "warnings.filterwarnings('ignore')\n",
        "\n",
        "print(\"Processing the data...\")\n",
        "with tqdm(total=6, desc=\"Progress\") as pbar:\n",
        "\n",
        "    df_sample = df.sample(fraction=0.1, seed=42)   # Randomly sampling 10% of the data\n",
        "    pbar.update(1)\n",
        "\n",
        "    # Handling categorical columns\n",
        "    cat_columns = [field for (field, dtype) in df_sample.dtypes if dtype == \"string\"]\n",
        "    stages = []\n",
        "    for col_name in cat_columns:\n",
        "        indexer = StringIndexer(inputCol=col_name, outputCol=f\"{col_name}_indexed\", handleInvalid=\"keep\")\n",
        "        encoder = OneHotEncoder(inputCol=f\"{col_name}_indexed\", outputCol=f\"{col_name}_encoded\")\n",
        "        stages += [indexer, encoder]\n",
        "    pbar.update(1)\n",
        "\n",
        "    # Assembling features\n",
        "    num_columns = [col for col in df_sample.columns if col != 'price' and col not in cat_columns]\n",
        "    encoded_columns = [f\"{col}_encoded\" for col in cat_columns]\n",
        "    feature_columns = num_columns + encoded_columns\n",
        "    assembler = VectorAssembler(inputCols=feature_columns, outputCol=\"features\")\n",
        "    stages += [assembler]\n",
        "    pbar.update(1)\n",
        "\n",
        "    # Adding scaling to the pipeline\n",
        "    scaler = StandardScaler(inputCol=\"features\", outputCol=\"scaled_features\", withMean=True, withStd=True)\n",
        "    stages += [scaler]\n",
        "\n",
        "    # Creating and apply the pipeline\n",
        "    pipeline = Pipeline(stages=stages)\n",
        "    pipeline_model = pipeline.fit(df_sample)\n",
        "    df_sample = pipeline_model.transform(df_sample)\n",
        "    pbar.update(1)\n",
        "\n",
        "    # Filling in missing values\n",
        "    for col in df_sample.columns:\n",
        "        if df_sample.schema[col].dataType.typeName() in [\"double\", \"float\", \"int\", \"long\"]:\n",
        "            mean_value = df_sample.select(sql_mean(col)).first()[0]\n",
        "            df_sample = df_sample.na.fill({col: mean_value})\n",
        "    pbar.update(1)\n",
        "\n",
        "    # Splitting the data\n",
        "    train_df, test_df = df_sample.randomSplit([0.8, 0.2], seed=42)\n",
        "    pbar.update(1)\n",
        "\n",
        "print(\"\\n\\nData preprocessing and splitting completed!\")\n"
      ],
      "metadata": {
        "colab": {
          "base_uri": "https://localhost:8080/"
        },
        "id": "mR62AsJs7TD1",
        "outputId": "4c91fe67-67ad-49e0-9c3d-75a2c5dbde89"
      },
      "execution_count": 13,
      "outputs": [
        {
          "output_type": "stream",
          "name": "stdout",
          "text": [
            "Processing the data...\n"
          ]
        },
        {
          "output_type": "stream",
          "name": "stderr",
          "text": [
            "Progress: 100%|██████████| 6/6 [00:34<00:00,  5.76s/it]"
          ]
        },
        {
          "output_type": "stream",
          "name": "stdout",
          "text": [
            "\n",
            "\n",
            "Data preprocessing and splitting completed!\n"
          ]
        },
        {
          "output_type": "stream",
          "name": "stderr",
          "text": [
            "\n"
          ]
        }
      ]
    },
    {
      "cell_type": "code",
      "source": [
        "from pyspark.ml.evaluation import RegressionEvaluator\n",
        "from sparkxgb import XGBoostRegressor\n",
        "import time\n",
        "\n",
        "# Model training\n",
        "print(\"Training XGBoost model...\")\n",
        "\n",
        "xgb_regressor = XGBoostRegressor(\n",
        "    featuresCol=\"scaled_features\",  # Use scaled features\n",
        "    labelCol=\"price\",               # Target column\n",
        "    maxDepth=6,\n",
        "    numRound=100,\n",
        "    objective=\"reg:squarederror\",   # Regression task\n",
        "    treeMethod=\"hist\",\n",
        ")\n",
        "\n",
        "\n",
        "# Before training\n",
        "start_time = time.time()\n",
        "\n",
        "# Training the model\n",
        "model = xgb_regressor.fit(train_df)\n",
        "\n",
        "# Making predictions\n",
        "print(\"Making predictions...\")\n",
        "predictions = model.transform(test_df)\n",
        "\n",
        "# Evaluating the model\n",
        "print(\"Evaluating the model...\")\n",
        "evaluator = RegressionEvaluator(labelCol=\"price\", predictionCol=\"prediction\", metricName=\"r2\")\n",
        "r2 = evaluator.evaluate(predictions)\n",
        "\n",
        "print(f\"\\nTrain size: {train_df.count()} samples\")\n",
        "print(f\"Test size: {test_df.count()} samples\")\n",
        "print(f\"\\n\\nR-Squared Score (Accuracy): {round(r2 * 100)}%\\n\")\n",
        "\n",
        "# Calculating total runtime\n",
        "end_time = time.time()\n",
        "total_runtime = (end_time - start_time) / 60\n",
        "print(f\"\\nOverall runtime: {round(total_runtime)} minutes.\")"
      ],
      "metadata": {
        "colab": {
          "base_uri": "https://localhost:8080/"
        },
        "id": "kUPR7u6C7i7O",
        "outputId": "e310eb92-36bd-4d8a-e416-3c244f9ecb64"
      },
      "execution_count": 14,
      "outputs": [
        {
          "output_type": "stream",
          "name": "stdout",
          "text": [
            "Training XGBoost model...\n",
            "Making predictions...\n",
            "Evaluating the model...\n",
            "\n",
            "Train size: 240048 samples\n",
            "Test size: 59933 samples\n",
            "\n",
            "\n",
            "R-Squared Score (Accuracy): 92%\n",
            "\n",
            "\n",
            "Overall runtime: 76 minutes.\n"
          ]
        }
      ]
    },
    {
      "cell_type": "code",
      "source": [
        "new_model_path = \"/content/drive/MyDrive/Big Data Analytics - Project/models/XGB_Regression_model_FE\"\n",
        "\n",
        "# Saving the trained model to the new path\n",
        "model.save(new_model_path)\n",
        "\n",
        "print(f\"Model saved successfully at {new_model_path}\")"
      ],
      "metadata": {
        "colab": {
          "base_uri": "https://localhost:8080/"
        },
        "id": "dP-1B0J8K7yE",
        "outputId": "6f608d41-09c1-46e8-82cc-bb87a2ae6bf6"
      },
      "execution_count": 15,
      "outputs": [
        {
          "output_type": "stream",
          "name": "stdout",
          "text": [
            "Model saved successfully at /content/drive/MyDrive/Big Data Analytics - Project/models/XGB_Regression_model_FE\n"
          ]
        }
      ]
    },
    {
      "cell_type": "code",
      "source": [
        "# Calculating additional metrics\n",
        "mae_evaluator = RegressionEvaluator(labelCol=\"price\", predictionCol=\"prediction\", metricName=\"mae\")\n",
        "mae = mae_evaluator.evaluate(predictions)\n",
        "\n",
        "mse_evaluator = RegressionEvaluator(labelCol=\"price\", predictionCol=\"prediction\", metricName=\"mse\")\n",
        "mse = mse_evaluator.evaluate(predictions)\n",
        "\n",
        "rmse_evaluator = RegressionEvaluator(labelCol=\"price\", predictionCol=\"prediction\", metricName=\"rmse\")\n",
        "rmse = rmse_evaluator.evaluate(predictions)\n",
        "\n",
        "print(\"Additional Metrics:\")\n",
        "print(f\"Mean Absolute Error: {round(mae)}\")\n",
        "print(f\"Mean Squared Error: {round(mse)}\")\n",
        "print(f\"Root Mean Squared Error: {round(rmse)}\")"
      ],
      "metadata": {
        "colab": {
          "base_uri": "https://localhost:8080/"
        },
        "id": "g38x9bRH7nfY",
        "outputId": "6eb2e8e2-a05b-4470-a2c1-5a89a030b72e"
      },
      "execution_count": 16,
      "outputs": [
        {
          "output_type": "stream",
          "name": "stdout",
          "text": [
            "Additional Metrics:\n",
            "Mean Absolute Error: 3018\n",
            "Mean Squared Error: 27751838\n",
            "Root Mean Squared Error: 5268\n"
          ]
        }
      ]
    },
    {
      "cell_type": "markdown",
      "source": [
        "In **XGBoost**, the model saw an **improvement in R² accuracy by 6.48%**, while the Mean Absolute Error **(MAE) was reduced by 0.14%**, and the Root Mean Square Error **(RMSE) was reduced by 7.50%**, demonstrating notable improvements in prediction accuracy."
      ],
      "metadata": {
        "id": "VpDletBo7s0u"
      }
    },
    {
      "cell_type": "code",
      "source": [
        "# Saving the trained XGBoost model\n",
        "model.write().overwrite().save(\"/tmp/xgboost_model\")"
      ],
      "metadata": {
        "id": "VYil6Por73Xz"
      },
      "execution_count": null,
      "outputs": []
    },
    {
      "cell_type": "code",
      "source": [
        "import os\n",
        "print(os.listdir(\"/tmp/xgboost_model\"))"
      ],
      "metadata": {
        "colab": {
          "base_uri": "https://localhost:8080/"
        },
        "id": "DmXMF6m776bW",
        "outputId": "deb5b765-fa3d-4742-dee7-85cb5aa6990e"
      },
      "execution_count": null,
      "outputs": [
        {
          "output_type": "stream",
          "name": "stdout",
          "text": [
            "['data', 'metadata']\n"
          ]
        }
      ]
    },
    {
      "cell_type": "code",
      "source": [
        "import xgboost as xgb\n",
        "\n",
        "# Loading the model using the XGBoost native API\n",
        "native_model = xgb.Booster()\n",
        "native_model.load_model(\"/tmp/xgboost_model/data/XGBoostRegressionModel\")\n"
      ],
      "metadata": {
        "id": "yeUF7OK88AWE"
      },
      "execution_count": null,
      "outputs": []
    },
    {
      "cell_type": "code",
      "source": [
        "# Getting feature importances from the loaded native XGBoost model\n",
        "importance_dict = native_model.get_score(importance_type='weight')\n",
        "\n",
        "features_list = pipeline_model.stages[-2].getInputCols()  # Getting the input column names from the VectorAssembler\n",
        "\n",
        "# Mapping the feature indices (f0, f1, ...) to the actual feature names safely\n",
        "sorted_importance = [\n",
        "    (features_list[int(f[1:])], importance)\n",
        "    for f, importance in importance_dict.items()\n",
        "    if int(f[1:]) < len(features_list)  # Ensuring the index is within bounds\n",
        "]\n",
        "\n",
        "# Sorting by importance\n",
        "sorted_importance = sorted(sorted_importance, key=lambda x: x[1], reverse=True)\n",
        "\n",
        "# Printing the top 10 features with their actual names (sorted by importance)\n",
        "print(\"Top 10 Features Ranked by Importance (Highest to Lowest)\")\n",
        "for rank, (feature, importance) in enumerate(sorted_importance[:10], 1):\n",
        "    print(f\"{rank}. {feature}\")"
      ],
      "metadata": {
        "colab": {
          "base_uri": "https://localhost:8080/"
        },
        "id": "aeFBlTaY8Cme",
        "outputId": "4f08a005-c5cf-4cf6-9b86-3d299a39dcfe"
      },
      "execution_count": null,
      "outputs": [
        {
          "output_type": "stream",
          "name": "stdout",
          "text": [
            "Top 10 Features Ranked by Importance (Highest to Lowest)\n",
            "1. log_mileage\n",
            "2. days_in_market\n",
            "3. maintenance_cost\n",
            "4. city_fuel_economy\n",
            "5. major_options_count\n",
            "6. latitude\n",
            "7. manufactured_year\n",
            "8. luxury_score\n",
            "9. seller_rating\n",
            "10. longitude\n"
          ]
        }
      ]
    },
    {
      "cell_type": "markdown",
      "source": [
        "\n",
        "\n",
        "---\n",
        "\n"
      ],
      "metadata": {
        "id": "IYtcp31PSxqG"
      }
    },
    {
      "cell_type": "markdown",
      "source": [
        "### **Punishing Large errors**"
      ],
      "metadata": {
        "id": "cOsyyV4wMxpz"
      }
    },
    {
      "cell_type": "code",
      "source": [
        "import warnings\n",
        "import numpy as np\n",
        "from tqdm import tqdm\n",
        "from pyspark.ml.feature import StringIndexer, VectorAssembler, StandardScaler, OneHotEncoder\n",
        "from pyspark.ml import Pipeline\n",
        "from pyspark.sql.functions import mean as sql_mean\n",
        "import pyspark.sql.functions as F\n",
        "from pyspark.sql.functions import when, lit\n",
        "\n",
        "# Ignore warnings\n",
        "warnings.filterwarnings('ignore')\n",
        "\n",
        "print(\"Processing the data...\")\n",
        "with tqdm(total=5, desc=\"Progress\") as pbar:\n",
        "\n",
        "    df_sample = df.sample(fraction=0.1, seed=42)  # Randomly sample 300k records of the data\n",
        "    pbar.update(1)\n",
        "\n",
        "    # Handle categorical columns\n",
        "    cat_columns = [field for (field, dtype) in df_sample.dtypes if dtype == \"string\"]\n",
        "    stages = []\n",
        "    for col_name in cat_columns:\n",
        "        indexer = StringIndexer(inputCol=col_name, outputCol=f\"{col_name}_indexed\", handleInvalid=\"keep\")\n",
        "        encoder = OneHotEncoder(inputCol=f\"{col_name}_indexed\", outputCol=f\"{col_name}_encoded\")\n",
        "        stages += [indexer, encoder]\n",
        "    pbar.update(1)\n",
        "\n",
        "    # Assemble features\n",
        "    num_columns = [col for col in df_sample.columns if col != 'price' and col not in cat_columns]\n",
        "    encoded_columns = [f\"{col}_encoded\" for col in cat_columns]\n",
        "    feature_columns = num_columns + encoded_columns\n",
        "    assembler = VectorAssembler(inputCols=feature_columns, outputCol=\"features\")\n",
        "    stages += [assembler]\n",
        "    pbar.update(1)\n",
        "\n",
        "    # Add scaling to the pipeline\n",
        "    scaler = StandardScaler(inputCol=\"features\", outputCol=\"scaled_features\", withMean=True, withStd=True)\n",
        "    stages += [scaler]\n",
        "\n",
        "    # Create and apply the pipeline\n",
        "    pipeline = Pipeline(stages=stages)\n",
        "    pipeline_model = pipeline.fit(df_sample)\n",
        "    df_sample = pipeline_model.transform(df_sample)\n",
        "    pbar.update(1)\n",
        "\n",
        "    # Fill missing values\n",
        "    for col in df_sample.columns:\n",
        "        if df_sample.schema[col].dataType.typeName() in [\"double\", \"float\", \"int\", \"long\"]:\n",
        "            mean_value = df_sample.select(sql_mean(col)).first()[0]\n",
        "            df_sample = df_sample.na.fill({col: mean_value})\n",
        "    pbar.update(1)\n",
        "\n",
        "    # Split the data\n",
        "    train_df, test_df = df_sample.randomSplit([0.8, 0.2], seed=42)\n",
        "    pbar.update(1)\n",
        "\n",
        "print(\"\\n\\nData preprocessing and splitting completed!\")\n",
        "\n",
        "print(f\"Train_DF has {train_df.count()} rows and {len(train_df.columns)} columns\")\n",
        "\n",
        "from pyspark.ml.evaluation import RegressionEvaluator\n",
        "from sparkxgb import XGBoostRegressor\n",
        "import time\n",
        "print(\"-------------------------------------------------------------------------------------------------------------------------------\")\n",
        "# Model training\n",
        "print(\"Training XGBoost model...\")\n",
        "\n",
        "# This function will be used by XGBoost during training\n",
        "from pyspark.sql.types import FloatType\n",
        "from pyspark.sql.functions import udf\n",
        "\n",
        "@udf(returnType=FloatType())\n",
        "def custom_weighted_loss_udf(preds, labels):\n",
        "    # Calculate residuals (errors)\n",
        "    residuals = preds - labels\n",
        "    # Penalize more heavily for prices above 38,210 (75th percentile)\n",
        "    weight = np.where(labels > 38210, 2.0, 1.0)  # Apply weight of 2 for cars above 38,210\n",
        "    # Calculate weighted squared error\n",
        "    loss = (residuals ** 2) * weight\n",
        "    return float(loss)  # Ensure the output is a float for Spark\n",
        "\n",
        "\n",
        "# Create a weight column\n",
        "train_df = train_df.withColumn(\"weight\", when(train_df[\"price\"] > 38210, 2.0).otherwise(1.0))\n",
        "\n",
        "# Initialize the XGBoostRegressor with weight column\n",
        "xgb_regressor = XGBoostRegressor(\n",
        "    featuresCol=\"scaled_features\",\n",
        "    labelCol=\"price\",\n",
        "    weightCol=\"weight\",  # Use the weight column\n",
        "    maxDepth=6,\n",
        "    numRound=100,\n",
        "    objective=\"reg:squarederror\",\n",
        "    treeMethod=\"hist\",\n",
        ")\n",
        "\n",
        "# Before training\n",
        "start_time = time.time()\n",
        "\n",
        "# Train the model\n",
        "model = xgb_regressor.fit(train_df)\n",
        "\n",
        "# Make predictions\n",
        "print(\"Making predictions...\")\n",
        "predictions = model.transform(test_df)\n",
        "\n",
        "# Apply custom loss to predictions for evaluation\n",
        "predictions = predictions.withColumn(\"custom_loss\", custom_weighted_loss_udf(predictions[\"prediction\"], predictions[\"price\"]))\n",
        "\n",
        "# Evaluate the model\n",
        "print(\"Evaluating the model...\")\n",
        "evaluator = RegressionEvaluator(labelCol=\"price\", predictionCol=\"prediction\", metricName=\"r2\")\n",
        "r2 = evaluator.evaluate(predictions)\n",
        "\n",
        "print(f\"\\nTrain size: {train_df.count()} samples\")\n",
        "print(f\"Test size: {test_df.count()} samples\")\n",
        "print(f\"\\n\\nR-Squared Score (Accuracy): {r2 * 100:.2f}%\")\n",
        "\n",
        "# Calculate total runtime\n",
        "end_time = time.time()\n",
        "total_runtime = (end_time - start_time) / 60  # Convert seconds to minutes\n",
        "\n",
        "print(f\"\\n\\nOverall runtime: {round(total_runtime)} minutes.\")\n",
        "print(\"-------------------------------------------------------------------------------------------------------------------------------\")\n",
        "\n",
        "# Calculate additional metrics\n",
        "mae_evaluator = RegressionEvaluator(labelCol=\"price\", predictionCol=\"prediction\", metricName=\"mae\")\n",
        "mae = mae_evaluator.evaluate(predictions)\n",
        "\n",
        "mse_evaluator = RegressionEvaluator(labelCol=\"price\", predictionCol=\"prediction\", metricName=\"mse\")\n",
        "mse = mse_evaluator.evaluate(predictions)\n",
        "\n",
        "rmse_evaluator = RegressionEvaluator(labelCol=\"price\", predictionCol=\"prediction\", metricName=\"rmse\")\n",
        "rmse = rmse_evaluator.evaluate(predictions)\n",
        "\n",
        "print(\"\\nAdditional Metrics:\")\n",
        "print(f\"Mean Absolute Error: {round(mae)}\")\n",
        "print(f\"Mean Squared Error: {round(mse)}\")\n",
        "print(f\"Root Mean Squared Error: {round(rmse)}\")"
      ],
      "metadata": {
        "colab": {
          "base_uri": "https://localhost:8080/"
        },
        "id": "Vv4fcsUXMxJO",
        "outputId": "043bfadd-6004-462d-8cb1-bd0063050f56"
      },
      "execution_count": null,
      "outputs": [
        {
          "output_type": "stream",
          "name": "stdout",
          "text": [
            "Processing the data...\n"
          ]
        },
        {
          "output_type": "stream",
          "name": "stderr",
          "text": [
            "Progress: 6it [00:30,  5.04s/it]                       \n"
          ]
        },
        {
          "output_type": "stream",
          "name": "stdout",
          "text": [
            "\n",
            "\n",
            "Data preprocessing and splitting completed!\n",
            "Train_DF has 240048 rows and 77 columns\n",
            "-------------------------------------------------------------------------------------------------------------------------------\n",
            "Training XGBoost model...\n",
            "Making predictions...\n",
            "Evaluating the model...\n",
            "\n",
            "Train size: 240048 samples\n",
            "Test size: 59933 samples\n",
            "\n",
            "\n",
            "R-Squared Score (Accuracy): 91.70%\n",
            "\n",
            "\n",
            "Overall runtime: 76 minutes.\n",
            "-------------------------------------------------------------------------------------------------------------------------------\n",
            "\n",
            "Additional Metrics:\n",
            "Mean Absolute Error: 3090\n",
            "Mean Squared Error: 28202433\n",
            "Root Mean Squared Error: 5311\n"
          ]
        }
      ]
    },
    {
      "cell_type": "markdown",
      "source": [
        "### **No substantial improvement in performance**"
      ],
      "metadata": {
        "id": "qCSqDOZVGG4v"
      }
    },
    {
      "cell_type": "code",
      "source": [
        "# Select the relevant columns ('price' and 'prediction') and show the first 10 rows\n",
        "predictions.select(\"price\", \"prediction\").show(10)"
      ],
      "metadata": {
        "colab": {
          "base_uri": "https://localhost:8080/"
        },
        "id": "EGaxYNpuWxuZ",
        "outputId": "3ae15eeb-0571-4003-ed87-1e5c0687fce4"
      },
      "execution_count": null,
      "outputs": [
        {
          "output_type": "stream",
          "name": "stdout",
          "text": [
            "+-------+--------------+\n",
            "|  price|    prediction|\n",
            "+-------+--------------+\n",
            "|56270.0| 63611.0078125|\n",
            "|60637.0| 62643.0078125|\n",
            "|48365.0| 57950.5546875|\n",
            "|59428.0|63419.37109375|\n",
            "|59939.0|61276.08203125|\n",
            "|60055.0| 67952.7265625|\n",
            "|46976.0|     59387.875|\n",
            "|46600.0| 43039.3984375|\n",
            "|63470.0| 64744.4765625|\n",
            "|71998.0| 70182.4296875|\n",
            "+-------+--------------+\n",
            "only showing top 10 rows\n",
            "\n"
          ]
        }
      ]
    }
  ],
  "metadata": {
    "accelerator": "TPU",
    "colab": {
      "gpuType": "V28",
      "machine_shape": "hm",
      "provenance": []
    },
    "kernelspec": {
      "display_name": "Python 3",
      "name": "python3"
    },
    "language_info": {
      "name": "python"
    }
  },
  "nbformat": 4,
  "nbformat_minor": 0
}
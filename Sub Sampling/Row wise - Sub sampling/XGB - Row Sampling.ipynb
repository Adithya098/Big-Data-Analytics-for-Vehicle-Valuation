{
 "cells": [
  {
   "cell_type": "code",
   "execution_count": 1,
   "metadata": {
    "colab": {
     "base_uri": "https://localhost:8080/"
    },
    "executionInfo": {
     "elapsed": 4035,
     "status": "ok",
     "timestamp": 1730106545162,
     "user": {
      "displayName": "Adithya R",
      "userId": "06981244434554202327"
     },
     "user_tz": -480
    },
    "id": "O4Zdpj42Q-4L",
    "outputId": "baeb05db-6da4-4a98-c086-264b0e77c7ef"
   },
   "outputs": [
    {
     "name": "stdout",
     "output_type": "stream",
     "text": [
      "\n",
      "tqdm is already installed.\n",
      "\n",
      "pyspark is already installed.\n",
      "\n",
      "gdown is already installed.\n",
      "\n",
      "numpy is already installed.\n",
      "\n",
      "xgboost is already installed.\n",
      "\n",
      "sparkxgb is already installed.\n"
     ]
    }
   ],
   "source": [
    "import importlib\n",
    "import subprocess\n",
    "import sys\n",
    "import gc\n",
    "\n",
    "def check_and_install_package(package_name, version=None):\n",
    "    try:\n",
    "        importlib.import_module(package_name)\n",
    "        print(f\"\\n{package_name} is already installed.\")\n",
    "    except ImportError:\n",
    "        print(f\"\\n{package_name} is NOT installed. Installing now...\")\n",
    "        if version:\n",
    "            subprocess.check_call([sys.executable, \"-m\", \"pip\", \"install\", f\"{package_name}=={version}\"])\n",
    "        else:\n",
    "            subprocess.check_call([sys.executable, \"-m\", \"pip\", \"install\", package_name])\n",
    "        print(f\"{package_name} installation completed.\")\n",
    "\n",
    "# List of packages to check along with specific versions if necessary\n",
    "packages = [\n",
    "    {\"name\": \"tqdm\", \"version\": None},\n",
    "    {\"name\": \"pyspark\", \"version\": \"3.1.1\"},\n",
    "    {\"name\": \"gdown\", \"version\": None},\n",
    "    {\"name\": \"numpy\", \"version\": \"1.22.4\"},\n",
    "    {\"name\": \"xgboost\", \"version\": None},\n",
    "    {\"name\": \"sparkxgb\", \"version\": None},\n",
    "]\n",
    "\n",
    "# Checking and installing packages\n",
    "for package in packages:\n",
    "    check_and_install_package(package[\"name\"], package[\"version\"])"
   ]
  },
  {
   "cell_type": "code",
   "execution_count": 2,
   "metadata": {
    "colab": {
     "base_uri": "https://localhost:8080/"
    },
    "executionInfo": {
     "elapsed": 1634,
     "status": "ok",
     "timestamp": 1730106547130,
     "user": {
      "displayName": "Adithya R",
      "userId": "06981244434554202327"
     },
     "user_tz": -480
    },
    "id": "M0LqyJRl0VQN",
    "outputId": "9aa9ff68-2e0a-4243-fa9f-65270e5445d1"
   },
   "outputs": [
    {
     "name": "stdout",
     "output_type": "stream",
     "text": [
      "Requirement already satisfied: numpy==1.22.4 in /usr/local/lib/python3.10/dist-packages (1.22.4)\n"
     ]
    }
   ],
   "source": [
    "!pip install numpy==1.22.4"
   ]
  },
  {
   "cell_type": "code",
   "execution_count": 3,
   "metadata": {
    "colab": {
     "base_uri": "https://localhost:8080/"
    },
    "executionInfo": {
     "elapsed": 2,
     "status": "ok",
     "timestamp": 1730106547445,
     "user": {
      "displayName": "Adithya R",
      "userId": "06981244434554202327"
     },
     "user_tz": -480
    },
    "id": "jogYwheA0ZXo",
    "outputId": "c173616e-528e-4d18-ed0d-caad2c3ad5f7"
   },
   "outputs": [
    {
     "name": "stdout",
     "output_type": "stream",
     "text": [
      "1.22.4\n"
     ]
    }
   ],
   "source": [
    "import numpy\n",
    "print(numpy.__version__)"
   ]
  },
  {
   "cell_type": "code",
   "execution_count": 4,
   "metadata": {
    "colab": {
     "base_uri": "https://localhost:8080/"
    },
    "executionInfo": {
     "elapsed": 4817,
     "status": "ok",
     "timestamp": 1730106553644,
     "user": {
      "displayName": "Adithya R",
      "userId": "06981244434554202327"
     },
     "user_tz": -480
    },
    "id": "CPD4U30UJDrh",
    "outputId": "d945b93a-287b-4b20-803a-e241355f9974"
   },
   "outputs": [
    {
     "name": "stdout",
     "output_type": "stream",
     "text": [
      "Requirement already satisfied: sparkxgb in /usr/local/lib/python3.10/dist-packages (0.1)\n",
      "Requirement already satisfied: pyspark==3.1.1 in /usr/local/lib/python3.10/dist-packages (from sparkxgb) (3.1.1)\n",
      "Requirement already satisfied: py4j==0.10.9 in /usr/local/lib/python3.10/dist-packages (from pyspark==3.1.1->sparkxgb) (0.10.9)\n"
     ]
    }
   ],
   "source": [
    "!pip install sparkxgb"
   ]
  },
  {
   "cell_type": "code",
   "execution_count": 5,
   "metadata": {
    "colab": {
     "base_uri": "https://localhost:8080/"
    },
    "executionInfo": {
     "elapsed": 18373,
     "status": "ok",
     "timestamp": 1730106572015,
     "user": {
      "displayName": "Adithya R",
      "userId": "06981244434554202327"
     },
     "user_tz": -480
    },
    "id": "RzKYWgsyRGny",
    "outputId": "03e1d9e5-1074-4602-dbdd-d29a6ce724d5"
   },
   "outputs": [
    {
     "name": "stdout",
     "output_type": "stream",
     "text": [
      "Mounted at /content/drive\n"
     ]
    }
   ],
   "source": [
    "from google.colab import drive\n",
    "drive.mount('/content/drive')"
   ]
  },
  {
   "cell_type": "code",
   "execution_count": 6,
   "metadata": {
    "colab": {
     "base_uri": "https://localhost:8080/"
    },
    "executionInfo": {
     "elapsed": 1194,
     "status": "ok",
     "timestamp": 1730106573208,
     "user": {
      "displayName": "Adithya R",
      "userId": "06981244434554202327"
     },
     "user_tz": -480
    },
    "id": "4QHkLfzsGy18",
    "outputId": "3dcf1e28-3c24-495b-b9db-69fe789660d3"
   },
   "outputs": [
    {
     "name": "stdout",
     "output_type": "stream",
     "text": [
      "Jar Files copied to: /resources\n",
      "['xgboost4j-spark_2.12-1.7.6.jar', 'xgboost4j_2.12-1.7.6.jar']\n"
     ]
    }
   ],
   "source": [
    "import os\n",
    "import shutil\n",
    "\n",
    "# Defining local resources directory\n",
    "local_resources_path = \"/resources\"\n",
    "os.makedirs(local_resources_path, exist_ok=True)\n",
    "\n",
    "# Defining the source paths from mounted Google Drive\n",
    "xgboost4j_source = \"/content/drive/MyDrive/Big Data Analytics - Project/resources/xgboost4j_2.12-1.7.6.jar\"\n",
    "xgboost4j_spark_source = \"/content/drive/MyDrive/Big Data Analytics - Project/resources/xgboost4j-spark_2.12-1.7.6.jar\"\n",
    "\n",
    "# Defining the destination paths in the instance's local file system\n",
    "xgboost4j_dest = os.path.join(local_resources_path, \"xgboost4j_2.12-1.7.6.jar\")\n",
    "xgboost4j_spark_dest = os.path.join(local_resources_path, \"xgboost4j-spark_2.12-1.7.6.jar\")\n",
    "\n",
    "# Copying the files from Google Drive to the local instance\n",
    "shutil.copyfile(xgboost4j_source, xgboost4j_dest)\n",
    "shutil.copyfile(xgboost4j_spark_source, xgboost4j_spark_dest)\n",
    "\n",
    "# Verifying that the files are copied\n",
    "print(f\"Jar Files copied to: {local_resources_path}\")\n",
    "print(os.listdir(local_resources_path))\n"
   ]
  },
  {
   "cell_type": "code",
   "execution_count": 7,
   "metadata": {
    "colab": {
     "base_uri": "https://localhost:8080/"
    },
    "executionInfo": {
     "elapsed": 4627,
     "status": "ok",
     "timestamp": 1730106577834,
     "user": {
      "displayName": "Adithya R",
      "userId": "06981244434554202327"
     },
     "user_tz": -480
    },
    "id": "dMvRtGAZRWKh",
    "outputId": "529140da-f5ac-40f9-daf3-af633f0df27a"
   },
   "outputs": [
    {
     "name": "stdout",
     "output_type": "stream",
     "text": [
      "Spark session started with version: 3.1.1\n"
     ]
    }
   ],
   "source": [
    "from pyspark.sql import SparkSession\n",
    "\n",
    "# Defining the path to the copied jar files in the local instance\n",
    "jar_files = \"/resources/xgboost4j_2.12-1.7.6.jar,/resources/xgboost4j-spark_2.12-1.7.6.jar\"\n",
    "\n",
    "# Initializing Spark session with the JAR files\n",
    "spark = SparkSession.builder \\\n",
    "    .appName(\"XGBoostRegressor\") \\\n",
    "    .config(\"spark.driver.memory\", \"120g\") \\\n",
    "    .config(\"spark.executor.memory\", \"120g\") \\\n",
    "    .config(\"spark.driver.maxResultSize\", \"40g\") \\\n",
    "    .config(\"spark.executor.memoryOverhead\", \"40g\") \\\n",
    "    .config(\"spark.executor.cores\", \"5\") \\\n",
    "    .config(\"spark.kryoserializer.buffer.max\", \"2047m\") \\\n",
    "    .config(\"spark.serializer\", \"org.apache.spark.serializer.KryoSerializer\") \\\n",
    "    .config(\"spark.dynamicAllocation.enabled\", \"true\") \\\n",
    "    .config(\"spark.sql.shuffle.partitions\", \"400\") \\\n",
    "    .config(\"spark.hadoop.fs.file.impl\", \"org.apache.hadoop.fs.LocalFileSystem\") \\\n",
    "    .config(\"spark.executor.extraJavaOptions\", \"-XX:+UseG1GC -XX:InitiatingHeapOccupancyPercent=35 -XX:ConcGCThreads=4 -XX:ParallelGCThreads=4\") \\\n",
    "    .config(\"spark.jars\", jar_files) \\\n",
    "    .getOrCreate()\n",
    "\n",
    "# Verifying Spark session creation\n",
    "print(f\"Spark session started with version: {spark.version}\")"
   ]
  },
  {
   "cell_type": "code",
   "execution_count": 8,
   "metadata": {
    "colab": {
     "base_uri": "https://localhost:8080/"
    },
    "executionInfo": {
     "elapsed": 3,
     "status": "ok",
     "timestamp": 1730106577835,
     "user": {
      "displayName": "Adithya R",
      "userId": "06981244434554202327"
     },
     "user_tz": -480
    },
    "id": "x5Z292PcHRYR",
    "outputId": "6954f264-052e-4abd-cf15-7c8b4df06660"
   },
   "outputs": [
    {
     "name": "stdout",
     "output_type": "stream",
     "text": [
      "sparkxgb loaded successfully!\n"
     ]
    }
   ],
   "source": [
    "# Testing if sparkxgb is loaded properly\n",
    "try:\n",
    "    from sparkxgb import XGBoostRegressor\n",
    "\n",
    "    model = XGBoostRegressor()\n",
    "    print(\"sparkxgb loaded successfully!\")\n",
    "except Exception as e:\n",
    "    print(f\"Error loading sparkxgb: {e}\")\n"
   ]
  },
  {
   "cell_type": "code",
   "execution_count": 9,
   "metadata": {
    "colab": {
     "base_uri": "https://localhost:8080/"
    },
    "executionInfo": {
     "elapsed": 10982,
     "status": "ok",
     "timestamp": 1730106588815,
     "user": {
      "displayName": "Adithya R",
      "userId": "06981244434554202327"
     },
     "user_tz": -480
    },
    "id": "74JPP1A15OAQ",
    "outputId": "111a8d3b-e9af-446a-cfee-dd592f3a3301"
   },
   "outputs": [
    {
     "name": "stdout",
     "output_type": "stream",
     "text": [
      "The Feature Engineered DataFrame has been loaded successfully.\n"
     ]
    }
   ],
   "source": [
    "!cp '/content/drive/MyDrive/Big Data Analytics - Project/Datasets/Feature_Engineered_DF.parquet' /content/\n",
    "\n",
    "output_path = '/content/Feature_Engineered_DF.parquet'\n",
    "df = spark.read.parquet(output_path)\n",
    "print(\"The Feature Engineered DataFrame has been loaded successfully.\")\n"
   ]
  },
  {
   "cell_type": "code",
   "execution_count": 10,
   "metadata": {
    "colab": {
     "base_uri": "https://localhost:8080/"
    },
    "executionInfo": {
     "elapsed": 1720,
     "status": "ok",
     "timestamp": 1730106590534,
     "user": {
      "displayName": "Adithya R",
      "userId": "06981244434554202327"
     },
     "user_tz": -480
    },
    "id": "jIQ0jom35_PN",
    "outputId": "4e819089-fd47-4263-bfac-246268cd37ef"
   },
   "outputs": [
    {
     "name": "stdout",
     "output_type": "stream",
     "text": [
      "The shape of the loaded DataFrame is: (3000040, 47)\n"
     ]
    }
   ],
   "source": [
    "# Printing the shape of the DataFrame\n",
    "total_rows = df.count()\n",
    "total_columns = len(df.columns)\n",
    "\n",
    "print(f\"The shape of the loaded DataFrame is: ({total_rows}, {total_columns})\")"
   ]
  },
  {
   "cell_type": "code",
   "execution_count": 11,
   "metadata": {
    "colab": {
     "base_uri": "https://localhost:8080/"
    },
    "executionInfo": {
     "elapsed": 318,
     "status": "ok",
     "timestamp": 1730106590851,
     "user": {
      "displayName": "Adithya R",
      "userId": "06981244434554202327"
     },
     "user_tz": -480
    },
    "id": "Ngd7Um5Q6H-Y",
    "outputId": "e4f5dce8-3c2c-4832-f341-b58769afa9db"
   },
   "outputs": [
    {
     "name": "stdout",
     "output_type": "stream",
     "text": [
      "Average price of a car: 29933\n"
     ]
    }
   ],
   "source": [
    "# Calculating the average price\n",
    "avg_price = df.agg({\"price\": \"avg\"}).collect()[0][0]\n",
    "print(f\"Average price of a car: {round(avg_price)}\")"
   ]
  },
  {
   "cell_type": "code",
   "execution_count": 12,
   "metadata": {
    "colab": {
     "base_uri": "https://localhost:8080/",
     "height": 434
    },
    "executionInfo": {
     "elapsed": 10295,
     "status": "ok",
     "timestamp": 1730106601145,
     "user": {
      "displayName": "Adithya R",
      "userId": "06981244434554202327"
     },
     "user_tz": -480
    },
    "id": "loBieuHM6NG5",
    "outputId": "9b9c4ec4-b569-496f-8552-79b02875626d"
   },
   "outputs": [
    {
     "data": {
      "application/vnd.google.colaboratory.intrinsic+json": {
       "type": "dataframe",
       "variable_name": "pandas_df"
      },
      "text/html": [
       "\n",
       "  <div id=\"df-55850191-4f07-449a-860d-4763dceab571\" class=\"colab-df-container\">\n",
       "    <div>\n",
       "<style scoped>\n",
       "    .dataframe tbody tr th:only-of-type {\n",
       "        vertical-align: middle;\n",
       "    }\n",
       "\n",
       "    .dataframe tbody tr th {\n",
       "        vertical-align: top;\n",
       "    }\n",
       "\n",
       "    .dataframe thead th {\n",
       "        text-align: right;\n",
       "    }\n",
       "</style>\n",
       "<table border=\"1\" class=\"dataframe\">\n",
       "  <thead>\n",
       "    <tr style=\"text-align: right;\">\n",
       "      <th></th>\n",
       "      <th>fuel_type</th>\n",
       "      <th>body_type</th>\n",
       "      <th>city</th>\n",
       "      <th>city_fuel_economy</th>\n",
       "      <th>days_in_market</th>\n",
       "      <th>dealer_zip</th>\n",
       "      <th>engine_displacement</th>\n",
       "      <th>engine_type</th>\n",
       "      <th>exterior_color</th>\n",
       "      <th>franchise_dealer</th>\n",
       "      <th>fuel_tank_volume</th>\n",
       "      <th>height</th>\n",
       "      <th>highway_fuel_economy</th>\n",
       "      <th>horsepower</th>\n",
       "      <th>interior_color</th>\n",
       "      <th>is_new</th>\n",
       "      <th>latitude</th>\n",
       "      <th>length</th>\n",
       "      <th>listing_color</th>\n",
       "      <th>longitude</th>\n",
       "      <th>make_name</th>\n",
       "      <th>maximum_seating</th>\n",
       "      <th>model_name</th>\n",
       "      <th>price</th>\n",
       "      <th>savings_amount</th>\n",
       "      <th>seller_rating</th>\n",
       "      <th>sp_name</th>\n",
       "      <th>torque</th>\n",
       "      <th>transmission</th>\n",
       "      <th>transmission_display</th>\n",
       "      <th>wheel_system_display</th>\n",
       "      <th>wheelbase</th>\n",
       "      <th>width</th>\n",
       "      <th>manufactured_year</th>\n",
       "      <th>combined_fuel_economy</th>\n",
       "      <th>legroom</th>\n",
       "      <th>log_mileage</th>\n",
       "      <th>major_options_count</th>\n",
       "      <th>hp_x_engine_disp</th>\n",
       "      <th>hp_x_torque</th>\n",
       "      <th>listed_day</th>\n",
       "      <th>listed_month</th>\n",
       "      <th>listed_year</th>\n",
       "      <th>age</th>\n",
       "      <th>resale_value_score</th>\n",
       "      <th>maintenance_cost</th>\n",
       "      <th>luxury_score</th>\n",
       "    </tr>\n",
       "  </thead>\n",
       "  <tbody>\n",
       "    <tr>\n",
       "      <th>0</th>\n",
       "      <td>Gasoline</td>\n",
       "      <td>Sedan</td>\n",
       "      <td>California</td>\n",
       "      <td>26.0</td>\n",
       "      <td>8</td>\n",
       "      <td>20619</td>\n",
       "      <td>2500.0</td>\n",
       "      <td>I4</td>\n",
       "      <td>Black</td>\n",
       "      <td>True</td>\n",
       "      <td>16.000000</td>\n",
       "      <td>57.3</td>\n",
       "      <td>36.0</td>\n",
       "      <td>182.0</td>\n",
       "      <td>Black</td>\n",
       "      <td>True</td>\n",
       "      <td>38.292400</td>\n",
       "      <td>192.9</td>\n",
       "      <td>BLACK</td>\n",
       "      <td>-76.496101</td>\n",
       "      <td>Nissan</td>\n",
       "      <td>5.0</td>\n",
       "      <td>Altima</td>\n",
       "      <td>32645.0</td>\n",
       "      <td>0</td>\n",
       "      <td>4.142857</td>\n",
       "      <td>Nissan of Lexington Park</td>\n",
       "      <td>178.00</td>\n",
       "      <td>CVT</td>\n",
       "      <td>Continuously Variable Transmission</td>\n",
       "      <td>All-Wheel Drive</td>\n",
       "      <td>111.2</td>\n",
       "      <td>72.9</td>\n",
       "      <td>2020</td>\n",
       "      <td>31.0</td>\n",
       "      <td>79.0</td>\n",
       "      <td>8.91</td>\n",
       "      <td>8</td>\n",
       "      <td>0.25</td>\n",
       "      <td>0.59858</td>\n",
       "      <td>2</td>\n",
       "      <td>9</td>\n",
       "      <td>2020</td>\n",
       "      <td>0</td>\n",
       "      <td>29</td>\n",
       "      <td>39</td>\n",
       "      <td>31</td>\n",
       "    </tr>\n",
       "    <tr>\n",
       "      <th>1</th>\n",
       "      <td>Gasoline</td>\n",
       "      <td>Sedan</td>\n",
       "      <td>North Miami Beach</td>\n",
       "      <td>30.0</td>\n",
       "      <td>26</td>\n",
       "      <td>33162</td>\n",
       "      <td>1500.0</td>\n",
       "      <td>I4</td>\n",
       "      <td>Other</td>\n",
       "      <td>True</td>\n",
       "      <td>12.400000</td>\n",
       "      <td>55.7</td>\n",
       "      <td>38.0</td>\n",
       "      <td>174.0</td>\n",
       "      <td>White</td>\n",
       "      <td>True</td>\n",
       "      <td>25.926001</td>\n",
       "      <td>182.7</td>\n",
       "      <td>GRAY</td>\n",
       "      <td>-80.157204</td>\n",
       "      <td>Honda</td>\n",
       "      <td>5.0</td>\n",
       "      <td>Civic</td>\n",
       "      <td>28805.0</td>\n",
       "      <td>0</td>\n",
       "      <td>3.760000</td>\n",
       "      <td>Honda of Aventura</td>\n",
       "      <td>162.00</td>\n",
       "      <td>CVT</td>\n",
       "      <td>Continuously Variable Transmission</td>\n",
       "      <td>Front-Wheel Drive</td>\n",
       "      <td>106.3</td>\n",
       "      <td>70.8</td>\n",
       "      <td>2020</td>\n",
       "      <td>34.0</td>\n",
       "      <td>79.7</td>\n",
       "      <td>8.91</td>\n",
       "      <td>8</td>\n",
       "      <td>0.92</td>\n",
       "      <td>0.79478</td>\n",
       "      <td>15</td>\n",
       "      <td>8</td>\n",
       "      <td>2020</td>\n",
       "      <td>0</td>\n",
       "      <td>26</td>\n",
       "      <td>37</td>\n",
       "      <td>31</td>\n",
       "    </tr>\n",
       "    <tr>\n",
       "      <th>2</th>\n",
       "      <td>Gasoline</td>\n",
       "      <td>SUV / Crossover</td>\n",
       "      <td>Seneca</td>\n",
       "      <td>21.0</td>\n",
       "      <td>306</td>\n",
       "      <td>29678</td>\n",
       "      <td>2000.0</td>\n",
       "      <td>I4</td>\n",
       "      <td>Black</td>\n",
       "      <td>True</td>\n",
       "      <td>21.500000</td>\n",
       "      <td>73.6</td>\n",
       "      <td>22.0</td>\n",
       "      <td>270.0</td>\n",
       "      <td>Black</td>\n",
       "      <td>True</td>\n",
       "      <td>34.700901</td>\n",
       "      <td>188.4</td>\n",
       "      <td>BLACK</td>\n",
       "      <td>-82.922997</td>\n",
       "      <td>Jeep</td>\n",
       "      <td>5.0</td>\n",
       "      <td>Wrangler Unlimited</td>\n",
       "      <td>53470.0</td>\n",
       "      <td>0</td>\n",
       "      <td>4.311111</td>\n",
       "      <td>Lake Keowee Chrysler Dodge Jeep Ram</td>\n",
       "      <td>442.00</td>\n",
       "      <td>A</td>\n",
       "      <td>Automatic</td>\n",
       "      <td>Four-Wheel Drive</td>\n",
       "      <td>118.4</td>\n",
       "      <td>73.8</td>\n",
       "      <td>2019</td>\n",
       "      <td>21.5</td>\n",
       "      <td>79.5</td>\n",
       "      <td>2.71</td>\n",
       "      <td>7</td>\n",
       "      <td>-0.18</td>\n",
       "      <td>0.41443</td>\n",
       "      <td>9</td>\n",
       "      <td>11</td>\n",
       "      <td>2019</td>\n",
       "      <td>0</td>\n",
       "      <td>25</td>\n",
       "      <td>40</td>\n",
       "      <td>32</td>\n",
       "    </tr>\n",
       "    <tr>\n",
       "      <th>3</th>\n",
       "      <td>Gasoline</td>\n",
       "      <td>SUV / Crossover</td>\n",
       "      <td>Scottsdale</td>\n",
       "      <td>21.0</td>\n",
       "      <td>196</td>\n",
       "      <td>85260</td>\n",
       "      <td>2300.0</td>\n",
       "      <td>I4</td>\n",
       "      <td>White</td>\n",
       "      <td>True</td>\n",
       "      <td>19.200001</td>\n",
       "      <td>69.9</td>\n",
       "      <td>28.0</td>\n",
       "      <td>300.0</td>\n",
       "      <td>White</td>\n",
       "      <td>True</td>\n",
       "      <td>33.631699</td>\n",
       "      <td>198.8</td>\n",
       "      <td>WHITE</td>\n",
       "      <td>-111.896004</td>\n",
       "      <td>Ford</td>\n",
       "      <td>7.0</td>\n",
       "      <td>Explorer</td>\n",
       "      <td>38350.0</td>\n",
       "      <td>0</td>\n",
       "      <td>4.285714</td>\n",
       "      <td>AutoNation Ford Scottsdale</td>\n",
       "      <td>265.22</td>\n",
       "      <td>A</td>\n",
       "      <td>Automatic</td>\n",
       "      <td>Rear-Wheel Drive</td>\n",
       "      <td>119.1</td>\n",
       "      <td>89.3</td>\n",
       "      <td>2020</td>\n",
       "      <td>24.5</td>\n",
       "      <td>82.0</td>\n",
       "      <td>1.61</td>\n",
       "      <td>3</td>\n",
       "      <td>-0.29</td>\n",
       "      <td>0.00001</td>\n",
       "      <td>28</td>\n",
       "      <td>2</td>\n",
       "      <td>2020</td>\n",
       "      <td>0</td>\n",
       "      <td>30</td>\n",
       "      <td>40</td>\n",
       "      <td>36</td>\n",
       "    </tr>\n",
       "    <tr>\n",
       "      <th>4</th>\n",
       "      <td>Gasoline</td>\n",
       "      <td>SUV / Crossover</td>\n",
       "      <td>Raleigh</td>\n",
       "      <td>20.0</td>\n",
       "      <td>28</td>\n",
       "      <td>27617</td>\n",
       "      <td>3500.0</td>\n",
       "      <td>V6</td>\n",
       "      <td>Silver</td>\n",
       "      <td>True</td>\n",
       "      <td>17.900000</td>\n",
       "      <td>68.1</td>\n",
       "      <td>27.0</td>\n",
       "      <td>295.0</td>\n",
       "      <td>Gray</td>\n",
       "      <td>True</td>\n",
       "      <td>35.894402</td>\n",
       "      <td>194.9</td>\n",
       "      <td>SILVER</td>\n",
       "      <td>-78.755600</td>\n",
       "      <td>Toyota</td>\n",
       "      <td>8.0</td>\n",
       "      <td>Highlander</td>\n",
       "      <td>34356.0</td>\n",
       "      <td>0</td>\n",
       "      <td>4.125000</td>\n",
       "      <td>Fred Anderson Toyota</td>\n",
       "      <td>263.00</td>\n",
       "      <td>A</td>\n",
       "      <td>8-Speed Automatic</td>\n",
       "      <td>All-Wheel Drive</td>\n",
       "      <td>112.2</td>\n",
       "      <td>76.0</td>\n",
       "      <td>2020</td>\n",
       "      <td>23.5</td>\n",
       "      <td>81.4</td>\n",
       "      <td>1.95</td>\n",
       "      <td>5</td>\n",
       "      <td>0.23</td>\n",
       "      <td>-0.01101</td>\n",
       "      <td>13</td>\n",
       "      <td>8</td>\n",
       "      <td>2020</td>\n",
       "      <td>0</td>\n",
       "      <td>32</td>\n",
       "      <td>39</td>\n",
       "      <td>36</td>\n",
       "    </tr>\n",
       "  </tbody>\n",
       "</table>\n",
       "</div>\n",
       "    <div class=\"colab-df-buttons\">\n",
       "\n",
       "  <div class=\"colab-df-container\">\n",
       "    <button class=\"colab-df-convert\" onclick=\"convertToInteractive('df-55850191-4f07-449a-860d-4763dceab571')\"\n",
       "            title=\"Convert this dataframe to an interactive table.\"\n",
       "            style=\"display:none;\">\n",
       "\n",
       "  <svg xmlns=\"http://www.w3.org/2000/svg\" height=\"24px\" viewBox=\"0 -960 960 960\">\n",
       "    <path d=\"M120-120v-720h720v720H120Zm60-500h600v-160H180v160Zm220 220h160v-160H400v160Zm0 220h160v-160H400v160ZM180-400h160v-160H180v160Zm440 0h160v-160H620v160ZM180-180h160v-160H180v160Zm440 0h160v-160H620v160Z\"/>\n",
       "  </svg>\n",
       "    </button>\n",
       "\n",
       "  <style>\n",
       "    .colab-df-container {\n",
       "      display:flex;\n",
       "      gap: 12px;\n",
       "    }\n",
       "\n",
       "    .colab-df-convert {\n",
       "      background-color: #E8F0FE;\n",
       "      border: none;\n",
       "      border-radius: 50%;\n",
       "      cursor: pointer;\n",
       "      display: none;\n",
       "      fill: #1967D2;\n",
       "      height: 32px;\n",
       "      padding: 0 0 0 0;\n",
       "      width: 32px;\n",
       "    }\n",
       "\n",
       "    .colab-df-convert:hover {\n",
       "      background-color: #E2EBFA;\n",
       "      box-shadow: 0px 1px 2px rgba(60, 64, 67, 0.3), 0px 1px 3px 1px rgba(60, 64, 67, 0.15);\n",
       "      fill: #174EA6;\n",
       "    }\n",
       "\n",
       "    .colab-df-buttons div {\n",
       "      margin-bottom: 4px;\n",
       "    }\n",
       "\n",
       "    [theme=dark] .colab-df-convert {\n",
       "      background-color: #3B4455;\n",
       "      fill: #D2E3FC;\n",
       "    }\n",
       "\n",
       "    [theme=dark] .colab-df-convert:hover {\n",
       "      background-color: #434B5C;\n",
       "      box-shadow: 0px 1px 3px 1px rgba(0, 0, 0, 0.15);\n",
       "      filter: drop-shadow(0px 1px 2px rgba(0, 0, 0, 0.3));\n",
       "      fill: #FFFFFF;\n",
       "    }\n",
       "  </style>\n",
       "\n",
       "    <script>\n",
       "      const buttonEl =\n",
       "        document.querySelector('#df-55850191-4f07-449a-860d-4763dceab571 button.colab-df-convert');\n",
       "      buttonEl.style.display =\n",
       "        google.colab.kernel.accessAllowed ? 'block' : 'none';\n",
       "\n",
       "      async function convertToInteractive(key) {\n",
       "        const element = document.querySelector('#df-55850191-4f07-449a-860d-4763dceab571');\n",
       "        const dataTable =\n",
       "          await google.colab.kernel.invokeFunction('convertToInteractive',\n",
       "                                                    [key], {});\n",
       "        if (!dataTable) return;\n",
       "\n",
       "        const docLinkHtml = 'Like what you see? Visit the ' +\n",
       "          '<a target=\"_blank\" href=https://colab.research.google.com/notebooks/data_table.ipynb>data table notebook</a>'\n",
       "          + ' to learn more about interactive tables.';\n",
       "        element.innerHTML = '';\n",
       "        dataTable['output_type'] = 'display_data';\n",
       "        await google.colab.output.renderOutput(dataTable, element);\n",
       "        const docLink = document.createElement('div');\n",
       "        docLink.innerHTML = docLinkHtml;\n",
       "        element.appendChild(docLink);\n",
       "      }\n",
       "    </script>\n",
       "  </div>\n",
       "\n",
       "\n",
       "<div id=\"df-15112d0d-227d-4c92-a93c-18c614f04f38\">\n",
       "  <button class=\"colab-df-quickchart\" onclick=\"quickchart('df-15112d0d-227d-4c92-a93c-18c614f04f38')\"\n",
       "            title=\"Suggest charts\"\n",
       "            style=\"display:none;\">\n",
       "\n",
       "<svg xmlns=\"http://www.w3.org/2000/svg\" height=\"24px\"viewBox=\"0 0 24 24\"\n",
       "     width=\"24px\">\n",
       "    <g>\n",
       "        <path d=\"M19 3H5c-1.1 0-2 .9-2 2v14c0 1.1.9 2 2 2h14c1.1 0 2-.9 2-2V5c0-1.1-.9-2-2-2zM9 17H7v-7h2v7zm4 0h-2V7h2v10zm4 0h-2v-4h2v4z\"/>\n",
       "    </g>\n",
       "</svg>\n",
       "  </button>\n",
       "\n",
       "<style>\n",
       "  .colab-df-quickchart {\n",
       "      --bg-color: #E8F0FE;\n",
       "      --fill-color: #1967D2;\n",
       "      --hover-bg-color: #E2EBFA;\n",
       "      --hover-fill-color: #174EA6;\n",
       "      --disabled-fill-color: #AAA;\n",
       "      --disabled-bg-color: #DDD;\n",
       "  }\n",
       "\n",
       "  [theme=dark] .colab-df-quickchart {\n",
       "      --bg-color: #3B4455;\n",
       "      --fill-color: #D2E3FC;\n",
       "      --hover-bg-color: #434B5C;\n",
       "      --hover-fill-color: #FFFFFF;\n",
       "      --disabled-bg-color: #3B4455;\n",
       "      --disabled-fill-color: #666;\n",
       "  }\n",
       "\n",
       "  .colab-df-quickchart {\n",
       "    background-color: var(--bg-color);\n",
       "    border: none;\n",
       "    border-radius: 50%;\n",
       "    cursor: pointer;\n",
       "    display: none;\n",
       "    fill: var(--fill-color);\n",
       "    height: 32px;\n",
       "    padding: 0;\n",
       "    width: 32px;\n",
       "  }\n",
       "\n",
       "  .colab-df-quickchart:hover {\n",
       "    background-color: var(--hover-bg-color);\n",
       "    box-shadow: 0 1px 2px rgba(60, 64, 67, 0.3), 0 1px 3px 1px rgba(60, 64, 67, 0.15);\n",
       "    fill: var(--button-hover-fill-color);\n",
       "  }\n",
       "\n",
       "  .colab-df-quickchart-complete:disabled,\n",
       "  .colab-df-quickchart-complete:disabled:hover {\n",
       "    background-color: var(--disabled-bg-color);\n",
       "    fill: var(--disabled-fill-color);\n",
       "    box-shadow: none;\n",
       "  }\n",
       "\n",
       "  .colab-df-spinner {\n",
       "    border: 2px solid var(--fill-color);\n",
       "    border-color: transparent;\n",
       "    border-bottom-color: var(--fill-color);\n",
       "    animation:\n",
       "      spin 1s steps(1) infinite;\n",
       "  }\n",
       "\n",
       "  @keyframes spin {\n",
       "    0% {\n",
       "      border-color: transparent;\n",
       "      border-bottom-color: var(--fill-color);\n",
       "      border-left-color: var(--fill-color);\n",
       "    }\n",
       "    20% {\n",
       "      border-color: transparent;\n",
       "      border-left-color: var(--fill-color);\n",
       "      border-top-color: var(--fill-color);\n",
       "    }\n",
       "    30% {\n",
       "      border-color: transparent;\n",
       "      border-left-color: var(--fill-color);\n",
       "      border-top-color: var(--fill-color);\n",
       "      border-right-color: var(--fill-color);\n",
       "    }\n",
       "    40% {\n",
       "      border-color: transparent;\n",
       "      border-right-color: var(--fill-color);\n",
       "      border-top-color: var(--fill-color);\n",
       "    }\n",
       "    60% {\n",
       "      border-color: transparent;\n",
       "      border-right-color: var(--fill-color);\n",
       "    }\n",
       "    80% {\n",
       "      border-color: transparent;\n",
       "      border-right-color: var(--fill-color);\n",
       "      border-bottom-color: var(--fill-color);\n",
       "    }\n",
       "    90% {\n",
       "      border-color: transparent;\n",
       "      border-bottom-color: var(--fill-color);\n",
       "    }\n",
       "  }\n",
       "</style>\n",
       "\n",
       "  <script>\n",
       "    async function quickchart(key) {\n",
       "      const quickchartButtonEl =\n",
       "        document.querySelector('#' + key + ' button');\n",
       "      quickchartButtonEl.disabled = true;  // To prevent multiple clicks.\n",
       "      quickchartButtonEl.classList.add('colab-df-spinner');\n",
       "      try {\n",
       "        const charts = await google.colab.kernel.invokeFunction(\n",
       "            'suggestCharts', [key], {});\n",
       "      } catch (error) {\n",
       "        console.error('Error during call to suggestCharts:', error);\n",
       "      }\n",
       "      quickchartButtonEl.classList.remove('colab-df-spinner');\n",
       "      quickchartButtonEl.classList.add('colab-df-quickchart-complete');\n",
       "    }\n",
       "    (() => {\n",
       "      let quickchartButtonEl =\n",
       "        document.querySelector('#df-15112d0d-227d-4c92-a93c-18c614f04f38 button');\n",
       "      quickchartButtonEl.style.display =\n",
       "        google.colab.kernel.accessAllowed ? 'block' : 'none';\n",
       "    })();\n",
       "  </script>\n",
       "</div>\n",
       "\n",
       "  <div id=\"id_c6a436a7-c7f9-4cc2-8bea-758ea72aaaf2\">\n",
       "    <style>\n",
       "      .colab-df-generate {\n",
       "        background-color: #E8F0FE;\n",
       "        border: none;\n",
       "        border-radius: 50%;\n",
       "        cursor: pointer;\n",
       "        display: none;\n",
       "        fill: #1967D2;\n",
       "        height: 32px;\n",
       "        padding: 0 0 0 0;\n",
       "        width: 32px;\n",
       "      }\n",
       "\n",
       "      .colab-df-generate:hover {\n",
       "        background-color: #E2EBFA;\n",
       "        box-shadow: 0px 1px 2px rgba(60, 64, 67, 0.3), 0px 1px 3px 1px rgba(60, 64, 67, 0.15);\n",
       "        fill: #174EA6;\n",
       "      }\n",
       "\n",
       "      [theme=dark] .colab-df-generate {\n",
       "        background-color: #3B4455;\n",
       "        fill: #D2E3FC;\n",
       "      }\n",
       "\n",
       "      [theme=dark] .colab-df-generate:hover {\n",
       "        background-color: #434B5C;\n",
       "        box-shadow: 0px 1px 3px 1px rgba(0, 0, 0, 0.15);\n",
       "        filter: drop-shadow(0px 1px 2px rgba(0, 0, 0, 0.3));\n",
       "        fill: #FFFFFF;\n",
       "      }\n",
       "    </style>\n",
       "    <button class=\"colab-df-generate\" onclick=\"generateWithVariable('pandas_df')\"\n",
       "            title=\"Generate code using this dataframe.\"\n",
       "            style=\"display:none;\">\n",
       "\n",
       "  <svg xmlns=\"http://www.w3.org/2000/svg\" height=\"24px\"viewBox=\"0 0 24 24\"\n",
       "       width=\"24px\">\n",
       "    <path d=\"M7,19H8.4L18.45,9,17,7.55,7,17.6ZM5,21V16.75L18.45,3.32a2,2,0,0,1,2.83,0l1.4,1.43a1.91,1.91,0,0,1,.58,1.4,1.91,1.91,0,0,1-.58,1.4L9.25,21ZM18.45,9,17,7.55Zm-12,3A5.31,5.31,0,0,0,4.9,8.1,5.31,5.31,0,0,0,1,6.5,5.31,5.31,0,0,0,4.9,4.9,5.31,5.31,0,0,0,6.5,1,5.31,5.31,0,0,0,8.1,4.9,5.31,5.31,0,0,0,12,6.5,5.46,5.46,0,0,0,6.5,12Z\"/>\n",
       "  </svg>\n",
       "    </button>\n",
       "    <script>\n",
       "      (() => {\n",
       "      const buttonEl =\n",
       "        document.querySelector('#id_c6a436a7-c7f9-4cc2-8bea-758ea72aaaf2 button.colab-df-generate');\n",
       "      buttonEl.style.display =\n",
       "        google.colab.kernel.accessAllowed ? 'block' : 'none';\n",
       "\n",
       "      buttonEl.onclick = () => {\n",
       "        google.colab.notebook.generateWithVariable('pandas_df');\n",
       "      }\n",
       "      })();\n",
       "    </script>\n",
       "  </div>\n",
       "\n",
       "    </div>\n",
       "  </div>\n"
      ],
      "text/plain": [
       "  fuel_type        body_type               city  city_fuel_economy  \\\n",
       "0  Gasoline            Sedan         California               26.0   \n",
       "1  Gasoline            Sedan  North Miami Beach               30.0   \n",
       "2  Gasoline  SUV / Crossover             Seneca               21.0   \n",
       "3  Gasoline  SUV / Crossover         Scottsdale               21.0   \n",
       "4  Gasoline  SUV / Crossover            Raleigh               20.0   \n",
       "\n",
       "   days_in_market dealer_zip  engine_displacement engine_type exterior_color  \\\n",
       "0               8      20619               2500.0          I4          Black   \n",
       "1              26      33162               1500.0          I4          Other   \n",
       "2             306      29678               2000.0          I4          Black   \n",
       "3             196      85260               2300.0          I4          White   \n",
       "4              28      27617               3500.0          V6         Silver   \n",
       "\n",
       "   franchise_dealer  fuel_tank_volume  height  highway_fuel_economy  \\\n",
       "0              True         16.000000    57.3                  36.0   \n",
       "1              True         12.400000    55.7                  38.0   \n",
       "2              True         21.500000    73.6                  22.0   \n",
       "3              True         19.200001    69.9                  28.0   \n",
       "4              True         17.900000    68.1                  27.0   \n",
       "\n",
       "   horsepower interior_color  is_new   latitude  length listing_color  \\\n",
       "0       182.0          Black    True  38.292400   192.9         BLACK   \n",
       "1       174.0          White    True  25.926001   182.7          GRAY   \n",
       "2       270.0          Black    True  34.700901   188.4         BLACK   \n",
       "3       300.0          White    True  33.631699   198.8         WHITE   \n",
       "4       295.0           Gray    True  35.894402   194.9        SILVER   \n",
       "\n",
       "    longitude make_name  maximum_seating          model_name    price  \\\n",
       "0  -76.496101    Nissan              5.0              Altima  32645.0   \n",
       "1  -80.157204     Honda              5.0               Civic  28805.0   \n",
       "2  -82.922997      Jeep              5.0  Wrangler Unlimited  53470.0   \n",
       "3 -111.896004      Ford              7.0            Explorer  38350.0   \n",
       "4  -78.755600    Toyota              8.0          Highlander  34356.0   \n",
       "\n",
       "   savings_amount  seller_rating                              sp_name  torque  \\\n",
       "0               0       4.142857             Nissan of Lexington Park  178.00   \n",
       "1               0       3.760000                    Honda of Aventura  162.00   \n",
       "2               0       4.311111  Lake Keowee Chrysler Dodge Jeep Ram  442.00   \n",
       "3               0       4.285714           AutoNation Ford Scottsdale  265.22   \n",
       "4               0       4.125000                 Fred Anderson Toyota  263.00   \n",
       "\n",
       "  transmission                transmission_display wheel_system_display  \\\n",
       "0          CVT  Continuously Variable Transmission      All-Wheel Drive   \n",
       "1          CVT  Continuously Variable Transmission    Front-Wheel Drive   \n",
       "2            A                           Automatic     Four-Wheel Drive   \n",
       "3            A                           Automatic     Rear-Wheel Drive   \n",
       "4            A                   8-Speed Automatic      All-Wheel Drive   \n",
       "\n",
       "   wheelbase  width  manufactured_year  combined_fuel_economy  legroom  \\\n",
       "0      111.2   72.9               2020                   31.0     79.0   \n",
       "1      106.3   70.8               2020                   34.0     79.7   \n",
       "2      118.4   73.8               2019                   21.5     79.5   \n",
       "3      119.1   89.3               2020                   24.5     82.0   \n",
       "4      112.2   76.0               2020                   23.5     81.4   \n",
       "\n",
       "   log_mileage  major_options_count  hp_x_engine_disp  hp_x_torque  \\\n",
       "0         8.91                    8              0.25      0.59858   \n",
       "1         8.91                    8              0.92      0.79478   \n",
       "2         2.71                    7             -0.18      0.41443   \n",
       "3         1.61                    3             -0.29      0.00001   \n",
       "4         1.95                    5              0.23     -0.01101   \n",
       "\n",
       "   listed_day  listed_month  listed_year  age  resale_value_score  \\\n",
       "0           2             9         2020    0                  29   \n",
       "1          15             8         2020    0                  26   \n",
       "2           9            11         2019    0                  25   \n",
       "3          28             2         2020    0                  30   \n",
       "4          13             8         2020    0                  32   \n",
       "\n",
       "   maintenance_cost  luxury_score  \n",
       "0                39            31  \n",
       "1                37            31  \n",
       "2                40            32  \n",
       "3                40            36  \n",
       "4                39            36  "
      ]
     },
     "metadata": {},
     "output_type": "display_data"
    }
   ],
   "source": [
    "import pandas as pd\n",
    "from IPython.display import display\n",
    "import pyspark.sql.functions as F\n",
    "\n",
    "# Converting the Spark DataFrame to a Pandas DataFrame and displaying 5 random rows with all columns\n",
    "pd.set_option('display.max_columns', None)\n",
    "pandas_df = df.orderBy(F.rand()).limit(5).toPandas()\n",
    "display(pandas_df)\n"
   ]
  },
  {
   "cell_type": "markdown",
   "metadata": {
    "id": "fkRyN8vemDZA"
   },
   "source": [
    "\n",
    "\n",
    "---\n",
    "\n"
   ]
  },
  {
   "cell_type": "markdown",
   "metadata": {
    "id": "lpKK-MejmE2C"
   },
   "source": [
    "## **Predicting on DF with a size of `~100k records`**"
   ]
  },
  {
   "cell_type": "code",
   "execution_count": 13,
   "metadata": {
    "colab": {
     "base_uri": "https://localhost:8080/"
    },
    "executionInfo": {
     "elapsed": 26796,
     "status": "ok",
     "timestamp": 1730106627938,
     "user": {
      "displayName": "Adithya R",
      "userId": "06981244434554202327"
     },
     "user_tz": -480
    },
    "id": "mR62AsJs7TD1",
    "outputId": "d3e037c5-d54d-4b58-ea79-57448a4268cc"
   },
   "outputs": [
    {
     "name": "stdout",
     "output_type": "stream",
     "text": [
      "Processing the data...\n"
     ]
    },
    {
     "name": "stderr",
     "output_type": "stream",
     "text": [
      "Progress: 100%|██████████| 6/6 [00:26<00:00,  4.47s/it]"
     ]
    },
    {
     "name": "stdout",
     "output_type": "stream",
     "text": [
      "\n",
      "\n",
      "Data preprocessing and splitting completed!\n"
     ]
    },
    {
     "name": "stderr",
     "output_type": "stream",
     "text": [
      "\n"
     ]
    }
   ],
   "source": [
    "import warnings\n",
    "from tqdm import tqdm\n",
    "from pyspark.ml.feature import StringIndexer, VectorAssembler, StandardScaler, OneHotEncoder\n",
    "from pyspark.ml import Pipeline\n",
    "from pyspark.sql.functions import mean as sql_mean\n",
    "import pyspark.sql.functions as F\n",
    "\n",
    "# Ignore warnings\n",
    "warnings.filterwarnings('ignore')\n",
    "\n",
    "print(\"Processing the data...\")\n",
    "with tqdm(total=6, desc=\"Progress\") as pbar:\n",
    "\n",
    "    df_sample = df.sample(fraction=0.033, seed=42)  # for Random sampling 100k records of the data\n",
    "    pbar.update(1)\n",
    "\n",
    "    # Handling categorical columns\n",
    "    cat_columns = [field for (field, dtype) in df_sample.dtypes if dtype == \"string\"]\n",
    "    stages = []\n",
    "    for col_name in cat_columns:\n",
    "        indexer = StringIndexer(inputCol=col_name, outputCol=f\"{col_name}_indexed\", handleInvalid=\"keep\")\n",
    "        encoder = OneHotEncoder(inputCol=f\"{col_name}_indexed\", outputCol=f\"{col_name}_encoded\")\n",
    "        stages += [indexer, encoder]\n",
    "    pbar.update(1)\n",
    "\n",
    "    # Assembling features\n",
    "    num_columns = [col for col in df_sample.columns if col != 'price' and col not in cat_columns]\n",
    "    encoded_columns = [f\"{col}_encoded\" for col in cat_columns]\n",
    "    feature_columns = num_columns + encoded_columns\n",
    "    assembler = VectorAssembler(inputCols=feature_columns, outputCol=\"features\")\n",
    "    stages += [assembler]\n",
    "    pbar.update(1)\n",
    "\n",
    "    # Adding scaling to the pipeline\n",
    "    scaler = StandardScaler(inputCol=\"features\", outputCol=\"scaled_features\", withMean=True, withStd=True)\n",
    "    stages += [scaler]\n",
    "\n",
    "    # Creating and applying the pipeline\n",
    "    pipeline = Pipeline(stages=stages)\n",
    "    pipeline_model = pipeline.fit(df_sample)\n",
    "    df_sample = pipeline_model.transform(df_sample)\n",
    "    pbar.update(1)\n",
    "\n",
    "    # Filling in missing values\n",
    "    for col in df_sample.columns:\n",
    "        if df_sample.schema[col].dataType.typeName() in [\"double\", \"float\", \"int\", \"long\"]:\n",
    "            mean_value = df_sample.select(sql_mean(col)).first()[0]\n",
    "            df_sample = df_sample.na.fill({col: mean_value})\n",
    "    pbar.update(1)\n",
    "\n",
    "    # Splitting the data\n",
    "    train_df, test_df = df_sample.randomSplit([0.8, 0.2], seed=42)\n",
    "    pbar.update(1)\n",
    "\n",
    "print(\"\\n\\nData preprocessing and splitting completed!\")\n"
   ]
  },
  {
   "cell_type": "code",
   "execution_count": null,
   "metadata": {
    "colab": {
     "base_uri": "https://localhost:8080/"
    },
    "executionInfo": {
     "elapsed": 1023092,
     "status": "ok",
     "timestamp": 1729587173772,
     "user": {
      "displayName": "Adithya R",
      "userId": "06981244434554202327"
     },
     "user_tz": -480
    },
    "id": "kUPR7u6C7i7O",
    "outputId": "01abc9b1-a7d7-4624-e53e-b14c443e20ef"
   },
   "outputs": [
    {
     "name": "stdout",
     "output_type": "stream",
     "text": [
      "Training XGBoost model...\n",
      "Making predictions...\n",
      "Evaluating the model...\n",
      "\n",
      "Train size: 78736 samples\n",
      "Test size: 19751 samples\n",
      "\n",
      "\n",
      "R-Squared Score (Accuracy): 90.35%\n",
      "\n",
      "\n",
      "Overall runtime: 17 minutes.\n"
     ]
    }
   ],
   "source": [
    "from pyspark.ml.evaluation import RegressionEvaluator\n",
    "from sparkxgb import XGBoostRegressor\n",
    "import time\n",
    "\n",
    "# Model training\n",
    "print(\"Training XGBoost model...\")\n",
    "\n",
    "xgb_regressor = XGBoostRegressor(\n",
    "    featuresCol=\"scaled_features\",\n",
    "    labelCol=\"price\",\n",
    "    maxDepth=6,\n",
    "    numRound=100,\n",
    "    objective=\"reg:squarederror\",\n",
    "    treeMethod=\"hist\",\n",
    ")\n",
    "\n",
    "\n",
    "# Before training\n",
    "start_time = time.time()\n",
    "\n",
    "# Training the model\n",
    "model = xgb_regressor.fit(train_df)\n",
    "\n",
    "# Making predictions\n",
    "print(\"Making predictions...\")\n",
    "predictions = model.transform(test_df)\n",
    "\n",
    "# Evaluating the model\n",
    "print(\"Evaluating the model...\")\n",
    "evaluator = RegressionEvaluator(labelCol=\"price\", predictionCol=\"prediction\", metricName=\"r2\")\n",
    "r2 = evaluator.evaluate(predictions)\n",
    "\n",
    "print(f\"\\nTrain size: {train_df.count()} samples\")\n",
    "print(f\"Test size: {test_df.count()} samples\")\n",
    "print(f\"\\n\\nR-Squared Score (Accuracy): {r2 * 100:.2f}%\")\n",
    "\n",
    "# Calculating total runtime\n",
    "end_time = time.time()\n",
    "total_runtime = (end_time - start_time) / 60\n",
    "print(f\"\\n\\nOverall runtime: {round(total_runtime)} minutes.\")"
   ]
  },
  {
   "cell_type": "code",
   "execution_count": null,
   "metadata": {
    "colab": {
     "base_uri": "https://localhost:8080/"
    },
    "executionInfo": {
     "elapsed": 321211,
     "status": "ok",
     "timestamp": 1729587494980,
     "user": {
      "displayName": "Adithya R",
      "userId": "06981244434554202327"
     },
     "user_tz": -480
    },
    "id": "g38x9bRH7nfY",
    "outputId": "c180defc-6960-48a4-8ced-d1927de65ebe"
   },
   "outputs": [
    {
     "name": "stdout",
     "output_type": "stream",
     "text": [
      "Additional Metrics:\n",
      "Mean Absolute Error: 3009\n",
      "Mean Squared Error: 35651098\n",
      "Root Mean Squared Error: 5971\n"
     ]
    }
   ],
   "source": [
    "# Calculating additional metrics\n",
    "mae_evaluator = RegressionEvaluator(labelCol=\"price\", predictionCol=\"prediction\", metricName=\"mae\")\n",
    "mae = mae_evaluator.evaluate(predictions)\n",
    "\n",
    "mse_evaluator = RegressionEvaluator(labelCol=\"price\", predictionCol=\"prediction\", metricName=\"mse\")\n",
    "mse = mse_evaluator.evaluate(predictions)\n",
    "\n",
    "rmse_evaluator = RegressionEvaluator(labelCol=\"price\", predictionCol=\"prediction\", metricName=\"rmse\")\n",
    "rmse = rmse_evaluator.evaluate(predictions)\n",
    "\n",
    "print(\"Additional Metrics:\")\n",
    "print(f\"Mean Absolute Error: {round(mae)}\")\n",
    "print(f\"Mean Squared Error: {round(mse)}\")\n",
    "print(f\"Root Mean Squared Error: {round(rmse)}\")"
   ]
  },
  {
   "cell_type": "markdown",
   "metadata": {
    "id": "1PLVMkk_clqo"
   },
   "source": [
    "\n",
    "\n",
    "---\n",
    "\n"
   ]
  },
  {
   "cell_type": "markdown",
   "metadata": {
    "id": "NWW5nPDccqui"
   },
   "source": [
    "## **Predicting on DF with a size of `~200k records`**"
   ]
  },
  {
   "cell_type": "code",
   "execution_count": 14,
   "metadata": {
    "colab": {
     "base_uri": "https://localhost:8080/"
    },
    "executionInfo": {
     "elapsed": 28680,
     "status": "ok",
     "timestamp": 1730106656613,
     "user": {
      "displayName": "Adithya R",
      "userId": "06981244434554202327"
     },
     "user_tz": -480
    },
    "id": "wgXeiyKecn3Z",
    "outputId": "3cf429ce-259d-4f60-a2e4-376ebb653723"
   },
   "outputs": [
    {
     "name": "stdout",
     "output_type": "stream",
     "text": [
      "Processing the data...\n"
     ]
    },
    {
     "name": "stderr",
     "output_type": "stream",
     "text": [
      "Progress: 100%|██████████| 6/6 [00:28<00:00,  4.77s/it]"
     ]
    },
    {
     "name": "stdout",
     "output_type": "stream",
     "text": [
      "\n",
      "\n",
      "Data preprocessing and splitting completed!\n"
     ]
    },
    {
     "name": "stderr",
     "output_type": "stream",
     "text": [
      "\n"
     ]
    }
   ],
   "source": [
    "import warnings\n",
    "from tqdm import tqdm\n",
    "from pyspark.ml.feature import StringIndexer, VectorAssembler, StandardScaler, OneHotEncoder\n",
    "from pyspark.ml import Pipeline\n",
    "from pyspark.sql.functions import mean as sql_mean\n",
    "import pyspark.sql.functions as F\n",
    "\n",
    "# Ignore warnings\n",
    "warnings.filterwarnings('ignore')\n",
    "\n",
    "print(\"Processing the data...\")\n",
    "with tqdm(total=6, desc=\"Progress\") as pbar:\n",
    "\n",
    "    df_sample = df.sample(fraction=0.066, seed=42)  # for Random sampling 200k records of the data\n",
    "    pbar.update(1)\n",
    "\n",
    "    # Handling categorical columns\n",
    "    cat_columns = [field for (field, dtype) in df_sample.dtypes if dtype == \"string\"]\n",
    "    stages = []\n",
    "    for col_name in cat_columns:\n",
    "        indexer = StringIndexer(inputCol=col_name, outputCol=f\"{col_name}_indexed\", handleInvalid=\"keep\")\n",
    "        encoder = OneHotEncoder(inputCol=f\"{col_name}_indexed\", outputCol=f\"{col_name}_encoded\")\n",
    "        stages += [indexer, encoder]\n",
    "    pbar.update(1)\n",
    "\n",
    "    # Assembling features\n",
    "    num_columns = [col for col in df_sample.columns if col != 'price' and col not in cat_columns]\n",
    "    encoded_columns = [f\"{col}_encoded\" for col in cat_columns]\n",
    "    feature_columns = num_columns + encoded_columns\n",
    "    assembler = VectorAssembler(inputCols=feature_columns, outputCol=\"features\")\n",
    "    stages += [assembler]\n",
    "    pbar.update(1)\n",
    "\n",
    "    # Adding scaling to the pipeline\n",
    "    scaler = StandardScaler(inputCol=\"features\", outputCol=\"scaled_features\", withMean=True, withStd=True)\n",
    "    stages += [scaler]\n",
    "\n",
    "    # Creating and applying the pipeline\n",
    "    pipeline = Pipeline(stages=stages)\n",
    "    pipeline_model = pipeline.fit(df_sample)\n",
    "    df_sample = pipeline_model.transform(df_sample)\n",
    "    pbar.update(1)\n",
    "\n",
    "    # Filling in missing values\n",
    "    for col in df_sample.columns:\n",
    "        if df_sample.schema[col].dataType.typeName() in [\"double\", \"float\", \"int\", \"long\"]:\n",
    "            mean_value = df_sample.select(sql_mean(col)).first()[0]\n",
    "            df_sample = df_sample.na.fill({col: mean_value})\n",
    "    pbar.update(1)\n",
    "\n",
    "    # Splitting the data\n",
    "    train_df, test_df = df_sample.randomSplit([0.8, 0.2], seed=42)\n",
    "    pbar.update(1)\n",
    "\n",
    "print(\"\\n\\nData preprocessing and splitting completed!\")\n"
   ]
  },
  {
   "cell_type": "code",
   "execution_count": null,
   "metadata": {
    "colab": {
     "base_uri": "https://localhost:8080/"
    },
    "executionInfo": {
     "elapsed": 2569186,
     "status": "ok",
     "timestamp": 1729600714911,
     "user": {
      "displayName": "Adithya R",
      "userId": "06981244434554202327"
     },
     "user_tz": -480
    },
    "id": "2BIBTaYnc6R5",
    "outputId": "90159da7-17ff-4269-b5e1-c65ef2da4fb5"
   },
   "outputs": [
    {
     "name": "stdout",
     "output_type": "stream",
     "text": [
      "Training XGBoost model...\n",
      "Making predictions...\n",
      "Evaluating the model...\n",
      "\n",
      "Train size: 158369 samples\n",
      "Test size: 39685 samples\n",
      "\n",
      "\n",
      "R-Squared Score (Accuracy): 90.67%\n",
      "\n",
      "\n",
      "Overall runtime: 43 minutes.\n"
     ]
    }
   ],
   "source": [
    "from pyspark.ml.evaluation import RegressionEvaluator\n",
    "from sparkxgb import XGBoostRegressor\n",
    "import time\n",
    "\n",
    "# Model training\n",
    "print(\"Training XGBoost model...\")\n",
    "\n",
    "xgb_regressor = XGBoostRegressor(\n",
    "    featuresCol=\"scaled_features\",\n",
    "    labelCol=\"price\",\n",
    "    maxDepth=6,\n",
    "    numRound=100,\n",
    "    objective=\"reg:squarederror\",\n",
    "    treeMethod=\"hist\",\n",
    ")\n",
    "\n",
    "\n",
    "# Before training\n",
    "start_time = time.time()\n",
    "\n",
    "# Training the model\n",
    "model = xgb_regressor.fit(train_df)\n",
    "\n",
    "# Making predictions\n",
    "print(\"Making predictions...\")\n",
    "predictions = model.transform(test_df)\n",
    "\n",
    "# Evaluating the model\n",
    "print(\"Evaluating the model...\")\n",
    "evaluator = RegressionEvaluator(labelCol=\"price\", predictionCol=\"prediction\", metricName=\"r2\")\n",
    "r2 = evaluator.evaluate(predictions)\n",
    "\n",
    "print(f\"\\nTrain size: {train_df.count()} samples\")\n",
    "print(f\"Test size: {test_df.count()} samples\")\n",
    "print(f\"\\n\\nR-Squared Score (Accuracy): {r2 * 100:.2f}%\")\n",
    "\n",
    "# Calculating total runtime\n",
    "end_time = time.time()\n",
    "total_runtime = (end_time - start_time) / 60\n",
    "print(f\"\\n\\nOverall runtime: {round(total_runtime)} minutes.\")"
   ]
  },
  {
   "cell_type": "code",
   "execution_count": null,
   "metadata": {
    "colab": {
     "base_uri": "https://localhost:8080/"
    },
    "executionInfo": {
     "elapsed": 670107,
     "status": "ok",
     "timestamp": 1729601385016,
     "user": {
      "displayName": "Adithya R",
      "userId": "06981244434554202327"
     },
     "user_tz": -480
    },
    "id": "wj1ViuAAc8ah",
    "outputId": "5d7cd5a7-b23a-405f-ab5d-449b5e2c8bd4"
   },
   "outputs": [
    {
     "name": "stdout",
     "output_type": "stream",
     "text": [
      "Additional Metrics:\n",
      "Mean Absolute Error: 2938\n",
      "Mean Squared Error: 30351281\n",
      "Root Mean Squared Error: 5509\n"
     ]
    }
   ],
   "source": [
    "# Calculating additional metrics\n",
    "mae_evaluator = RegressionEvaluator(labelCol=\"price\", predictionCol=\"prediction\", metricName=\"mae\")\n",
    "mae = mae_evaluator.evaluate(predictions)\n",
    "\n",
    "mse_evaluator = RegressionEvaluator(labelCol=\"price\", predictionCol=\"prediction\", metricName=\"mse\")\n",
    "mse = mse_evaluator.evaluate(predictions)\n",
    "\n",
    "rmse_evaluator = RegressionEvaluator(labelCol=\"price\", predictionCol=\"prediction\", metricName=\"rmse\")\n",
    "rmse = rmse_evaluator.evaluate(predictions)\n",
    "\n",
    "print(\"Additional Metrics:\")\n",
    "print(f\"Mean Absolute Error: {round(mae)}\")\n",
    "print(f\"Mean Squared Error: {round(mse)}\")\n",
    "print(f\"Root Mean Squared Error: {round(rmse)}\")"
   ]
  },
  {
   "cell_type": "markdown",
   "metadata": {
    "id": "JfadrvbYls1B"
   },
   "source": [
    "\n",
    "\n",
    "---\n",
    "\n"
   ]
  },
  {
   "cell_type": "markdown",
   "metadata": {
    "id": "HHAN9G_xl7oD"
   },
   "source": [
    "## **Predicting on DF with a size of `300k records`**"
   ]
  },
  {
   "cell_type": "code",
   "execution_count": 15,
   "metadata": {
    "colab": {
     "base_uri": "https://localhost:8080/"
    },
    "executionInfo": {
     "elapsed": 30150,
     "status": "ok",
     "timestamp": 1730106686746,
     "user": {
      "displayName": "Adithya R",
      "userId": "06981244434554202327"
     },
     "user_tz": -480
    },
    "id": "oXq8ULxllvhf",
    "outputId": "002e7f2b-2e4d-4907-8d40-b96aa6a52f39"
   },
   "outputs": [
    {
     "name": "stdout",
     "output_type": "stream",
     "text": [
      "Processing the data...\n"
     ]
    },
    {
     "name": "stderr",
     "output_type": "stream",
     "text": [
      "Progress: 100%|██████████| 6/6 [00:30<00:00,  5.01s/it]"
     ]
    },
    {
     "name": "stdout",
     "output_type": "stream",
     "text": [
      "\n",
      "\n",
      "Data preprocessing and splitting completed!\n"
     ]
    },
    {
     "name": "stderr",
     "output_type": "stream",
     "text": [
      "\n"
     ]
    }
   ],
   "source": [
    "import warnings\n",
    "from tqdm import tqdm\n",
    "from pyspark.ml.feature import StringIndexer, VectorAssembler, StandardScaler, OneHotEncoder\n",
    "from pyspark.ml import Pipeline\n",
    "from pyspark.sql.functions import mean as sql_mean\n",
    "import pyspark.sql.functions as F\n",
    "\n",
    "# Ignore warnings\n",
    "warnings.filterwarnings('ignore')\n",
    "\n",
    "print(\"Processing the data...\")\n",
    "with tqdm(total=6, desc=\"Progress\") as pbar:\n",
    "\n",
    "    df_sample = df.sample(fraction=0.1, seed=42)  # for Random sampling 600k records of the data\n",
    "    pbar.update(1)\n",
    "\n",
    "    # Handling categorical columns\n",
    "    cat_columns = [field for (field, dtype) in df_sample.dtypes if dtype == \"string\"]\n",
    "    stages = []\n",
    "    for col_name in cat_columns:\n",
    "        indexer = StringIndexer(inputCol=col_name, outputCol=f\"{col_name}_indexed\", handleInvalid=\"keep\")\n",
    "        encoder = OneHotEncoder(inputCol=f\"{col_name}_indexed\", outputCol=f\"{col_name}_encoded\")\n",
    "        stages += [indexer, encoder]\n",
    "    pbar.update(1)\n",
    "\n",
    "    # Assembling features\n",
    "    num_columns = [col for col in df_sample.columns if col != 'price' and col not in cat_columns]\n",
    "    encoded_columns = [f\"{col}_encoded\" for col in cat_columns]\n",
    "    feature_columns = num_columns + encoded_columns\n",
    "    assembler = VectorAssembler(inputCols=feature_columns, outputCol=\"features\")\n",
    "    stages += [assembler]\n",
    "    pbar.update(1)\n",
    "\n",
    "    # Adding scaling to the pipeline\n",
    "    scaler = StandardScaler(inputCol=\"features\", outputCol=\"scaled_features\", withMean=True, withStd=True)\n",
    "    stages += [scaler]\n",
    "\n",
    "    # Creating and applying the pipeline\n",
    "    pipeline = Pipeline(stages=stages)\n",
    "    pipeline_model = pipeline.fit(df_sample)\n",
    "    df_sample = pipeline_model.transform(df_sample)\n",
    "    pbar.update(1)\n",
    "\n",
    "    # Filling in missing values\n",
    "    for col in df_sample.columns:\n",
    "        if df_sample.schema[col].dataType.typeName() in [\"double\", \"float\", \"int\", \"long\"]:\n",
    "            mean_value = df_sample.select(sql_mean(col)).first()[0]\n",
    "            df_sample = df_sample.na.fill({col: mean_value})\n",
    "    pbar.update(1)\n",
    "\n",
    "    # Splitting the data\n",
    "    train_df, test_df = df_sample.randomSplit([0.8, 0.2], seed=42)\n",
    "    pbar.update(1)\n",
    "\n",
    "print(\"\\n\\nData preprocessing and splitting completed!\")\n"
   ]
  },
  {
   "cell_type": "code",
   "execution_count": null,
   "metadata": {
    "colab": {
     "base_uri": "https://localhost:8080/"
    },
    "executionInfo": {
     "elapsed": 4386894,
     "status": "ok",
     "timestamp": 1729595843835,
     "user": {
      "displayName": "Adithya R",
      "userId": "06981244434554202327"
     },
     "user_tz": -480
    },
    "id": "cAsYfhIVmmID",
    "outputId": "a8b543fe-3966-44d7-fc25-a3222bea8ed2"
   },
   "outputs": [
    {
     "name": "stdout",
     "output_type": "stream",
     "text": [
      "Training XGBoost model...\n",
      "Making predictions...\n",
      "Evaluating the model...\n",
      "\n",
      "Train size: 240048 samples\n",
      "Test size: 59933 samples\n",
      "\n",
      "\n",
      "R-Squared Score (Accuracy): 91.84%\n",
      "\n",
      "\n",
      "Overall runtime: 73 minutes.\n"
     ]
    }
   ],
   "source": [
    "from pyspark.ml.evaluation import RegressionEvaluator\n",
    "from sparkxgb import XGBoostRegressor\n",
    "import time\n",
    "\n",
    "# Model training\n",
    "print(\"Training XGBoost model...\")\n",
    "\n",
    "xgb_regressor = XGBoostRegressor(\n",
    "    featuresCol=\"scaled_features\",\n",
    "    labelCol=\"price\",\n",
    "    maxDepth=6,\n",
    "    numRound=100,\n",
    "    objective=\"reg:squarederror\",\n",
    "    treeMethod=\"hist\",\n",
    ")\n",
    "\n",
    "\n",
    "# Before training\n",
    "start_time = time.time()\n",
    "\n",
    "# Training the model\n",
    "model = xgb_regressor.fit(train_df)\n",
    "\n",
    "# Making predictions\n",
    "print(\"Making predictions...\")\n",
    "predictions = model.transform(test_df)\n",
    "\n",
    "# Evaluating the model\n",
    "print(\"Evaluating the model...\")\n",
    "evaluator = RegressionEvaluator(labelCol=\"price\", predictionCol=\"prediction\", metricName=\"r2\")\n",
    "r2 = evaluator.evaluate(predictions)\n",
    "\n",
    "print(f\"\\nTrain size: {train_df.count()} samples\")\n",
    "print(f\"Test size: {test_df.count()} samples\")\n",
    "print(f\"\\n\\nR-Squared Score (Accuracy): {r2 * 100:.2f}%\")\n",
    "\n",
    "# Calculating total runtime\n",
    "end_time = time.time()\n",
    "total_runtime = (end_time - start_time) / 60\n",
    "print(f\"\\n\\nOverall runtime: {round(total_runtime)} minutes.\")"
   ]
  },
  {
   "cell_type": "code",
   "execution_count": null,
   "metadata": {
    "colab": {
     "base_uri": "https://localhost:8080/"
    },
    "executionInfo": {
     "elapsed": 1580498,
     "status": "ok",
     "timestamp": 1729597424331,
     "user": {
      "displayName": "Adithya R",
      "userId": "06981244434554202327"
     },
     "user_tz": -480
    },
    "id": "Vfhk2AezmpFl",
    "outputId": "43a980b4-52de-4089-be36-bb537c8c7a64"
   },
   "outputs": [
    {
     "name": "stdout",
     "output_type": "stream",
     "text": [
      "Additional Metrics:\n",
      "Mean Absolute Error: 3018\n",
      "Mean Squared Error: 27751838\n",
      "Root Mean Squared Error: 5268\n"
     ]
    }
   ],
   "source": [
    "# Calculating additional metrics\n",
    "mae_evaluator = RegressionEvaluator(labelCol=\"price\", predictionCol=\"prediction\", metricName=\"mae\")\n",
    "mae = mae_evaluator.evaluate(predictions)\n",
    "\n",
    "mse_evaluator = RegressionEvaluator(labelCol=\"price\", predictionCol=\"prediction\", metricName=\"mse\")\n",
    "mse = mse_evaluator.evaluate(predictions)\n",
    "\n",
    "rmse_evaluator = RegressionEvaluator(labelCol=\"price\", predictionCol=\"prediction\", metricName=\"rmse\")\n",
    "rmse = rmse_evaluator.evaluate(predictions)\n",
    "\n",
    "print(\"Additional Metrics:\")\n",
    "print(f\"Mean Absolute Error: {round(mae)}\")\n",
    "print(f\"Mean Squared Error: {round(mse)}\")\n",
    "print(f\"Root Mean Squared Error: {round(rmse)}\")"
   ]
  },
  {
   "cell_type": "markdown",
   "metadata": {
    "id": "b3Jm7gkREuzv"
   },
   "source": [
    "\n",
    "\n",
    "---\n",
    "\n"
   ]
  },
  {
   "cell_type": "markdown",
   "metadata": {
    "id": "5C-8kZyZEvyd"
   },
   "source": [
    "## **Predicting on DF with a size of `600k records`**"
   ]
  },
  {
   "cell_type": "code",
   "execution_count": 16,
   "metadata": {
    "colab": {
     "base_uri": "https://localhost:8080/"
    },
    "executionInfo": {
     "elapsed": 39443,
     "status": "ok",
     "timestamp": 1730106726181,
     "user": {
      "displayName": "Adithya R",
      "userId": "06981244434554202327"
     },
     "user_tz": -480
    },
    "id": "Oc9ESytMEyFJ",
    "outputId": "d59b3f69-55b7-4dc9-e17c-d292423dbd50"
   },
   "outputs": [
    {
     "name": "stdout",
     "output_type": "stream",
     "text": [
      "Processing the data...\n"
     ]
    },
    {
     "name": "stderr",
     "output_type": "stream",
     "text": [
      "Progress: 100%|██████████| 6/6 [00:39<00:00,  6.57s/it]"
     ]
    },
    {
     "name": "stdout",
     "output_type": "stream",
     "text": [
      "\n",
      "\n",
      "Data preprocessing and splitting completed!\n"
     ]
    },
    {
     "name": "stderr",
     "output_type": "stream",
     "text": [
      "\n"
     ]
    }
   ],
   "source": [
    "import warnings\n",
    "from tqdm import tqdm\n",
    "from pyspark.ml.feature import StringIndexer, VectorAssembler, StandardScaler, OneHotEncoder\n",
    "from pyspark.ml import Pipeline\n",
    "from pyspark.sql.functions import mean as sql_mean\n",
    "import pyspark.sql.functions as F\n",
    "\n",
    "# Ignore warnings\n",
    "warnings.filterwarnings('ignore')\n",
    "\n",
    "print(\"Processing the data...\")\n",
    "with tqdm(total=6, desc=\"Progress\") as pbar:\n",
    "\n",
    "    df_sample = df.sample(fraction=0.2, seed=42)  # for Random sampling 600k records of the data\n",
    "    pbar.update(1)\n",
    "\n",
    "    # Handling categorical columns\n",
    "    cat_columns = [field for (field, dtype) in df_sample.dtypes if dtype == \"string\"]\n",
    "    stages = []\n",
    "    for col_name in cat_columns:\n",
    "        indexer = StringIndexer(inputCol=col_name, outputCol=f\"{col_name}_indexed\", handleInvalid=\"keep\")\n",
    "        encoder = OneHotEncoder(inputCol=f\"{col_name}_indexed\", outputCol=f\"{col_name}_encoded\")\n",
    "        stages += [indexer, encoder]\n",
    "    pbar.update(1)\n",
    "\n",
    "    # Assembling features\n",
    "    num_columns = [col for col in df_sample.columns if col != 'price' and col not in cat_columns]\n",
    "    encoded_columns = [f\"{col}_encoded\" for col in cat_columns]\n",
    "    feature_columns = num_columns + encoded_columns\n",
    "    assembler = VectorAssembler(inputCols=feature_columns, outputCol=\"features\")\n",
    "    stages += [assembler]\n",
    "    pbar.update(1)\n",
    "\n",
    "    # Adding scaling to the pipeline\n",
    "    scaler = StandardScaler(inputCol=\"features\", outputCol=\"scaled_features\", withMean=True, withStd=True)\n",
    "    stages += [scaler]\n",
    "\n",
    "    # Creating and applying the pipeline\n",
    "    pipeline = Pipeline(stages=stages)\n",
    "    pipeline_model = pipeline.fit(df_sample)\n",
    "    df_sample = pipeline_model.transform(df_sample)\n",
    "    pbar.update(1)\n",
    "\n",
    "    # Filling in missing values\n",
    "    for col in df_sample.columns:\n",
    "        if df_sample.schema[col].dataType.typeName() in [\"double\", \"float\", \"int\", \"long\"]:\n",
    "            mean_value = df_sample.select(sql_mean(col)).first()[0]\n",
    "            df_sample = df_sample.na.fill({col: mean_value})\n",
    "    pbar.update(1)\n",
    "\n",
    "    # Splitting the data\n",
    "    train_df, test_df = df_sample.randomSplit([0.8, 0.2], seed=42)\n",
    "    pbar.update(1)\n",
    "\n",
    "print(\"\\n\\nData preprocessing and splitting completed!\")\n"
   ]
  },
  {
   "cell_type": "code",
   "execution_count": null,
   "metadata": {
    "colab": {
     "base_uri": "https://localhost:8080/"
    },
    "executionInfo": {
     "elapsed": 351,
     "status": "ok",
     "timestamp": 1729749736791,
     "user": {
      "displayName": "Adithya R",
      "userId": "06981244434554202327"
     },
     "user_tz": -480
    },
    "id": "tv4WQHTEHUf4",
    "outputId": "9cd055c2-fe8a-4ee1-9f36-148345474875"
   },
   "outputs": [
    {
     "name": "stdout",
     "output_type": "stream",
     "text": [
      "Training XGBoost model...\n",
      "Making predictions...\n",
      "Evaluating the model...\n",
      "\n",
      "Train size: 479672 samples\n",
      "Test size: 119602 samples\n",
      "\n",
      "R-Squared Score (Accuracy): 92.09%\n"
     ]
    }
   ],
   "source": [
    "from pyspark.ml.evaluation import RegressionEvaluator\n",
    "from sparkxgb import XGBoostRegressor\n",
    "import time\n",
    "\n",
    "# Model training\n",
    "print(\"Training XGBoost model...\")\n",
    "\n",
    "xgb_regressor = XGBoostRegressor(\n",
    "    featuresCol=\"scaled_features\",\n",
    "    labelCol=\"price\",\n",
    "    maxDepth=6,\n",
    "    numRound=100,\n",
    "    objective=\"reg:squarederror\",\n",
    "    treeMethod=\"hist\",\n",
    ")\n",
    "\n",
    "\n",
    "# Before training\n",
    "start_time = time.time()\n",
    "\n",
    "# Training the model\n",
    "model = xgb_regressor.fit(train_df)\n",
    "\n",
    "# Making predictions\n",
    "print(\"Making predictions...\")\n",
    "predictions = model.transform(test_df)\n",
    "\n",
    "# Evaluating the model\n",
    "print(\"Evaluating the model...\")\n",
    "evaluator = RegressionEvaluator(labelCol=\"price\", predictionCol=\"prediction\", metricName=\"r2\")\n",
    "r2 = evaluator.evaluate(predictions)\n",
    "\n",
    "print(f\"\\nTrain size: {train_df.count()} samples\")\n",
    "print(f\"Test size: {test_df.count()} samples\")\n",
    "print(f\"\\n\\nR-Squared Score (Accuracy): {r2 * 100:.2f}%\")\n"
   ]
  },
  {
   "cell_type": "code",
   "execution_count": null,
   "metadata": {
    "colab": {
     "base_uri": "https://localhost:8080/"
    },
    "executionInfo": {
     "elapsed": 342,
     "status": "ok",
     "timestamp": 1729749805462,
     "user": {
      "displayName": "Adithya R",
      "userId": "06981244434554202327"
     },
     "user_tz": -480
    },
    "id": "9GANxfbaHpRH",
    "outputId": "236fea8d-a9e6-45cf-9bb4-ff7bfc7bab17"
   },
   "outputs": [
    {
     "name": "stdout",
     "output_type": "stream",
     "text": [
      "Additional Metrics:\n",
      "Mean Absolute Error: 2975\n",
      "Mean Squared Error: 77020439\n",
      "Root Mean Squared Error: 6581\n",
      "\n",
      "Overall runtime: 227 minutes.\n"
     ]
    }
   ],
   "source": [
    "# Calculating additional metrics\n",
    "mae_evaluator = RegressionEvaluator(labelCol=\"price\", predictionCol=\"prediction\", metricName=\"mae\")\n",
    "mae = mae_evaluator.evaluate(predictions)\n",
    "\n",
    "mse_evaluator = RegressionEvaluator(labelCol=\"price\", predictionCol=\"prediction\", metricName=\"mse\")\n",
    "mse = mse_evaluator.evaluate(predictions)\n",
    "\n",
    "rmse_evaluator = RegressionEvaluator(labelCol=\"price\", predictionCol=\"prediction\", metricName=\"rmse\")\n",
    "rmse = rmse_evaluator.evaluate(predictions)\n",
    "\n",
    "print(\"Additional Metrics:\")\n",
    "print(f\"Mean Absolute Error: {round(mae)}\")\n",
    "print(f\"Mean Squared Error: {round(mse)}\")\n",
    "print(f\"Root Mean Squared Error: {round(rmse)}\")\n",
    "\n",
    "# Calculating total runtime\n",
    "end_time = time.time()\n",
    "total_runtime = (end_time - start_time) / 60\n",
    "print(f\"\\n\\nOverall runtime: {round(total_runtime)} minutes.\")"
   ]
  },
  {
   "cell_type": "markdown",
   "metadata": {
    "id": "D1Z3rBh6H7pq"
   },
   "source": [
    "After evaluating the **XGBoost model** on both **300k** and **600k records**, I observed that while increasing the data size to 600k records did lead to slightly improved accuracy (**R² increased from 91.84% to 92.09%**), the overall gain in performance was marginal. The **Mean Absolute Error (MAE)** only reduced slightly (from **\\$3018** to **\\$2975**), and the **Root Mean Squared Error (RMSE)** showed a more noticeable improvement (from **\\$5268** to **$\\6581**). However, the increase in runtime to **227 minutes** for 600k records is substantial, with only modest performance gains.\n",
    "\n",
    "Given the relatively minor improvements in accuracy and error metrics compared to the significant increase in runtime, I have decided to stick with **300k records**, as it offers a more optimal balance between performance and training efficiency."
   ]
  }
 ],
 "metadata": {
  "accelerator": "TPU",
  "colab": {
   "authorship_tag": "ABX9TyOwB0C2kEj/M1fblSavQuH3",
   "gpuType": "V28",
   "machine_shape": "hm",
   "provenance": [
    {
     "file_id": "1-U4qBE_z5tjZUFTTCfv2skujXMGBlW8M",
     "timestamp": 1727142930071
    }
   ]
  },
  "kernelspec": {
   "display_name": "Python 3",
   "name": "python3"
  },
  "language_info": {
   "name": "python"
  }
 },
 "nbformat": 4,
 "nbformat_minor": 0
}

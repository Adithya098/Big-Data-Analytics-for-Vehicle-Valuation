{
 "cells": [
  {
   "cell_type": "code",
   "execution_count": null,
   "metadata": {
    "colab": {
     "base_uri": "https://localhost:8080/"
    },
    "executionInfo": {
     "elapsed": 1836,
     "status": "ok",
     "timestamp": 1729818911766,
     "user": {
      "displayName": "Adithya R",
      "userId": "06981244434554202327"
     },
     "user_tz": -480
    },
    "id": "2h7B1_FOX6En",
    "outputId": "ffdd023d-d6c4-44b4-f816-267e120fb840"
   },
   "outputs": [
    {
     "name": "stdout",
     "output_type": "stream",
     "text": [
      "\n",
      "tqdm is already installed.\n",
      "\n",
      "pyspark is already installed.\n",
      "\n",
      "gdown is already installed.\n",
      "\n",
      "numpy is already installed.\n"
     ]
    }
   ],
   "source": [
    "import importlib\n",
    "import subprocess\n",
    "import sys\n",
    "import gc\n",
    "\n",
    "def check_and_install_package(package_name, version=None):\n",
    "    try:\n",
    "        importlib.import_module(package_name)\n",
    "        print(f\"\\n{package_name} is already installed.\")\n",
    "    except ImportError:\n",
    "        print(f\"\\n{package_name} is NOT installed. Installing now...\")\n",
    "        if version:\n",
    "            subprocess.check_call([sys.executable, \"-m\", \"pip\", \"install\", f\"{package_name}=={version}\"])\n",
    "        else:\n",
    "            subprocess.check_call([sys.executable, \"-m\", \"pip\", \"install\", package_name])\n",
    "        print(f\"{package_name} installation completed.\")\n",
    "\n",
    "# List of packages to check along with specific versions if necessary\n",
    "packages = [\n",
    "    {\"name\": \"tqdm\", \"version\": None},\n",
    "    {\"name\": \"pyspark\", \"version\": \"3.5.2\"},\n",
    "    {\"name\": \"gdown\", \"version\": None},\n",
    "    {\"name\": \"numpy\", \"version\": \"1.23.5\"}\n",
    "]\n",
    "\n",
    "# Checking and installing the packages\n",
    "for package in packages:\n",
    "    check_and_install_package(package[\"name\"], package[\"version\"])\n"
   ]
  },
  {
   "cell_type": "code",
   "execution_count": null,
   "metadata": {
    "colab": {
     "base_uri": "https://localhost:8080/"
    },
    "executionInfo": {
     "elapsed": 26927,
     "status": "ok",
     "timestamp": 1729818941464,
     "user": {
      "displayName": "Adithya R",
      "userId": "06981244434554202327"
     },
     "user_tz": -480
    },
    "id": "BIo71v1kX8ot",
    "outputId": "74f1255b-c002-475c-8f8c-78edcaa6cd83"
   },
   "outputs": [
    {
     "name": "stdout",
     "output_type": "stream",
     "text": [
      "Mounted at /content/drive\n"
     ]
    }
   ],
   "source": [
    "from google.colab import drive\n",
    "drive.mount('/content/drive')"
   ]
  },
  {
   "cell_type": "code",
   "execution_count": null,
   "metadata": {
    "colab": {
     "base_uri": "https://localhost:8080/"
    },
    "executionInfo": {
     "elapsed": 7835,
     "status": "ok",
     "timestamp": 1729818949298,
     "user": {
      "displayName": "Adithya R",
      "userId": "06981244434554202327"
     },
     "user_tz": -480
    },
    "id": "Aoj9UFSFX-tf",
    "outputId": "aaff0b21-0131-4d21-901f-69bfd6776f99"
   },
   "outputs": [
    {
     "name": "stdout",
     "output_type": "stream",
     "text": [
      "Spark session started with version: 3.5.3\n"
     ]
    }
   ],
   "source": [
    "from pyspark.sql import SparkSession\n",
    "\n",
    "spark = SparkSession.builder \\\n",
    "    .appName(\"DecisionTreeModel\") \\\n",
    "    .config(\"spark.driver.memory\", \"20g\") \\\n",
    "    .config(\"spark.executor.memory\", \"20g\") \\\n",
    "    .config(\"spark.driver.maxResultSize\", \"8g\") \\\n",
    "    .config(\"spark.executor.memoryOverhead\", \"12g\") \\\n",
    "    .config(\"spark.executor.cores\", \"5\") \\\n",
    "    .config(\"spark.kryoserializer.buffer.max\", \"2047m\") \\\n",
    "    .config(\"spark.serializer\", \"org.apache.spark.serializer.KryoSerializer\") \\\n",
    "    .config(\"spark.dynamicAllocation.enabled\", \"true\") \\\n",
    "    .config(\"spark.hadoop.fs.file.impl\", \"org.apache.hadoop.fs.LocalFileSystem\") \\\n",
    "    .config(\"spark.executor.extraJavaOptions\", \"-XX:+UseG1GC -XX:InitiatingHeapOccupancyPercent=35 -XX:ConcGCThreads=4 -XX:ParallelGCThreads=4\") \\\n",
    "    .getOrCreate()\n",
    "\n",
    "# Verifying Spark session creation\n",
    "print(f\"Spark session started with version: {spark.version}\")"
   ]
  },
  {
   "cell_type": "code",
   "execution_count": null,
   "metadata": {
    "colab": {
     "base_uri": "https://localhost:8080/"
    },
    "executionInfo": {
     "elapsed": 19886,
     "status": "ok",
     "timestamp": 1729818969182,
     "user": {
      "displayName": "Adithya R",
      "userId": "06981244434554202327"
     },
     "user_tz": -480
    },
    "id": "3yj-DLwl40Md",
    "outputId": "4323065b-a414-478f-bd6c-3ed995d52098"
   },
   "outputs": [
    {
     "name": "stdout",
     "output_type": "stream",
     "text": [
      "The Feature Engineered DataFrame has been loaded successfully.\n"
     ]
    }
   ],
   "source": [
    "!cp '/content/drive/MyDrive/Big Data Analytics - Project/Datasets/Feature_Engineered_DF.parquet' /content/\n",
    "\n",
    "output_path = '/content/Feature_Engineered_DF.parquet'\n",
    "df = spark.read.parquet(output_path)\n",
    "print(\"The Feature Engineered DataFrame has been loaded successfully.\")\n"
   ]
  },
  {
   "cell_type": "code",
   "execution_count": null,
   "metadata": {
    "colab": {
     "base_uri": "https://localhost:8080/"
    },
    "executionInfo": {
     "elapsed": 1692,
     "status": "ok",
     "timestamp": 1729818970872,
     "user": {
      "displayName": "Adithya R",
      "userId": "06981244434554202327"
     },
     "user_tz": -480
    },
    "id": "gC8KLn8L6Vfz",
    "outputId": "1c8879e3-2a7a-467a-e96d-91d348ee4d05"
   },
   "outputs": [
    {
     "name": "stdout",
     "output_type": "stream",
     "text": [
      "The shape of the loaded DataFrame is: (3000040, 47)\n"
     ]
    }
   ],
   "source": [
    "# Printing the shape of the DataFrame\n",
    "total_rows = df.count()\n",
    "total_columns = len(df.columns)\n",
    "\n",
    "print(f\"The shape of the loaded DataFrame is: ({total_rows}, {total_columns})\")"
   ]
  },
  {
   "cell_type": "code",
   "execution_count": null,
   "metadata": {
    "colab": {
     "base_uri": "https://localhost:8080/"
    },
    "executionInfo": {
     "elapsed": 1527,
     "status": "ok",
     "timestamp": 1729818972397,
     "user": {
      "displayName": "Adithya R",
      "userId": "06981244434554202327"
     },
     "user_tz": -480
    },
    "id": "FVl5TBcT6Xn-",
    "outputId": "d1d6e971-4dcf-4827-eb2d-62436d5ad7ce"
   },
   "outputs": [
    {
     "name": "stdout",
     "output_type": "stream",
     "text": [
      "Average price of a car: 29933\n"
     ]
    }
   ],
   "source": [
    "# Calculating the average price\n",
    "avg_price = df.agg({\"price\": \"avg\"}).collect()[0][0]\n",
    "print(f\"Average price of a car: {round(avg_price)}\")"
   ]
  },
  {
   "cell_type": "code",
   "execution_count": null,
   "metadata": {
    "colab": {
     "base_uri": "https://localhost:8080/",
     "height": 364
    },
    "executionInfo": {
     "elapsed": 13945,
     "status": "ok",
     "timestamp": 1729818986341,
     "user": {
      "displayName": "Adithya R",
      "userId": "06981244434554202327"
     },
     "user_tz": -480
    },
    "id": "iBVLdHja6ZLA",
    "outputId": "ce5d7bee-7001-478e-9c8c-44a65897b93d"
   },
   "outputs": [
    {
     "data": {
      "application/vnd.google.colaboratory.intrinsic+json": {
       "type": "dataframe",
       "variable_name": "pandas_df"
      },
      "text/html": [
       "\n",
       "  <div id=\"df-db2ffe29-b592-4665-aa99-615fe8aab59a\" class=\"colab-df-container\">\n",
       "    <div>\n",
       "<style scoped>\n",
       "    .dataframe tbody tr th:only-of-type {\n",
       "        vertical-align: middle;\n",
       "    }\n",
       "\n",
       "    .dataframe tbody tr th {\n",
       "        vertical-align: top;\n",
       "    }\n",
       "\n",
       "    .dataframe thead th {\n",
       "        text-align: right;\n",
       "    }\n",
       "</style>\n",
       "<table border=\"1\" class=\"dataframe\">\n",
       "  <thead>\n",
       "    <tr style=\"text-align: right;\">\n",
       "      <th></th>\n",
       "      <th>fuel_type</th>\n",
       "      <th>body_type</th>\n",
       "      <th>city</th>\n",
       "      <th>city_fuel_economy</th>\n",
       "      <th>days_in_market</th>\n",
       "      <th>dealer_zip</th>\n",
       "      <th>engine_displacement</th>\n",
       "      <th>engine_type</th>\n",
       "      <th>exterior_color</th>\n",
       "      <th>franchise_dealer</th>\n",
       "      <th>fuel_tank_volume</th>\n",
       "      <th>height</th>\n",
       "      <th>highway_fuel_economy</th>\n",
       "      <th>horsepower</th>\n",
       "      <th>interior_color</th>\n",
       "      <th>is_new</th>\n",
       "      <th>latitude</th>\n",
       "      <th>length</th>\n",
       "      <th>listing_color</th>\n",
       "      <th>longitude</th>\n",
       "      <th>make_name</th>\n",
       "      <th>maximum_seating</th>\n",
       "      <th>model_name</th>\n",
       "      <th>price</th>\n",
       "      <th>savings_amount</th>\n",
       "      <th>seller_rating</th>\n",
       "      <th>sp_name</th>\n",
       "      <th>torque</th>\n",
       "      <th>transmission</th>\n",
       "      <th>transmission_display</th>\n",
       "      <th>wheel_system_display</th>\n",
       "      <th>wheelbase</th>\n",
       "      <th>width</th>\n",
       "      <th>manufactured_year</th>\n",
       "      <th>combined_fuel_economy</th>\n",
       "      <th>legroom</th>\n",
       "      <th>log_mileage</th>\n",
       "      <th>major_options_count</th>\n",
       "      <th>hp_x_engine_disp</th>\n",
       "      <th>hp_x_torque</th>\n",
       "      <th>listed_day</th>\n",
       "      <th>listed_month</th>\n",
       "      <th>listed_year</th>\n",
       "      <th>age</th>\n",
       "      <th>resale_value_score</th>\n",
       "      <th>maintenance_cost</th>\n",
       "      <th>luxury_score</th>\n",
       "    </tr>\n",
       "  </thead>\n",
       "  <tbody>\n",
       "    <tr>\n",
       "      <th>0</th>\n",
       "      <td>Gasoline</td>\n",
       "      <td>Coupe</td>\n",
       "      <td>Concord</td>\n",
       "      <td>22.690001</td>\n",
       "      <td>35</td>\n",
       "      <td>28027</td>\n",
       "      <td>2500.0</td>\n",
       "      <td>Gasoline engine</td>\n",
       "      <td>White</td>\n",
       "      <td>False</td>\n",
       "      <td>18.090000</td>\n",
       "      <td>65.87</td>\n",
       "      <td>29.469999</td>\n",
       "      <td>241.0</td>\n",
       "      <td>Black</td>\n",
       "      <td>False</td>\n",
       "      <td>35.400700</td>\n",
       "      <td>189.8</td>\n",
       "      <td>WHITE</td>\n",
       "      <td>-80.715599</td>\n",
       "      <td>Ford</td>\n",
       "      <td>5.0</td>\n",
       "      <td>Mustang</td>\n",
       "      <td>54995.0</td>\n",
       "      <td>0</td>\n",
       "      <td>4.700000</td>\n",
       "      <td>Streetside Classics - Charlotte</td>\n",
       "      <td>265.22</td>\n",
       "      <td>A</td>\n",
       "      <td>3-Speed Automatic</td>\n",
       "      <td>Unknown</td>\n",
       "      <td>111.0</td>\n",
       "      <td>77.2</td>\n",
       "      <td>1970</td>\n",
       "      <td>26.08</td>\n",
       "      <td>80.16</td>\n",
       "      <td>10.90</td>\n",
       "      <td>0</td>\n",
       "      <td>0.03</td>\n",
       "      <td>0.00000</td>\n",
       "      <td>6</td>\n",
       "      <td>8</td>\n",
       "      <td>2020</td>\n",
       "      <td>50</td>\n",
       "      <td>14</td>\n",
       "      <td>30</td>\n",
       "      <td>23</td>\n",
       "    </tr>\n",
       "    <tr>\n",
       "      <th>1</th>\n",
       "      <td>Gasoline</td>\n",
       "      <td>SUV / Crossover</td>\n",
       "      <td>Springfield</td>\n",
       "      <td>22.690001</td>\n",
       "      <td>5</td>\n",
       "      <td>07081</td>\n",
       "      <td>3500.0</td>\n",
       "      <td>V6</td>\n",
       "      <td>White</td>\n",
       "      <td>True</td>\n",
       "      <td>19.500000</td>\n",
       "      <td>67.40</td>\n",
       "      <td>29.469999</td>\n",
       "      <td>290.0</td>\n",
       "      <td>Black</td>\n",
       "      <td>True</td>\n",
       "      <td>40.685299</td>\n",
       "      <td>196.2</td>\n",
       "      <td>GRAY</td>\n",
       "      <td>-74.323196</td>\n",
       "      <td>Acura</td>\n",
       "      <td>7.0</td>\n",
       "      <td>MDX</td>\n",
       "      <td>47525.0</td>\n",
       "      <td>0</td>\n",
       "      <td>4.400000</td>\n",
       "      <td>Springfield Acura</td>\n",
       "      <td>267.00</td>\n",
       "      <td>A</td>\n",
       "      <td>Automatic</td>\n",
       "      <td>All-Wheel Drive</td>\n",
       "      <td>111.0</td>\n",
       "      <td>77.7</td>\n",
       "      <td>2020</td>\n",
       "      <td>26.08</td>\n",
       "      <td>78.00</td>\n",
       "      <td>4.61</td>\n",
       "      <td>9</td>\n",
       "      <td>0.21</td>\n",
       "      <td>0.00790</td>\n",
       "      <td>5</td>\n",
       "      <td>9</td>\n",
       "      <td>2020</td>\n",
       "      <td>0</td>\n",
       "      <td>34</td>\n",
       "      <td>41</td>\n",
       "      <td>38</td>\n",
       "    </tr>\n",
       "    <tr>\n",
       "      <th>2</th>\n",
       "      <td>Gasoline</td>\n",
       "      <td>SUV / Crossover</td>\n",
       "      <td>Huntington</td>\n",
       "      <td>20.000000</td>\n",
       "      <td>246</td>\n",
       "      <td>11743</td>\n",
       "      <td>2000.0</td>\n",
       "      <td>I4</td>\n",
       "      <td>White</td>\n",
       "      <td>True</td>\n",
       "      <td>18.799999</td>\n",
       "      <td>65.30</td>\n",
       "      <td>27.000000</td>\n",
       "      <td>316.0</td>\n",
       "      <td>Other</td>\n",
       "      <td>True</td>\n",
       "      <td>40.828602</td>\n",
       "      <td>184.6</td>\n",
       "      <td>UNKNOWN</td>\n",
       "      <td>-73.428101</td>\n",
       "      <td>Volvo</td>\n",
       "      <td>5.0</td>\n",
       "      <td>XC60</td>\n",
       "      <td>53745.0</td>\n",
       "      <td>0</td>\n",
       "      <td>4.153846</td>\n",
       "      <td>Volvo Huntington</td>\n",
       "      <td>295.00</td>\n",
       "      <td>A</td>\n",
       "      <td>Automatic</td>\n",
       "      <td>All-Wheel Drive</td>\n",
       "      <td>112.8</td>\n",
       "      <td>83.3</td>\n",
       "      <td>2020</td>\n",
       "      <td>23.50</td>\n",
       "      <td>79.50</td>\n",
       "      <td>1.39</td>\n",
       "      <td>6</td>\n",
       "      <td>-0.56</td>\n",
       "      <td>0.21315</td>\n",
       "      <td>7</td>\n",
       "      <td>1</td>\n",
       "      <td>2020</td>\n",
       "      <td>0</td>\n",
       "      <td>29</td>\n",
       "      <td>43</td>\n",
       "      <td>35</td>\n",
       "    </tr>\n",
       "    <tr>\n",
       "      <th>3</th>\n",
       "      <td>Gasoline</td>\n",
       "      <td>Sedan</td>\n",
       "      <td>Crest Hill</td>\n",
       "      <td>23.000000</td>\n",
       "      <td>12</td>\n",
       "      <td>60403</td>\n",
       "      <td>2400.0</td>\n",
       "      <td>I4</td>\n",
       "      <td>Silver</td>\n",
       "      <td>False</td>\n",
       "      <td>18.500000</td>\n",
       "      <td>58.10</td>\n",
       "      <td>34.000000</td>\n",
       "      <td>190.0</td>\n",
       "      <td>Gray</td>\n",
       "      <td>False</td>\n",
       "      <td>41.552601</td>\n",
       "      <td>194.1</td>\n",
       "      <td>SILVER</td>\n",
       "      <td>-88.088203</td>\n",
       "      <td>Honda</td>\n",
       "      <td>5.0</td>\n",
       "      <td>Accord</td>\n",
       "      <td>7500.0</td>\n",
       "      <td>101</td>\n",
       "      <td>4.615385</td>\n",
       "      <td>Auto Land, Inc. - Crest Hill</td>\n",
       "      <td>162.00</td>\n",
       "      <td>A</td>\n",
       "      <td>5-Speed Automatic</td>\n",
       "      <td>Front-Wheel Drive</td>\n",
       "      <td>110.2</td>\n",
       "      <td>72.7</td>\n",
       "      <td>2011</td>\n",
       "      <td>28.50</td>\n",
       "      <td>79.70</td>\n",
       "      <td>12.07</td>\n",
       "      <td>4</td>\n",
       "      <td>0.27</td>\n",
       "      <td>0.62199</td>\n",
       "      <td>29</td>\n",
       "      <td>8</td>\n",
       "      <td>2020</td>\n",
       "      <td>9</td>\n",
       "      <td>20</td>\n",
       "      <td>31</td>\n",
       "      <td>26</td>\n",
       "    </tr>\n",
       "    <tr>\n",
       "      <th>4</th>\n",
       "      <td>Gasoline</td>\n",
       "      <td>SUV / Crossover</td>\n",
       "      <td>Kirksville</td>\n",
       "      <td>22.690001</td>\n",
       "      <td>18</td>\n",
       "      <td>63501</td>\n",
       "      <td>2000.0</td>\n",
       "      <td>I4</td>\n",
       "      <td>Red</td>\n",
       "      <td>True</td>\n",
       "      <td>16.400000</td>\n",
       "      <td>64.80</td>\n",
       "      <td>29.469999</td>\n",
       "      <td>164.0</td>\n",
       "      <td>Black</td>\n",
       "      <td>False</td>\n",
       "      <td>40.209801</td>\n",
       "      <td>176.4</td>\n",
       "      <td>RED</td>\n",
       "      <td>-92.584396</td>\n",
       "      <td>Hyundai</td>\n",
       "      <td>5.0</td>\n",
       "      <td>Tucson</td>\n",
       "      <td>19495.0</td>\n",
       "      <td>3</td>\n",
       "      <td>5.000000</td>\n",
       "      <td>Lovegreen Ford Mercury</td>\n",
       "      <td>151.00</td>\n",
       "      <td>A</td>\n",
       "      <td>Automatic</td>\n",
       "      <td>All-Wheel Drive</td>\n",
       "      <td>105.1</td>\n",
       "      <td>72.8</td>\n",
       "      <td>2019</td>\n",
       "      <td>26.08</td>\n",
       "      <td>79.70</td>\n",
       "      <td>10.28</td>\n",
       "      <td>5</td>\n",
       "      <td>0.68</td>\n",
       "      <td>0.99898</td>\n",
       "      <td>23</td>\n",
       "      <td>8</td>\n",
       "      <td>2020</td>\n",
       "      <td>1</td>\n",
       "      <td>26</td>\n",
       "      <td>35</td>\n",
       "      <td>29</td>\n",
       "    </tr>\n",
       "  </tbody>\n",
       "</table>\n",
       "</div>\n",
       "    <div class=\"colab-df-buttons\">\n",
       "\n",
       "  <div class=\"colab-df-container\">\n",
       "    <button class=\"colab-df-convert\" onclick=\"convertToInteractive('df-db2ffe29-b592-4665-aa99-615fe8aab59a')\"\n",
       "            title=\"Convert this dataframe to an interactive table.\"\n",
       "            style=\"display:none;\">\n",
       "\n",
       "  <svg xmlns=\"http://www.w3.org/2000/svg\" height=\"24px\" viewBox=\"0 -960 960 960\">\n",
       "    <path d=\"M120-120v-720h720v720H120Zm60-500h600v-160H180v160Zm220 220h160v-160H400v160Zm0 220h160v-160H400v160ZM180-400h160v-160H180v160Zm440 0h160v-160H620v160ZM180-180h160v-160H180v160Zm440 0h160v-160H620v160Z\"/>\n",
       "  </svg>\n",
       "    </button>\n",
       "\n",
       "  <style>\n",
       "    .colab-df-container {\n",
       "      display:flex;\n",
       "      gap: 12px;\n",
       "    }\n",
       "\n",
       "    .colab-df-convert {\n",
       "      background-color: #E8F0FE;\n",
       "      border: none;\n",
       "      border-radius: 50%;\n",
       "      cursor: pointer;\n",
       "      display: none;\n",
       "      fill: #1967D2;\n",
       "      height: 32px;\n",
       "      padding: 0 0 0 0;\n",
       "      width: 32px;\n",
       "    }\n",
       "\n",
       "    .colab-df-convert:hover {\n",
       "      background-color: #E2EBFA;\n",
       "      box-shadow: 0px 1px 2px rgba(60, 64, 67, 0.3), 0px 1px 3px 1px rgba(60, 64, 67, 0.15);\n",
       "      fill: #174EA6;\n",
       "    }\n",
       "\n",
       "    .colab-df-buttons div {\n",
       "      margin-bottom: 4px;\n",
       "    }\n",
       "\n",
       "    [theme=dark] .colab-df-convert {\n",
       "      background-color: #3B4455;\n",
       "      fill: #D2E3FC;\n",
       "    }\n",
       "\n",
       "    [theme=dark] .colab-df-convert:hover {\n",
       "      background-color: #434B5C;\n",
       "      box-shadow: 0px 1px 3px 1px rgba(0, 0, 0, 0.15);\n",
       "      filter: drop-shadow(0px 1px 2px rgba(0, 0, 0, 0.3));\n",
       "      fill: #FFFFFF;\n",
       "    }\n",
       "  </style>\n",
       "\n",
       "    <script>\n",
       "      const buttonEl =\n",
       "        document.querySelector('#df-db2ffe29-b592-4665-aa99-615fe8aab59a button.colab-df-convert');\n",
       "      buttonEl.style.display =\n",
       "        google.colab.kernel.accessAllowed ? 'block' : 'none';\n",
       "\n",
       "      async function convertToInteractive(key) {\n",
       "        const element = document.querySelector('#df-db2ffe29-b592-4665-aa99-615fe8aab59a');\n",
       "        const dataTable =\n",
       "          await google.colab.kernel.invokeFunction('convertToInteractive',\n",
       "                                                    [key], {});\n",
       "        if (!dataTable) return;\n",
       "\n",
       "        const docLinkHtml = 'Like what you see? Visit the ' +\n",
       "          '<a target=\"_blank\" href=https://colab.research.google.com/notebooks/data_table.ipynb>data table notebook</a>'\n",
       "          + ' to learn more about interactive tables.';\n",
       "        element.innerHTML = '';\n",
       "        dataTable['output_type'] = 'display_data';\n",
       "        await google.colab.output.renderOutput(dataTable, element);\n",
       "        const docLink = document.createElement('div');\n",
       "        docLink.innerHTML = docLinkHtml;\n",
       "        element.appendChild(docLink);\n",
       "      }\n",
       "    </script>\n",
       "  </div>\n",
       "\n",
       "\n",
       "<div id=\"df-53d2fd9f-0cac-49eb-b67d-f3edc6d36712\">\n",
       "  <button class=\"colab-df-quickchart\" onclick=\"quickchart('df-53d2fd9f-0cac-49eb-b67d-f3edc6d36712')\"\n",
       "            title=\"Suggest charts\"\n",
       "            style=\"display:none;\">\n",
       "\n",
       "<svg xmlns=\"http://www.w3.org/2000/svg\" height=\"24px\"viewBox=\"0 0 24 24\"\n",
       "     width=\"24px\">\n",
       "    <g>\n",
       "        <path d=\"M19 3H5c-1.1 0-2 .9-2 2v14c0 1.1.9 2 2 2h14c1.1 0 2-.9 2-2V5c0-1.1-.9-2-2-2zM9 17H7v-7h2v7zm4 0h-2V7h2v10zm4 0h-2v-4h2v4z\"/>\n",
       "    </g>\n",
       "</svg>\n",
       "  </button>\n",
       "\n",
       "<style>\n",
       "  .colab-df-quickchart {\n",
       "      --bg-color: #E8F0FE;\n",
       "      --fill-color: #1967D2;\n",
       "      --hover-bg-color: #E2EBFA;\n",
       "      --hover-fill-color: #174EA6;\n",
       "      --disabled-fill-color: #AAA;\n",
       "      --disabled-bg-color: #DDD;\n",
       "  }\n",
       "\n",
       "  [theme=dark] .colab-df-quickchart {\n",
       "      --bg-color: #3B4455;\n",
       "      --fill-color: #D2E3FC;\n",
       "      --hover-bg-color: #434B5C;\n",
       "      --hover-fill-color: #FFFFFF;\n",
       "      --disabled-bg-color: #3B4455;\n",
       "      --disabled-fill-color: #666;\n",
       "  }\n",
       "\n",
       "  .colab-df-quickchart {\n",
       "    background-color: var(--bg-color);\n",
       "    border: none;\n",
       "    border-radius: 50%;\n",
       "    cursor: pointer;\n",
       "    display: none;\n",
       "    fill: var(--fill-color);\n",
       "    height: 32px;\n",
       "    padding: 0;\n",
       "    width: 32px;\n",
       "  }\n",
       "\n",
       "  .colab-df-quickchart:hover {\n",
       "    background-color: var(--hover-bg-color);\n",
       "    box-shadow: 0 1px 2px rgba(60, 64, 67, 0.3), 0 1px 3px 1px rgba(60, 64, 67, 0.15);\n",
       "    fill: var(--button-hover-fill-color);\n",
       "  }\n",
       "\n",
       "  .colab-df-quickchart-complete:disabled,\n",
       "  .colab-df-quickchart-complete:disabled:hover {\n",
       "    background-color: var(--disabled-bg-color);\n",
       "    fill: var(--disabled-fill-color);\n",
       "    box-shadow: none;\n",
       "  }\n",
       "\n",
       "  .colab-df-spinner {\n",
       "    border: 2px solid var(--fill-color);\n",
       "    border-color: transparent;\n",
       "    border-bottom-color: var(--fill-color);\n",
       "    animation:\n",
       "      spin 1s steps(1) infinite;\n",
       "  }\n",
       "\n",
       "  @keyframes spin {\n",
       "    0% {\n",
       "      border-color: transparent;\n",
       "      border-bottom-color: var(--fill-color);\n",
       "      border-left-color: var(--fill-color);\n",
       "    }\n",
       "    20% {\n",
       "      border-color: transparent;\n",
       "      border-left-color: var(--fill-color);\n",
       "      border-top-color: var(--fill-color);\n",
       "    }\n",
       "    30% {\n",
       "      border-color: transparent;\n",
       "      border-left-color: var(--fill-color);\n",
       "      border-top-color: var(--fill-color);\n",
       "      border-right-color: var(--fill-color);\n",
       "    }\n",
       "    40% {\n",
       "      border-color: transparent;\n",
       "      border-right-color: var(--fill-color);\n",
       "      border-top-color: var(--fill-color);\n",
       "    }\n",
       "    60% {\n",
       "      border-color: transparent;\n",
       "      border-right-color: var(--fill-color);\n",
       "    }\n",
       "    80% {\n",
       "      border-color: transparent;\n",
       "      border-right-color: var(--fill-color);\n",
       "      border-bottom-color: var(--fill-color);\n",
       "    }\n",
       "    90% {\n",
       "      border-color: transparent;\n",
       "      border-bottom-color: var(--fill-color);\n",
       "    }\n",
       "  }\n",
       "</style>\n",
       "\n",
       "  <script>\n",
       "    async function quickchart(key) {\n",
       "      const quickchartButtonEl =\n",
       "        document.querySelector('#' + key + ' button');\n",
       "      quickchartButtonEl.disabled = true;  // To prevent multiple clicks.\n",
       "      quickchartButtonEl.classList.add('colab-df-spinner');\n",
       "      try {\n",
       "        const charts = await google.colab.kernel.invokeFunction(\n",
       "            'suggestCharts', [key], {});\n",
       "      } catch (error) {\n",
       "        console.error('Error during call to suggestCharts:', error);\n",
       "      }\n",
       "      quickchartButtonEl.classList.remove('colab-df-spinner');\n",
       "      quickchartButtonEl.classList.add('colab-df-quickchart-complete');\n",
       "    }\n",
       "    (() => {\n",
       "      let quickchartButtonEl =\n",
       "        document.querySelector('#df-53d2fd9f-0cac-49eb-b67d-f3edc6d36712 button');\n",
       "      quickchartButtonEl.style.display =\n",
       "        google.colab.kernel.accessAllowed ? 'block' : 'none';\n",
       "    })();\n",
       "  </script>\n",
       "</div>\n",
       "\n",
       "  <div id=\"id_fedf8599-90e9-405f-9a9d-7c7f3bc6a9a5\">\n",
       "    <style>\n",
       "      .colab-df-generate {\n",
       "        background-color: #E8F0FE;\n",
       "        border: none;\n",
       "        border-radius: 50%;\n",
       "        cursor: pointer;\n",
       "        display: none;\n",
       "        fill: #1967D2;\n",
       "        height: 32px;\n",
       "        padding: 0 0 0 0;\n",
       "        width: 32px;\n",
       "      }\n",
       "\n",
       "      .colab-df-generate:hover {\n",
       "        background-color: #E2EBFA;\n",
       "        box-shadow: 0px 1px 2px rgba(60, 64, 67, 0.3), 0px 1px 3px 1px rgba(60, 64, 67, 0.15);\n",
       "        fill: #174EA6;\n",
       "      }\n",
       "\n",
       "      [theme=dark] .colab-df-generate {\n",
       "        background-color: #3B4455;\n",
       "        fill: #D2E3FC;\n",
       "      }\n",
       "\n",
       "      [theme=dark] .colab-df-generate:hover {\n",
       "        background-color: #434B5C;\n",
       "        box-shadow: 0px 1px 3px 1px rgba(0, 0, 0, 0.15);\n",
       "        filter: drop-shadow(0px 1px 2px rgba(0, 0, 0, 0.3));\n",
       "        fill: #FFFFFF;\n",
       "      }\n",
       "    </style>\n",
       "    <button class=\"colab-df-generate\" onclick=\"generateWithVariable('pandas_df')\"\n",
       "            title=\"Generate code using this dataframe.\"\n",
       "            style=\"display:none;\">\n",
       "\n",
       "  <svg xmlns=\"http://www.w3.org/2000/svg\" height=\"24px\"viewBox=\"0 0 24 24\"\n",
       "       width=\"24px\">\n",
       "    <path d=\"M7,19H8.4L18.45,9,17,7.55,7,17.6ZM5,21V16.75L18.45,3.32a2,2,0,0,1,2.83,0l1.4,1.43a1.91,1.91,0,0,1,.58,1.4,1.91,1.91,0,0,1-.58,1.4L9.25,21ZM18.45,9,17,7.55Zm-12,3A5.31,5.31,0,0,0,4.9,8.1,5.31,5.31,0,0,0,1,6.5,5.31,5.31,0,0,0,4.9,4.9,5.31,5.31,0,0,0,6.5,1,5.31,5.31,0,0,0,8.1,4.9,5.31,5.31,0,0,0,12,6.5,5.46,5.46,0,0,0,6.5,12Z\"/>\n",
       "  </svg>\n",
       "    </button>\n",
       "    <script>\n",
       "      (() => {\n",
       "      const buttonEl =\n",
       "        document.querySelector('#id_fedf8599-90e9-405f-9a9d-7c7f3bc6a9a5 button.colab-df-generate');\n",
       "      buttonEl.style.display =\n",
       "        google.colab.kernel.accessAllowed ? 'block' : 'none';\n",
       "\n",
       "      buttonEl.onclick = () => {\n",
       "        google.colab.notebook.generateWithVariable('pandas_df');\n",
       "      }\n",
       "      })();\n",
       "    </script>\n",
       "  </div>\n",
       "\n",
       "    </div>\n",
       "  </div>\n"
      ],
      "text/plain": [
       "  fuel_type        body_type         city  city_fuel_economy  days_in_market  \\\n",
       "0  Gasoline            Coupe      Concord          22.690001              35   \n",
       "1  Gasoline  SUV / Crossover  Springfield          22.690001               5   \n",
       "2  Gasoline  SUV / Crossover   Huntington          20.000000             246   \n",
       "3  Gasoline            Sedan   Crest Hill          23.000000              12   \n",
       "4  Gasoline  SUV / Crossover   Kirksville          22.690001              18   \n",
       "\n",
       "  dealer_zip  engine_displacement      engine_type exterior_color  \\\n",
       "0      28027               2500.0  Gasoline engine          White   \n",
       "1      07081               3500.0               V6          White   \n",
       "2      11743               2000.0               I4          White   \n",
       "3      60403               2400.0               I4         Silver   \n",
       "4      63501               2000.0               I4            Red   \n",
       "\n",
       "   franchise_dealer  fuel_tank_volume  height  highway_fuel_economy  \\\n",
       "0             False         18.090000   65.87             29.469999   \n",
       "1              True         19.500000   67.40             29.469999   \n",
       "2              True         18.799999   65.30             27.000000   \n",
       "3             False         18.500000   58.10             34.000000   \n",
       "4              True         16.400000   64.80             29.469999   \n",
       "\n",
       "   horsepower interior_color  is_new   latitude  length listing_color  \\\n",
       "0       241.0          Black   False  35.400700   189.8         WHITE   \n",
       "1       290.0          Black    True  40.685299   196.2          GRAY   \n",
       "2       316.0          Other    True  40.828602   184.6       UNKNOWN   \n",
       "3       190.0           Gray   False  41.552601   194.1        SILVER   \n",
       "4       164.0          Black   False  40.209801   176.4           RED   \n",
       "\n",
       "   longitude make_name  maximum_seating model_name    price  savings_amount  \\\n",
       "0 -80.715599      Ford              5.0    Mustang  54995.0               0   \n",
       "1 -74.323196     Acura              7.0        MDX  47525.0               0   \n",
       "2 -73.428101     Volvo              5.0       XC60  53745.0               0   \n",
       "3 -88.088203     Honda              5.0     Accord   7500.0             101   \n",
       "4 -92.584396   Hyundai              5.0     Tucson  19495.0               3   \n",
       "\n",
       "   seller_rating                          sp_name  torque transmission  \\\n",
       "0       4.700000  Streetside Classics - Charlotte  265.22            A   \n",
       "1       4.400000                Springfield Acura  267.00            A   \n",
       "2       4.153846                 Volvo Huntington  295.00            A   \n",
       "3       4.615385     Auto Land, Inc. - Crest Hill  162.00            A   \n",
       "4       5.000000           Lovegreen Ford Mercury  151.00            A   \n",
       "\n",
       "  transmission_display wheel_system_display  wheelbase  width  \\\n",
       "0    3-Speed Automatic              Unknown      111.0   77.2   \n",
       "1            Automatic      All-Wheel Drive      111.0   77.7   \n",
       "2            Automatic      All-Wheel Drive      112.8   83.3   \n",
       "3    5-Speed Automatic    Front-Wheel Drive      110.2   72.7   \n",
       "4            Automatic      All-Wheel Drive      105.1   72.8   \n",
       "\n",
       "   manufactured_year  combined_fuel_economy  legroom  log_mileage  \\\n",
       "0               1970                  26.08    80.16        10.90   \n",
       "1               2020                  26.08    78.00         4.61   \n",
       "2               2020                  23.50    79.50         1.39   \n",
       "3               2011                  28.50    79.70        12.07   \n",
       "4               2019                  26.08    79.70        10.28   \n",
       "\n",
       "   major_options_count  hp_x_engine_disp  hp_x_torque  listed_day  \\\n",
       "0                    0              0.03      0.00000           6   \n",
       "1                    9              0.21      0.00790           5   \n",
       "2                    6             -0.56      0.21315           7   \n",
       "3                    4              0.27      0.62199          29   \n",
       "4                    5              0.68      0.99898          23   \n",
       "\n",
       "   listed_month  listed_year  age  resale_value_score  maintenance_cost  \\\n",
       "0             8         2020   50                  14                30   \n",
       "1             9         2020    0                  34                41   \n",
       "2             1         2020    0                  29                43   \n",
       "3             8         2020    9                  20                31   \n",
       "4             8         2020    1                  26                35   \n",
       "\n",
       "   luxury_score  \n",
       "0            23  \n",
       "1            38  \n",
       "2            35  \n",
       "3            26  \n",
       "4            29  "
      ]
     },
     "metadata": {},
     "output_type": "display_data"
    }
   ],
   "source": [
    "import pandas as pd\n",
    "from IPython.display import display\n",
    "import pyspark.sql.functions as F\n",
    "\n",
    "# Converting the Spark DataFrame to a Pandas DataFrame and displaying 5 random rows with all columns\n",
    "pd.set_option('display.max_columns', None)\n",
    "pandas_df = df.orderBy(F.rand()).limit(5).toPandas()\n",
    "display(pandas_df)\n"
   ]
  },
  {
   "cell_type": "markdown",
   "metadata": {
    "id": "BPbNX5VBzRCD"
   },
   "source": [
    "\n",
    "\n",
    "---\n",
    "\n"
   ]
  },
  {
   "cell_type": "markdown",
   "metadata": {
    "id": "G2EQhKTVGcez"
   },
   "source": [
    "# **Decision Tree Regressor**"
   ]
  },
  {
   "cell_type": "markdown",
   "metadata": {
    "id": "NxJZskAI7dLe"
   },
   "source": [
    "## **Predicting on DF with a size of `~100k records`**"
   ]
  },
  {
   "cell_type": "code",
   "execution_count": null,
   "metadata": {
    "colab": {
     "base_uri": "https://localhost:8080/"
    },
    "executionInfo": {
     "elapsed": 858176,
     "status": "ok",
     "timestamp": 1729595392397,
     "user": {
      "displayName": "Adithya R",
      "userId": "06981244434554202327"
     },
     "user_tz": -480
    },
    "id": "QRKCPds-3FZC",
    "outputId": "202c69e9-cd82-4eaf-fb60-1252ade0f7eb"
   },
   "outputs": [
    {
     "name": "stderr",
     "output_type": "stream",
     "text": [
      "Processing and Training: 100%|██████████| 6/6 [12:42<00:00, 127.08s/it]\n"
     ]
    },
    {
     "name": "stdout",
     "output_type": "stream",
     "text": [
      "\n",
      "Train size: 79,346 samples\n",
      "Test size: 19,771 samples\n",
      "\n",
      "\n",
      "R-Squared Score (Accuracy): 78.53%\n",
      "\n",
      "\n",
      "Overall runtime: 14 minutes.\n"
     ]
    }
   ],
   "source": [
    "from pyspark.ml.regression import DecisionTreeRegressor\n",
    "from pyspark.ml.evaluation import RegressionEvaluator\n",
    "import time\n",
    "import warnings\n",
    "from tqdm import tqdm\n",
    "from pyspark.ml.feature import StringIndexer, VectorAssembler, StandardScaler, OneHotEncoder\n",
    "from pyspark.ml import Pipeline\n",
    "from pyspark.sql.functions import mean as sql_mean\n",
    "import pyspark.sql.functions as F\n",
    "\n",
    "# Ignore warnings\n",
    "warnings.filterwarnings('ignore')\n",
    "\n",
    "# Starting to track overall runtime\n",
    "start_time = time.time()\n",
    "\n",
    "with tqdm(total=6, desc=\"Processing and Training\") as pbar:\n",
    "\n",
    "    df_sample = df.sample(fraction=0.033, seed=42)  # Randomly sample 100k records of the data\n",
    "    pbar.update(1)\n",
    "\n",
    "    # Handling categorical columns\n",
    "    cat_columns = [field for (field, dtype) in df_sample.dtypes if dtype == \"string\"]\n",
    "    stages = []\n",
    "    for col_name in cat_columns:\n",
    "        indexer = StringIndexer(inputCol=col_name, outputCol=f\"{col_name}_indexed\", handleInvalid=\"keep\")\n",
    "        encoder = OneHotEncoder(inputCol=f\"{col_name}_indexed\", outputCol=f\"{col_name}_encoded\")\n",
    "        stages += [indexer, encoder]\n",
    "    pbar.update(1)\n",
    "\n",
    "    # Converting 'franchise_dealer' to numeric\n",
    "    df_sample = df_sample.withColumn(\"franchise_dealer\", F.col(\"franchise_dealer\").cast(\"int\"))\n",
    "\n",
    "    # Assembling features\n",
    "    num_columns = [col for col in df_sample.columns if col != 'price' and col not in cat_columns]\n",
    "    encoded_columns = [f\"{col}_encoded\" for col in cat_columns]\n",
    "    feature_columns = num_columns + encoded_columns\n",
    "    assembler = VectorAssembler(inputCols=feature_columns, outputCol=\"features\")\n",
    "    stages += [assembler]\n",
    "    pbar.update(1)\n",
    "\n",
    "    # Adding scaling to the pipeline\n",
    "    scaler = StandardScaler(inputCol=\"features\", outputCol=\"scaled_features\", withMean=True, withStd=True)\n",
    "    stages += [scaler]\n",
    "\n",
    "    # Creating and applying the pipeline\n",
    "    pipeline = Pipeline(stages=stages)\n",
    "    pipeline_model = pipeline.fit(df_sample)\n",
    "    df_sample = pipeline_model.transform(df_sample)\n",
    "    pbar.update(1)\n",
    "\n",
    "    # Splitting the data\n",
    "    train_df, test_df = df_sample.randomSplit([0.8, 0.2], seed=42)\n",
    "    pbar.update(1)\n",
    "\n",
    "    # Training Decision Tree Regressor model\n",
    "    dt = DecisionTreeRegressor(\n",
    "    featuresCol=\"scaled_features\",\n",
    "    labelCol=\"price\",\n",
    "    maxDepth=15,\n",
    "    maxBins=128,\n",
    "    minInstancesPerNode=5,\n",
    "    minInfoGain=0.01,\n",
    "    seed=42\n",
    "    )\n",
    "\n",
    "    model = dt.fit(train_df)\n",
    "    pbar.update(1)\n",
    "\n",
    "# Making predictions\n",
    "predictions = model.transform(test_df)\n",
    "\n",
    "# Evaluating the model\n",
    "evaluator = RegressionEvaluator(labelCol=\"price\", predictionCol=\"prediction\", metricName=\"r2\")\n",
    "r2 = evaluator.evaluate(predictions)\n",
    "\n",
    "# Displaying results\n",
    "print(f\"\\nTrain size: {train_df.count():,} samples\")\n",
    "print(f\"Test size: {test_df.count():,} samples\")\n",
    "\n",
    "# Multiplying R-Squared by 100 for percentage calculation\n",
    "print(f\"\\n\\nR-Squared Score (Accuracy): {r2 * 100:.2f}%\")\n",
    "\n",
    "# Calculating total runtime\n",
    "end_time = time.time()\n",
    "total_runtime = (end_time - start_time) / 60\n",
    "print(f\"\\n\\nOverall runtime: {round(total_runtime)} minutes.\")\n"
   ]
  },
  {
   "cell_type": "code",
   "execution_count": null,
   "metadata": {
    "colab": {
     "base_uri": "https://localhost:8080/"
    },
    "executionInfo": {
     "elapsed": 89461,
     "status": "ok",
     "timestamp": 1729595481843,
     "user": {
      "displayName": "Adithya R",
      "userId": "06981244434554202327"
     },
     "user_tz": -480
    },
    "id": "1ZMe2ifq3P1t",
    "outputId": "ea2240cd-58b0-437b-c1bd-963aa919fbf2"
   },
   "outputs": [
    {
     "name": "stdout",
     "output_type": "stream",
     "text": [
      "Additional Metrics:\n",
      "Mean Absolute Error: 3341\n",
      "Mean Squared Error: 76977172\n",
      "Root Mean Squared Error: 8774\n"
     ]
    }
   ],
   "source": [
    "# Calculating additional metrics\n",
    "mae_evaluator = RegressionEvaluator(labelCol=\"price\", predictionCol=\"prediction\", metricName=\"mae\")\n",
    "mae = mae_evaluator.evaluate(predictions)\n",
    "\n",
    "mse_evaluator = RegressionEvaluator(labelCol=\"price\", predictionCol=\"prediction\", metricName=\"mse\")\n",
    "mse = mse_evaluator.evaluate(predictions)\n",
    "\n",
    "rmse_evaluator = RegressionEvaluator(labelCol=\"price\", predictionCol=\"prediction\", metricName=\"rmse\")\n",
    "rmse = rmse_evaluator.evaluate(predictions)\n",
    "\n",
    "\n",
    "print(\"Additional Metrics:\")\n",
    "print(f\"Mean Absolute Error: {round(mae)}\")\n",
    "print(f\"Mean Squared Error: {round(mse)}\")\n",
    "print(f\"Root Mean Squared Error: {round(rmse)}\")"
   ]
  },
  {
   "cell_type": "markdown",
   "metadata": {
    "id": "jFLo8_syVaKQ"
   },
   "source": [
    "\n",
    "\n",
    "---\n",
    "\n"
   ]
  },
  {
   "cell_type": "markdown",
   "metadata": {
    "id": "zbtNFRAxVc3r"
   },
   "source": [
    "## **Predicting on DF with a size of `~200k records`**"
   ]
  },
  {
   "cell_type": "code",
   "execution_count": null,
   "metadata": {
    "colab": {
     "base_uri": "https://localhost:8080/"
    },
    "executionInfo": {
     "elapsed": 1700145,
     "status": "ok",
     "timestamp": 1729604117094,
     "user": {
      "displayName": "Adithya R",
      "userId": "06981244434554202327"
     },
     "user_tz": -480
    },
    "id": "vGueHLLtVkeH",
    "outputId": "0bf1509f-b292-4180-fb1b-2e6a99346694"
   },
   "outputs": [
    {
     "name": "stderr",
     "output_type": "stream",
     "text": [
      "Processing and Training: 100%|██████████| 6/6 [24:30<00:00, 245.10s/it]\n"
     ]
    },
    {
     "name": "stdout",
     "output_type": "stream",
     "text": [
      "\n",
      "Train size: 158,449 samples\n",
      "Test size: 39,727 samples\n",
      "\n",
      "\n",
      "R-Squared Score (Accuracy): 85.97%\n",
      "\n",
      "\n",
      "Overall runtime: 28 minutes.\n"
     ]
    }
   ],
   "source": [
    "from pyspark.ml.regression import DecisionTreeRegressor\n",
    "from pyspark.ml.evaluation import RegressionEvaluator\n",
    "import time\n",
    "import warnings\n",
    "from tqdm import tqdm\n",
    "from pyspark.ml.feature import StringIndexer, VectorAssembler, StandardScaler, OneHotEncoder\n",
    "from pyspark.ml import Pipeline\n",
    "from pyspark.sql.functions import mean as sql_mean\n",
    "import pyspark.sql.functions as F\n",
    "\n",
    "# Ignore warnings\n",
    "warnings.filterwarnings('ignore')\n",
    "\n",
    "# Starting to track overall runtime\n",
    "start_time = time.time()\n",
    "\n",
    "\n",
    "with tqdm(total=6, desc=\"Processing and Training\") as pbar:\n",
    "\n",
    "    df_sample = df.sample(fraction=0.066, seed=42)  # Randomly sample 200k records of the data\n",
    "    pbar.update(1)\n",
    "\n",
    "    # Handling categorical columns\n",
    "    cat_columns = [field for (field, dtype) in df_sample.dtypes if dtype == \"string\"]\n",
    "    stages = []\n",
    "    for col_name in cat_columns:\n",
    "        indexer = StringIndexer(inputCol=col_name, outputCol=f\"{col_name}_indexed\", handleInvalid=\"keep\")\n",
    "        encoder = OneHotEncoder(inputCol=f\"{col_name}_indexed\", outputCol=f\"{col_name}_encoded\")\n",
    "        stages += [indexer, encoder]\n",
    "    pbar.update(1)\n",
    "\n",
    "    # Converting 'franchise_dealer' to numeric\n",
    "    df_sample = df_sample.withColumn(\"franchise_dealer\", F.col(\"franchise_dealer\").cast(\"int\"))\n",
    "\n",
    "    # Assembling features\n",
    "    num_columns = [col for col in df_sample.columns if col != 'price' and col not in cat_columns]\n",
    "    encoded_columns = [f\"{col}_encoded\" for col in cat_columns]\n",
    "    feature_columns = num_columns + encoded_columns\n",
    "    assembler = VectorAssembler(inputCols=feature_columns, outputCol=\"features\")\n",
    "    stages += [assembler]\n",
    "    pbar.update(1)\n",
    "\n",
    "    # Adding scaling to the pipeline\n",
    "    scaler = StandardScaler(inputCol=\"features\", outputCol=\"scaled_features\", withMean=True, withStd=True)\n",
    "    stages += [scaler]\n",
    "\n",
    "    # Creating and applying the pipeline\n",
    "    pipeline = Pipeline(stages=stages)\n",
    "    pipeline_model = pipeline.fit(df_sample)\n",
    "    df_sample = pipeline_model.transform(df_sample)\n",
    "    pbar.update(1)\n",
    "\n",
    "    # Splitting the data\n",
    "    train_df, test_df = df_sample.randomSplit([0.8, 0.2], seed=42)\n",
    "    pbar.update(1)\n",
    "\n",
    "    # Training Decision Tree Regressor model\n",
    "    dt = DecisionTreeRegressor(\n",
    "    featuresCol=\"scaled_features\",\n",
    "    labelCol=\"price\",\n",
    "    maxDepth=15,\n",
    "    maxBins=128,\n",
    "    minInstancesPerNode=5,\n",
    "    minInfoGain=0.01,\n",
    "    seed=42\n",
    "    )\n",
    "\n",
    "    model = dt.fit(train_df)\n",
    "    pbar.update(1)\n",
    "\n",
    "# Making predictions\n",
    "predictions = model.transform(test_df)\n",
    "\n",
    "# Evaluating the model\n",
    "evaluator = RegressionEvaluator(labelCol=\"price\", predictionCol=\"prediction\", metricName=\"r2\")\n",
    "r2 = evaluator.evaluate(predictions)\n",
    "\n",
    "# Displaying results\n",
    "print(f\"\\nTrain size: {train_df.count():,} samples\")\n",
    "print(f\"Test size: {test_df.count():,} samples\")\n",
    "\n",
    "# Multiplying R-Squared by 100 for percentage calculation\n",
    "print(f\"\\n\\nR-Squared Score (Accuracy): {r2 * 100:.2f}%\")\n",
    "\n",
    "# Calculating total runtime\n",
    "end_time = time.time()\n",
    "total_runtime = (end_time - start_time) / 60  # Convert seconds to minutes\n",
    "\n",
    "print(f\"\\n\\nOverall runtime: {round(total_runtime)} minutes.\")\n"
   ]
  },
  {
   "cell_type": "code",
   "execution_count": null,
   "metadata": {
    "colab": {
     "base_uri": "https://localhost:8080/"
    },
    "executionInfo": {
     "elapsed": 240705,
     "status": "ok",
     "timestamp": 1729604357795,
     "user": {
      "displayName": "Adithya R",
      "userId": "06981244434554202327"
     },
     "user_tz": -480
    },
    "id": "2xQiOo9EVpF2",
    "outputId": "c57c2fab-4878-453e-fd52-5c045f08c72d"
   },
   "outputs": [
    {
     "name": "stdout",
     "output_type": "stream",
     "text": [
      "Additional Metrics:\n",
      "Mean Absolute Error: 3237\n",
      "Mean Squared Error: 48643853\n",
      "Root Mean Squared Error: 6975\n"
     ]
    }
   ],
   "source": [
    "# Calculating additional metrics\n",
    "mae_evaluator = RegressionEvaluator(labelCol=\"price\", predictionCol=\"prediction\", metricName=\"mae\")\n",
    "mae = mae_evaluator.evaluate(predictions)\n",
    "\n",
    "mse_evaluator = RegressionEvaluator(labelCol=\"price\", predictionCol=\"prediction\", metricName=\"mse\")\n",
    "mse = mse_evaluator.evaluate(predictions)\n",
    "\n",
    "rmse_evaluator = RegressionEvaluator(labelCol=\"price\", predictionCol=\"prediction\", metricName=\"rmse\")\n",
    "rmse = rmse_evaluator.evaluate(predictions)\n",
    "\n",
    "print(\"Additional Metrics:\")\n",
    "print(f\"Mean Absolute Error: {round(mae)}\")\n",
    "print(f\"Mean Squared Error: {round(mse)}\")\n",
    "print(f\"Root Mean Squared Error: {round(rmse)}\")"
   ]
  },
  {
   "cell_type": "markdown",
   "metadata": {
    "id": "Jh64Ks87XG6t"
   },
   "source": [
    "\n",
    "\n",
    "---\n",
    "\n"
   ]
  },
  {
   "cell_type": "markdown",
   "metadata": {
    "id": "csaX1OQSXH5g"
   },
   "source": [
    "## **Predicting on DF with a size of `300k records`**"
   ]
  },
  {
   "cell_type": "code",
   "execution_count": null,
   "metadata": {
    "colab": {
     "base_uri": "https://localhost:8080/"
    },
    "executionInfo": {
     "elapsed": 2522657,
     "status": "ok",
     "timestamp": 1729611502786,
     "user": {
      "displayName": "Adithya R",
      "userId": "06981244434554202327"
     },
     "user_tz": -480
    },
    "id": "3OIo91XhXiCT",
    "outputId": "fe698628-118b-460d-f4dd-301470b215d2"
   },
   "outputs": [
    {
     "name": "stderr",
     "output_type": "stream",
     "text": [
      "Processing and Training: 100%|██████████| 6/6 [36:46<00:00, 367.75s/it]\n"
     ]
    },
    {
     "name": "stdout",
     "output_type": "stream",
     "text": [
      "\n",
      "Train size: 239,732 samples\n",
      "Test size: 60,144 samples\n",
      "\n",
      "\n",
      "R-Squared Score (Accuracy): 87.39%\n",
      "\n",
      "\n",
      "Overall runtime: 42 minutes.\n"
     ]
    }
   ],
   "source": [
    "from pyspark.ml.regression import DecisionTreeRegressor\n",
    "from pyspark.ml.evaluation import RegressionEvaluator\n",
    "import time\n",
    "import warnings\n",
    "from tqdm import tqdm\n",
    "from pyspark.ml.feature import StringIndexer, VectorAssembler, StandardScaler, OneHotEncoder\n",
    "from pyspark.ml import Pipeline\n",
    "from pyspark.sql.functions import mean as sql_mean\n",
    "import pyspark.sql.functions as F\n",
    "\n",
    "# Ignore warnings\n",
    "warnings.filterwarnings('ignore')\n",
    "\n",
    "# Starting to track overall runtime\n",
    "start_time = time.time()\n",
    "\n",
    "with tqdm(total=6, desc=\"Processing and Training\") as pbar:\n",
    "\n",
    "    df_sample = df.sample(fraction=0.1, seed=42)  # Randomly sample 300k records of the data\n",
    "    pbar.update(1)\n",
    "\n",
    "    # Handling categorical columns\n",
    "    cat_columns = [field for (field, dtype) in df_sample.dtypes if dtype == \"string\"]\n",
    "    stages = []\n",
    "    for col_name in cat_columns:\n",
    "        indexer = StringIndexer(inputCol=col_name, outputCol=f\"{col_name}_indexed\", handleInvalid=\"keep\")\n",
    "        encoder = OneHotEncoder(inputCol=f\"{col_name}_indexed\", outputCol=f\"{col_name}_encoded\")\n",
    "        stages += [indexer, encoder]\n",
    "    pbar.update(1)\n",
    "\n",
    "    # Converting 'franchise_dealer' to numeric\n",
    "    df_sample = df_sample.withColumn(\"franchise_dealer\", F.col(\"franchise_dealer\").cast(\"int\"))\n",
    "\n",
    "    # Assembling features\n",
    "    num_columns = [col for col in df_sample.columns if col != 'price' and col not in cat_columns]\n",
    "    encoded_columns = [f\"{col}_encoded\" for col in cat_columns]\n",
    "    feature_columns = num_columns + encoded_columns\n",
    "    assembler = VectorAssembler(inputCols=feature_columns, outputCol=\"features\")\n",
    "    stages += [assembler]\n",
    "    pbar.update(1)\n",
    "\n",
    "    # Adding scaling to the pipeline\n",
    "    scaler = StandardScaler(inputCol=\"features\", outputCol=\"scaled_features\", withMean=True, withStd=True)\n",
    "    stages += [scaler]\n",
    "\n",
    "    # Creating and applying the pipeline\n",
    "    pipeline = Pipeline(stages=stages)\n",
    "    pipeline_model = pipeline.fit(df_sample)\n",
    "    df_sample = pipeline_model.transform(df_sample)\n",
    "    pbar.update(1)\n",
    "\n",
    "    # Splitting the data\n",
    "    train_df, test_df = df_sample.randomSplit([0.8, 0.2], seed=42)\n",
    "    pbar.update(1)\n",
    "\n",
    "    # Training Decision Tree Regressor model\n",
    "    dt = DecisionTreeRegressor(\n",
    "    featuresCol=\"scaled_features\",\n",
    "    labelCol=\"price\",\n",
    "    maxDepth=15,\n",
    "    maxBins=128,\n",
    "    minInstancesPerNode=5,\n",
    "    minInfoGain=0.01,\n",
    "    seed=42\n",
    "    )\n",
    "\n",
    "    model = dt.fit(train_df)\n",
    "    pbar.update(1)\n",
    "\n",
    "# Making predictions\n",
    "predictions = model.transform(test_df)\n",
    "\n",
    "# Evaluating the model\n",
    "evaluator = RegressionEvaluator(labelCol=\"price\", predictionCol=\"prediction\", metricName=\"r2\")\n",
    "r2 = evaluator.evaluate(predictions)\n",
    "\n",
    "# Displaying results\n",
    "print(f\"\\nTrain size: {train_df.count():,} samples\")\n",
    "print(f\"Test size: {test_df.count():,} samples\")\n",
    "\n",
    "# Multiplying R-Squared by 100 for percentage calculation\n",
    "print(f\"\\n\\nR-Squared Score (Accuracy): {r2 * 100:.2f}%\")\n",
    "\n",
    "# Calculating total runtime\n",
    "end_time = time.time()\n",
    "total_runtime = (end_time - start_time) / 60\n",
    "print(f\"\\n\\nOverall runtime: {round(total_runtime)} minutes.\")\n"
   ]
  },
  {
   "cell_type": "code",
   "execution_count": null,
   "metadata": {
    "colab": {
     "base_uri": "https://localhost:8080/"
    },
    "executionInfo": {
     "elapsed": 471,
     "status": "ok",
     "timestamp": 1729613081809,
     "user": {
      "displayName": "Adithya R",
      "userId": "06981244434554202327"
     },
     "user_tz": -480
    },
    "id": "vuOG09dvXl0r",
    "outputId": "0753046e-24ea-4c17-c6b2-819f2c3f5d94"
   },
   "outputs": [
    {
     "name": "stdout",
     "output_type": "stream",
     "text": [
      "Additional Metrics:\n",
      "Mean Absolute Error: 3746\n",
      "Mean Squared Error: 44544708\n",
      "Root Mean Squared Error: 6674\n"
     ]
    }
   ],
   "source": [
    "# Calculating additional metrics\n",
    "mae_evaluator = RegressionEvaluator(labelCol=\"price\", predictionCol=\"prediction\", metricName=\"mae\")\n",
    "mae = mae_evaluator.evaluate(predictions)\n",
    "\n",
    "mse_evaluator = RegressionEvaluator(labelCol=\"price\", predictionCol=\"prediction\", metricName=\"mse\")\n",
    "mse = mse_evaluator.evaluate(predictions)\n",
    "\n",
    "rmse_evaluator = RegressionEvaluator(labelCol=\"price\", predictionCol=\"prediction\", metricName=\"rmse\")\n",
    "rmse = rmse_evaluator.evaluate(predictions)\n",
    "\n",
    "\n",
    "print(\"Additional Metrics:\")\n",
    "print(f\"Mean Absolute Error: {round(mae)}\")\n",
    "print(f\"Mean Squared Error: {round(mse)}\")\n",
    "print(f\"Root Mean Squared Error: {round(rmse)}\")"
   ]
  },
  {
   "cell_type": "markdown",
   "metadata": {
    "id": "3aDkcHAo-Y22"
   },
   "source": [
    "\n",
    "\n",
    "---\n",
    "\n"
   ]
  },
  {
   "cell_type": "markdown",
   "metadata": {
    "id": "OD8z3xIh-emu"
   },
   "source": [
    "## **Predicting on DF with a size of `600k records`**"
   ]
  },
  {
   "cell_type": "code",
   "execution_count": null,
   "metadata": {
    "colab": {
     "base_uri": "https://localhost:8080/"
    },
    "executionInfo": {
     "elapsed": 4703834,
     "status": "ok",
     "timestamp": 1729752150359,
     "user": {
      "displayName": "Adithya R",
      "userId": "06981244434554202327"
     },
     "user_tz": -480
    },
    "id": "Xv4vZ7ox-d0G",
    "outputId": "88283820-0abc-4182-aa3d-4bca735b133d"
   },
   "outputs": [
    {
     "name": "stderr",
     "output_type": "stream",
     "text": [
      "Processing and Training: 100%|██████████| 6/6 [1:07:41<00:00, 676.90s/it]\n"
     ]
    },
    {
     "name": "stdout",
     "output_type": "stream",
     "text": [
      "\n",
      "Train size: 480,411 samples\n",
      "Test size: 120,366 samples\n",
      "\n",
      "\n",
      "R-Squared Score (Accuracy): 88.38%\n",
      "\n",
      "\n",
      "Overall runtime: 78 minutes.\n"
     ]
    }
   ],
   "source": [
    "from pyspark.ml.regression import DecisionTreeRegressor\n",
    "from pyspark.ml.evaluation import RegressionEvaluator\n",
    "import time\n",
    "import warnings\n",
    "from tqdm import tqdm\n",
    "from pyspark.ml.feature import StringIndexer, VectorAssembler, StandardScaler, OneHotEncoder\n",
    "from pyspark.ml import Pipeline\n",
    "from pyspark.sql.functions import mean as sql_mean\n",
    "import pyspark.sql.functions as F\n",
    "\n",
    "# Ignore warnings\n",
    "warnings.filterwarnings('ignore')\n",
    "\n",
    "# Starting to track overall runtime\n",
    "start_time = time.time()\n",
    "\n",
    "\n",
    "with tqdm(total=6, desc=\"Processing and Training\") as pbar:\n",
    "\n",
    "    df_sample = df.sample(fraction=0.2, seed=42)  # Randomly sample 600k records of the data\n",
    "    pbar.update(1)\n",
    "\n",
    "    # Handling categorical columns\n",
    "    cat_columns = [field for (field, dtype) in df_sample.dtypes if dtype == \"string\"]\n",
    "    stages = []\n",
    "    for col_name in cat_columns:\n",
    "        indexer = StringIndexer(inputCol=col_name, outputCol=f\"{col_name}_indexed\", handleInvalid=\"keep\")\n",
    "        encoder = OneHotEncoder(inputCol=f\"{col_name}_indexed\", outputCol=f\"{col_name}_encoded\")\n",
    "        stages += [indexer, encoder]\n",
    "    pbar.update(1)\n",
    "\n",
    "    # Converting 'franchise_dealer' to numeric\n",
    "    df_sample = df_sample.withColumn(\"franchise_dealer\", F.col(\"franchise_dealer\").cast(\"int\"))\n",
    "\n",
    "    # Assembling features\n",
    "    num_columns = [col for col in df_sample.columns if col != 'price' and col not in cat_columns]\n",
    "    encoded_columns = [f\"{col}_encoded\" for col in cat_columns]\n",
    "    feature_columns = num_columns + encoded_columns\n",
    "    assembler = VectorAssembler(inputCols=feature_columns, outputCol=\"features\")\n",
    "    stages += [assembler]\n",
    "    pbar.update(1)\n",
    "\n",
    "    # Adding scaling to the pipeline\n",
    "    scaler = StandardScaler(inputCol=\"features\", outputCol=\"scaled_features\", withMean=True, withStd=True)\n",
    "    stages += [scaler]\n",
    "\n",
    "    # Creating and applying the pipeline\n",
    "    pipeline = Pipeline(stages=stages)\n",
    "    pipeline_model = pipeline.fit(df_sample)\n",
    "    df_sample = pipeline_model.transform(df_sample)\n",
    "    pbar.update(1)\n",
    "\n",
    "    # Splitting the data\n",
    "    train_df, test_df = df_sample.randomSplit([0.8, 0.2], seed=42)\n",
    "    pbar.update(1)\n",
    "\n",
    "    # Training Decision Tree Regressor model\n",
    "    dt = DecisionTreeRegressor(\n",
    "    featuresCol=\"scaled_features\",\n",
    "    labelCol=\"price\",\n",
    "    maxDepth=15,\n",
    "    maxBins=128,\n",
    "    minInstancesPerNode=5,\n",
    "    minInfoGain=0.01,\n",
    "    seed=42\n",
    "    )\n",
    "\n",
    "    model = dt.fit(train_df)\n",
    "    pbar.update(1)\n",
    "\n",
    "# Making predictions\n",
    "predictions = model.transform(test_df)\n",
    "\n",
    "# Evaluating the model\n",
    "evaluator = RegressionEvaluator(labelCol=\"price\", predictionCol=\"prediction\", metricName=\"r2\")\n",
    "r2 = evaluator.evaluate(predictions)\n",
    "\n",
    "# Displaying results\n",
    "print(f\"\\nTrain size: {train_df.count():,} samples\")\n",
    "print(f\"Test size: {test_df.count():,} samples\")\n",
    "\n",
    "# Multiplying R-Squared by 100 for percentage calculation\n",
    "print(f\"\\n\\nR-Squared Score (Accuracy): {r2 * 100:.2f}%\")\n",
    "\n",
    "# Calculating total runtime\n",
    "end_time = time.time()\n",
    "total_runtime = (end_time - start_time) / 60\n",
    "print(f\"\\n\\nOverall runtime: {round(total_runtime)} minutes.\")\n"
   ]
  },
  {
   "cell_type": "code",
   "execution_count": null,
   "metadata": {
    "colab": {
     "base_uri": "https://localhost:8080/"
    },
    "executionInfo": {
     "elapsed": 677597,
     "status": "ok",
     "timestamp": 1729752827953,
     "user": {
      "displayName": "Adithya R",
      "userId": "06981244434554202327"
     },
     "user_tz": -480
    },
    "id": "rsgQ_IFH-u5x",
    "outputId": "aac7a3f4-69a8-47b8-b474-1304554e5e61"
   },
   "outputs": [
    {
     "name": "stdout",
     "output_type": "stream",
     "text": [
      "Additional Metrics:\n",
      "Mean Absolute Error: 3161\n",
      "Mean Squared Error: 38316567\n",
      "Root Mean Squared Error: 6190\n"
     ]
    }
   ],
   "source": [
    "# Calculating additional metrics\n",
    "mae_evaluator = RegressionEvaluator(labelCol=\"price\", predictionCol=\"prediction\", metricName=\"mae\")\n",
    "mae = mae_evaluator.evaluate(predictions)\n",
    "\n",
    "mse_evaluator = RegressionEvaluator(labelCol=\"price\", predictionCol=\"prediction\", metricName=\"mse\")\n",
    "mse = mse_evaluator.evaluate(predictions)\n",
    "\n",
    "rmse_evaluator = RegressionEvaluator(labelCol=\"price\", predictionCol=\"prediction\", metricName=\"rmse\")\n",
    "rmse = rmse_evaluator.evaluate(predictions)\n",
    "\n",
    "print(\"Additional Metrics:\")\n",
    "print(f\"Mean Absolute Error: {round(mae)}\")\n",
    "print(f\"Mean Squared Error: {round(mse)}\")\n",
    "print(f\"Root Mean Squared Error: {round(rmse)}\")"
   ]
  },
  {
   "cell_type": "markdown",
   "metadata": {
    "id": "GERMg9YFZZin"
   },
   "source": [
    "\n",
    "\n",
    "---\n",
    "\n"
   ]
  },
  {
   "cell_type": "markdown",
   "metadata": {
    "id": "ZJy9z22KZcXL"
   },
   "source": [
    "## **Predicting on DF with a size of `1 million records`**"
   ]
  },
  {
   "cell_type": "code",
   "execution_count": null,
   "metadata": {
    "colab": {
     "base_uri": "https://localhost:8080/"
    },
    "executionInfo": {
     "elapsed": 565,
     "status": "ok",
     "timestamp": 1729838537158,
     "user": {
      "displayName": "Adithya R",
      "userId": "06981244434554202327"
     },
     "user_tz": -480
    },
    "id": "g_i0Ft5uZf0d",
    "outputId": "cb232f96-beaf-46b7-deb6-8e4f6c72f146"
   },
   "outputs": [
    {
     "name": "stdout",
     "output_type": "stream",
     "text": [
      "Processing and Training: 100%|██████████| 6/6 [3:59:48<00:00, 2398.07s/it]\n",
      "\n",
      "Train size: 815,821 samples\n",
      "Test size: 204,453 samples\n",
      "\n",
      "\n",
      "R-Squared Score (Accuracy): 86.45%\n",
      "\n",
      "\n",
      "Overall runtime: 278 minutes.\n"
     ]
    }
   ],
   "source": [
    "from pyspark.ml.regression import DecisionTreeRegressor\n",
    "from pyspark.ml.evaluation import RegressionEvaluator\n",
    "import time\n",
    "import warnings\n",
    "from tqdm import tqdm\n",
    "from pyspark.ml.feature import StringIndexer, VectorAssembler, StandardScaler, OneHotEncoder\n",
    "from pyspark.ml import Pipeline\n",
    "from pyspark.sql.functions import mean as sql_mean\n",
    "import pyspark.sql.functions as F\n",
    "\n",
    "# Ignore warnings\n",
    "warnings.filterwarnings('ignore')\n",
    "\n",
    "# Starting to track overall runtime\n",
    "start_time = time.time()\n",
    "\n",
    "\n",
    "with tqdm(total=6, desc=\"Processing and Training\") as pbar:\n",
    "\n",
    "    df_sample = df.sample(fraction=0.34, seed=42)  # Randomly sample 1 million records of the data\n",
    "    pbar.update(1)\n",
    "\n",
    "    # Handling categorical columns\n",
    "    cat_columns = [field for (field, dtype) in df_sample.dtypes if dtype == \"string\"]\n",
    "    stages = []\n",
    "    for col_name in cat_columns:\n",
    "        indexer = StringIndexer(inputCol=col_name, outputCol=f\"{col_name}_indexed\", handleInvalid=\"keep\")\n",
    "        encoder = OneHotEncoder(inputCol=f\"{col_name}_indexed\", outputCol=f\"{col_name}_encoded\")\n",
    "        stages += [indexer, encoder]\n",
    "    pbar.update(1)\n",
    "\n",
    "    # Converting 'franchise_dealer' to numeric\n",
    "    df_sample = df_sample.withColumn(\"franchise_dealer\", F.col(\"franchise_dealer\").cast(\"int\"))\n",
    "\n",
    "    # Assembling features\n",
    "    num_columns = [col for col in df_sample.columns if col != 'price' and col not in cat_columns]\n",
    "    encoded_columns = [f\"{col}_encoded\" for col in cat_columns]\n",
    "    feature_columns = num_columns + encoded_columns\n",
    "    assembler = VectorAssembler(inputCols=feature_columns, outputCol=\"features\")\n",
    "    stages += [assembler]\n",
    "    pbar.update(1)\n",
    "\n",
    "    # Adding scaling to the pipeline\n",
    "    scaler = StandardScaler(inputCol=\"features\", outputCol=\"scaled_features\", withMean=True, withStd=True)\n",
    "    stages += [scaler]\n",
    "\n",
    "    # Creating and applying the pipeline\n",
    "    pipeline = Pipeline(stages=stages)\n",
    "    pipeline_model = pipeline.fit(df_sample)\n",
    "    df_sample = pipeline_model.transform(df_sample)\n",
    "    pbar.update(1)\n",
    "\n",
    "    # Splitting the data\n",
    "    train_df, test_df = df_sample.randomSplit([0.8, 0.2], seed=42)\n",
    "    pbar.update(1)\n",
    "\n",
    "    # Training Decision Tree Regressor model\n",
    "    dt = DecisionTreeRegressor(\n",
    "    featuresCol=\"scaled_features\",\n",
    "    labelCol=\"price\",\n",
    "    maxDepth=15,\n",
    "    maxBins=128,\n",
    "    minInstancesPerNode=5,\n",
    "    minInfoGain=0.01,\n",
    "    seed=42\n",
    "    )\n",
    "\n",
    "    model = dt.fit(train_df)\n",
    "    pbar.update(1)\n",
    "\n",
    "# Making predictions\n",
    "predictions = model.transform(test_df)\n",
    "\n",
    "# Evaluating the model\n",
    "evaluator = RegressionEvaluator(labelCol=\"price\", predictionCol=\"prediction\", metricName=\"r2\")\n",
    "r2 = evaluator.evaluate(predictions)\n",
    "\n",
    "# Displaying results\n",
    "print(f\"\\nTrain size: {train_df.count():,} samples\")\n",
    "print(f\"Test size: {test_df.count():,} samples\")\n",
    "\n",
    "# Multiplying R-Squared by 100 for percentage calculation\n",
    "print(f\"\\n\\nR-Squared Score (Accuracy): {r2 * 100:.2f}%\")\n",
    "\n",
    "# Calculating total runtime\n",
    "end_time = time.time()\n",
    "total_runtime = (end_time - start_time) / 60\n",
    "print(f\"\\n\\nOverall runtime: {round(total_runtime)} minutes.\")\n"
   ]
  },
  {
   "cell_type": "code",
   "execution_count": null,
   "metadata": {
    "colab": {
     "base_uri": "https://localhost:8080/"
    },
    "executionInfo": {
     "elapsed": 833,
     "status": "ok",
     "timestamp": 1729838619907,
     "user": {
      "displayName": "Adithya R",
      "userId": "06981244434554202327"
     },
     "user_tz": -480
    },
    "id": "-iDNgvMSZl5P",
    "outputId": "c8d41c7b-e471-463b-ec90-2e591a79941a"
   },
   "outputs": [
    {
     "name": "stdout",
     "output_type": "stream",
     "text": [
      "\n",
      "Additional Metrics:\n",
      "Mean Absolute Error: 3144\n",
      "Mean Squared Error: 93964421\n",
      "Root Mean Squared Error: 6794\n"
     ]
    }
   ],
   "source": [
    "# Calculating additional metrics\n",
    "mae_evaluator = RegressionEvaluator(labelCol=\"price\", predictionCol=\"prediction\", metricName=\"mae\")\n",
    "mae = mae_evaluator.evaluate(predictions)\n",
    "\n",
    "mse_evaluator = RegressionEvaluator(labelCol=\"price\", predictionCol=\"prediction\", metricName=\"mse\")\n",
    "mse = mse_evaluator.evaluate(predictions)\n",
    "\n",
    "rmse_evaluator = RegressionEvaluator(labelCol=\"price\", predictionCol=\"prediction\", metricName=\"rmse\")\n",
    "rmse = rmse_evaluator.evaluate(predictions)\n",
    "\n",
    "\n",
    "print(\"Additional Metrics:\")\n",
    "print(f\"Mean Absolute Error: {round(mae)}\")\n",
    "print(f\"Mean Squared Error: {round(mse)}\")\n",
    "print(f\"Root Mean Squared Error: {round(rmse)}\")"
   ]
  },
  {
   "cell_type": "markdown",
   "metadata": {
    "id": "JkkhDOZaaxKw"
   },
   "source": [
    "### **Note**\n",
    "\n",
    "Even though the size of DF has increased (from 600k to ~1 million),  \\\\\n",
    "\n",
    "1.   Accuracy has decreased by ~2% (from 88.38 % -> 86.45 %)\n",
    "2.   RMSE has also increased by a small fraction (6190  -> 6794)"
   ]
  }
 ],
 "metadata": {
  "colab": {
   "machine_shape": "hm",
   "provenance": [
    {
     "file_id": "1S4SL_lrIWrry3sw2DJXvjR5pG7vmDF5P",
     "timestamp": 1729602232219
    },
    {
     "file_id": "1s5gq3o5c8JdojbR7xdHL2KdaS80bd-HY",
     "timestamp": 1727142884292
    }
   ]
  },
  "kernelspec": {
   "display_name": "Python 3",
   "name": "python3"
  },
  "language_info": {
   "name": "python"
  }
 },
 "nbformat": 4,
 "nbformat_minor": 0
}

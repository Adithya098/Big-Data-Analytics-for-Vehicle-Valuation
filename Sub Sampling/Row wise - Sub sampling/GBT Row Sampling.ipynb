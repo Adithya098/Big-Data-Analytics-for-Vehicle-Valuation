{
 "cells": [
  {
   "cell_type": "code",
   "execution_count": 1,
   "metadata": {
    "colab": {
     "base_uri": "https://localhost:8080/"
    },
    "executionInfo": {
     "elapsed": 1054,
     "status": "ok",
     "timestamp": 1730505481503,
     "user": {
      "displayName": "Adithya R",
      "userId": "06981244434554202327"
     },
     "user_tz": -480
    },
    "id": "39xh-0qxJhYJ",
    "outputId": "82903fa4-c10b-4964-fc3c-3caa4aeeafa2"
   },
   "outputs": [
    {
     "name": "stdout",
     "output_type": "stream",
     "text": [
      "\n",
      "tqdm is already installed.\n",
      "\n",
      "pyspark is already installed.\n",
      "\n",
      "gdown is already installed.\n",
      "\n",
      "numpy is already installed.\n"
     ]
    }
   ],
   "source": [
    "import importlib\n",
    "import subprocess\n",
    "import sys\n",
    "import gc\n",
    "\n",
    "def check_and_install_package(package_name, version=None):\n",
    "    try:\n",
    "        importlib.import_module(package_name)\n",
    "        print(f\"\\n{package_name} is already installed.\")\n",
    "    except ImportError:\n",
    "        print(f\"\\n{package_name} is NOT installed. Installing now...\")\n",
    "        if version:\n",
    "            subprocess.check_call([sys.executable, \"-m\", \"pip\", \"install\", f\"{package_name}=={version}\"])\n",
    "        else:\n",
    "            subprocess.check_call([sys.executable, \"-m\", \"pip\", \"install\", package_name])\n",
    "        print(f\"{package_name} installation completed.\")\n",
    "\n",
    "# List of packages to check along with specific versions if necessary\n",
    "packages = [\n",
    "    {\"name\": \"tqdm\", \"version\": None},\n",
    "    {\"name\": \"pyspark\", \"version\": \"3.5.2\"},\n",
    "    {\"name\": \"gdown\", \"version\": None},\n",
    "    {\"name\": \"numpy\", \"version\": \"1.23.5\"}\n",
    "]\n",
    "\n",
    "# Checking and installing the packages\n",
    "for package in packages:\n",
    "    check_and_install_package(package[\"name\"], package[\"version\"])"
   ]
  },
  {
   "cell_type": "code",
   "execution_count": 2,
   "metadata": {
    "colab": {
     "base_uri": "https://localhost:8080/"
    },
    "executionInfo": {
     "elapsed": 15175,
     "status": "ok",
     "timestamp": 1730505496676,
     "user": {
      "displayName": "Adithya R",
      "userId": "06981244434554202327"
     },
     "user_tz": -480
    },
    "id": "fzz0OUtOKghE",
    "outputId": "afd7ae1a-b442-4db9-bd1e-46ab843c278a"
   },
   "outputs": [
    {
     "name": "stdout",
     "output_type": "stream",
     "text": [
      "Mounted at /content/drive\n"
     ]
    }
   ],
   "source": [
    "from google.colab import drive\n",
    "drive.mount('/content/drive')"
   ]
  },
  {
   "cell_type": "code",
   "execution_count": 3,
   "metadata": {
    "colab": {
     "base_uri": "https://localhost:8080/"
    },
    "executionInfo": {
     "elapsed": 4809,
     "status": "ok",
     "timestamp": 1730505501483,
     "user": {
      "displayName": "Adithya R",
      "userId": "06981244434554202327"
     },
     "user_tz": -480
    },
    "id": "e1eI-QCUKkBa",
    "outputId": "66461d27-5a3a-4ce7-d6ac-c459e45c646b"
   },
   "outputs": [
    {
     "name": "stdout",
     "output_type": "stream",
     "text": [
      "Spark session started with version: 3.5.3\n"
     ]
    }
   ],
   "source": [
    "from pyspark.sql import SparkSession\n",
    "\n",
    "spark = SparkSession.builder \\\n",
    "    .appName(\"GBTModel\") \\\n",
    "    .config(\"spark.driver.memory\", \"16g\") \\\n",
    "    .config(\"spark.executor.memory\", \"16g\") \\\n",
    "    .config(\"spark.driver.maxResultSize\", \"8g\") \\\n",
    "    .config(\"spark.executor.memoryOverhead\", \"12g\") \\\n",
    "    .config(\"spark.executor.cores\", \"5\") \\\n",
    "    .config(\"spark.serializer\", \"org.apache.spark.serializer.KryoSerializer\") \\\n",
    "    .config(\"spark.kryoserializer.buffer.max\", \"2047m\") \\\n",
    "    .config(\"spark.dynamicAllocation.enabled\", \"true\") \\\n",
    "    .config(\"spark.hadoop.fs.file.impl\", \"org.apache.hadoop.fs.LocalFileSystem\") \\\n",
    "    .config(\"spark.executor.extraJavaOptions\", \"-XX:+UseG1GC -XX:InitiatingHeapOccupancyPercent=35 -XX:ConcGCThreads=4 -XX:ParallelGCThreads=4\") \\\n",
    "    .getOrCreate()\n",
    "\n",
    "# Verifying Spark session creation\n",
    "print(f\"Spark session started with version: {spark.version}\")\n"
   ]
  },
  {
   "cell_type": "code",
   "execution_count": 4,
   "metadata": {
    "colab": {
     "base_uri": "https://localhost:8080/"
    },
    "executionInfo": {
     "elapsed": 11252,
     "status": "ok",
     "timestamp": 1730505517675,
     "user": {
      "displayName": "Adithya R",
      "userId": "06981244434554202327"
     },
     "user_tz": -480
    },
    "id": "BCJnZjZvKnfG",
    "outputId": "27456024-81cd-4e85-9222-83a6fe5ddca5"
   },
   "outputs": [
    {
     "name": "stdout",
     "output_type": "stream",
     "text": [
      "The Feature Engineered DataFrame has been loaded successfully.\n"
     ]
    }
   ],
   "source": [
    "!cp '/content/drive/MyDrive/Big Data Analytics - Project/Datasets/Feature_Engineered_DF.parquet' /content/\n",
    "\n",
    "output_path = '/content/Feature_Engineered_DF.parquet'\n",
    "df = spark.read.parquet(output_path)\n",
    "print(\"The Feature Engineered DataFrame has been loaded successfully.\")\n"
   ]
  },
  {
   "cell_type": "code",
   "execution_count": 5,
   "metadata": {
    "colab": {
     "base_uri": "https://localhost:8080/"
    },
    "executionInfo": {
     "elapsed": 1600,
     "status": "ok",
     "timestamp": 1730505519274,
     "user": {
      "displayName": "Adithya R",
      "userId": "06981244434554202327"
     },
     "user_tz": -480
    },
    "id": "FGfyw4keKpCI",
    "outputId": "125fb0c0-d8d7-41fe-a16d-13ec66f0cff1"
   },
   "outputs": [
    {
     "name": "stdout",
     "output_type": "stream",
     "text": [
      "The shape of the loaded DataFrame is: (3000040, 47)\n"
     ]
    }
   ],
   "source": [
    "# Printing the shape of the DataFrame\n",
    "total_rows = df.count()\n",
    "total_columns = len(df.columns)\n",
    "\n",
    "print(f\"The shape of the loaded DataFrame is: ({total_rows}, {total_columns})\")"
   ]
  },
  {
   "cell_type": "code",
   "execution_count": 6,
   "metadata": {
    "colab": {
     "base_uri": "https://localhost:8080/"
    },
    "executionInfo": {
     "elapsed": 766,
     "status": "ok",
     "timestamp": 1730505522825,
     "user": {
      "displayName": "Adithya R",
      "userId": "06981244434554202327"
     },
     "user_tz": -480
    },
    "id": "daeV2PVoKrFu",
    "outputId": "c881ad68-199d-49a4-a3fb-21f9f06535ed"
   },
   "outputs": [
    {
     "name": "stdout",
     "output_type": "stream",
     "text": [
      "Average price of a car: 29933\n"
     ]
    }
   ],
   "source": [
    "# Calculating the average price\n",
    "avg_price = df.agg({\"price\": \"avg\"}).collect()[0][0]\n",
    "print(f\"Average price of a car: {round(avg_price)}\")"
   ]
  },
  {
   "cell_type": "code",
   "execution_count": 7,
   "metadata": {
    "colab": {
     "base_uri": "https://localhost:8080/",
     "height": 330
    },
    "executionInfo": {
     "elapsed": 9222,
     "status": "ok",
     "timestamp": 1730505541556,
     "user": {
      "displayName": "Adithya R",
      "userId": "06981244434554202327"
     },
     "user_tz": -480
    },
    "id": "r83kuqOpKtP6",
    "outputId": "afb6edc0-69fa-4b20-d6a2-420435eec079"
   },
   "outputs": [
    {
     "data": {
      "application/vnd.google.colaboratory.intrinsic+json": {
       "type": "dataframe",
       "variable_name": "pandas_df"
      },
      "text/html": [
       "\n",
       "  <div id=\"df-c323947b-7022-4312-9b0f-559b1768971b\" class=\"colab-df-container\">\n",
       "    <div>\n",
       "<style scoped>\n",
       "    .dataframe tbody tr th:only-of-type {\n",
       "        vertical-align: middle;\n",
       "    }\n",
       "\n",
       "    .dataframe tbody tr th {\n",
       "        vertical-align: top;\n",
       "    }\n",
       "\n",
       "    .dataframe thead th {\n",
       "        text-align: right;\n",
       "    }\n",
       "</style>\n",
       "<table border=\"1\" class=\"dataframe\">\n",
       "  <thead>\n",
       "    <tr style=\"text-align: right;\">\n",
       "      <th></th>\n",
       "      <th>fuel_type</th>\n",
       "      <th>body_type</th>\n",
       "      <th>city</th>\n",
       "      <th>city_fuel_economy</th>\n",
       "      <th>days_in_market</th>\n",
       "      <th>dealer_zip</th>\n",
       "      <th>engine_displacement</th>\n",
       "      <th>engine_type</th>\n",
       "      <th>exterior_color</th>\n",
       "      <th>franchise_dealer</th>\n",
       "      <th>fuel_tank_volume</th>\n",
       "      <th>height</th>\n",
       "      <th>highway_fuel_economy</th>\n",
       "      <th>horsepower</th>\n",
       "      <th>interior_color</th>\n",
       "      <th>is_new</th>\n",
       "      <th>latitude</th>\n",
       "      <th>length</th>\n",
       "      <th>listing_color</th>\n",
       "      <th>longitude</th>\n",
       "      <th>make_name</th>\n",
       "      <th>maximum_seating</th>\n",
       "      <th>model_name</th>\n",
       "      <th>price</th>\n",
       "      <th>savings_amount</th>\n",
       "      <th>seller_rating</th>\n",
       "      <th>sp_name</th>\n",
       "      <th>torque</th>\n",
       "      <th>transmission</th>\n",
       "      <th>transmission_display</th>\n",
       "      <th>wheel_system_display</th>\n",
       "      <th>wheelbase</th>\n",
       "      <th>width</th>\n",
       "      <th>manufactured_year</th>\n",
       "      <th>combined_fuel_economy</th>\n",
       "      <th>legroom</th>\n",
       "      <th>log_mileage</th>\n",
       "      <th>major_options_count</th>\n",
       "      <th>hp_x_engine_disp</th>\n",
       "      <th>hp_x_torque</th>\n",
       "      <th>listed_day</th>\n",
       "      <th>listed_month</th>\n",
       "      <th>listed_year</th>\n",
       "      <th>age</th>\n",
       "      <th>resale_value_score</th>\n",
       "      <th>maintenance_cost</th>\n",
       "      <th>luxury_score</th>\n",
       "    </tr>\n",
       "  </thead>\n",
       "  <tbody>\n",
       "    <tr>\n",
       "      <th>0</th>\n",
       "      <td>Gasoline</td>\n",
       "      <td>SUV / Crossover</td>\n",
       "      <td>Muncie</td>\n",
       "      <td>21.000000</td>\n",
       "      <td>25</td>\n",
       "      <td>47303</td>\n",
       "      <td>2400.0</td>\n",
       "      <td>I4</td>\n",
       "      <td>Other</td>\n",
       "      <td>True</td>\n",
       "      <td>18.799999</td>\n",
       "      <td>66.10</td>\n",
       "      <td>27.000000</td>\n",
       "      <td>185.0</td>\n",
       "      <td>Black</td>\n",
       "      <td>True</td>\n",
       "      <td>40.219002</td>\n",
       "      <td>187.8</td>\n",
       "      <td>UNKNOWN</td>\n",
       "      <td>-85.363197</td>\n",
       "      <td>Hyundai</td>\n",
       "      <td>5.0</td>\n",
       "      <td>Santa Fe</td>\n",
       "      <td>32115.0</td>\n",
       "      <td>0</td>\n",
       "      <td>4.000000</td>\n",
       "      <td>Greg Hubler Ford</td>\n",
       "      <td>178.00</td>\n",
       "      <td>A</td>\n",
       "      <td>8-Speed Automatic</td>\n",
       "      <td>All-Wheel Drive</td>\n",
       "      <td>108.9</td>\n",
       "      <td>74.4</td>\n",
       "      <td>2020</td>\n",
       "      <td>24.00</td>\n",
       "      <td>85.00</td>\n",
       "      <td>1.79</td>\n",
       "      <td>7</td>\n",
       "      <td>0.29</td>\n",
       "      <td>0.57120</td>\n",
       "      <td>15</td>\n",
       "      <td>8</td>\n",
       "      <td>2020</td>\n",
       "      <td>0</td>\n",
       "      <td>32</td>\n",
       "      <td>37</td>\n",
       "      <td>35</td>\n",
       "    </tr>\n",
       "    <tr>\n",
       "      <th>1</th>\n",
       "      <td>Gasoline</td>\n",
       "      <td>Pickup Truck</td>\n",
       "      <td>Mission</td>\n",
       "      <td>17.000000</td>\n",
       "      <td>31</td>\n",
       "      <td>78572</td>\n",
       "      <td>5000.0</td>\n",
       "      <td>V8</td>\n",
       "      <td>Other</td>\n",
       "      <td>True</td>\n",
       "      <td>23.000000</td>\n",
       "      <td>75.30</td>\n",
       "      <td>23.000000</td>\n",
       "      <td>395.0</td>\n",
       "      <td>Black</td>\n",
       "      <td>False</td>\n",
       "      <td>26.200399</td>\n",
       "      <td>231.9</td>\n",
       "      <td>GRAY</td>\n",
       "      <td>-98.320099</td>\n",
       "      <td>Ford</td>\n",
       "      <td>6.0</td>\n",
       "      <td>F-150</td>\n",
       "      <td>34995.0</td>\n",
       "      <td>2329</td>\n",
       "      <td>4.250000</td>\n",
       "      <td>Spikes Ford</td>\n",
       "      <td>400.00</td>\n",
       "      <td>A</td>\n",
       "      <td>Automatic</td>\n",
       "      <td>4X2</td>\n",
       "      <td>145.0</td>\n",
       "      <td>96.8</td>\n",
       "      <td>2018</td>\n",
       "      <td>20.00</td>\n",
       "      <td>87.50</td>\n",
       "      <td>10.34</td>\n",
       "      <td>4</td>\n",
       "      <td>2.63</td>\n",
       "      <td>2.07870</td>\n",
       "      <td>12</td>\n",
       "      <td>8</td>\n",
       "      <td>2020</td>\n",
       "      <td>2</td>\n",
       "      <td>28</td>\n",
       "      <td>46</td>\n",
       "      <td>32</td>\n",
       "    </tr>\n",
       "    <tr>\n",
       "      <th>2</th>\n",
       "      <td>Gasoline</td>\n",
       "      <td>Sedan</td>\n",
       "      <td>Milpitas</td>\n",
       "      <td>22.690001</td>\n",
       "      <td>81</td>\n",
       "      <td>95035</td>\n",
       "      <td>2500.0</td>\n",
       "      <td>Gasoline engine</td>\n",
       "      <td>White</td>\n",
       "      <td>False</td>\n",
       "      <td>18.090000</td>\n",
       "      <td>65.87</td>\n",
       "      <td>29.469999</td>\n",
       "      <td>241.0</td>\n",
       "      <td>Other</td>\n",
       "      <td>False</td>\n",
       "      <td>37.419800</td>\n",
       "      <td>189.8</td>\n",
       "      <td>WHITE</td>\n",
       "      <td>-121.883003</td>\n",
       "      <td>Chevrolet</td>\n",
       "      <td>5.0</td>\n",
       "      <td>Nova</td>\n",
       "      <td>31300.0</td>\n",
       "      <td>0</td>\n",
       "      <td>3.875000</td>\n",
       "      <td>NBS Auto Showroom</td>\n",
       "      <td>265.22</td>\n",
       "      <td>A</td>\n",
       "      <td>Automatic</td>\n",
       "      <td>Unknown</td>\n",
       "      <td>111.0</td>\n",
       "      <td>77.2</td>\n",
       "      <td>1963</td>\n",
       "      <td>26.08</td>\n",
       "      <td>80.16</td>\n",
       "      <td>10.27</td>\n",
       "      <td>0</td>\n",
       "      <td>0.03</td>\n",
       "      <td>0.00000</td>\n",
       "      <td>23</td>\n",
       "      <td>6</td>\n",
       "      <td>2020</td>\n",
       "      <td>57</td>\n",
       "      <td>17</td>\n",
       "      <td>30</td>\n",
       "      <td>24</td>\n",
       "    </tr>\n",
       "    <tr>\n",
       "      <th>3</th>\n",
       "      <td>Gasoline</td>\n",
       "      <td>SUV / Crossover</td>\n",
       "      <td>Broomfield</td>\n",
       "      <td>21.000000</td>\n",
       "      <td>257</td>\n",
       "      <td>80020</td>\n",
       "      <td>2300.0</td>\n",
       "      <td>I4</td>\n",
       "      <td>Gray</td>\n",
       "      <td>True</td>\n",
       "      <td>16.200001</td>\n",
       "      <td>64.10</td>\n",
       "      <td>29.000000</td>\n",
       "      <td>280.0</td>\n",
       "      <td>Gray</td>\n",
       "      <td>True</td>\n",
       "      <td>39.919201</td>\n",
       "      <td>180.6</td>\n",
       "      <td>GRAY</td>\n",
       "      <td>-105.093002</td>\n",
       "      <td>Lincoln</td>\n",
       "      <td>5.0</td>\n",
       "      <td>Corsair</td>\n",
       "      <td>44400.0</td>\n",
       "      <td>0</td>\n",
       "      <td>4.600000</td>\n",
       "      <td>Sill Terhar Motors Incorporated</td>\n",
       "      <td>275.00</td>\n",
       "      <td>A</td>\n",
       "      <td>Automatic</td>\n",
       "      <td>All-Wheel Drive</td>\n",
       "      <td>106.7</td>\n",
       "      <td>83.0</td>\n",
       "      <td>2019</td>\n",
       "      <td>25.00</td>\n",
       "      <td>81.80</td>\n",
       "      <td>3.40</td>\n",
       "      <td>7</td>\n",
       "      <td>-0.18</td>\n",
       "      <td>0.03316</td>\n",
       "      <td>30</td>\n",
       "      <td>12</td>\n",
       "      <td>2019</td>\n",
       "      <td>0</td>\n",
       "      <td>26</td>\n",
       "      <td>41</td>\n",
       "      <td>33</td>\n",
       "    </tr>\n",
       "    <tr>\n",
       "      <th>4</th>\n",
       "      <td>Gasoline</td>\n",
       "      <td>Sedan</td>\n",
       "      <td>Saint Charles</td>\n",
       "      <td>28.000000</td>\n",
       "      <td>4</td>\n",
       "      <td>60174</td>\n",
       "      <td>2500.0</td>\n",
       "      <td>I4</td>\n",
       "      <td>Silver</td>\n",
       "      <td>True</td>\n",
       "      <td>16.000000</td>\n",
       "      <td>56.90</td>\n",
       "      <td>39.000000</td>\n",
       "      <td>203.0</td>\n",
       "      <td>Gray</td>\n",
       "      <td>True</td>\n",
       "      <td>41.921200</td>\n",
       "      <td>192.1</td>\n",
       "      <td>SILVER</td>\n",
       "      <td>-88.279999</td>\n",
       "      <td>Toyota</td>\n",
       "      <td>5.0</td>\n",
       "      <td>Camry</td>\n",
       "      <td>23715.0</td>\n",
       "      <td>0</td>\n",
       "      <td>4.892857</td>\n",
       "      <td>St Charles Toyota</td>\n",
       "      <td>265.22</td>\n",
       "      <td>A</td>\n",
       "      <td>Automatic</td>\n",
       "      <td>Front-Wheel Drive</td>\n",
       "      <td>111.2</td>\n",
       "      <td>72.4</td>\n",
       "      <td>2020</td>\n",
       "      <td>33.50</td>\n",
       "      <td>80.10</td>\n",
       "      <td>1.10</td>\n",
       "      <td>6</td>\n",
       "      <td>0.17</td>\n",
       "      <td>-0.00001</td>\n",
       "      <td>6</td>\n",
       "      <td>9</td>\n",
       "      <td>2020</td>\n",
       "      <td>0</td>\n",
       "      <td>35</td>\n",
       "      <td>37</td>\n",
       "      <td>32</td>\n",
       "    </tr>\n",
       "  </tbody>\n",
       "</table>\n",
       "</div>\n",
       "    <div class=\"colab-df-buttons\">\n",
       "\n",
       "  <div class=\"colab-df-container\">\n",
       "    <button class=\"colab-df-convert\" onclick=\"convertToInteractive('df-c323947b-7022-4312-9b0f-559b1768971b')\"\n",
       "            title=\"Convert this dataframe to an interactive table.\"\n",
       "            style=\"display:none;\">\n",
       "\n",
       "  <svg xmlns=\"http://www.w3.org/2000/svg\" height=\"24px\" viewBox=\"0 -960 960 960\">\n",
       "    <path d=\"M120-120v-720h720v720H120Zm60-500h600v-160H180v160Zm220 220h160v-160H400v160Zm0 220h160v-160H400v160ZM180-400h160v-160H180v160Zm440 0h160v-160H620v160ZM180-180h160v-160H180v160Zm440 0h160v-160H620v160Z\"/>\n",
       "  </svg>\n",
       "    </button>\n",
       "\n",
       "  <style>\n",
       "    .colab-df-container {\n",
       "      display:flex;\n",
       "      gap: 12px;\n",
       "    }\n",
       "\n",
       "    .colab-df-convert {\n",
       "      background-color: #E8F0FE;\n",
       "      border: none;\n",
       "      border-radius: 50%;\n",
       "      cursor: pointer;\n",
       "      display: none;\n",
       "      fill: #1967D2;\n",
       "      height: 32px;\n",
       "      padding: 0 0 0 0;\n",
       "      width: 32px;\n",
       "    }\n",
       "\n",
       "    .colab-df-convert:hover {\n",
       "      background-color: #E2EBFA;\n",
       "      box-shadow: 0px 1px 2px rgba(60, 64, 67, 0.3), 0px 1px 3px 1px rgba(60, 64, 67, 0.15);\n",
       "      fill: #174EA6;\n",
       "    }\n",
       "\n",
       "    .colab-df-buttons div {\n",
       "      margin-bottom: 4px;\n",
       "    }\n",
       "\n",
       "    [theme=dark] .colab-df-convert {\n",
       "      background-color: #3B4455;\n",
       "      fill: #D2E3FC;\n",
       "    }\n",
       "\n",
       "    [theme=dark] .colab-df-convert:hover {\n",
       "      background-color: #434B5C;\n",
       "      box-shadow: 0px 1px 3px 1px rgba(0, 0, 0, 0.15);\n",
       "      filter: drop-shadow(0px 1px 2px rgba(0, 0, 0, 0.3));\n",
       "      fill: #FFFFFF;\n",
       "    }\n",
       "  </style>\n",
       "\n",
       "    <script>\n",
       "      const buttonEl =\n",
       "        document.querySelector('#df-c323947b-7022-4312-9b0f-559b1768971b button.colab-df-convert');\n",
       "      buttonEl.style.display =\n",
       "        google.colab.kernel.accessAllowed ? 'block' : 'none';\n",
       "\n",
       "      async function convertToInteractive(key) {\n",
       "        const element = document.querySelector('#df-c323947b-7022-4312-9b0f-559b1768971b');\n",
       "        const dataTable =\n",
       "          await google.colab.kernel.invokeFunction('convertToInteractive',\n",
       "                                                    [key], {});\n",
       "        if (!dataTable) return;\n",
       "\n",
       "        const docLinkHtml = 'Like what you see? Visit the ' +\n",
       "          '<a target=\"_blank\" href=https://colab.research.google.com/notebooks/data_table.ipynb>data table notebook</a>'\n",
       "          + ' to learn more about interactive tables.';\n",
       "        element.innerHTML = '';\n",
       "        dataTable['output_type'] = 'display_data';\n",
       "        await google.colab.output.renderOutput(dataTable, element);\n",
       "        const docLink = document.createElement('div');\n",
       "        docLink.innerHTML = docLinkHtml;\n",
       "        element.appendChild(docLink);\n",
       "      }\n",
       "    </script>\n",
       "  </div>\n",
       "\n",
       "\n",
       "<div id=\"df-d132108b-57a3-49b3-b62f-134df4858dd7\">\n",
       "  <button class=\"colab-df-quickchart\" onclick=\"quickchart('df-d132108b-57a3-49b3-b62f-134df4858dd7')\"\n",
       "            title=\"Suggest charts\"\n",
       "            style=\"display:none;\">\n",
       "\n",
       "<svg xmlns=\"http://www.w3.org/2000/svg\" height=\"24px\"viewBox=\"0 0 24 24\"\n",
       "     width=\"24px\">\n",
       "    <g>\n",
       "        <path d=\"M19 3H5c-1.1 0-2 .9-2 2v14c0 1.1.9 2 2 2h14c1.1 0 2-.9 2-2V5c0-1.1-.9-2-2-2zM9 17H7v-7h2v7zm4 0h-2V7h2v10zm4 0h-2v-4h2v4z\"/>\n",
       "    </g>\n",
       "</svg>\n",
       "  </button>\n",
       "\n",
       "<style>\n",
       "  .colab-df-quickchart {\n",
       "      --bg-color: #E8F0FE;\n",
       "      --fill-color: #1967D2;\n",
       "      --hover-bg-color: #E2EBFA;\n",
       "      --hover-fill-color: #174EA6;\n",
       "      --disabled-fill-color: #AAA;\n",
       "      --disabled-bg-color: #DDD;\n",
       "  }\n",
       "\n",
       "  [theme=dark] .colab-df-quickchart {\n",
       "      --bg-color: #3B4455;\n",
       "      --fill-color: #D2E3FC;\n",
       "      --hover-bg-color: #434B5C;\n",
       "      --hover-fill-color: #FFFFFF;\n",
       "      --disabled-bg-color: #3B4455;\n",
       "      --disabled-fill-color: #666;\n",
       "  }\n",
       "\n",
       "  .colab-df-quickchart {\n",
       "    background-color: var(--bg-color);\n",
       "    border: none;\n",
       "    border-radius: 50%;\n",
       "    cursor: pointer;\n",
       "    display: none;\n",
       "    fill: var(--fill-color);\n",
       "    height: 32px;\n",
       "    padding: 0;\n",
       "    width: 32px;\n",
       "  }\n",
       "\n",
       "  .colab-df-quickchart:hover {\n",
       "    background-color: var(--hover-bg-color);\n",
       "    box-shadow: 0 1px 2px rgba(60, 64, 67, 0.3), 0 1px 3px 1px rgba(60, 64, 67, 0.15);\n",
       "    fill: var(--button-hover-fill-color);\n",
       "  }\n",
       "\n",
       "  .colab-df-quickchart-complete:disabled,\n",
       "  .colab-df-quickchart-complete:disabled:hover {\n",
       "    background-color: var(--disabled-bg-color);\n",
       "    fill: var(--disabled-fill-color);\n",
       "    box-shadow: none;\n",
       "  }\n",
       "\n",
       "  .colab-df-spinner {\n",
       "    border: 2px solid var(--fill-color);\n",
       "    border-color: transparent;\n",
       "    border-bottom-color: var(--fill-color);\n",
       "    animation:\n",
       "      spin 1s steps(1) infinite;\n",
       "  }\n",
       "\n",
       "  @keyframes spin {\n",
       "    0% {\n",
       "      border-color: transparent;\n",
       "      border-bottom-color: var(--fill-color);\n",
       "      border-left-color: var(--fill-color);\n",
       "    }\n",
       "    20% {\n",
       "      border-color: transparent;\n",
       "      border-left-color: var(--fill-color);\n",
       "      border-top-color: var(--fill-color);\n",
       "    }\n",
       "    30% {\n",
       "      border-color: transparent;\n",
       "      border-left-color: var(--fill-color);\n",
       "      border-top-color: var(--fill-color);\n",
       "      border-right-color: var(--fill-color);\n",
       "    }\n",
       "    40% {\n",
       "      border-color: transparent;\n",
       "      border-right-color: var(--fill-color);\n",
       "      border-top-color: var(--fill-color);\n",
       "    }\n",
       "    60% {\n",
       "      border-color: transparent;\n",
       "      border-right-color: var(--fill-color);\n",
       "    }\n",
       "    80% {\n",
       "      border-color: transparent;\n",
       "      border-right-color: var(--fill-color);\n",
       "      border-bottom-color: var(--fill-color);\n",
       "    }\n",
       "    90% {\n",
       "      border-color: transparent;\n",
       "      border-bottom-color: var(--fill-color);\n",
       "    }\n",
       "  }\n",
       "</style>\n",
       "\n",
       "  <script>\n",
       "    async function quickchart(key) {\n",
       "      const quickchartButtonEl =\n",
       "        document.querySelector('#' + key + ' button');\n",
       "      quickchartButtonEl.disabled = true;  // To prevent multiple clicks.\n",
       "      quickchartButtonEl.classList.add('colab-df-spinner');\n",
       "      try {\n",
       "        const charts = await google.colab.kernel.invokeFunction(\n",
       "            'suggestCharts', [key], {});\n",
       "      } catch (error) {\n",
       "        console.error('Error during call to suggestCharts:', error);\n",
       "      }\n",
       "      quickchartButtonEl.classList.remove('colab-df-spinner');\n",
       "      quickchartButtonEl.classList.add('colab-df-quickchart-complete');\n",
       "    }\n",
       "    (() => {\n",
       "      let quickchartButtonEl =\n",
       "        document.querySelector('#df-d132108b-57a3-49b3-b62f-134df4858dd7 button');\n",
       "      quickchartButtonEl.style.display =\n",
       "        google.colab.kernel.accessAllowed ? 'block' : 'none';\n",
       "    })();\n",
       "  </script>\n",
       "</div>\n",
       "\n",
       "  <div id=\"id_f9196b71-7725-446e-b54f-41a42ecc8729\">\n",
       "    <style>\n",
       "      .colab-df-generate {\n",
       "        background-color: #E8F0FE;\n",
       "        border: none;\n",
       "        border-radius: 50%;\n",
       "        cursor: pointer;\n",
       "        display: none;\n",
       "        fill: #1967D2;\n",
       "        height: 32px;\n",
       "        padding: 0 0 0 0;\n",
       "        width: 32px;\n",
       "      }\n",
       "\n",
       "      .colab-df-generate:hover {\n",
       "        background-color: #E2EBFA;\n",
       "        box-shadow: 0px 1px 2px rgba(60, 64, 67, 0.3), 0px 1px 3px 1px rgba(60, 64, 67, 0.15);\n",
       "        fill: #174EA6;\n",
       "      }\n",
       "\n",
       "      [theme=dark] .colab-df-generate {\n",
       "        background-color: #3B4455;\n",
       "        fill: #D2E3FC;\n",
       "      }\n",
       "\n",
       "      [theme=dark] .colab-df-generate:hover {\n",
       "        background-color: #434B5C;\n",
       "        box-shadow: 0px 1px 3px 1px rgba(0, 0, 0, 0.15);\n",
       "        filter: drop-shadow(0px 1px 2px rgba(0, 0, 0, 0.3));\n",
       "        fill: #FFFFFF;\n",
       "      }\n",
       "    </style>\n",
       "    <button class=\"colab-df-generate\" onclick=\"generateWithVariable('pandas_df')\"\n",
       "            title=\"Generate code using this dataframe.\"\n",
       "            style=\"display:none;\">\n",
       "\n",
       "  <svg xmlns=\"http://www.w3.org/2000/svg\" height=\"24px\"viewBox=\"0 0 24 24\"\n",
       "       width=\"24px\">\n",
       "    <path d=\"M7,19H8.4L18.45,9,17,7.55,7,17.6ZM5,21V16.75L18.45,3.32a2,2,0,0,1,2.83,0l1.4,1.43a1.91,1.91,0,0,1,.58,1.4,1.91,1.91,0,0,1-.58,1.4L9.25,21ZM18.45,9,17,7.55Zm-12,3A5.31,5.31,0,0,0,4.9,8.1,5.31,5.31,0,0,0,1,6.5,5.31,5.31,0,0,0,4.9,4.9,5.31,5.31,0,0,0,6.5,1,5.31,5.31,0,0,0,8.1,4.9,5.31,5.31,0,0,0,12,6.5,5.46,5.46,0,0,0,6.5,12Z\"/>\n",
       "  </svg>\n",
       "    </button>\n",
       "    <script>\n",
       "      (() => {\n",
       "      const buttonEl =\n",
       "        document.querySelector('#id_f9196b71-7725-446e-b54f-41a42ecc8729 button.colab-df-generate');\n",
       "      buttonEl.style.display =\n",
       "        google.colab.kernel.accessAllowed ? 'block' : 'none';\n",
       "\n",
       "      buttonEl.onclick = () => {\n",
       "        google.colab.notebook.generateWithVariable('pandas_df');\n",
       "      }\n",
       "      })();\n",
       "    </script>\n",
       "  </div>\n",
       "\n",
       "    </div>\n",
       "  </div>\n"
      ],
      "text/plain": [
       "  fuel_type        body_type           city  city_fuel_economy  \\\n",
       "0  Gasoline  SUV / Crossover         Muncie          21.000000   \n",
       "1  Gasoline     Pickup Truck        Mission          17.000000   \n",
       "2  Gasoline            Sedan       Milpitas          22.690001   \n",
       "3  Gasoline  SUV / Crossover     Broomfield          21.000000   \n",
       "4  Gasoline            Sedan  Saint Charles          28.000000   \n",
       "\n",
       "   days_in_market dealer_zip  engine_displacement      engine_type  \\\n",
       "0              25      47303               2400.0               I4   \n",
       "1              31      78572               5000.0               V8   \n",
       "2              81      95035               2500.0  Gasoline engine   \n",
       "3             257      80020               2300.0               I4   \n",
       "4               4      60174               2500.0               I4   \n",
       "\n",
       "  exterior_color  franchise_dealer  fuel_tank_volume  height  \\\n",
       "0          Other              True         18.799999   66.10   \n",
       "1          Other              True         23.000000   75.30   \n",
       "2          White             False         18.090000   65.87   \n",
       "3           Gray              True         16.200001   64.10   \n",
       "4         Silver              True         16.000000   56.90   \n",
       "\n",
       "   highway_fuel_economy  horsepower interior_color  is_new   latitude  length  \\\n",
       "0             27.000000       185.0          Black    True  40.219002   187.8   \n",
       "1             23.000000       395.0          Black   False  26.200399   231.9   \n",
       "2             29.469999       241.0          Other   False  37.419800   189.8   \n",
       "3             29.000000       280.0           Gray    True  39.919201   180.6   \n",
       "4             39.000000       203.0           Gray    True  41.921200   192.1   \n",
       "\n",
       "  listing_color   longitude  make_name  maximum_seating model_name    price  \\\n",
       "0       UNKNOWN  -85.363197    Hyundai              5.0   Santa Fe  32115.0   \n",
       "1          GRAY  -98.320099       Ford              6.0      F-150  34995.0   \n",
       "2         WHITE -121.883003  Chevrolet              5.0       Nova  31300.0   \n",
       "3          GRAY -105.093002    Lincoln              5.0    Corsair  44400.0   \n",
       "4        SILVER  -88.279999     Toyota              5.0      Camry  23715.0   \n",
       "\n",
       "   savings_amount  seller_rating                          sp_name  torque  \\\n",
       "0               0       4.000000                 Greg Hubler Ford  178.00   \n",
       "1            2329       4.250000                      Spikes Ford  400.00   \n",
       "2               0       3.875000                NBS Auto Showroom  265.22   \n",
       "3               0       4.600000  Sill Terhar Motors Incorporated  275.00   \n",
       "4               0       4.892857                St Charles Toyota  265.22   \n",
       "\n",
       "  transmission transmission_display wheel_system_display  wheelbase  width  \\\n",
       "0            A    8-Speed Automatic      All-Wheel Drive      108.9   74.4   \n",
       "1            A            Automatic                  4X2      145.0   96.8   \n",
       "2            A            Automatic              Unknown      111.0   77.2   \n",
       "3            A            Automatic      All-Wheel Drive      106.7   83.0   \n",
       "4            A            Automatic    Front-Wheel Drive      111.2   72.4   \n",
       "\n",
       "   manufactured_year  combined_fuel_economy  legroom  log_mileage  \\\n",
       "0               2020                  24.00    85.00         1.79   \n",
       "1               2018                  20.00    87.50        10.34   \n",
       "2               1963                  26.08    80.16        10.27   \n",
       "3               2019                  25.00    81.80         3.40   \n",
       "4               2020                  33.50    80.10         1.10   \n",
       "\n",
       "   major_options_count  hp_x_engine_disp  hp_x_torque  listed_day  \\\n",
       "0                    7              0.29      0.57120          15   \n",
       "1                    4              2.63      2.07870          12   \n",
       "2                    0              0.03      0.00000          23   \n",
       "3                    7             -0.18      0.03316          30   \n",
       "4                    6              0.17     -0.00001           6   \n",
       "\n",
       "   listed_month  listed_year  age  resale_value_score  maintenance_cost  \\\n",
       "0             8         2020    0                  32                37   \n",
       "1             8         2020    2                  28                46   \n",
       "2             6         2020   57                  17                30   \n",
       "3            12         2019    0                  26                41   \n",
       "4             9         2020    0                  35                37   \n",
       "\n",
       "   luxury_score  \n",
       "0            35  \n",
       "1            32  \n",
       "2            24  \n",
       "3            33  \n",
       "4            32  "
      ]
     },
     "metadata": {},
     "output_type": "display_data"
    }
   ],
   "source": [
    "import pandas as pd\n",
    "from IPython.display import display\n",
    "import pyspark.sql.functions as F\n",
    "\n",
    "# Converting the Spark DataFrame to a Pandas DataFrame and displaying 5 random rows with all columns\n",
    "pd.set_option('display.max_columns', None)\n",
    "pandas_df = df.orderBy(F.rand()).limit(5).toPandas()\n",
    "display(pandas_df)\n"
   ]
  },
  {
   "cell_type": "markdown",
   "metadata": {
    "id": "rVNNFLFqKxIQ"
   },
   "source": [
    "\n",
    "\n",
    "---\n",
    "\n"
   ]
  },
  {
   "cell_type": "markdown",
   "metadata": {
    "id": "lnwkVM5MKxz6"
   },
   "source": [
    "# **GBT Regressor**"
   ]
  },
  {
   "cell_type": "markdown",
   "metadata": {
    "id": "LZ1RsHE0K3Jo"
   },
   "source": [
    "## **Predicting on DF with a size of `~100k records`**"
   ]
  },
  {
   "cell_type": "code",
   "execution_count": 8,
   "metadata": {
    "colab": {
     "base_uri": "https://localhost:8080/"
    },
    "executionInfo": {
     "elapsed": 11457,
     "status": "ok",
     "timestamp": 1730505631664,
     "user": {
      "displayName": "Adithya R",
      "userId": "06981244434554202327"
     },
     "user_tz": -480
    },
    "id": "6U9LAmpZLBpy",
    "outputId": "5e032348-862e-4df1-8042-69f5d53b8fd1"
   },
   "outputs": [
    {
     "name": "stdout",
     "output_type": "stream",
     "text": [
      "Processing the data...\n"
     ]
    },
    {
     "name": "stderr",
     "output_type": "stream",
     "text": [
      "Progress: 100%|██████████| 5/5 [00:10<00:00,  2.17s/it]"
     ]
    },
    {
     "name": "stdout",
     "output_type": "stream",
     "text": [
      "\n",
      "\n",
      "Data preprocessing and splitting completed!\n"
     ]
    },
    {
     "name": "stderr",
     "output_type": "stream",
     "text": [
      "\n"
     ]
    }
   ],
   "source": [
    "import warnings\n",
    "from tqdm import tqdm\n",
    "from pyspark.ml.feature import StringIndexer, VectorAssembler, StandardScaler, OneHotEncoder\n",
    "from pyspark.ml import Pipeline\n",
    "from pyspark.sql.functions import mean as sql_mean\n",
    "import pyspark.sql.functions as F\n",
    "\n",
    "# Ignore warnings\n",
    "warnings.filterwarnings('ignore')\n",
    "\n",
    "print(\"Processing the data...\")\n",
    "with tqdm(total=5, desc=\"Progress\") as pbar:\n",
    "\n",
    "    df_sample = df.sample(fraction=0.033, seed=42)  # Randomly sample 100k records of the data\n",
    "    pbar.update(1)\n",
    "\n",
    "    # Handling categorical columns\n",
    "    cat_columns = [field for (field, dtype) in df_sample.dtypes if dtype == \"string\"]\n",
    "    stages = []\n",
    "    for col_name in cat_columns:\n",
    "        indexer = StringIndexer(inputCol=col_name, outputCol=f\"{col_name}_indexed\", handleInvalid=\"keep\")\n",
    "        encoder = OneHotEncoder(inputCol=f\"{col_name}_indexed\", outputCol=f\"{col_name}_encoded\")\n",
    "        stages += [indexer, encoder]\n",
    "    pbar.update(1)\n",
    "\n",
    "    # Assembling features\n",
    "    num_columns = [col for col in df_sample.columns if col != 'price' and col not in cat_columns]\n",
    "    encoded_columns = [f\"{col}_encoded\" for col in cat_columns]\n",
    "    feature_columns = num_columns + encoded_columns\n",
    "    assembler = VectorAssembler(inputCols=feature_columns, outputCol=\"features\")\n",
    "    stages += [assembler]\n",
    "    pbar.update(1)\n",
    "\n",
    "    # Adding scaling to the pipeline\n",
    "    scaler = StandardScaler(inputCol=\"features\", outputCol=\"scaled_features\", withMean=True, withStd=True)\n",
    "    stages += [scaler]\n",
    "\n",
    "    # Creating and applying the pipeline\n",
    "    pipeline = Pipeline(stages=stages)\n",
    "    pipeline_model = pipeline.fit(df_sample)\n",
    "    df_sample = pipeline_model.transform(df_sample)\n",
    "    pbar.update(1)\n",
    "\n",
    "    # Splitting the data\n",
    "    train_df, test_df = df_sample.randomSplit([0.8, 0.2], seed=42)\n",
    "    pbar.update(1)\n",
    "\n",
    "print(\"\\n\\nData preprocessing and splitting completed!\")\n"
   ]
  },
  {
   "cell_type": "code",
   "execution_count": 24,
   "metadata": {
    "colab": {
     "base_uri": "https://localhost:8080/"
    },
    "executionInfo": {
     "elapsed": 3,
     "status": "ok",
     "timestamp": 1730550313772,
     "user": {
      "displayName": "Adithya R",
      "userId": "06981244434554202327"
     },
     "user_tz": -480
    },
    "id": "thuFIGFvLGs2",
    "outputId": "e179d50f-7a26-465c-e9cb-8bad2c9ab0dc"
   },
   "outputs": [
    {
     "name": "stdout",
     "output_type": "stream",
     "text": [
      "Training GBTRegressor model...\n",
      "Making predictions...\n",
      "Evaluating the model...\n",
      "\n",
      "Train size: 79,346 samples\n",
      "Test size: 19,771 samples\n",
      "\n",
      "\n",
      "R-Squared Score (Accuracy): 79.38%\n",
      "\n",
      "\n",
      "Overall runtime: 96 minutes.\n"
     ]
    }
   ],
   "source": [
    "from pyspark.ml.regression import GBTRegressor\n",
    "from pyspark.ml.evaluation import RegressionEvaluator\n",
    "import time\n",
    "\n",
    "# Starting to track overall run time\n",
    "start_time = time.time()\n",
    "\n",
    "# Model training\n",
    "print(\"Training GBTRegressor model...\")\n",
    "\n",
    "# Using GBTRegressor with tuned parameters\n",
    "gbt_regressor = GBTRegressor(\n",
    "    featuresCol=\"scaled_features\",\n",
    "    labelCol=\"price\",\n",
    "    maxIter=100,\n",
    "    maxDepth=5,\n",
    "    seed=42,\n",
    ")\n",
    "\n",
    "# Training the model\n",
    "model = gbt_regressor.fit(train_df)\n",
    "\n",
    "# Making predictions\n",
    "print(\"Making predictions...\")\n",
    "predictions = model.transform(test_df)\n",
    "\n",
    "# Evaluating the model\n",
    "print(\"Evaluating the model...\")\n",
    "evaluator = RegressionEvaluator(labelCol=\"price\", predictionCol=\"prediction\", metricName=\"r2\")\n",
    "r2 = evaluator.evaluate(predictions)\n",
    "\n",
    "print(f\"\\nTrain size: {train_df.count():,} samples\")\n",
    "print(f\"Test size: {test_df.count():,} samples\")\n",
    "\n",
    "# Multiplying R-Squared by 100 and rounding it off\n",
    "print(f\"\\n\\nR-Squared Score (Accuracy): {r2 * 100:.2f}%\")\n",
    "\n",
    "# Calculating total runtime\n",
    "end_time = time.time()\n",
    "total_runtime = (end_time - start_time) / 60\n",
    "print(f\"\\n\\nOverall runtime: {round(total_runtime)} minutes.\")\n"
   ]
  },
  {
   "cell_type": "code",
   "execution_count": 10,
   "metadata": {
    "colab": {
     "base_uri": "https://localhost:8080/"
    },
    "executionInfo": {
     "elapsed": 87013,
     "status": "ok",
     "timestamp": 1730511467224,
     "user": {
      "displayName": "Adithya R",
      "userId": "06981244434554202327"
     },
     "user_tz": -480
    },
    "id": "DWifglWTLJVU",
    "outputId": "f355f217-07ad-4334-ffe4-00b6ec6c8354"
   },
   "outputs": [
    {
     "name": "stdout",
     "output_type": "stream",
     "text": [
      "Additional Metrics:\n",
      "Mean Absolute Error: 3604\n",
      "Mean Squared Error: 76868028\n",
      "Root Mean Squared Error: 8767\n"
     ]
    }
   ],
   "source": [
    "# Calculate additional metrics\n",
    "mae_evaluator = RegressionEvaluator(labelCol=\"price\", predictionCol=\"prediction\", metricName=\"mae\")\n",
    "mae = mae_evaluator.evaluate(predictions)\n",
    "\n",
    "mse_evaluator = RegressionEvaluator(labelCol=\"price\", predictionCol=\"prediction\", metricName=\"mse\")\n",
    "mse = mse_evaluator.evaluate(predictions)\n",
    "\n",
    "rmse_evaluator = RegressionEvaluator(labelCol=\"price\", predictionCol=\"prediction\", metricName=\"rmse\")\n",
    "rmse = rmse_evaluator.evaluate(predictions)\n",
    "\n",
    "print(\"Additional Metrics:\")\n",
    "print(f\"Mean Absolute Error: {round(mae)}\")\n",
    "print(f\"Mean Squared Error: {round(mse)}\")\n",
    "print(f\"Root Mean Squared Error: {round(rmse)}\")"
   ]
  },
  {
   "cell_type": "markdown",
   "metadata": {
    "id": "QWNXVi6rznVK"
   },
   "source": [
    "\n",
    "\n",
    "---\n",
    "\n"
   ]
  },
  {
   "cell_type": "markdown",
   "metadata": {
    "id": "6zydEtP7zvmg"
   },
   "source": [
    "## **Predicting on DF with a size of `~200k records`**"
   ]
  },
  {
   "cell_type": "code",
   "execution_count": 12,
   "metadata": {
    "colab": {
     "base_uri": "https://localhost:8080/"
    },
    "executionInfo": {
     "elapsed": 9272,
     "status": "ok",
     "timestamp": 1730516381181,
     "user": {
      "displayName": "Adithya R",
      "userId": "06981244434554202327"
     },
     "user_tz": -480
    },
    "id": "7q_pmpfIzuOp",
    "outputId": "cdd66d0b-f054-415e-a144-ad005adc934a"
   },
   "outputs": [
    {
     "name": "stdout",
     "output_type": "stream",
     "text": [
      "Processing the data...\n"
     ]
    },
    {
     "name": "stderr",
     "output_type": "stream",
     "text": [
      "Progress: 100%|██████████| 5/5 [00:08<00:00,  1.79s/it]"
     ]
    },
    {
     "name": "stdout",
     "output_type": "stream",
     "text": [
      "\n",
      "\n",
      "Data preprocessing and splitting completed!\n"
     ]
    },
    {
     "name": "stderr",
     "output_type": "stream",
     "text": [
      "\n"
     ]
    }
   ],
   "source": [
    "import warnings\n",
    "from tqdm import tqdm\n",
    "from pyspark.ml.feature import StringIndexer, VectorAssembler, StandardScaler, OneHotEncoder\n",
    "from pyspark.ml import Pipeline\n",
    "from pyspark.sql.functions import mean as sql_mean\n",
    "import pyspark.sql.functions as F\n",
    "\n",
    "# Ignore warnings\n",
    "warnings.filterwarnings('ignore')\n",
    "\n",
    "print(\"Processing the data...\")\n",
    "with tqdm(total=5, desc=\"Progress\") as pbar:\n",
    "\n",
    "    df_sample = df.sample(fraction=0.066, seed=42)  # Randomly sample 200k records of the data\n",
    "    pbar.update(1)\n",
    "\n",
    "    # Handling categorical columns\n",
    "    cat_columns = [field for (field, dtype) in df_sample.dtypes if dtype == \"string\"]\n",
    "    stages = []\n",
    "    for col_name in cat_columns:\n",
    "        indexer = StringIndexer(inputCol=col_name, outputCol=f\"{col_name}_indexed\", handleInvalid=\"keep\")\n",
    "        encoder = OneHotEncoder(inputCol=f\"{col_name}_indexed\", outputCol=f\"{col_name}_encoded\")\n",
    "        stages += [indexer, encoder]\n",
    "    pbar.update(1)\n",
    "\n",
    "    # Assembling features\n",
    "    num_columns = [col for col in df_sample.columns if col != 'price' and col not in cat_columns]\n",
    "    encoded_columns = [f\"{col}_encoded\" for col in cat_columns]\n",
    "    feature_columns = num_columns + encoded_columns\n",
    "    assembler = VectorAssembler(inputCols=feature_columns, outputCol=\"features\")\n",
    "    stages += [assembler]\n",
    "    pbar.update(1)\n",
    "\n",
    "    # Adding scaling to the pipeline\n",
    "    scaler = StandardScaler(inputCol=\"features\", outputCol=\"scaled_features\", withMean=True, withStd=True)\n",
    "    stages += [scaler]\n",
    "\n",
    "    # Creating and applying the pipeline\n",
    "    pipeline = Pipeline(stages=stages)\n",
    "    pipeline_model = pipeline.fit(df_sample)\n",
    "    df_sample = pipeline_model.transform(df_sample)\n",
    "    pbar.update(1)\n",
    "\n",
    "    # Splitting the data\n",
    "    train_df, test_df = df_sample.randomSplit([0.8, 0.2], seed=42)\n",
    "    pbar.update(1)\n",
    "\n",
    "print(\"\\n\\nData preprocessing and splitting completed!\")\n"
   ]
  },
  {
   "cell_type": "code",
   "execution_count": 23,
   "metadata": {
    "colab": {
     "base_uri": "https://localhost:8080/"
    },
    "executionInfo": {
     "elapsed": 3,
     "status": "ok",
     "timestamp": 1730550276798,
     "user": {
      "displayName": "Adithya R",
      "userId": "06981244434554202327"
     },
     "user_tz": -480
    },
    "id": "VNokFSRWz4wG",
    "outputId": "522df1b6-31d9-46d4-8e9b-c0c9250141c8"
   },
   "outputs": [
    {
     "name": "stdout",
     "output_type": "stream",
     "text": [
      "Training GBTRegressor model...\n",
      "Making predictions...\n",
      "Evaluating the model...\n",
      "\n",
      "Train size: 158,449 samples\n",
      "Test size: 39,727 samples\n",
      "\n",
      "\n",
      "R-Squared Score (Accuracy): 85.64%\n",
      "\n",
      "\n",
      "Overall runtime: 205 minutes.\n"
     ]
    }
   ],
   "source": [
    "from pyspark.ml.regression import GBTRegressor\n",
    "from pyspark.ml.evaluation import RegressionEvaluator\n",
    "import time\n",
    "\n",
    "# Starting to track overall run time\n",
    "start_time = time.time()\n",
    "\n",
    "# Model training\n",
    "print(\"Training GBTRegressor model...\")\n",
    "\n",
    "# Using GBTRegressor with tuned parameters\n",
    "gbt_regressor = GBTRegressor(\n",
    "    featuresCol=\"scaled_features\",\n",
    "    labelCol=\"price\",\n",
    "    maxIter=100,\n",
    "    maxDepth=5,\n",
    "    seed=42,\n",
    ")\n",
    "\n",
    "# Training the model\n",
    "model = gbt_regressor.fit(train_df)\n",
    "\n",
    "# Making predictions\n",
    "print(\"Making predictions...\")\n",
    "predictions = model.transform(test_df)\n",
    "\n",
    "# Evaluating the model\n",
    "print(\"Evaluating the model...\")\n",
    "evaluator = RegressionEvaluator(labelCol=\"price\", predictionCol=\"prediction\", metricName=\"r2\")\n",
    "r2 = evaluator.evaluate(predictions)\n",
    "\n",
    "print(f\"\\nTrain size: {train_df.count():,} samples\")\n",
    "print(f\"Test size: {test_df.count():,} samples\")\n",
    "\n",
    "# Multiplying R-Squared by 100 and rounding it off\n",
    "print(f\"\\n\\nR-Squared Score (Accuracy): {r2 * 100:.2f}%\")\n",
    "\n",
    "# Calculating total runtime\n",
    "end_time = time.time()\n",
    "total_runtime = (end_time - start_time) / 60\n",
    "print(f\"\\n\\nOverall runtime: {round(total_runtime)} minutes.\")\n"
   ]
  },
  {
   "cell_type": "code",
   "execution_count": 14,
   "metadata": {
    "colab": {
     "base_uri": "https://localhost:8080/"
    },
    "executionInfo": {
     "elapsed": 178377,
     "status": "ok",
     "timestamp": 1730528887446,
     "user": {
      "displayName": "Adithya R",
      "userId": "06981244434554202327"
     },
     "user_tz": -480
    },
    "id": "VLutHan2z6rS",
    "outputId": "92d11f2f-1a3f-46af-950f-a24fbbd6bd0c"
   },
   "outputs": [
    {
     "name": "stdout",
     "output_type": "stream",
     "text": [
      "Additional Metrics:\n",
      "Mean Absolute Error: 3638\n",
      "Mean Squared Error: 50029961\n",
      "Root Mean Squared Error: 7073\n"
     ]
    }
   ],
   "source": [
    "# Calculate additional metrics\n",
    "mae_evaluator = RegressionEvaluator(labelCol=\"price\", predictionCol=\"prediction\", metricName=\"mae\")\n",
    "mae = mae_evaluator.evaluate(predictions)\n",
    "\n",
    "mse_evaluator = RegressionEvaluator(labelCol=\"price\", predictionCol=\"prediction\", metricName=\"mse\")\n",
    "mse = mse_evaluator.evaluate(predictions)\n",
    "\n",
    "rmse_evaluator = RegressionEvaluator(labelCol=\"price\", predictionCol=\"prediction\", metricName=\"rmse\")\n",
    "rmse = rmse_evaluator.evaluate(predictions)\n",
    "\n",
    "print(\"Additional Metrics:\")\n",
    "print(f\"Mean Absolute Error: {round(mae)}\")\n",
    "print(f\"Mean Squared Error: {round(mse)}\")\n",
    "print(f\"Root Mean Squared Error: {round(rmse)}\")"
   ]
  },
  {
   "cell_type": "markdown",
   "metadata": {
    "id": "TGlQVzyypI1b"
   },
   "source": [
    "\n",
    "\n",
    "---\n",
    "\n"
   ]
  },
  {
   "cell_type": "markdown",
   "metadata": {
    "id": "NoId7hqupNN5"
   },
   "source": [
    "## **Predicting on DF with a size of `~300k records`**"
   ]
  },
  {
   "cell_type": "code",
   "execution_count": 15,
   "metadata": {
    "colab": {
     "base_uri": "https://localhost:8080/"
    },
    "executionInfo": {
     "elapsed": 13675,
     "status": "ok",
     "timestamp": 1730530338875,
     "user": {
      "displayName": "Adithya R",
      "userId": "06981244434554202327"
     },
     "user_tz": -480
    },
    "id": "3THAHhBwpMY2",
    "outputId": "793f6996-6249-4fdb-9bd9-62b85d055382"
   },
   "outputs": [
    {
     "name": "stdout",
     "output_type": "stream",
     "text": [
      "Processing the data...\n"
     ]
    },
    {
     "name": "stderr",
     "output_type": "stream",
     "text": [
      "Progress: 100%|██████████| 5/5 [00:13<00:00,  2.65s/it]"
     ]
    },
    {
     "name": "stdout",
     "output_type": "stream",
     "text": [
      "\n",
      "\n",
      "Data preprocessing and splitting completed!\n"
     ]
    },
    {
     "name": "stderr",
     "output_type": "stream",
     "text": [
      "\n"
     ]
    }
   ],
   "source": [
    "import warnings\n",
    "from tqdm import tqdm\n",
    "from pyspark.ml.feature import StringIndexer, VectorAssembler, StandardScaler, OneHotEncoder\n",
    "from pyspark.ml import Pipeline\n",
    "from pyspark.sql.functions import mean as sql_mean\n",
    "import pyspark.sql.functions as F\n",
    "\n",
    "# Ignore warnings\n",
    "warnings.filterwarnings('ignore')\n",
    "\n",
    "print(\"Processing the data...\")\n",
    "with tqdm(total=5, desc=\"Progress\") as pbar:\n",
    "\n",
    "    df_sample = df.sample(fraction=0.1, seed=42)  # Randomly sample 300k records of the data\n",
    "    pbar.update(1)\n",
    "\n",
    "    # Handling categorical columns\n",
    "    cat_columns = [field for (field, dtype) in df_sample.dtypes if dtype == \"string\"]\n",
    "    stages = []\n",
    "    for col_name in cat_columns:\n",
    "        indexer = StringIndexer(inputCol=col_name, outputCol=f\"{col_name}_indexed\", handleInvalid=\"keep\")\n",
    "        encoder = OneHotEncoder(inputCol=f\"{col_name}_indexed\", outputCol=f\"{col_name}_encoded\")\n",
    "        stages += [indexer, encoder]\n",
    "    pbar.update(1)\n",
    "\n",
    "    # Assembling features\n",
    "    num_columns = [col for col in df_sample.columns if col != 'price' and col not in cat_columns]\n",
    "    encoded_columns = [f\"{col}_encoded\" for col in cat_columns]\n",
    "    feature_columns = num_columns + encoded_columns\n",
    "    assembler = VectorAssembler(inputCols=feature_columns, outputCol=\"features\")\n",
    "    stages += [assembler]\n",
    "    pbar.update(1)\n",
    "\n",
    "    # Adding scaling to the pipeline\n",
    "    scaler = StandardScaler(inputCol=\"features\", outputCol=\"scaled_features\", withMean=True, withStd=True)\n",
    "    stages += [scaler]\n",
    "\n",
    "    # Creating and applying the pipeline\n",
    "    pipeline = Pipeline(stages=stages)\n",
    "    pipeline_model = pipeline.fit(df_sample)\n",
    "    df_sample = pipeline_model.transform(df_sample)\n",
    "    pbar.update(1)\n",
    "\n",
    "    # Splitting the data\n",
    "    train_df, test_df = df_sample.randomSplit([0.8, 0.2], seed=42)\n",
    "    pbar.update(1)\n",
    "\n",
    "print(\"\\n\\nData preprocessing and splitting completed!\")\n"
   ]
  },
  {
   "cell_type": "code",
   "execution_count": 22,
   "metadata": {
    "colab": {
     "base_uri": "https://localhost:8080/"
    },
    "executionInfo": {
     "elapsed": 329,
     "status": "ok",
     "timestamp": 1730550191789,
     "user": {
      "displayName": "Adithya R",
      "userId": "06981244434554202327"
     },
     "user_tz": -480
    },
    "id": "eYwKqz88pVJP",
    "outputId": "cb8e5c48-5971-4c46-d61b-e79e80c4b602"
   },
   "outputs": [
    {
     "name": "stdout",
     "output_type": "stream",
     "text": [
      "Training GBTRegressor model...\n",
      "Making predictions...\n",
      "Evaluating the model...\n",
      "\n",
      "Train size: 240,222 samples\n",
      "Test size: 60,280 samples\n",
      "\n",
      "\n",
      "R-Squared Score (Accuracy): 87.21%\n",
      "\n",
      "\n",
      "Overall runtime: 325 minutes.\n"
     ]
    }
   ],
   "source": [
    "from pyspark.ml.regression import GBTRegressor\n",
    "from pyspark.ml.evaluation import RegressionEvaluator\n",
    "import time\n",
    "\n",
    "# Starting to track overall run time\n",
    "start_time = time.time()\n",
    "\n",
    "# Model training\n",
    "print(\"Training GBTRegressor model...\")\n",
    "\n",
    "# Using GBTRegressor with tuned parameters\n",
    "gbt_regressor = GBTRegressor(\n",
    "    featuresCol=\"scaled_features\",\n",
    "    labelCol=\"price\",\n",
    "    maxIter=100,\n",
    "    maxDepth=5,\n",
    "    seed=42,\n",
    ")\n",
    "\n",
    "# Training the model\n",
    "model = gbt_regressor.fit(train_df)\n",
    "\n",
    "# Making predictions\n",
    "print(\"Making predictions...\")\n",
    "predictions = model.transform(test_df)\n",
    "\n",
    "# Evaluating the model\n",
    "print(\"Evaluating the model...\")\n",
    "evaluator = RegressionEvaluator(labelCol=\"price\", predictionCol=\"prediction\", metricName=\"r2\")\n",
    "r2 = evaluator.evaluate(predictions)\n",
    "\n",
    "print(f\"\\nTrain size: {train_df.count():,} samples\")\n",
    "print(f\"Test size: {test_df.count():,} samples\")\n",
    "\n",
    "# Multiplying R-Squared by 100 and rounding it off\n",
    "print(f\"\\n\\nR-Squared Score (Accuracy): {r2 * 100:.2f}%\")\n",
    "\n",
    "# Calculating total runtime\n",
    "end_time = time.time()\n",
    "total_runtime = (end_time - start_time) / 60\n",
    "print(f\"\\n\\nOverall runtime: {round(total_runtime)} minutes.\")\n"
   ]
  },
  {
   "cell_type": "code",
   "execution_count": 29,
   "metadata": {
    "colab": {
     "base_uri": "https://localhost:8080/"
    },
    "executionInfo": {
     "elapsed": 319,
     "status": "ok",
     "timestamp": 1730550960466,
     "user": {
      "displayName": "Adithya R",
      "userId": "06981244434554202327"
     },
     "user_tz": -480
    },
    "id": "KDiHT3XXpXy9",
    "outputId": "6467f259-a21a-4042-f5f2-96a86d6c9210"
   },
   "outputs": [
    {
     "name": "stdout",
     "output_type": "stream",
     "text": [
      "Additional Metrics:\n",
      "Mean Absolute Error: 3654\n",
      "Mean Squared Error: 42889401\n",
      "Root Mean Squared Error: 6549\n"
     ]
    }
   ],
   "source": [
    "# Calculate additional metrics\n",
    "mae_evaluator = RegressionEvaluator(labelCol=\"price\", predictionCol=\"prediction\", metricName=\"mae\")\n",
    "mae = mae_evaluator.evaluate(predictions)\n",
    "\n",
    "mse_evaluator = RegressionEvaluator(labelCol=\"price\", predictionCol=\"prediction\", metricName=\"mse\")\n",
    "mse = mse_evaluator.evaluate(predictions)\n",
    "\n",
    "rmse_evaluator = RegressionEvaluator(labelCol=\"price\", predictionCol=\"prediction\", metricName=\"rmse\")\n",
    "rmse = rmse_evaluator.evaluate(predictions)\n",
    "\n",
    "print(\"Additional Metrics:\")\n",
    "print(f\"Mean Absolute Error: {round(mae)}\")\n",
    "print(f\"Mean Squared Error: {round(mse)}\")\n",
    "print(f\"Root Mean Squared Error: {round(rmse)}\")"
   ]
  },
  {
   "cell_type": "markdown",
   "metadata": {
    "id": "s7Bktr_U10oq"
   },
   "source": [
    "\n",
    "\n",
    "---\n",
    "\n"
   ]
  },
  {
   "cell_type": "markdown",
   "metadata": {
    "id": "iEkmzs--147s"
   },
   "source": [
    "## **Predicting on DF with a size of `600k records`**"
   ]
  },
  {
   "cell_type": "code",
   "execution_count": 26,
   "metadata": {
    "colab": {
     "base_uri": "https://localhost:8080/"
    },
    "executionInfo": {
     "elapsed": 14469,
     "status": "ok",
     "timestamp": 1730550658200,
     "user": {
      "displayName": "Adithya R",
      "userId": "06981244434554202327"
     },
     "user_tz": -480
    },
    "id": "2BEWwNt_138W",
    "outputId": "8fb3be69-5fd4-4a1d-d262-a982602b09ac"
   },
   "outputs": [
    {
     "name": "stdout",
     "output_type": "stream",
     "text": [
      "Processing the data...\n"
     ]
    },
    {
     "name": "stderr",
     "output_type": "stream",
     "text": [
      "Progress: 100%|██████████| 5/5 [00:14<00:00,  2.91s/it]"
     ]
    },
    {
     "name": "stdout",
     "output_type": "stream",
     "text": [
      "\n",
      "\n",
      "Data preprocessing and splitting completed!\n"
     ]
    },
    {
     "name": "stderr",
     "output_type": "stream",
     "text": [
      "\n"
     ]
    }
   ],
   "source": [
    "import warnings\n",
    "from tqdm import tqdm\n",
    "from pyspark.ml.feature import StringIndexer, VectorAssembler, StandardScaler, OneHotEncoder\n",
    "from pyspark.ml import Pipeline\n",
    "from pyspark.sql.functions import mean as sql_mean\n",
    "import pyspark.sql.functions as F\n",
    "\n",
    "# Ignore warnings\n",
    "warnings.filterwarnings('ignore')\n",
    "\n",
    "print(\"Processing the data...\")\n",
    "with tqdm(total=5, desc=\"Progress\") as pbar:\n",
    "\n",
    "    df_sample = df.sample(fraction=0.2, seed=42)  # Randomly sample 600k records of the data\n",
    "    pbar.update(1)\n",
    "\n",
    "    # Handling categorical columns\n",
    "    cat_columns = [field for (field, dtype) in df_sample.dtypes if dtype == \"string\"]\n",
    "    stages = []\n",
    "    for col_name in cat_columns:\n",
    "        indexer = StringIndexer(inputCol=col_name, outputCol=f\"{col_name}_indexed\", handleInvalid=\"keep\")\n",
    "        encoder = OneHotEncoder(inputCol=f\"{col_name}_indexed\", outputCol=f\"{col_name}_encoded\")\n",
    "        stages += [indexer, encoder]\n",
    "    pbar.update(1)\n",
    "\n",
    "    # Assembling features\n",
    "    num_columns = [col for col in df_sample.columns if col != 'price' and col not in cat_columns]\n",
    "    encoded_columns = [f\"{col}_encoded\" for col in cat_columns]\n",
    "    feature_columns = num_columns + encoded_columns\n",
    "    assembler = VectorAssembler(inputCols=feature_columns, outputCol=\"features\")\n",
    "    stages += [assembler]\n",
    "    pbar.update(1)\n",
    "\n",
    "    # Adding scaling to the pipeline\n",
    "    scaler = StandardScaler(inputCol=\"features\", outputCol=\"scaled_features\", withMean=True, withStd=True)\n",
    "    stages += [scaler]\n",
    "\n",
    "    # Creating and applying the pipeline\n",
    "    pipeline = Pipeline(stages=stages)\n",
    "    pipeline_model = pipeline.fit(df_sample)\n",
    "    df_sample = pipeline_model.transform(df_sample)\n",
    "    pbar.update(1)\n",
    "\n",
    "    # Splitting the data\n",
    "    train_df, test_df = df_sample.randomSplit([0.8, 0.2], seed=42)\n",
    "    pbar.update(1)\n",
    "\n",
    "print(\"\\n\\nData preprocessing and splitting completed!\")\n"
   ]
  },
  {
   "cell_type": "code",
   "execution_count": 31,
   "metadata": {
    "colab": {
     "base_uri": "https://localhost:8080/"
    },
    "executionInfo": {
     "elapsed": 325,
     "status": "ok",
     "timestamp": 1730551030549,
     "user": {
      "displayName": "Adithya R",
      "userId": "06981244434554202327"
     },
     "user_tz": -480
    },
    "id": "rQ1o3VmE2A-K",
    "outputId": "b8b079cd-10c8-4e19-c382-b5868d589daf"
   },
   "outputs": [
    {
     "name": "stdout",
     "output_type": "stream",
     "text": [
      "Training GBTRegressor model...\n",
      "Making predictions...\n",
      "Evaluating the model...\n",
      "\n",
      "Train size: 480,411 samples\n",
      "Test size: 120,366 samples\n",
      "\n",
      "\n",
      "R-Squared Score (Accuracy): 88.57%\n",
      "\n",
      "\n",
      "Overall runtime: 678 minutes.\n"
     ]
    }
   ],
   "source": [
    "from pyspark.ml.regression import GBTRegressor\n",
    "from pyspark.ml.evaluation import RegressionEvaluator\n",
    "import time\n",
    "\n",
    "# Starting to track overall run time\n",
    "start_time = time.time()\n",
    "\n",
    "# Model training\n",
    "print(\"Training GBTRegressor model...\")\n",
    "\n",
    "# Using GBTRegressor with tuned parameters\n",
    "gbt_regressor = GBTRegressor(\n",
    "    featuresCol=\"scaled_features\",\n",
    "    labelCol=\"price\",\n",
    "    maxIter=100,\n",
    "    maxDepth=5,\n",
    "    seed=42,\n",
    ")\n",
    "\n",
    "# Training the model\n",
    "model = gbt_regressor.fit(train_df)\n",
    "\n",
    "# Making predictions\n",
    "print(\"Making predictions...\")\n",
    "predictions = model.transform(test_df)\n",
    "\n",
    "# Evaluating the model\n",
    "print(\"Evaluating the model...\")\n",
    "evaluator = RegressionEvaluator(labelCol=\"price\", predictionCol=\"prediction\", metricName=\"r2\")\n",
    "r2 = evaluator.evaluate(predictions)\n",
    "\n",
    "print(f\"\\nTrain size: {train_df.count():,} samples\")\n",
    "print(f\"Test size: {test_df.count():,} samples\")\n",
    "\n",
    "# Multiplying R-Squared by 100 and rounding it off\n",
    "print(f\"\\n\\nR-Squared Score (Accuracy): {r2 * 100:.2f}%\")\n",
    "\n",
    "# Calculating total runtime\n",
    "end_time = time.time()\n",
    "total_runtime = (end_time - start_time) / 60\n",
    "print(f\"\\n\\nOverall runtime: {round(total_runtime)} minutes.\")\n"
   ]
  },
  {
   "cell_type": "code",
   "execution_count": 30,
   "metadata": {
    "colab": {
     "base_uri": "https://localhost:8080/"
    },
    "executionInfo": {
     "elapsed": 314,
     "status": "ok",
     "timestamp": 1730551002848,
     "user": {
      "displayName": "Adithya R",
      "userId": "06981244434554202327"
     },
     "user_tz": -480
    },
    "id": "Yu1PVxmd2Eb6",
    "outputId": "dadc0c56-e8cb-4d61-8242-2ec10e8edf59"
   },
   "outputs": [
    {
     "name": "stdout",
     "output_type": "stream",
     "text": [
      "Additional Metrics:\n",
      "Mean Absolute Error: 3649\n",
      "Mean Squared Error: 37663588\n",
      "Root Mean Squared Error: 6137\n"
     ]
    }
   ],
   "source": [
    "# Calculate additional metrics\n",
    "mae_evaluator = RegressionEvaluator(labelCol=\"price\", predictionCol=\"prediction\", metricName=\"mae\")\n",
    "mae = mae_evaluator.evaluate(predictions)\n",
    "\n",
    "mse_evaluator = RegressionEvaluator(labelCol=\"price\", predictionCol=\"prediction\", metricName=\"mse\")\n",
    "mse = mse_evaluator.evaluate(predictions)\n",
    "\n",
    "rmse_evaluator = RegressionEvaluator(labelCol=\"price\", predictionCol=\"prediction\", metricName=\"rmse\")\n",
    "rmse = rmse_evaluator.evaluate(predictions)\n",
    "\n",
    "print(\"Additional Metrics:\")\n",
    "print(f\"Mean Absolute Error: {round(mae)}\")\n",
    "print(f\"Mean Squared Error: {round(mse)}\")\n",
    "print(f\"Root Mean Squared Error: {round(rmse)}\")"
   ]
  }
 ],
 "metadata": {
  "colab": {
   "authorship_tag": "ABX9TyOlY9+KVFuE44ENtqyB63jD",
   "machine_shape": "hm",
   "provenance": []
  },
  "kernelspec": {
   "display_name": "Python 3",
   "name": "python3"
  },
  "language_info": {
   "name": "python"
  }
 },
 "nbformat": 4,
 "nbformat_minor": 0
}
